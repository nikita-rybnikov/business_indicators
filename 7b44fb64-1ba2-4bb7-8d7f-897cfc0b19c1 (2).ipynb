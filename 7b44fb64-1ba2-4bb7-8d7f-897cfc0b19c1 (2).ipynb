{
 "cells": [
  {
   "cell_type": "code",
   "execution_count": null,
   "metadata": {},
   "outputs": [],
   "source": []
  },
  {
   "cell_type": "markdown",
   "metadata": {},
   "source": [
    "## Описание проекта. \n",
    "Вы — аналитик крупного интернет-магазина. Вместе с отделом маркетинга вы подготовили список гипотез для увеличения выручки.\n",
    "Приоритизируйте гипотезы, запустите A/B-тест и проанализируйте результаты.\n",
    "\n",
    "### Этапы: \n",
    "\n",
    "#### Часть 1. Приоритизация гипотез. \n",
    "\n",
    "1) Приоритизация гипотез через фреймворк ICE. \n",
    "\n",
    "2) Приоритизация гипотез через фреймворк RICE. \n",
    "\n",
    "#### Часть 2. Анализ A/B-теста. \n",
    "\n",
    "1) Построение графика кумулятивной выручки по группам. \n",
    "\n",
    "2) Построение графика кумулятивного среднего чека по группам. \n",
    "\n",
    "3) Построение графика относительного изменения кумулятивного среднего чека группы B к группе A.\n",
    "\n",
    "4) Построение графика кумулятивного среднего количества заказов на посетителя по группам. \n",
    "\n",
    "5) Построение графика относительного изменения кумулятивного среднего количества заказов на посетителя группы B к группе A. \n",
    "\n",
    "6) Построение точечного графика количества заказов по пользователям. \n",
    "\n",
    "7) Расчет 95-го и 99-го перцентилей количества заказов на пользователя. \n",
    "\n",
    "8) Построение точечного графика стоимостей заказов.\n",
    "\n",
    "9) Расчет 95-го и 99-го перцентилей стоимости заказов. \n",
    "\n",
    "10) Расчет статистической значимости различий в среднем количестве заказов на посетителя между группами по «сырым» данным.\n",
    "\n",
    "11) Расчет статистической значимости различий в среднем чеке заказа между группами по «сырым» данным. \n",
    "\n",
    "12) Расчет статистическую значимости различий в среднем количестве заказов на посетителя между группами по «очищенным» данным. \n",
    "\n",
    "13) Расчет статистической значимости различий в среднем чеке заказа между группами по «очищенным» данным. Сделайте выводы и предположения. \n",
    "\n",
    "#### Вывод."
   ]
  },
  {
   "cell_type": "markdown",
   "metadata": {},
   "source": [
    "#### Импорт библиотек и загрузка данных."
   ]
  },
  {
   "cell_type": "code",
   "execution_count": 1,
   "metadata": {},
   "outputs": [],
   "source": [
    "import pandas as pd\n",
    "import scipy.stats as stats\n",
    "import datetime as dt\n",
    "import numpy as np "
   ]
  },
  {
   "cell_type": "code",
   "execution_count": 2,
   "metadata": {},
   "outputs": [],
   "source": [
    "data = pd.read_csv() \n",
    "orders = pd.read_csv() \n",
    "visitors = pd.read_csv()"
   ]
  },
  {
   "cell_type": "code",
   "execution_count": 3,
   "metadata": {
    "scrolled": true
   },
   "outputs": [
    {
     "data": {
      "text/html": [
       "<div>\n",
       "<style scoped>\n",
       "    .dataframe tbody tr th:only-of-type {\n",
       "        vertical-align: middle;\n",
       "    }\n",
       "\n",
       "    .dataframe tbody tr th {\n",
       "        vertical-align: top;\n",
       "    }\n",
       "\n",
       "    .dataframe thead th {\n",
       "        text-align: right;\n",
       "    }\n",
       "</style>\n",
       "<table border=\"1\" class=\"dataframe\">\n",
       "  <thead>\n",
       "    <tr style=\"text-align: right;\">\n",
       "      <th></th>\n",
       "      <th>Hypothesis</th>\n",
       "      <th>Reach</th>\n",
       "      <th>Impact</th>\n",
       "      <th>Confidence</th>\n",
       "      <th>Efforts</th>\n",
       "    </tr>\n",
       "  </thead>\n",
       "  <tbody>\n",
       "    <tr>\n",
       "      <th>0</th>\n",
       "      <td>Добавить два новых канала привлечения трафика,...</td>\n",
       "      <td>3</td>\n",
       "      <td>10</td>\n",
       "      <td>8</td>\n",
       "      <td>6</td>\n",
       "    </tr>\n",
       "    <tr>\n",
       "      <th>1</th>\n",
       "      <td>Запустить собственную службу доставки, что сок...</td>\n",
       "      <td>2</td>\n",
       "      <td>5</td>\n",
       "      <td>4</td>\n",
       "      <td>10</td>\n",
       "    </tr>\n",
       "    <tr>\n",
       "      <th>2</th>\n",
       "      <td>Добавить блоки рекомендаций товаров на сайт ин...</td>\n",
       "      <td>8</td>\n",
       "      <td>3</td>\n",
       "      <td>7</td>\n",
       "      <td>3</td>\n",
       "    </tr>\n",
       "    <tr>\n",
       "      <th>3</th>\n",
       "      <td>Изменить структура категорий, что увеличит кон...</td>\n",
       "      <td>8</td>\n",
       "      <td>3</td>\n",
       "      <td>3</td>\n",
       "      <td>8</td>\n",
       "    </tr>\n",
       "    <tr>\n",
       "      <th>4</th>\n",
       "      <td>Изменить цвет фона главной страницы, чтобы уве...</td>\n",
       "      <td>3</td>\n",
       "      <td>1</td>\n",
       "      <td>1</td>\n",
       "      <td>1</td>\n",
       "    </tr>\n",
       "    <tr>\n",
       "      <th>5</th>\n",
       "      <td>Добавить страницу отзывов клиентов о магазине,...</td>\n",
       "      <td>3</td>\n",
       "      <td>2</td>\n",
       "      <td>2</td>\n",
       "      <td>3</td>\n",
       "    </tr>\n",
       "    <tr>\n",
       "      <th>6</th>\n",
       "      <td>Показать на главной странице баннеры с актуаль...</td>\n",
       "      <td>5</td>\n",
       "      <td>3</td>\n",
       "      <td>8</td>\n",
       "      <td>3</td>\n",
       "    </tr>\n",
       "    <tr>\n",
       "      <th>7</th>\n",
       "      <td>Добавить форму подписки на все основные страни...</td>\n",
       "      <td>10</td>\n",
       "      <td>7</td>\n",
       "      <td>8</td>\n",
       "      <td>5</td>\n",
       "    </tr>\n",
       "    <tr>\n",
       "      <th>8</th>\n",
       "      <td>Запустить акцию, дающую скидку на товар в день...</td>\n",
       "      <td>1</td>\n",
       "      <td>9</td>\n",
       "      <td>9</td>\n",
       "      <td>5</td>\n",
       "    </tr>\n",
       "  </tbody>\n",
       "</table>\n",
       "</div>"
      ],
      "text/plain": [
       "                                          Hypothesis  Reach  Impact  \\\n",
       "0  Добавить два новых канала привлечения трафика,...      3      10   \n",
       "1  Запустить собственную службу доставки, что сок...      2       5   \n",
       "2  Добавить блоки рекомендаций товаров на сайт ин...      8       3   \n",
       "3  Изменить структура категорий, что увеличит кон...      8       3   \n",
       "4  Изменить цвет фона главной страницы, чтобы уве...      3       1   \n",
       "5  Добавить страницу отзывов клиентов о магазине,...      3       2   \n",
       "6  Показать на главной странице баннеры с актуаль...      5       3   \n",
       "7  Добавить форму подписки на все основные страни...     10       7   \n",
       "8  Запустить акцию, дающую скидку на товар в день...      1       9   \n",
       "\n",
       "   Confidence  Efforts  \n",
       "0           8        6  \n",
       "1           4       10  \n",
       "2           7        3  \n",
       "3           3        8  \n",
       "4           1        1  \n",
       "5           2        3  \n",
       "6           8        3  \n",
       "7           8        5  \n",
       "8           9        5  "
      ]
     },
     "metadata": {},
     "output_type": "display_data"
    },
    {
     "name": "stdout",
     "output_type": "stream",
     "text": [
      "<class 'pandas.core.frame.DataFrame'>\n",
      "RangeIndex: 1197 entries, 0 to 1196\n",
      "Data columns (total 5 columns):\n",
      " #   Column         Non-Null Count  Dtype \n",
      "---  ------         --------------  ----- \n",
      " 0   transactionId  1197 non-null   int64 \n",
      " 1   visitorId      1197 non-null   int64 \n",
      " 2   date           1197 non-null   object\n",
      " 3   revenue        1197 non-null   int64 \n",
      " 4   group          1197 non-null   object\n",
      "dtypes: int64(3), object(2)\n",
      "memory usage: 46.9+ KB\n",
      "<class 'pandas.core.frame.DataFrame'>\n",
      "RangeIndex: 62 entries, 0 to 61\n",
      "Data columns (total 3 columns):\n",
      " #   Column    Non-Null Count  Dtype \n",
      "---  ------    --------------  ----- \n",
      " 0   date      62 non-null     object\n",
      " 1   group     62 non-null     object\n",
      " 2   visitors  62 non-null     int64 \n",
      "dtypes: int64(1), object(2)\n",
      "memory usage: 1.6+ KB\n",
      "0\n",
      "transactionId    0\n",
      "visitorId        0\n",
      "date             0\n",
      "revenue          0\n",
      "group            0\n",
      "dtype: int64\n",
      "0\n",
      "date        0\n",
      "group       0\n",
      "visitors    0\n",
      "dtype: int64\n"
     ]
    }
   ],
   "source": [
    "display(data) \n",
    "orders.info() \n",
    "visitors.info()\n",
    "\n",
    "print(orders.duplicated().sum()) \n",
    "print(orders.isna().sum()) \n",
    "print(visitors.duplicated().sum()) \n",
    "print(visitors.isna().sum())"
   ]
  },
  {
   "cell_type": "markdown",
   "metadata": {},
   "source": [
    "Данные загружены, пропусков и дубликатов в данных не обнаружено."
   ]
  },
  {
   "cell_type": "markdown",
   "metadata": {},
   "source": [
    "#### Приоритизация гипотез при помощи фреймворка ICE."
   ]
  },
  {
   "cell_type": "code",
   "execution_count": 4,
   "metadata": {},
   "outputs": [
    {
     "data": {
      "text/html": [
       "<div>\n",
       "<style scoped>\n",
       "    .dataframe tbody tr th:only-of-type {\n",
       "        vertical-align: middle;\n",
       "    }\n",
       "\n",
       "    .dataframe tbody tr th {\n",
       "        vertical-align: top;\n",
       "    }\n",
       "\n",
       "    .dataframe thead th {\n",
       "        text-align: right;\n",
       "    }\n",
       "</style>\n",
       "<table border=\"1\" class=\"dataframe\">\n",
       "  <thead>\n",
       "    <tr style=\"text-align: right;\">\n",
       "      <th></th>\n",
       "      <th>Hypothesis</th>\n",
       "      <th>ICE</th>\n",
       "    </tr>\n",
       "  </thead>\n",
       "  <tbody>\n",
       "    <tr>\n",
       "      <th>8</th>\n",
       "      <td>Запустить акцию, дающую скидку на товар в день рождения</td>\n",
       "      <td>16.200000</td>\n",
       "    </tr>\n",
       "    <tr>\n",
       "      <th>0</th>\n",
       "      <td>Добавить два новых канала привлечения трафика, что позволит привлекать на 30% больше пользователей</td>\n",
       "      <td>13.333333</td>\n",
       "    </tr>\n",
       "    <tr>\n",
       "      <th>7</th>\n",
       "      <td>Добавить форму подписки на все основные страницы, чтобы собрать базу клиентов для email-рассылок</td>\n",
       "      <td>11.200000</td>\n",
       "    </tr>\n",
       "    <tr>\n",
       "      <th>6</th>\n",
       "      <td>Показать на главной странице баннеры с актуальными акциями и распродажами, чтобы увеличить конверсию</td>\n",
       "      <td>8.000000</td>\n",
       "    </tr>\n",
       "    <tr>\n",
       "      <th>2</th>\n",
       "      <td>Добавить блоки рекомендаций товаров на сайт интернет магазина, чтобы повысить конверсию и средний чек заказа</td>\n",
       "      <td>7.000000</td>\n",
       "    </tr>\n",
       "    <tr>\n",
       "      <th>1</th>\n",
       "      <td>Запустить собственную службу доставки, что сократит срок доставки заказов</td>\n",
       "      <td>2.000000</td>\n",
       "    </tr>\n",
       "    <tr>\n",
       "      <th>5</th>\n",
       "      <td>Добавить страницу отзывов клиентов о магазине, что позволит увеличить количество заказов</td>\n",
       "      <td>1.333333</td>\n",
       "    </tr>\n",
       "    <tr>\n",
       "      <th>3</th>\n",
       "      <td>Изменить структура категорий, что увеличит конверсию, т.к. пользователи быстрее найдут нужный товар</td>\n",
       "      <td>1.125000</td>\n",
       "    </tr>\n",
       "    <tr>\n",
       "      <th>4</th>\n",
       "      <td>Изменить цвет фона главной страницы, чтобы увеличить вовлеченность пользователей</td>\n",
       "      <td>1.000000</td>\n",
       "    </tr>\n",
       "  </tbody>\n",
       "</table>\n",
       "</div>"
      ],
      "text/plain": [
       "                                                                                                     Hypothesis        ICE\n",
       "8                                                       Запустить акцию, дающую скидку на товар в день рождения  16.200000\n",
       "0            Добавить два новых канала привлечения трафика, что позволит привлекать на 30% больше пользователей  13.333333\n",
       "7              Добавить форму подписки на все основные страницы, чтобы собрать базу клиентов для email-рассылок  11.200000\n",
       "6          Показать на главной странице баннеры с актуальными акциями и распродажами, чтобы увеличить конверсию   8.000000\n",
       "2  Добавить блоки рекомендаций товаров на сайт интернет магазина, чтобы повысить конверсию и средний чек заказа   7.000000\n",
       "1                                     Запустить собственную службу доставки, что сократит срок доставки заказов   2.000000\n",
       "5                      Добавить страницу отзывов клиентов о магазине, что позволит увеличить количество заказов   1.333333\n",
       "3           Изменить структура категорий, что увеличит конверсию, т.к. пользователи быстрее найдут нужный товар   1.125000\n",
       "4                              Изменить цвет фона главной страницы, чтобы увеличить вовлеченность пользователей   1.000000"
      ]
     },
     "metadata": {},
     "output_type": "display_data"
    }
   ],
   "source": [
    "pd.set_option('max_colwidth', 120)\n",
    "pd.set_option('display.width', 500)\n",
    "data['ICE'] = (data['Impact']*data['Confidence'])/data['Efforts'] \n",
    "display(data[['Hypothesis','ICE']].sort_values(by='ICE',ascending=False))"
   ]
  },
  {
   "cell_type": "markdown",
   "metadata": {},
   "source": [
    "#### Приоритизация гипотез при помощи фреймворка RICE."
   ]
  },
  {
   "cell_type": "code",
   "execution_count": 5,
   "metadata": {},
   "outputs": [
    {
     "name": "stdout",
     "output_type": "stream",
     "text": [
      "                                                                                                     Hypothesis   RICE\n",
      "7              Добавить форму подписки на все основные страницы, чтобы собрать базу клиентов для email-рассылок  112.0\n",
      "2  Добавить блоки рекомендаций товаров на сайт интернет магазина, чтобы повысить конверсию и средний чек заказа   56.0\n",
      "0            Добавить два новых канала привлечения трафика, что позволит привлекать на 30% больше пользователей   40.0\n",
      "6          Показать на главной странице баннеры с актуальными акциями и распродажами, чтобы увеличить конверсию   40.0\n",
      "8                                                       Запустить акцию, дающую скидку на товар в день рождения   16.2\n",
      "3           Изменить структура категорий, что увеличит конверсию, т.к. пользователи быстрее найдут нужный товар    9.0\n",
      "1                                     Запустить собственную службу доставки, что сократит срок доставки заказов    4.0\n",
      "5                      Добавить страницу отзывов клиентов о магазине, что позволит увеличить количество заказов    4.0\n",
      "4                              Изменить цвет фона главной страницы, чтобы увеличить вовлеченность пользователей    3.0\n"
     ]
    }
   ],
   "source": [
    "data['RICE'] = (data['Reach']*data['Impact']*data['Confidence'])/data['Efforts'] \n",
    "print(data[['Hypothesis','RICE']].sort_values(by='RICE',ascending=False))"
   ]
  },
  {
   "cell_type": "markdown",
   "metadata": {},
   "source": [
    "##### При использовании фреймворка ICE на первых местах оказались гипотезы \n",
    "* Запустить акцию, дающую скидку на товар в день рождения\t16.200000\n",
    "* Добавить два новых канала привлечения трафика, что позволит привлекать на 30% больше пользователей\t13.333333\n",
    "* Добавить форму подписки на все основные страницы, чтобы собрать базу клиентов для email-рассылок\t11.200000 \n",
    "При применении фреймворка ICE на первых 3 местах гипотезы: \n",
    "* Добавить форму подписки на все основные страницы, чтобы собрать базу клиентов для email-рассылок  112.0\n",
    "* Добавить блоки рекомендаций товаров на сайт интернет магазина, чтобы повысить конверсию и средний чек заказа   56.0\n",
    "* Добавить два новых канала привлечения трафика, что позволит привлекать на 30% больше пользователей   40.0 \n",
    "\n",
    "Различие вызвано тем, что фреймворк RICE при расчетах учитывает охват пользователей (Reach). У гипотез 7 и 2 охват больше, чем у гипотез 8 и 0, поэтому они оказались в приоритете при расчете через RICE."
   ]
  },
  {
   "cell_type": "code",
   "execution_count": 6,
   "metadata": {},
   "outputs": [
    {
     "data": {
      "text/html": [
       "<div>\n",
       "<style scoped>\n",
       "    .dataframe tbody tr th:only-of-type {\n",
       "        vertical-align: middle;\n",
       "    }\n",
       "\n",
       "    .dataframe tbody tr th {\n",
       "        vertical-align: top;\n",
       "    }\n",
       "\n",
       "    .dataframe thead th {\n",
       "        text-align: right;\n",
       "    }\n",
       "</style>\n",
       "<table border=\"1\" class=\"dataframe\">\n",
       "  <thead>\n",
       "    <tr style=\"text-align: right;\">\n",
       "      <th></th>\n",
       "      <th>transactionId</th>\n",
       "      <th>visitorId</th>\n",
       "      <th>date</th>\n",
       "      <th>revenue</th>\n",
       "      <th>group</th>\n",
       "    </tr>\n",
       "  </thead>\n",
       "  <tbody>\n",
       "    <tr>\n",
       "      <th>0</th>\n",
       "      <td>3667963787</td>\n",
       "      <td>3312258926</td>\n",
       "      <td>2019-08-15</td>\n",
       "      <td>1650</td>\n",
       "      <td>B</td>\n",
       "    </tr>\n",
       "    <tr>\n",
       "      <th>1</th>\n",
       "      <td>2804400009</td>\n",
       "      <td>3642806036</td>\n",
       "      <td>2019-08-15</td>\n",
       "      <td>730</td>\n",
       "      <td>B</td>\n",
       "    </tr>\n",
       "    <tr>\n",
       "      <th>2</th>\n",
       "      <td>2961555356</td>\n",
       "      <td>4069496402</td>\n",
       "      <td>2019-08-15</td>\n",
       "      <td>400</td>\n",
       "      <td>A</td>\n",
       "    </tr>\n",
       "    <tr>\n",
       "      <th>3</th>\n",
       "      <td>3797467345</td>\n",
       "      <td>1196621759</td>\n",
       "      <td>2019-08-15</td>\n",
       "      <td>9759</td>\n",
       "      <td>B</td>\n",
       "    </tr>\n",
       "    <tr>\n",
       "      <th>4</th>\n",
       "      <td>2282983706</td>\n",
       "      <td>2322279887</td>\n",
       "      <td>2019-08-15</td>\n",
       "      <td>2308</td>\n",
       "      <td>B</td>\n",
       "    </tr>\n",
       "  </tbody>\n",
       "</table>\n",
       "</div>"
      ],
      "text/plain": [
       "   transactionId   visitorId        date  revenue group\n",
       "0     3667963787  3312258926  2019-08-15     1650     B\n",
       "1     2804400009  3642806036  2019-08-15      730     B\n",
       "2     2961555356  4069496402  2019-08-15      400     A\n",
       "3     3797467345  1196621759  2019-08-15     9759     B\n",
       "4     2282983706  2322279887  2019-08-15     2308     B"
      ]
     },
     "metadata": {},
     "output_type": "display_data"
    },
    {
     "data": {
      "text/html": [
       "<div>\n",
       "<style scoped>\n",
       "    .dataframe tbody tr th:only-of-type {\n",
       "        vertical-align: middle;\n",
       "    }\n",
       "\n",
       "    .dataframe tbody tr th {\n",
       "        vertical-align: top;\n",
       "    }\n",
       "\n",
       "    .dataframe thead th {\n",
       "        text-align: right;\n",
       "    }\n",
       "</style>\n",
       "<table border=\"1\" class=\"dataframe\">\n",
       "  <thead>\n",
       "    <tr style=\"text-align: right;\">\n",
       "      <th></th>\n",
       "      <th>date</th>\n",
       "      <th>group</th>\n",
       "      <th>visitors</th>\n",
       "    </tr>\n",
       "  </thead>\n",
       "  <tbody>\n",
       "    <tr>\n",
       "      <th>0</th>\n",
       "      <td>2019-08-01</td>\n",
       "      <td>A</td>\n",
       "      <td>719</td>\n",
       "    </tr>\n",
       "    <tr>\n",
       "      <th>1</th>\n",
       "      <td>2019-08-02</td>\n",
       "      <td>A</td>\n",
       "      <td>619</td>\n",
       "    </tr>\n",
       "    <tr>\n",
       "      <th>2</th>\n",
       "      <td>2019-08-03</td>\n",
       "      <td>A</td>\n",
       "      <td>507</td>\n",
       "    </tr>\n",
       "    <tr>\n",
       "      <th>3</th>\n",
       "      <td>2019-08-04</td>\n",
       "      <td>A</td>\n",
       "      <td>717</td>\n",
       "    </tr>\n",
       "    <tr>\n",
       "      <th>4</th>\n",
       "      <td>2019-08-05</td>\n",
       "      <td>A</td>\n",
       "      <td>756</td>\n",
       "    </tr>\n",
       "  </tbody>\n",
       "</table>\n",
       "</div>"
      ],
      "text/plain": [
       "         date group  visitors\n",
       "0  2019-08-01     A       719\n",
       "1  2019-08-02     A       619\n",
       "2  2019-08-03     A       507\n",
       "3  2019-08-04     A       717\n",
       "4  2019-08-05     A       756"
      ]
     },
     "metadata": {},
     "output_type": "display_data"
    }
   ],
   "source": [
    "display(orders.head()) \n",
    "display(visitors.head())\n"
   ]
  },
  {
   "cell_type": "code",
   "execution_count": 7,
   "metadata": {},
   "outputs": [
    {
     "data": {
      "text/plain": [
       "array([4069496402,  199603092, 3803269165, 2378935119,  237748145,\n",
       "       4256040402, 2038680547, 1738359350, 2458001652, 3891541246,\n",
       "       2716752286, 3656415546, 2686716486, 2954449915, 2927087541,\n",
       "       3234906277,  457167155, 2579882178, 3957174400, 1648269707,\n",
       "       2780786433,  818047933, 2044997962, 1959144690, 3202540741,\n",
       "       1333886533,  351125977, 3951559397,  393266494, 3984495233,\n",
       "       4120364173, 4266935830, 1230306981, 1294878855, 1614305549,\n",
       "          8300375,  477780734, 1668030113, 3717692402, 3766097110,\n",
       "       3941795274,  471551937, 1316129916, 1801183820, 1602967004,\n",
       "       2587333274, 2600415354,  232979603, 3972127743, 1404934699,\n",
       "        276558944, 3062433592, 2654030115, 3963646447, 4186807279,\n",
       "       2712142231, 2949041841,  963407295])"
      ]
     },
     "metadata": {},
     "output_type": "display_data"
    },
    {
     "data": {
      "text/plain": [
       "973"
      ]
     },
     "metadata": {},
     "output_type": "display_data"
    }
   ],
   "source": [
    "#display(orders['visitorId'].nunique())\n",
    "group_a = orders[orders['group']=='A'] \n",
    "group_b = orders[orders['group']=='B'] \n",
    "common = group_a.merge(group_b, on = ['visitorId']) \n",
    "common['visitorId'].nunique() \n",
    "common_users = common['visitorId'].unique() \n",
    "display(common_users)\n",
    "orders = orders.query('visitorId not in @common_users') \n",
    "display(orders['visitorId'].nunique()) "
   ]
  },
  {
   "cell_type": "markdown",
   "metadata": {},
   "source": [
    "Всего 1031 уникальных пользователя, 58 пользователей попали в обе группы. Это около 6% пользователей. Удалим их, чтобы не искажать результаты теста. В итоге остаются 973 пользователя. "
   ]
  },
  {
   "cell_type": "markdown",
   "metadata": {},
   "source": [
    "#### Построение графика кумулятивной выручки по группам."
   ]
  },
  {
   "cell_type": "code",
   "execution_count": 8,
   "metadata": {},
   "outputs": [],
   "source": [
    "datesGroups = orders[['date','group']].drop_duplicates() "
   ]
  },
  {
   "cell_type": "code",
   "execution_count": 9,
   "metadata": {},
   "outputs": [],
   "source": [
    "ordersAggregated = datesGroups.apply(lambda x: orders[np.logical_and(orders['date'] <= x['date'], orders['group'] == x['group'])]\\\n",
    ".agg({'date' : 'max', 'group' : 'max', 'transactionId' : 'nunique', 'visitorId' : 'nunique', 'revenue' : 'sum'}), axis=1).sort_values(by=['date','group'])"
   ]
  },
  {
   "cell_type": "code",
   "execution_count": 10,
   "metadata": {},
   "outputs": [],
   "source": [
    "visitorsAggregated = datesGroups.apply(lambda x: visitors[np.logical_and(visitors['date'] <= x['date'], visitors['group'] == x['group'])].agg({'date' : 'max', 'group' : 'max', 'visitors' : 'sum'}), axis=1).sort_values(by=['date','group'])"
   ]
  },
  {
   "cell_type": "code",
   "execution_count": 11,
   "metadata": {},
   "outputs": [
    {
     "name": "stdout",
     "output_type": "stream",
     "text": [
      "         date group  orders  buyers  revenue  visitors\n",
      "0  2019-08-01     A      23      19   142779       719\n",
      "1  2019-08-01     B      17      17    59758       713\n",
      "2  2019-08-02     A      42      36   234381      1338\n",
      "3  2019-08-02     B      40      39   221801      1294\n",
      "4  2019-08-03     A      66      60   346854      1845\n",
      "2019-08-01\n",
      "2019-08-31\n"
     ]
    }
   ],
   "source": [
    "datesGroups = orders[['date','group']].drop_duplicates()\n",
    "\n",
    "ordersAggregated = datesGroups.apply(lambda x: orders[np.logical_and(orders['date'] <= x['date'], orders['group'] == x['group'])].agg({'date' : 'max', 'group' : 'max', 'transactionId' : 'nunique', 'visitorId' : 'nunique', 'revenue' : 'sum'}), axis=1).sort_values(by=['date','group'])\n",
    "\n",
    "visitorsAggregated = datesGroups.apply(lambda x: visitors[np.logical_and(visitors['date'] <= x['date'], visitors['group'] == x['group'])].agg({'date' : 'max', 'group' : 'max', 'visitors' : 'sum'}), axis=1).sort_values(by=['date','group'])\n",
    "\n",
    "cumulativeData = ordersAggregated.merge(visitorsAggregated, left_on=['date', 'group'], right_on=['date', 'group'])\n",
    "cumulativeData.columns = ['date', 'group', 'orders', 'buyers', 'revenue', 'visitors']\n",
    "\n",
    "print(cumulativeData.head(5)) \n",
    "print(cumulativeData['date'].min()) \n",
    "print(cumulativeData['date'].max())"
   ]
  },
  {
   "cell_type": "code",
   "execution_count": 12,
   "metadata": {},
   "outputs": [
    {
     "data": {
      "image/png": "[encoded data removed]",
      "text/plain": [
       "<Figure size 1440x720 with 1 Axes>"
      ]
     },
     "metadata": {
      "needs_background": "light"
     },
     "output_type": "display_data"
    }
   ],
   "source": [
    "import matplotlib.pyplot as plt\n",
    "\n",
    "cumulativeRevenueA = cumulativeData[cumulativeData['group']=='A'][['date','revenue', 'orders']]\n",
    "\n",
    "cumulativeRevenueB = cumulativeData[cumulativeData['group']=='B'][['date','revenue', 'orders']]\n",
    "plt. figure(figsize=(20, 10))\n",
    "plt.title('Кумулятивная выручка по группам')\n",
    "plt.plot(cumulativeRevenueA['date'], cumulativeRevenueA['revenue'], label='A')\n",
    "\n",
    "plt.plot(cumulativeRevenueB['date'], cumulativeRevenueB['revenue'], label='B')\n",
    "plt.xticks(rotation=45) \n",
    "plt.xlabel(\"Дата\")\n",
    "plt.ylabel(\"Выручка\")\n",
    "plt.legend()\n",
    "plt.show()"
   ]
  },
  {
   "cell_type": "markdown",
   "metadata": {},
   "source": [
    "Выручка стабильно увеличивается на всем протяжении теста. У группы B в определенный момент она резко возрастает, и это не разовый всплеск, после резкого увеличения она не падает, а продолжает расти."
   ]
  },
  {
   "cell_type": "markdown",
   "metadata": {},
   "source": [
    "#### Построение графика кумулятивного среднего чека по группам."
   ]
  },
  {
   "cell_type": "code",
   "execution_count": 13,
   "metadata": {},
   "outputs": [
    {
     "data": {
      "image/png": "[encoded data removed]",
      "text/plain": [
       "<Figure size 1440x720 with 1 Axes>"
      ]
     },
     "metadata": {
      "needs_background": "light"
     },
     "output_type": "display_data"
    }
   ],
   "source": [
    "plt. figure(figsize=(20, 10))\n",
    "plt.title('Кумулятивный средний чек по группам')\n",
    "plt.plot(cumulativeRevenueA['date'], cumulativeRevenueA['revenue']/cumulativeRevenueA['orders'], label='A')\n",
    "plt.plot(cumulativeRevenueB['date'], cumulativeRevenueB['revenue']/cumulativeRevenueB['orders'], label='B')\n",
    "plt.xticks(rotation=45)\n",
    "plt.xlabel(\"Дата\")\n",
    "plt.ylabel(\"Размер чека\")\n",
    "plt.legend() \n",
    "plt.show()"
   ]
  },
  {
   "cell_type": "markdown",
   "metadata": {},
   "source": [
    "Средний чек растет у обеих групп, у группы B он большую часть времени выше, чем у группы A. В определенный момент происходит резкий рост показателя у группы B. Это может быть связано с аномалиями в данных."
   ]
  },
  {
   "cell_type": "markdown",
   "metadata": {},
   "source": [
    "#### Построение графика относительного изменения кумулятивного среднего чека группы B к группе A."
   ]
  },
  {
   "cell_type": "code",
   "execution_count": 14,
   "metadata": {},
   "outputs": [
    {
     "data": {
      "image/png": "[encoded data removed]",
      "text/plain": [
       "<Figure size 1440x720 with 1 Axes>"
      ]
     },
     "metadata": {
      "needs_background": "light"
     },
     "output_type": "display_data"
    }
   ],
   "source": [
    "mergedCumulativeRevenue = cumulativeRevenueA.merge(cumulativeRevenueB, left_on='date', right_on='date', how='left', suffixes=['A', 'B'])\n",
    "\n",
    "plt. figure(figsize=(20, 10))\n",
    "plt.title('Относительное изменение кумулятивного среднего чека группы B к группе A')\n",
    "\n",
    "plt.plot(mergedCumulativeRevenue['date'], (mergedCumulativeRevenue['revenueB']/mergedCumulativeRevenue['ordersB'])/(mergedCumulativeRevenue['revenueA']/mergedCumulativeRevenue['ordersA'])-1)\n",
    "plt.xticks(rotation=45)\n",
    "plt.axhline(y=0, color='black', linestyle='--')\n",
    "plt.xlabel(\"Дата\")\n",
    "plt.show()"
   ]
  },
  {
   "cell_type": "markdown",
   "metadata": {},
   "source": [
    "Показатели кумулятивного среднего среднего чека на протяжении эксперимента резко падают и растут. Это может быть вызвано аномалиями, либо обычными циклами внутри месяца (в начале и середине месяца люди получают авансы и премии, отсюда резки рост трат в эти периоды, а затем падение размера чека к концу двухнедельного цикла)."
   ]
  },
  {
   "cell_type": "markdown",
   "metadata": {},
   "source": [
    "#### Построение графика кумулятивного среднего количества заказов на посетителя по группам."
   ]
  },
  {
   "cell_type": "code",
   "execution_count": 15,
   "metadata": {},
   "outputs": [
    {
     "data": {
      "image/png": "[encoded data removed]",
      "text/plain": [
       "<Figure size 1440x720 with 1 Axes>"
      ]
     },
     "metadata": {
      "needs_background": "light"
     },
     "output_type": "display_data"
    }
   ],
   "source": [
    "cumulativeData['conversion'] = cumulativeData['orders']/cumulativeData['visitors']\n",
    "\n",
    "cumulativeDataA = cumulativeData[cumulativeData['group']=='A']\n",
    "\n",
    "cumulativeDataB = cumulativeData[cumulativeData['group']=='B']\n",
    "\n",
    "plt. figure(figsize=(20, 10))\n",
    "plt.title('Кумулятивное среднее количество заказов на посетителя по группам')\n",
    "plt.plot(cumulativeDataA['date'], cumulativeDataA['conversion'], label='A')\n",
    "plt.plot(cumulativeDataB['date'], cumulativeDataB['conversion'], label='B')\n",
    "plt.xticks(rotation=45)\n",
    "plt.xlabel(\"Дата\")\n",
    "plt.ylabel(\"Конверсия\")\n",
    "plt.legend() \n",
    "plt.show()"
   ]
  },
  {
   "cell_type": "markdown",
   "metadata": {},
   "source": [
    "У группы B на протяжении всего эксперимента показатель среднего количества заказов на посетителя выше, чем у группы A."
   ]
  },
  {
   "cell_type": "markdown",
   "metadata": {},
   "source": [
    "#### Построение графика относительного изменения кумулятивного среднего количества заказов на посетителя группы B к группе A. "
   ]
  },
  {
   "cell_type": "code",
   "execution_count": 16,
   "metadata": {},
   "outputs": [
    {
     "data": {
      "image/png": "[encoded data removed]",
      "text/plain": [
       "<Figure size 1440x720 with 1 Axes>"
      ]
     },
     "metadata": {
      "needs_background": "light"
     },
     "output_type": "display_data"
    }
   ],
   "source": [
    "mergedCumulativeConversions = cumulativeDataA[['date','conversion']].merge(cumulativeDataB[['date','conversion']], left_on='date', right_on='date', how='left', suffixes=['A', 'B'])\n",
    "plt.figure(figsize=(20,10))\n",
    "plt.title('Относительное изменение кумулятивного среднего количества заказов на посетителя группы B к группе A')\n",
    "plt.plot(mergedCumulativeConversions['date'], mergedCumulativeConversions['conversionB']/mergedCumulativeConversions['conversionA']-1)\n",
    "\n",
    "plt.axhline(y=0, color='black', linestyle='--')\n",
    "plt.axhline(y=-0.1, color='grey', linestyle='--') \n",
    "plt.xlabel(\"Дата\")\n",
    "plt.xticks(rotation=45) \n",
    "plt.show()"
   ]
  },
  {
   "cell_type": "markdown",
   "metadata": {},
   "source": [
    "Среднее количество заказов на посетителя у группы B на протяжении эксперименты выше, чем у посетителя группы A."
   ]
  },
  {
   "cell_type": "markdown",
   "metadata": {},
   "source": [
    "#### Точечный график количества заказов по пользователям"
   ]
  },
  {
   "cell_type": "code",
   "execution_count": 17,
   "metadata": {},
   "outputs": [
    {
     "data": {
      "image/png": "[encoded data removed]",
      "text/plain": [
       "<Figure size 1440x720 with 1 Axes>"
      ]
     },
     "metadata": {
      "needs_background": "light"
     },
     "output_type": "display_data"
    }
   ],
   "source": [
    "ordersByUsers = orders.groupby('visitorId', as_index = False).agg({'transactionId':'nunique'}).sort_values(by='transactionId', ascending = False)\n",
    "ordersByUsers.columns = ['visitorId', 'orders'] \n",
    "x_values = pd.Series(range(0,len(ordersByUsers['orders'])))\n",
    "plt.figure(figsize=(20,10))\n",
    "plt.title('Количество заказов по пользователям')\n",
    "plt.xlabel(\"Пользователи\")\n",
    "plt.ylabel(\"Заказы\")\n",
    "plt.scatter(x_values, ordersByUsers['orders']) \n",
    "plt.show()"
   ]
  },
  {
   "cell_type": "markdown",
   "metadata": {},
   "source": [
    "Судя по графику, большая часть пользователей совершает 1 заказ, небольшое количество пользователей делают 2 заказа. Больше 2х заказов делает незначительная часть посетителей."
   ]
  },
  {
   "cell_type": "markdown",
   "metadata": {},
   "source": [
    "#### Расчет 95-го и 99-го перцентилей количества заказов на пользователя."
   ]
  },
  {
   "cell_type": "code",
   "execution_count": 18,
   "metadata": {},
   "outputs": [
    {
     "name": "stdout",
     "output_type": "stream",
     "text": [
      "[1. 2.]\n"
     ]
    }
   ],
   "source": [
    "import numpy as np\n",
    "print(np.percentile(ordersByUsers['orders'], [95, 99])) "
   ]
  },
  {
   "cell_type": "markdown",
   "metadata": {},
   "source": [
    "95-й процентиль - 1 заказ \n",
    "99-й процентиль - 2 заказа. \n",
    "Только 5% пользователей делают более 1 заказа."
   ]
  },
  {
   "cell_type": "markdown",
   "metadata": {},
   "source": [
    "#### Точечный график стоимостей заказов."
   ]
  },
  {
   "cell_type": "code",
   "execution_count": 19,
   "metadata": {},
   "outputs": [
    {
     "data": {
      "text/plain": [
       "(0.0, 1200.0, 0.0, 200000.0)"
      ]
     },
     "execution_count": 19,
     "metadata": {},
     "output_type": "execute_result"
    },
    {
     "data": {
      "image/png": "[encoded data removed]",
      "text/plain": [
       "<Figure size 1440x720 with 1 Axes>"
      ]
     },
     "metadata": {
      "needs_background": "light"
     },
     "output_type": "display_data"
    }
   ],
   "source": [
    "x_values = pd.Series(range(0,len(orders['revenue'])))\n",
    "plt.figure(figsize=(20,10)) \n",
    "plt.title('Стоимость заказов')\n",
    "plt.scatter(x_values, orders['revenue']) \n",
    "plt.xlabel(\"Заказы\")\n",
    "plt.ylabel(\"Стоимость\")\n",
    "plt.axis([0, 1200, 0, 200000]) "
   ]
  },
  {
   "cell_type": "markdown",
   "metadata": {},
   "source": [
    "Согласно графику стоимость большей части заказов не превышает 25 000. "
   ]
  },
  {
   "cell_type": "markdown",
   "metadata": {},
   "source": [
    "#### Расчет 95-го и 99-го перцентилей стоимости заказов"
   ]
  },
  {
   "cell_type": "code",
   "execution_count": 20,
   "metadata": {},
   "outputs": [
    {
     "name": "stdout",
     "output_type": "stream",
     "text": [
      "[26785. 53904.]\n"
     ]
    }
   ],
   "source": [
    "print(np.percentile(orders['revenue'], [95, 99])) "
   ]
  },
  {
   "cell_type": "markdown",
   "metadata": {},
   "source": [
    "При расчете выяснили, что стоимость 95% заказов находится в пределах 26 785."
   ]
  },
  {
   "cell_type": "markdown",
   "metadata": {},
   "source": [
    "#### Расчет статистической значимости различий в среднем количестве заказов на посетителя между группами по «сырым» данным. "
   ]
  },
  {
   "cell_type": "markdown",
   "metadata": {},
   "source": [
    "Сформулируем гипотезы: \n",
    "H0 - разницы в среднем количестве заказов на посетителя между группами нет \n",
    "H1 - разница в среднем количестве заказов на посетителя между группами есть"
   ]
  },
  {
   "cell_type": "code",
   "execution_count": 21,
   "metadata": {},
   "outputs": [
    {
     "data": {
      "text/html": [
       "<div>\n",
       "<style scoped>\n",
       "    .dataframe tbody tr th:only-of-type {\n",
       "        vertical-align: middle;\n",
       "    }\n",
       "\n",
       "    .dataframe tbody tr th {\n",
       "        vertical-align: top;\n",
       "    }\n",
       "\n",
       "    .dataframe thead th {\n",
       "        text-align: right;\n",
       "    }\n",
       "</style>\n",
       "<table border=\"1\" class=\"dataframe\">\n",
       "  <thead>\n",
       "    <tr style=\"text-align: right;\">\n",
       "      <th></th>\n",
       "      <th>date</th>\n",
       "      <th>ordersPerDateA</th>\n",
       "      <th>revenuePerDateA</th>\n",
       "      <th>ordersPerDateB</th>\n",
       "      <th>revenuePerDateB</th>\n",
       "      <th>ordersCummulativeA</th>\n",
       "      <th>revenueCummulativeA</th>\n",
       "      <th>ordersCummulativeB</th>\n",
       "      <th>revenueCummulativeB</th>\n",
       "      <th>visitorsPerDateA</th>\n",
       "      <th>visitorsPerDateB</th>\n",
       "      <th>visitorsCummulativeA</th>\n",
       "      <th>visitorsCummulativeB</th>\n",
       "    </tr>\n",
       "  </thead>\n",
       "  <tbody>\n",
       "    <tr>\n",
       "      <th>0</th>\n",
       "      <td>2019-08-01</td>\n",
       "      <td>23</td>\n",
       "      <td>142779</td>\n",
       "      <td>17</td>\n",
       "      <td>59758</td>\n",
       "      <td>23</td>\n",
       "      <td>142779</td>\n",
       "      <td>17</td>\n",
       "      <td>59758</td>\n",
       "      <td>719</td>\n",
       "      <td>713</td>\n",
       "      <td>719</td>\n",
       "      <td>713</td>\n",
       "    </tr>\n",
       "    <tr>\n",
       "      <th>1</th>\n",
       "      <td>2019-08-02</td>\n",
       "      <td>19</td>\n",
       "      <td>91602</td>\n",
       "      <td>23</td>\n",
       "      <td>162043</td>\n",
       "      <td>42</td>\n",
       "      <td>234381</td>\n",
       "      <td>40</td>\n",
       "      <td>221801</td>\n",
       "      <td>619</td>\n",
       "      <td>581</td>\n",
       "      <td>1338</td>\n",
       "      <td>1294</td>\n",
       "    </tr>\n",
       "    <tr>\n",
       "      <th>2</th>\n",
       "      <td>2019-08-03</td>\n",
       "      <td>24</td>\n",
       "      <td>112473</td>\n",
       "      <td>14</td>\n",
       "      <td>67049</td>\n",
       "      <td>66</td>\n",
       "      <td>346854</td>\n",
       "      <td>54</td>\n",
       "      <td>288850</td>\n",
       "      <td>507</td>\n",
       "      <td>509</td>\n",
       "      <td>1845</td>\n",
       "      <td>1803</td>\n",
       "    </tr>\n",
       "    <tr>\n",
       "      <th>3</th>\n",
       "      <td>2019-08-04</td>\n",
       "      <td>11</td>\n",
       "      <td>41176</td>\n",
       "      <td>14</td>\n",
       "      <td>96890</td>\n",
       "      <td>77</td>\n",
       "      <td>388030</td>\n",
       "      <td>68</td>\n",
       "      <td>385740</td>\n",
       "      <td>717</td>\n",
       "      <td>770</td>\n",
       "      <td>2562</td>\n",
       "      <td>2573</td>\n",
       "    </tr>\n",
       "    <tr>\n",
       "      <th>4</th>\n",
       "      <td>2019-08-05</td>\n",
       "      <td>22</td>\n",
       "      <td>86383</td>\n",
       "      <td>21</td>\n",
       "      <td>89908</td>\n",
       "      <td>99</td>\n",
       "      <td>474413</td>\n",
       "      <td>89</td>\n",
       "      <td>475648</td>\n",
       "      <td>756</td>\n",
       "      <td>707</td>\n",
       "      <td>3318</td>\n",
       "      <td>3280</td>\n",
       "    </tr>\n",
       "  </tbody>\n",
       "</table>\n",
       "</div>"
      ],
      "text/plain": [
       "         date  ordersPerDateA  revenuePerDateA  ordersPerDateB  revenuePerDateB  ordersCummulativeA  revenueCummulativeA  ordersCummulativeB  revenueCummulativeB  visitorsPerDateA  visitorsPerDateB  visitorsCummulativeA  visitorsCummulativeB\n",
       "0  2019-08-01              23           142779              17            59758                  23               142779                  17                59758               719               713                   719                   713\n",
       "1  2019-08-02              19            91602              23           162043                  42               234381                  40               221801               619               581                  1338                  1294\n",
       "2  2019-08-03              24           112473              14            67049                  66               346854                  54               288850               507               509                  1845                  1803\n",
       "3  2019-08-04              11            41176              14            96890                  77               388030                  68               385740               717               770                  2562                  2573\n",
       "4  2019-08-05              22            86383              21            89908                  99               474413                  89               475648               756               707                  3318                  3280"
      ]
     },
     "metadata": {},
     "output_type": "display_data"
    }
   ],
   "source": [
    "visitorsADaily = visitors[visitors['group'] == 'A'][['date', 'visitors']]\n",
    "visitorsADaily.columns = ['date', 'visitorsPerDateA']\n",
    "\n",
    "visitorsACummulative = visitorsADaily.apply(\n",
    "    lambda x: visitorsADaily[visitorsADaily['date'] <= x['date']].agg(\n",
    "        {'date': 'max', 'visitorsPerDateA': 'sum'}\n",
    "    ),\n",
    "    axis=1,\n",
    ")\n",
    "visitorsACummulative.columns = ['date', 'visitorsCummulativeA']\n",
    "\n",
    "visitorsBDaily = visitors[visitors['group'] == 'B'][['date', 'visitors']]\n",
    "visitorsBDaily.columns = ['date', 'visitorsPerDateB']\n",
    "\n",
    "visitorsBCummulative = visitorsBDaily.apply(\n",
    "    lambda x: visitorsBDaily[visitorsBDaily['date'] <= x['date']].agg(\n",
    "        {'date': 'max', 'visitorsPerDateB': 'sum'}\n",
    "    ),\n",
    "    axis=1,\n",
    ")\n",
    "visitorsBCummulative.columns = ['date', 'visitorsCummulativeB']\n",
    "\n",
    "ordersADaily = (\n",
    "    orders[orders['group'] == 'A'][['date', 'transactionId', 'visitorId', 'revenue']]\n",
    "    .groupby('date', as_index=False)\n",
    "    .agg({'transactionId': pd.Series.nunique, 'revenue': 'sum'})\n",
    ")\n",
    "ordersADaily.columns = ['date', 'ordersPerDateA', 'revenuePerDateA']\n",
    "\n",
    "ordersACummulative = ordersADaily.apply(\n",
    "    lambda x: ordersADaily[ordersADaily['date'] <= x['date']].agg(\n",
    "        {'date': 'max', 'ordersPerDateA': 'sum', 'revenuePerDateA': 'sum'}\n",
    "    ),\n",
    "    axis=1,\n",
    ").sort_values(by=['date'])\n",
    "ordersACummulative.columns = [\n",
    "    'date',\n",
    "    'ordersCummulativeA',\n",
    "    'revenueCummulativeA',\n",
    "]\n",
    "\n",
    "ordersBDaily = (\n",
    "    orders[orders['group'] == 'B'][['date', 'transactionId', 'visitorId', 'revenue']]\n",
    "    .groupby('date', as_index=False)\n",
    "    .agg({'transactionId': pd.Series.nunique, 'revenue': 'sum'})\n",
    ")\n",
    "ordersBDaily.columns = ['date', 'ordersPerDateB', 'revenuePerDateB']\n",
    "\n",
    "ordersBCummulative = ordersBDaily.apply(\n",
    "    lambda x: ordersBDaily[ordersBDaily['date'] <= x['date']].agg(\n",
    "        {'date': 'max', 'ordersPerDateB': 'sum', 'revenuePerDateB': 'sum'}\n",
    "    ),\n",
    "    axis=1,\n",
    ").sort_values(by=['date'])\n",
    "ordersBCummulative.columns = [\n",
    "    'date',\n",
    "    'ordersCummulativeB',\n",
    "    'revenueCummulativeB',\n",
    "]\n",
    "\n",
    "data = (\n",
    "    ordersADaily.merge(\n",
    "        ordersBDaily, left_on='date', right_on='date', how='left'\n",
    "    )\n",
    "    .merge(ordersACummulative, left_on='date', right_on='date', how='left')\n",
    "    .merge(ordersBCummulative, left_on='date', right_on='date', how='left')\n",
    "    .merge(visitorsADaily, left_on='date', right_on='date', how='left')\n",
    "    .merge(visitorsBDaily, left_on='date', right_on='date', how='left')\n",
    "    .merge(visitorsACummulative, left_on='date', right_on='date', how='left')\n",
    "    .merge(visitorsBCummulative, left_on='date', right_on='date', how='left')\n",
    ")\n",
    "\n",
    "display(data.head(5)) "
   ]
  },
  {
   "cell_type": "code",
   "execution_count": 22,
   "metadata": {},
   "outputs": [],
   "source": [
    "ordersByUsersA = (\n",
    "    orders[orders['group'] == 'A']\n",
    "    .groupby('visitorId', as_index=False)\n",
    "    .agg({'transactionId': pd.Series.nunique})\n",
    ")\n",
    "ordersByUsersA.columns = ['visitorId', 'orders']\n",
    "\n",
    "ordersByUsersB = (\n",
    "    orders[orders['group'] == 'B']\n",
    "    .groupby('visitorId', as_index=False)\n",
    "    .agg({'transactionId': pd.Series.nunique})\n",
    ")\n",
    "ordersByUsersB.columns = ['visitorId', 'orders'] "
   ]
  },
  {
   "cell_type": "code",
   "execution_count": 23,
   "metadata": {},
   "outputs": [
    {
     "data": {
      "text/plain": [
       "0        0\n",
       "1        0\n",
       "2        0\n",
       "3        0\n",
       "4        0\n",
       "        ..\n",
       "18286    0\n",
       "18287    0\n",
       "18288    0\n",
       "18289    0\n",
       "18290    0\n",
       "Name: orders, Length: 18291, dtype: int64"
      ]
     },
     "execution_count": 23,
     "metadata": {},
     "output_type": "execute_result"
    }
   ],
   "source": [
    "pd.Series(0, index=np.arange(data['visitorsPerDateA'].sum() - len(ordersByUsersA['orders'])), name='orders')"
   ]
  },
  {
   "cell_type": "code",
   "execution_count": 24,
   "metadata": {},
   "outputs": [],
   "source": [
    "[ordersByUsersA['orders'],pd.Series(0, index=np.arange(data['visitorsPerDateA'].sum() - len(ordersByUsersA['orders'])), name='orders')] \n",
    "sampleA = pd.concat([ordersByUsersA['orders'],pd.Series(0, index=np.arange(data['visitorsPerDateA'].sum() - len(ordersByUsersA['orders'])), name='orders')],axis=0)\n",
    "\n",
    "sampleB = pd.concat([ordersByUsersB['orders'],pd.Series(0, index=np.arange(data['visitorsPerDateB'].sum() - len(ordersByUsersB['orders'])), name='orders')],axis=0)"
   ]
  },
  {
   "cell_type": "code",
   "execution_count": 25,
   "metadata": {},
   "outputs": [
    {
     "name": "stdout",
     "output_type": "stream",
     "text": [
      "p-value = 0.011\n",
      "0.160\n"
     ]
    }
   ],
   "source": [
    "ordersByUsersA = (\n",
    "    orders[orders['group'] == 'A']\n",
    "    .groupby('visitorId', as_index=False)\n",
    "    .agg({'transactionId': pd.Series.nunique})\n",
    ")\n",
    "ordersByUsersA.columns = ['visitorId', 'orders']\n",
    "\n",
    "ordersByUsersB = (\n",
    "    orders[orders['group'] == 'B']\n",
    "    .groupby('visitorId', as_index=False)\n",
    "    .agg({'transactionId': pd.Series.nunique})\n",
    ")\n",
    "ordersByUsersB.columns = ['visitorId', 'orders']\n",
    "\n",
    "sampleA = pd.concat(\n",
    "    [\n",
    "        ordersByUsersA['orders'],\n",
    "        pd.Series(\n",
    "            0,\n",
    "            index=np.arange(\n",
    "                data['visitorsPerDateA'].sum() - len(ordersByUsersA['orders'])\n",
    "            ),\n",
    "            name='orders',\n",
    "        ),\n",
    "    ],\n",
    "    axis=0,\n",
    ")\n",
    "\n",
    "sampleB = pd.concat(\n",
    "    [\n",
    "        ordersByUsersB['orders'],\n",
    "        pd.Series(\n",
    "            0,\n",
    "            index=np.arange(\n",
    "                data['visitorsPerDateB'].sum() - len(ordersByUsersB['orders'])\n",
    "            ),\n",
    "            name='orders',\n",
    "        ),\n",
    "    ],\n",
    "    axis=0,\n",
    ")\n",
    "\n",
    "print(\"p-value = {0:.3f}\".format(stats.mannwhitneyu(sampleA, sampleB)[1]))\n",
    "\n",
    "print(\"{0:.3f}\".format(sampleB.mean() / sampleA.mean() - 1))"
   ]
  },
  {
   "cell_type": "markdown",
   "metadata": {},
   "source": [
    "По \"сырым\" данным p-value = 0.01, что меньше уровня значимости 0.05. Значит нулевую гипотезу отвергаем, разница между группами в среднем количестве заказов на посетителя есть.\n",
    "Разница между показателями группы А и B - 16% в пользу группы B."
   ]
  },
  {
   "cell_type": "markdown",
   "metadata": {},
   "source": [
    "#### Расчет статистической значимости различий в среднем чеке заказа между группами по «сырым» данным. "
   ]
  },
  {
   "cell_type": "code",
   "execution_count": 26,
   "metadata": {},
   "outputs": [
    {
     "name": "stdout",
     "output_type": "stream",
     "text": [
      "p-value = 0.829\n",
      "0.287\n"
     ]
    }
   ],
   "source": [
    "print('p-value = {0:.3f}'.format(stats.mannwhitneyu(orders[orders['group']=='A']['revenue'], orders[orders['group']=='B']['revenue'])[1]))\n",
    "print('{0:.3f}'.format(orders[orders['group']=='B']['revenue'].mean()/orders[orders['group']=='A']['revenue'].mean()-1)) "
   ]
  },
  {
   "cell_type": "markdown",
   "metadata": {},
   "source": [
    "Сформулируем гипотезы: \n",
    "H0 - разницы в среднем чеке заказа между группами нет \n",
    "H1 - разница в среднем чеке заказа между группами есть.\n",
    "P-value = 0.829, что значительно выше уровня значимости 0.05, что говорит о том, что не стоит отвергать нулевую гипотезу. При этом наблюдаем различие в 28%, что может быть вызвано тем, что в \"сырых\" данных есть выбросы, влияющие на результат подсчетов."
   ]
  },
  {
   "cell_type": "code",
   "execution_count": 27,
   "metadata": {},
   "outputs": [
    {
     "name": "stdout",
     "output_type": "stream",
     "text": [
      "568     113298937\n",
      "1099    148427295\n",
      "928     204675465\n",
      "33      249864742\n",
      "684     358944393\n",
      "Name: visitorId, dtype: int64\n",
      "86\n"
     ]
    }
   ],
   "source": [
    "usersWithManyOrders = pd.concat(\n",
    "    [\n",
    "        ordersByUsersA[ordersByUsersA['orders'] >= 2]['visitorId'],\n",
    "        ordersByUsersB[ordersByUsersB['orders'] >= 2]['visitorId'],\n",
    "    ],\n",
    "    axis=0,\n",
    ")\n",
    "usersWithExpensiveOrders = orders[orders['revenue'] > 26785]['visitorId']\n",
    "abnormalUsers = (\n",
    "    pd.concat([usersWithManyOrders, usersWithExpensiveOrders], axis=0)\n",
    "    .drop_duplicates()\n",
    "    .sort_values()\n",
    ")\n",
    "print(abnormalUsers.head(5))\n",
    "print(abnormalUsers.shape[0]) "
   ]
  },
  {
   "cell_type": "markdown",
   "metadata": {},
   "source": [
    "#### Расчет статистической значимости различий в среднем количестве заказов на посетителя между группами по «очищенным» данным. "
   ]
  },
  {
   "cell_type": "code",
   "execution_count": 28,
   "metadata": {},
   "outputs": [],
   "source": [
    "sampleAFiltered = pd.concat(\n",
    "    [\n",
    "        ordersByUsersA[\n",
    "            np.logical_not(ordersByUsersA['visitorId'].isin(abnormalUsers))\n",
    "        ]['orders'],\n",
    "        pd.Series(\n",
    "            0,\n",
    "            index=np.arange(\n",
    "                data['visitorsPerDateA'].sum() - len(ordersByUsersA['orders'])\n",
    "            ),\n",
    "            name='orders',\n",
    "        ),\n",
    "    ],\n",
    "    axis=0,\n",
    ")\n",
    "\n",
    "sampleBFiltered = pd.concat(\n",
    "    [\n",
    "        ordersByUsersB[\n",
    "            np.logical_not(ordersByUsersB['visitorId'].isin(abnormalUsers))\n",
    "        ]['orders'],\n",
    "        pd.Series(\n",
    "            0,\n",
    "            index=np.arange(\n",
    "                data['visitorsPerDateB'].sum() - len(ordersByUsersB['orders'])\n",
    "            ),\n",
    "            name='orders',\n",
    "        ),\n",
    "    ],\n",
    "    axis=0,\n",
    ") "
   ]
  },
  {
   "cell_type": "code",
   "execution_count": 29,
   "metadata": {},
   "outputs": [
    {
     "name": "stdout",
     "output_type": "stream",
     "text": [
      "p-value = 0.016\n",
      "0.174\n"
     ]
    }
   ],
   "source": [
    "print('p-value = {0:.3f}'.format(stats.mannwhitneyu(sampleAFiltered, sampleBFiltered)[1]))\n",
    "print('{0:.3f}'.format(sampleBFiltered.mean()/sampleAFiltered.mean()-1))"
   ]
  },
  {
   "cell_type": "markdown",
   "metadata": {},
   "source": [
    " Сформулируем гипотезы: \n",
    " H0 - разницы в среднем количестве заказов на посетителя между группами нет \n",
    " H1 - разница в среднем количестве заказов на посетителя между группами есть.\n",
    "По очищенным данным p-value - 0.016, что меньше уровня значимости 0.05, что говорит о том, что можно отклонить нулевую гипотезу. Разница в среднем количестве заказов 17%, это очень значительный показатель."
   ]
  },
  {
   "cell_type": "markdown",
   "metadata": {},
   "source": [
    "#### Расчет статистической значимости различий в среднем чеке заказа между группами по «очищенным» данным."
   ]
  },
  {
   "cell_type": "code",
   "execution_count": 30,
   "metadata": {},
   "outputs": [
    {
     "name": "stdout",
     "output_type": "stream",
     "text": [
      "p-value = 0.727\n",
      "-0.034\n"
     ]
    }
   ],
   "source": [
    "print(\n",
    "    'p-value = {0:.3f}'.format(\n",
    "        stats.mannwhitneyu(\n",
    "            orders[\n",
    "                np.logical_and(\n",
    "                    orders['group'] == 'A',\n",
    "                    np.logical_not(orders['visitorId'].isin(abnormalUsers)),\n",
    "                )\n",
    "            ]['revenue'],\n",
    "            orders[\n",
    "                np.logical_and(\n",
    "                    orders['group'] == 'B',\n",
    "                    np.logical_not(orders['visitorId'].isin(abnormalUsers)),\n",
    "                )\n",
    "            ]['revenue'],\n",
    "        )[1]\n",
    "    )\n",
    ")\n",
    "\n",
    "print(\n",
    " \"{0:.3f}\".format(\n",
    "        orders[\n",
    "            np.logical_and(\n",
    "                orders['group'] == 'B',\n",
    "                np.logical_not(orders['visitorId'].isin(abnormalUsers)),\n",
    "            )\n",
    "        ]['revenue'].mean()\n",
    "        / orders[\n",
    "            np.logical_and(\n",
    "                orders['group'] == 'A',\n",
    "                np.logical_not(orders['visitorId'].isin(abnormalUsers)),\n",
    "            )\n",
    "        ]['revenue'].mean()\n",
    "        - 1\n",
    "    )\n",
    ")"
   ]
  },
  {
   "cell_type": "markdown",
   "metadata": {},
   "source": [
    "Сформулируем гипотезы: \n",
    "Сформулируем гипотезы: \n",
    "H0 - разницы в среднем чеке заказа между группами нет \n",
    "H1 - разница в среднем чеке заказа между группами есть.\n",
    "P-value по разнице в среднем чеке для \"очищенных\" данных = 0.727, что больше уровня значимости в 0.05. Соответственно, нулевую гипотезу отвергнуть не можем. Наблюдаем \"проигрыш\" группы B в 3%, однако он не является статистически значимым. "
   ]
  },
  {
   "cell_type": "markdown",
   "metadata": {},
   "source": [
    "### Вывод.\n",
    "Примите решение по результатам теста и объясните его. Варианты решений:\n",
    "1. Остановить тест, зафиксировать победу одной из групп.\n",
    "2. Остановить тест, зафиксировать отсутствие различий между группами.\n",
    "3. Продолжить тест. "
   ]
  },
  {
   "cell_type": "markdown",
   "metadata": {},
   "source": [
    "Тест можно прекратить. Мы не выявили разницы в среднем чеке на пользователя, однако зафиксировали разницу в среднем количестве заказов на пользователя. Победила группа B c перевесом в 17%."
   ]
  }
 ],
 "metadata": {
  "ExecuteTimeLog": [
   {
    "duration": 44,
    "start_time": "2024-02-12T18:19:20.016Z"
   },
   {
    "duration": 813,
    "start_time": "2024-02-12T18:19:23.824Z"
   },
   {
    "duration": 125,
    "start_time": "2024-02-12T18:19:25.983Z"
   },
   {
    "duration": 58,
    "start_time": "2024-02-12T18:19:44.748Z"
   },
   {
    "duration": 25,
    "start_time": "2024-02-12T18:19:48.336Z"
   },
   {
    "duration": 808,
    "start_time": "2024-02-12T20:45:54.956Z"
   },
   {
    "duration": 204,
    "start_time": "2024-02-12T20:45:55.767Z"
   },
   {
    "duration": 13,
    "start_time": "2024-02-12T20:45:55.973Z"
   },
   {
    "duration": 10,
    "start_time": "2024-02-12T20:49:26.304Z"
   },
   {
    "duration": 9,
    "start_time": "2024-02-12T20:50:31.967Z"
   },
   {
    "duration": 9,
    "start_time": "2024-02-12T20:51:29.120Z"
   },
   {
    "duration": 10,
    "start_time": "2024-02-12T20:52:00.407Z"
   },
   {
    "duration": 3,
    "start_time": "2024-02-12T21:02:33.555Z"
   },
   {
    "duration": 83,
    "start_time": "2024-02-12T21:02:33.560Z"
   },
   {
    "duration": 8,
    "start_time": "2024-02-12T21:02:33.645Z"
   },
   {
    "duration": 19,
    "start_time": "2024-02-12T21:02:33.655Z"
   },
   {
    "duration": 8,
    "start_time": "2024-02-12T21:02:33.675Z"
   },
   {
    "duration": 90,
    "start_time": "2024-02-12T21:02:33.685Z"
   },
   {
    "duration": 5,
    "start_time": "2024-02-12T21:02:33.777Z"
   },
   {
    "duration": 110,
    "start_time": "2024-02-12T21:02:33.783Z"
   },
   {
    "duration": 0,
    "start_time": "2024-02-12T21:02:33.895Z"
   },
   {
    "duration": 0,
    "start_time": "2024-02-12T21:02:33.896Z"
   },
   {
    "duration": 0,
    "start_time": "2024-02-12T21:02:33.897Z"
   },
   {
    "duration": 293,
    "start_time": "2024-02-12T21:03:01.471Z"
   },
   {
    "duration": 6,
    "start_time": "2024-02-12T21:03:02.290Z"
   },
   {
    "duration": 5,
    "start_time": "2024-02-12T21:03:47.362Z"
   },
   {
    "duration": 7,
    "start_time": "2024-02-12T21:04:09.644Z"
   },
   {
    "duration": 160,
    "start_time": "2024-02-12T21:05:07.268Z"
   },
   {
    "duration": 7,
    "start_time": "2024-02-12T21:05:17.152Z"
   },
   {
    "duration": 116,
    "start_time": "2024-02-12T21:05:27.318Z"
   },
   {
    "duration": 24,
    "start_time": "2024-02-12T21:05:43.706Z"
   },
   {
    "duration": 266,
    "start_time": "2024-02-12T21:06:32.841Z"
   },
   {
    "duration": 598,
    "start_time": "2024-02-12T21:06:49.625Z"
   },
   {
    "duration": 3,
    "start_time": "2024-02-12T21:08:04.890Z"
   },
   {
    "duration": 87,
    "start_time": "2024-02-12T21:08:04.895Z"
   },
   {
    "duration": 11,
    "start_time": "2024-02-12T21:08:04.984Z"
   },
   {
    "duration": 14,
    "start_time": "2024-02-12T21:08:04.997Z"
   },
   {
    "duration": 19,
    "start_time": "2024-02-12T21:08:05.014Z"
   },
   {
    "duration": 19,
    "start_time": "2024-02-12T21:08:05.034Z"
   },
   {
    "duration": 12,
    "start_time": "2024-02-12T21:08:05.055Z"
   },
   {
    "duration": 164,
    "start_time": "2024-02-12T21:08:05.069Z"
   },
   {
    "duration": 113,
    "start_time": "2024-02-12T21:08:05.234Z"
   },
   {
    "duration": 271,
    "start_time": "2024-02-12T21:08:05.349Z"
   },
   {
    "duration": 273,
    "start_time": "2024-02-12T21:08:05.621Z"
   },
   {
    "duration": 255,
    "start_time": "2024-02-12T21:09:23.587Z"
   },
   {
    "duration": 415,
    "start_time": "2024-02-12T21:10:16.131Z"
   },
   {
    "duration": 173,
    "start_time": "2024-02-12T21:11:04.417Z"
   },
   {
    "duration": 301,
    "start_time": "2024-02-12T21:12:41.257Z"
   },
   {
    "duration": 257,
    "start_time": "2024-02-12T21:13:39.117Z"
   },
   {
    "duration": 259,
    "start_time": "2024-02-12T21:14:22.627Z"
   },
   {
    "duration": 53,
    "start_time": "2024-02-13T08:55:07.313Z"
   },
   {
    "duration": 914,
    "start_time": "2024-02-13T08:55:10.833Z"
   },
   {
    "duration": 186,
    "start_time": "2024-02-13T08:55:11.749Z"
   },
   {
    "duration": 16,
    "start_time": "2024-02-13T08:55:11.937Z"
   },
   {
    "duration": 12,
    "start_time": "2024-02-13T08:55:11.955Z"
   },
   {
    "duration": 9,
    "start_time": "2024-02-13T08:55:11.968Z"
   },
   {
    "duration": 21,
    "start_time": "2024-02-13T08:55:11.979Z"
   },
   {
    "duration": 21,
    "start_time": "2024-02-13T08:55:12.007Z"
   },
   {
    "duration": 181,
    "start_time": "2024-02-13T08:55:12.029Z"
   },
   {
    "duration": 124,
    "start_time": "2024-02-13T08:55:12.212Z"
   },
   {
    "duration": 324,
    "start_time": "2024-02-13T08:55:12.338Z"
   },
   {
    "duration": 802,
    "start_time": "2024-02-13T08:55:12.663Z"
   },
   {
    "duration": 295,
    "start_time": "2024-02-13T08:55:13.467Z"
   },
   {
    "duration": 444,
    "start_time": "2024-02-13T08:55:13.763Z"
   },
   {
    "duration": 315,
    "start_time": "2024-02-13T08:55:14.209Z"
   },
   {
    "duration": 304,
    "start_time": "2024-02-13T08:56:18.329Z"
   },
   {
    "duration": 300,
    "start_time": "2024-02-13T08:56:27.545Z"
   },
   {
    "duration": 320,
    "start_time": "2024-02-13T08:56:37.873Z"
   },
   {
    "duration": 304,
    "start_time": "2024-02-13T08:57:05.624Z"
   },
   {
    "duration": 68,
    "start_time": "2024-02-13T09:00:22.344Z"
   },
   {
    "duration": 5,
    "start_time": "2024-02-13T09:01:45.867Z"
   },
   {
    "duration": 12,
    "start_time": "2024-02-13T09:18:13.333Z"
   },
   {
    "duration": 9,
    "start_time": "2024-02-13T09:18:17.216Z"
   },
   {
    "duration": 14,
    "start_time": "2024-02-13T09:20:08.840Z"
   },
   {
    "duration": 226,
    "start_time": "2024-02-13T09:20:43.404Z"
   },
   {
    "duration": 4,
    "start_time": "2024-02-13T09:20:50.736Z"
   },
   {
    "duration": 19,
    "start_time": "2024-02-13T09:25:30.220Z"
   },
   {
    "duration": 179,
    "start_time": "2024-02-13T09:26:27.019Z"
   },
   {
    "duration": 1628,
    "start_time": "2024-02-13T09:26:31.335Z"
   },
   {
    "duration": 238,
    "start_time": "2024-02-13T09:30:00.379Z"
   },
   {
    "duration": 146,
    "start_time": "2024-02-13T09:30:05.350Z"
   },
   {
    "duration": 4,
    "start_time": "2024-02-13T09:30:18.679Z"
   },
   {
    "duration": 83,
    "start_time": "2024-02-13T09:30:18.685Z"
   },
   {
    "duration": 8,
    "start_time": "2024-02-13T09:30:18.770Z"
   },
   {
    "duration": 32,
    "start_time": "2024-02-13T09:30:18.780Z"
   },
   {
    "duration": 13,
    "start_time": "2024-02-13T09:30:18.815Z"
   },
   {
    "duration": 48,
    "start_time": "2024-02-13T09:30:18.830Z"
   },
   {
    "duration": 6,
    "start_time": "2024-02-13T09:30:18.879Z"
   },
   {
    "duration": 186,
    "start_time": "2024-02-13T09:30:18.886Z"
   },
   {
    "duration": 133,
    "start_time": "2024-02-13T09:30:19.074Z"
   },
   {
    "duration": 320,
    "start_time": "2024-02-13T09:30:19.209Z"
   },
   {
    "duration": 333,
    "start_time": "2024-02-13T09:30:19.532Z"
   },
   {
    "duration": 331,
    "start_time": "2024-02-13T09:30:19.866Z"
   },
   {
    "duration": 388,
    "start_time": "2024-02-13T09:30:20.199Z"
   },
   {
    "duration": 303,
    "start_time": "2024-02-13T09:30:20.599Z"
   },
   {
    "duration": 164,
    "start_time": "2024-02-13T09:30:20.906Z"
   },
   {
    "duration": 5,
    "start_time": "2024-02-13T09:30:21.072Z"
   },
   {
    "duration": 253,
    "start_time": "2024-02-13T09:30:21.095Z"
   },
   {
    "duration": 172,
    "start_time": "2024-02-13T09:30:21.350Z"
   },
   {
    "duration": 7,
    "start_time": "2024-02-13T09:30:21.524Z"
   },
   {
    "duration": 16,
    "start_time": "2024-02-13T09:30:21.533Z"
   },
   {
    "duration": 26,
    "start_time": "2024-02-13T09:30:21.551Z"
   },
   {
    "duration": 16,
    "start_time": "2024-02-13T09:31:07.267Z"
   },
   {
    "duration": 177,
    "start_time": "2024-02-13T09:31:23.911Z"
   },
   {
    "duration": 10,
    "start_time": "2024-02-13T09:32:29.208Z"
   },
   {
    "duration": 9,
    "start_time": "2024-02-13T09:33:18.363Z"
   },
   {
    "duration": 1165,
    "start_time": "2024-02-13T09:35:13.566Z"
   },
   {
    "duration": 8,
    "start_time": "2024-02-13T09:35:35.114Z"
   },
   {
    "duration": 133,
    "start_time": "2024-02-13T09:42:15.666Z"
   },
   {
    "duration": 149,
    "start_time": "2024-02-13T09:43:57.245Z"
   },
   {
    "duration": 192,
    "start_time": "2024-02-13T09:44:35.213Z"
   },
   {
    "duration": 159,
    "start_time": "2024-02-13T09:44:48.350Z"
   },
   {
    "duration": 150,
    "start_time": "2024-02-13T09:44:56.133Z"
   },
   {
    "duration": 138,
    "start_time": "2024-02-13T09:45:11.821Z"
   },
   {
    "duration": 236,
    "start_time": "2024-02-13T09:45:22.704Z"
   },
   {
    "duration": 4,
    "start_time": "2024-02-13T09:46:03.517Z"
   },
   {
    "duration": 9,
    "start_time": "2024-02-13T09:46:23.345Z"
   },
   {
    "duration": 8,
    "start_time": "2024-02-13T09:51:27.225Z"
   },
   {
    "duration": 31,
    "start_time": "2024-02-13T09:51:44.469Z"
   },
   {
    "duration": 14,
    "start_time": "2024-02-13T09:52:29.616Z"
   },
   {
    "duration": 431,
    "start_time": "2024-02-13T10:02:31.688Z"
   },
   {
    "duration": 308,
    "start_time": "2024-02-13T10:03:05.172Z"
   },
   {
    "duration": 434,
    "start_time": "2024-02-13T10:03:59.943Z"
   },
   {
    "duration": 3,
    "start_time": "2024-02-13T10:48:29.152Z"
   },
   {
    "duration": 110,
    "start_time": "2024-02-13T10:48:29.157Z"
   },
   {
    "duration": 9,
    "start_time": "2024-02-13T10:48:29.269Z"
   },
   {
    "duration": 42,
    "start_time": "2024-02-13T10:48:29.279Z"
   },
   {
    "duration": 17,
    "start_time": "2024-02-13T10:48:29.323Z"
   },
   {
    "duration": 25,
    "start_time": "2024-02-13T10:48:29.341Z"
   },
   {
    "duration": 10,
    "start_time": "2024-02-13T10:48:29.367Z"
   },
   {
    "duration": 188,
    "start_time": "2024-02-13T10:48:29.379Z"
   },
   {
    "duration": 126,
    "start_time": "2024-02-13T10:48:29.569Z"
   },
   {
    "duration": 316,
    "start_time": "2024-02-13T10:48:29.700Z"
   },
   {
    "duration": 318,
    "start_time": "2024-02-13T10:48:30.018Z"
   },
   {
    "duration": 308,
    "start_time": "2024-02-13T10:48:30.337Z"
   },
   {
    "duration": 423,
    "start_time": "2024-02-13T10:48:30.647Z"
   },
   {
    "duration": 335,
    "start_time": "2024-02-13T10:48:31.071Z"
   },
   {
    "duration": 419,
    "start_time": "2024-02-13T10:48:31.408Z"
   },
   {
    "duration": 136,
    "start_time": "2024-02-13T10:48:31.829Z"
   },
   {
    "duration": 202,
    "start_time": "2024-02-13T10:48:31.967Z"
   },
   {
    "duration": 202,
    "start_time": "2024-02-13T10:48:32.171Z"
   },
   {
    "duration": 4,
    "start_time": "2024-02-13T10:48:32.375Z"
   },
   {
    "duration": 236,
    "start_time": "2024-02-13T10:48:32.381Z"
   },
   {
    "duration": 174,
    "start_time": "2024-02-13T10:48:32.619Z"
   },
   {
    "duration": 8,
    "start_time": "2024-02-13T10:48:32.798Z"
   },
   {
    "duration": 7,
    "start_time": "2024-02-13T10:48:32.808Z"
   },
   {
    "duration": 204,
    "start_time": "2024-02-13T10:48:32.817Z"
   },
   {
    "duration": 10,
    "start_time": "2024-02-13T10:48:33.023Z"
   },
   {
    "duration": 26,
    "start_time": "2024-02-13T10:48:33.034Z"
   },
   {
    "duration": 17,
    "start_time": "2024-02-13T10:48:33.062Z"
   },
   {
    "duration": 37,
    "start_time": "2024-02-13T10:48:33.080Z"
   },
   {
    "duration": 15,
    "start_time": "2024-02-13T10:48:33.120Z"
   },
   {
    "duration": 16,
    "start_time": "2024-02-13T10:50:58.511Z"
   },
   {
    "duration": 1235,
    "start_time": "2024-02-13T10:51:15.663Z"
   },
   {
    "duration": 15,
    "start_time": "2024-02-13T10:51:29.943Z"
   },
   {
    "duration": 3,
    "start_time": "2024-02-13T10:51:42.323Z"
   },
   {
    "duration": 84,
    "start_time": "2024-02-13T10:51:42.328Z"
   },
   {
    "duration": 8,
    "start_time": "2024-02-13T10:51:42.414Z"
   },
   {
    "duration": 27,
    "start_time": "2024-02-13T10:51:42.424Z"
   },
   {
    "duration": 16,
    "start_time": "2024-02-13T10:51:42.453Z"
   },
   {
    "duration": 34,
    "start_time": "2024-02-13T10:51:42.471Z"
   },
   {
    "duration": 12,
    "start_time": "2024-02-13T10:51:42.507Z"
   },
   {
    "duration": 177,
    "start_time": "2024-02-13T10:51:42.521Z"
   },
   {
    "duration": 135,
    "start_time": "2024-02-13T10:51:42.700Z"
   },
   {
    "duration": 318,
    "start_time": "2024-02-13T10:51:42.837Z"
   },
   {
    "duration": 428,
    "start_time": "2024-02-13T10:51:43.159Z"
   },
   {
    "duration": 294,
    "start_time": "2024-02-13T10:51:43.593Z"
   },
   {
    "duration": 417,
    "start_time": "2024-02-13T10:51:43.889Z"
   },
   {
    "duration": 303,
    "start_time": "2024-02-13T10:51:44.307Z"
   },
   {
    "duration": 423,
    "start_time": "2024-02-13T10:51:44.612Z"
   },
   {
    "duration": 171,
    "start_time": "2024-02-13T10:51:45.036Z"
   },
   {
    "duration": 4,
    "start_time": "2024-02-13T10:51:45.209Z"
   },
   {
    "duration": 202,
    "start_time": "2024-02-13T10:51:45.215Z"
   },
   {
    "duration": 5,
    "start_time": "2024-02-13T10:51:45.418Z"
   },
   {
    "duration": 241,
    "start_time": "2024-02-13T10:51:45.424Z"
   },
   {
    "duration": 164,
    "start_time": "2024-02-13T10:51:45.667Z"
   },
   {
    "duration": 8,
    "start_time": "2024-02-13T10:51:45.833Z"
   },
   {
    "duration": 8,
    "start_time": "2024-02-13T10:51:45.843Z"
   },
   {
    "duration": 206,
    "start_time": "2024-02-13T10:51:45.853Z"
   },
   {
    "duration": 12,
    "start_time": "2024-02-13T10:51:46.061Z"
   },
   {
    "duration": 31,
    "start_time": "2024-02-13T10:51:46.075Z"
   },
   {
    "duration": 18,
    "start_time": "2024-02-13T10:51:46.108Z"
   },
   {
    "duration": 35,
    "start_time": "2024-02-13T10:51:46.128Z"
   },
   {
    "duration": 14,
    "start_time": "2024-02-13T10:51:46.166Z"
   },
   {
    "duration": 434,
    "start_time": "2024-02-13T11:19:14.721Z"
   },
   {
    "duration": 471,
    "start_time": "2024-02-13T11:19:39.560Z"
   },
   {
    "duration": 419,
    "start_time": "2024-02-13T11:19:47.344Z"
   },
   {
    "duration": 4,
    "start_time": "2024-02-13T14:03:27.467Z"
   },
   {
    "duration": 91,
    "start_time": "2024-02-13T14:03:27.473Z"
   },
   {
    "duration": 9,
    "start_time": "2024-02-13T14:03:27.565Z"
   },
   {
    "duration": 38,
    "start_time": "2024-02-13T14:03:27.576Z"
   },
   {
    "duration": 20,
    "start_time": "2024-02-13T14:03:27.616Z"
   },
   {
    "duration": 21,
    "start_time": "2024-02-13T14:03:27.638Z"
   },
   {
    "duration": 20,
    "start_time": "2024-02-13T14:03:27.660Z"
   },
   {
    "duration": 196,
    "start_time": "2024-02-13T14:03:27.682Z"
   },
   {
    "duration": 148,
    "start_time": "2024-02-13T14:03:27.880Z"
   },
   {
    "duration": 341,
    "start_time": "2024-02-13T14:03:28.030Z"
   },
   {
    "duration": 339,
    "start_time": "2024-02-13T14:03:28.373Z"
   },
   {
    "duration": 320,
    "start_time": "2024-02-13T14:03:28.715Z"
   },
   {
    "duration": 393,
    "start_time": "2024-02-13T14:03:29.037Z"
   },
   {
    "duration": 510,
    "start_time": "2024-02-13T14:03:29.435Z"
   },
   {
    "duration": 389,
    "start_time": "2024-02-13T14:03:29.947Z"
   },
   {
    "duration": 127,
    "start_time": "2024-02-13T14:03:30.337Z"
   },
   {
    "duration": 0,
    "start_time": "2024-02-13T14:03:30.466Z"
   },
   {
    "duration": 0,
    "start_time": "2024-02-13T14:03:30.468Z"
   },
   {
    "duration": 0,
    "start_time": "2024-02-13T14:03:30.469Z"
   },
   {
    "duration": 0,
    "start_time": "2024-02-13T14:03:30.470Z"
   },
   {
    "duration": 0,
    "start_time": "2024-02-13T14:03:30.471Z"
   },
   {
    "duration": 0,
    "start_time": "2024-02-13T14:03:30.473Z"
   },
   {
    "duration": 0,
    "start_time": "2024-02-13T14:03:30.475Z"
   },
   {
    "duration": 0,
    "start_time": "2024-02-13T14:03:30.476Z"
   },
   {
    "duration": 0,
    "start_time": "2024-02-13T14:03:30.478Z"
   },
   {
    "duration": 0,
    "start_time": "2024-02-13T14:03:30.479Z"
   },
   {
    "duration": 0,
    "start_time": "2024-02-13T14:03:30.481Z"
   },
   {
    "duration": 1,
    "start_time": "2024-02-13T14:03:30.482Z"
   },
   {
    "duration": 0,
    "start_time": "2024-02-13T14:03:30.484Z"
   },
   {
    "duration": 0,
    "start_time": "2024-02-13T14:03:30.486Z"
   },
   {
    "duration": 0,
    "start_time": "2024-02-13T14:03:30.488Z"
   },
   {
    "duration": 3,
    "start_time": "2024-02-13T14:03:47.027Z"
   },
   {
    "duration": 94,
    "start_time": "2024-02-13T14:03:47.033Z"
   },
   {
    "duration": 9,
    "start_time": "2024-02-13T14:03:47.128Z"
   },
   {
    "duration": 37,
    "start_time": "2024-02-13T14:03:47.139Z"
   },
   {
    "duration": 38,
    "start_time": "2024-02-13T14:03:47.178Z"
   },
   {
    "duration": 21,
    "start_time": "2024-02-13T14:03:47.218Z"
   },
   {
    "duration": 26,
    "start_time": "2024-02-13T14:03:47.241Z"
   },
   {
    "duration": 204,
    "start_time": "2024-02-13T14:03:47.268Z"
   },
   {
    "duration": 154,
    "start_time": "2024-02-13T14:03:47.475Z"
   },
   {
    "duration": 319,
    "start_time": "2024-02-13T14:03:47.630Z"
   },
   {
    "duration": 321,
    "start_time": "2024-02-13T14:03:47.950Z"
   },
   {
    "duration": 326,
    "start_time": "2024-02-13T14:03:48.272Z"
   },
   {
    "duration": 395,
    "start_time": "2024-02-13T14:03:48.600Z"
   },
   {
    "duration": 342,
    "start_time": "2024-02-13T14:03:48.998Z"
   },
   {
    "duration": 390,
    "start_time": "2024-02-13T14:03:49.342Z"
   },
   {
    "duration": 145,
    "start_time": "2024-02-13T14:03:49.733Z"
   },
   {
    "duration": 11,
    "start_time": "2024-02-13T14:03:49.880Z"
   },
   {
    "duration": 166,
    "start_time": "2024-02-13T14:03:49.893Z"
   },
   {
    "duration": 5,
    "start_time": "2024-02-13T14:03:50.061Z"
   },
   {
    "duration": 92,
    "start_time": "2024-02-13T14:03:50.068Z"
   },
   {
    "duration": 1,
    "start_time": "2024-02-13T14:03:50.161Z"
   },
   {
    "duration": 0,
    "start_time": "2024-02-13T14:03:50.163Z"
   },
   {
    "duration": 0,
    "start_time": "2024-02-13T14:03:50.164Z"
   },
   {
    "duration": 0,
    "start_time": "2024-02-13T14:03:50.165Z"
   },
   {
    "duration": 0,
    "start_time": "2024-02-13T14:03:50.167Z"
   },
   {
    "duration": 0,
    "start_time": "2024-02-13T14:03:50.168Z"
   },
   {
    "duration": 0,
    "start_time": "2024-02-13T14:03:50.169Z"
   },
   {
    "duration": 0,
    "start_time": "2024-02-13T14:03:50.170Z"
   },
   {
    "duration": 0,
    "start_time": "2024-02-13T14:03:50.171Z"
   },
   {
    "duration": 0,
    "start_time": "2024-02-13T14:03:50.172Z"
   },
   {
    "duration": 3,
    "start_time": "2024-02-13T14:04:03.372Z"
   },
   {
    "duration": 173,
    "start_time": "2024-02-13T14:04:03.377Z"
   },
   {
    "duration": 126,
    "start_time": "2024-02-13T14:04:03.552Z"
   },
   {
    "duration": 97,
    "start_time": "2024-02-13T14:04:03.679Z"
   },
   {
    "duration": 96,
    "start_time": "2024-02-13T14:04:03.778Z"
   },
   {
    "duration": 42,
    "start_time": "2024-02-13T14:04:03.876Z"
   },
   {
    "duration": 6,
    "start_time": "2024-02-13T14:04:03.919Z"
   },
   {
    "duration": 216,
    "start_time": "2024-02-13T14:04:03.927Z"
   },
   {
    "duration": 141,
    "start_time": "2024-02-13T14:04:04.145Z"
   },
   {
    "duration": 338,
    "start_time": "2024-02-13T14:04:04.288Z"
   },
   {
    "duration": 302,
    "start_time": "2024-02-13T14:04:04.628Z"
   },
   {
    "duration": 303,
    "start_time": "2024-02-13T14:04:04.932Z"
   },
   {
    "duration": 375,
    "start_time": "2024-02-13T14:04:05.239Z"
   },
   {
    "duration": 334,
    "start_time": "2024-02-13T14:04:05.616Z"
   },
   {
    "duration": 419,
    "start_time": "2024-02-13T14:04:05.952Z"
   },
   {
    "duration": 142,
    "start_time": "2024-02-13T14:04:06.373Z"
   },
   {
    "duration": 4,
    "start_time": "2024-02-13T14:04:06.516Z"
   },
   {
    "duration": 163,
    "start_time": "2024-02-13T14:04:06.522Z"
   },
   {
    "duration": 7,
    "start_time": "2024-02-13T14:04:06.687Z"
   },
   {
    "duration": 438,
    "start_time": "2024-02-13T14:04:06.700Z"
   },
   {
    "duration": 164,
    "start_time": "2024-02-13T14:04:07.139Z"
   },
   {
    "duration": 9,
    "start_time": "2024-02-13T14:04:07.306Z"
   },
   {
    "duration": 7,
    "start_time": "2024-02-13T14:04:07.316Z"
   },
   {
    "duration": 220,
    "start_time": "2024-02-13T14:04:07.325Z"
   },
   {
    "duration": 10,
    "start_time": "2024-02-13T14:04:07.546Z"
   },
   {
    "duration": 60,
    "start_time": "2024-02-13T14:04:07.558Z"
   },
   {
    "duration": 21,
    "start_time": "2024-02-13T14:04:07.620Z"
   },
   {
    "duration": 60,
    "start_time": "2024-02-13T14:04:07.642Z"
   },
   {
    "duration": 26,
    "start_time": "2024-02-13T14:04:07.704Z"
   },
   {
    "duration": 776,
    "start_time": "2024-02-13T14:18:39.733Z"
   },
   {
    "duration": 184,
    "start_time": "2024-02-13T14:18:40.511Z"
   },
   {
    "duration": 11,
    "start_time": "2024-02-13T14:18:40.697Z"
   },
   {
    "duration": 9,
    "start_time": "2024-02-13T14:18:40.709Z"
   },
   {
    "duration": 7,
    "start_time": "2024-02-13T14:18:40.719Z"
   },
   {
    "duration": 20,
    "start_time": "2024-02-13T14:18:40.727Z"
   },
   {
    "duration": 11,
    "start_time": "2024-02-13T14:18:40.748Z"
   },
   {
    "duration": 136,
    "start_time": "2024-02-13T14:18:40.760Z"
   },
   {
    "duration": 92,
    "start_time": "2024-02-13T14:18:40.897Z"
   },
   {
    "duration": 225,
    "start_time": "2024-02-13T14:18:40.990Z"
   },
   {
    "duration": 560,
    "start_time": "2024-02-13T14:18:41.216Z"
   },
   {
    "duration": 202,
    "start_time": "2024-02-13T14:18:41.778Z"
   },
   {
    "duration": 365,
    "start_time": "2024-02-13T14:18:41.981Z"
   },
   {
    "duration": 214,
    "start_time": "2024-02-13T14:18:42.348Z"
   },
   {
    "duration": 441,
    "start_time": "2024-02-13T14:18:42.563Z"
   },
   {
    "duration": 139,
    "start_time": "2024-02-13T14:18:43.005Z"
   },
   {
    "duration": 57,
    "start_time": "2024-02-13T14:18:43.146Z"
   },
   {
    "duration": 228,
    "start_time": "2024-02-13T14:18:43.204Z"
   },
   {
    "duration": 3,
    "start_time": "2024-02-13T14:18:43.434Z"
   },
   {
    "duration": 369,
    "start_time": "2024-02-13T14:18:43.438Z"
   },
   {
    "duration": 196,
    "start_time": "2024-02-13T14:18:43.808Z"
   },
   {
    "duration": 6,
    "start_time": "2024-02-13T14:18:44.005Z"
   },
   {
    "duration": 22,
    "start_time": "2024-02-13T14:18:44.012Z"
   },
   {
    "duration": 131,
    "start_time": "2024-02-13T14:18:44.035Z"
   },
   {
    "duration": 7,
    "start_time": "2024-02-13T14:18:44.167Z"
   },
   {
    "duration": 7,
    "start_time": "2024-02-13T14:18:44.175Z"
   },
   {
    "duration": 18,
    "start_time": "2024-02-13T14:18:44.183Z"
   },
   {
    "duration": 18,
    "start_time": "2024-02-13T14:18:44.202Z"
   },
   {
    "duration": 9,
    "start_time": "2024-02-13T14:18:44.221Z"
   },
   {
    "duration": 836,
    "start_time": "2024-02-24T09:27:10.479Z"
   },
   {
    "duration": 180,
    "start_time": "2024-02-24T09:27:11.318Z"
   },
   {
    "duration": 13,
    "start_time": "2024-02-24T09:27:11.499Z"
   },
   {
    "duration": 11,
    "start_time": "2024-02-24T09:27:11.513Z"
   },
   {
    "duration": 10,
    "start_time": "2024-02-24T09:27:11.526Z"
   },
   {
    "duration": 14,
    "start_time": "2024-02-24T09:27:11.538Z"
   },
   {
    "duration": 6,
    "start_time": "2024-02-24T09:27:11.553Z"
   },
   {
    "duration": 157,
    "start_time": "2024-02-24T09:27:11.560Z"
   },
   {
    "duration": 121,
    "start_time": "2024-02-24T09:27:11.719Z"
   },
   {
    "duration": 271,
    "start_time": "2024-02-24T09:27:11.842Z"
   },
   {
    "duration": 632,
    "start_time": "2024-02-24T09:27:12.115Z"
   },
   {
    "duration": 248,
    "start_time": "2024-02-24T09:27:12.748Z"
   },
   {
    "duration": 386,
    "start_time": "2024-02-24T09:27:12.998Z"
   },
   {
    "duration": 254,
    "start_time": "2024-02-24T09:27:13.387Z"
   },
   {
    "duration": 364,
    "start_time": "2024-02-24T09:27:13.642Z"
   },
   {
    "duration": 116,
    "start_time": "2024-02-24T09:27:14.008Z"
   },
   {
    "duration": 4,
    "start_time": "2024-02-24T09:27:14.126Z"
   },
   {
    "duration": 140,
    "start_time": "2024-02-24T09:27:14.131Z"
   },
   {
    "duration": 4,
    "start_time": "2024-02-24T09:27:14.273Z"
   },
   {
    "duration": 220,
    "start_time": "2024-02-24T09:27:14.279Z"
   },
   {
    "duration": 147,
    "start_time": "2024-02-24T09:27:14.500Z"
   },
   {
    "duration": 16,
    "start_time": "2024-02-24T09:27:14.649Z"
   },
   {
    "duration": 9,
    "start_time": "2024-02-24T09:27:14.667Z"
   },
   {
    "duration": 176,
    "start_time": "2024-02-24T09:27:14.677Z"
   },
   {
    "duration": 14,
    "start_time": "2024-02-24T09:27:14.855Z"
   },
   {
    "duration": 7,
    "start_time": "2024-02-24T09:27:14.871Z"
   },
   {
    "duration": 9,
    "start_time": "2024-02-24T09:27:14.879Z"
   },
   {
    "duration": 22,
    "start_time": "2024-02-24T09:27:14.890Z"
   },
   {
    "duration": 11,
    "start_time": "2024-02-24T09:27:14.913Z"
   },
   {
    "duration": 16,
    "start_time": "2024-02-24T09:47:43.933Z"
   },
   {
    "duration": 21,
    "start_time": "2024-02-24T09:52:42.780Z"
   },
   {
    "duration": 31,
    "start_time": "2024-02-24T09:54:25.732Z"
   },
   {
    "duration": 18,
    "start_time": "2024-02-24T09:54:38.493Z"
   },
   {
    "duration": 17,
    "start_time": "2024-02-24T09:55:06.373Z"
   },
   {
    "duration": 308,
    "start_time": "2024-02-24T09:57:51.032Z"
   },
   {
    "duration": 98,
    "start_time": "2024-02-24T10:19:16.737Z"
   },
   {
    "duration": 189,
    "start_time": "2024-02-24T10:19:33.654Z"
   },
   {
    "duration": 157,
    "start_time": "2024-02-24T10:21:26.265Z"
   },
   {
    "duration": 3,
    "start_time": "2024-02-24T10:22:04.467Z"
   },
   {
    "duration": 71,
    "start_time": "2024-02-24T10:22:04.473Z"
   },
   {
    "duration": 13,
    "start_time": "2024-02-24T10:22:04.546Z"
   },
   {
    "duration": 22,
    "start_time": "2024-02-24T10:22:04.561Z"
   },
   {
    "duration": 11,
    "start_time": "2024-02-24T10:22:04.585Z"
   },
   {
    "duration": 12,
    "start_time": "2024-02-24T10:22:04.598Z"
   },
   {
    "duration": 185,
    "start_time": "2024-02-24T10:22:04.611Z"
   },
   {
    "duration": 0,
    "start_time": "2024-02-24T10:22:04.799Z"
   },
   {
    "duration": 0,
    "start_time": "2024-02-24T10:22:04.801Z"
   },
   {
    "duration": 1,
    "start_time": "2024-02-24T10:22:04.802Z"
   },
   {
    "duration": 0,
    "start_time": "2024-02-24T10:22:04.804Z"
   },
   {
    "duration": 0,
    "start_time": "2024-02-24T10:22:04.805Z"
   },
   {
    "duration": 0,
    "start_time": "2024-02-24T10:22:04.807Z"
   },
   {
    "duration": 0,
    "start_time": "2024-02-24T10:22:04.809Z"
   },
   {
    "duration": 1,
    "start_time": "2024-02-24T10:22:04.810Z"
   },
   {
    "duration": 0,
    "start_time": "2024-02-24T10:22:04.812Z"
   },
   {
    "duration": 0,
    "start_time": "2024-02-24T10:22:04.813Z"
   },
   {
    "duration": 0,
    "start_time": "2024-02-24T10:22:04.815Z"
   },
   {
    "duration": 0,
    "start_time": "2024-02-24T10:22:04.816Z"
   },
   {
    "duration": 0,
    "start_time": "2024-02-24T10:22:04.818Z"
   },
   {
    "duration": 0,
    "start_time": "2024-02-24T10:22:04.819Z"
   },
   {
    "duration": 0,
    "start_time": "2024-02-24T10:22:04.821Z"
   },
   {
    "duration": 0,
    "start_time": "2024-02-24T10:22:04.822Z"
   },
   {
    "duration": 0,
    "start_time": "2024-02-24T10:22:04.824Z"
   },
   {
    "duration": 0,
    "start_time": "2024-02-24T10:22:04.825Z"
   },
   {
    "duration": 0,
    "start_time": "2024-02-24T10:22:04.827Z"
   },
   {
    "duration": 0,
    "start_time": "2024-02-24T10:22:04.828Z"
   },
   {
    "duration": 0,
    "start_time": "2024-02-24T10:22:04.830Z"
   },
   {
    "duration": 0,
    "start_time": "2024-02-24T10:22:04.831Z"
   },
   {
    "duration": 0,
    "start_time": "2024-02-24T10:22:04.832Z"
   },
   {
    "duration": 17,
    "start_time": "2024-02-24T10:24:04.575Z"
   },
   {
    "duration": 1123,
    "start_time": "2024-02-24T10:34:26.611Z"
   },
   {
    "duration": 1408,
    "start_time": "2024-02-24T10:34:42.380Z"
   },
   {
    "duration": 4,
    "start_time": "2024-02-24T10:34:52.872Z"
   },
   {
    "duration": 6,
    "start_time": "2024-02-24T10:35:52.753Z"
   },
   {
    "duration": 5,
    "start_time": "2024-02-24T10:35:59.357Z"
   },
   {
    "duration": 11,
    "start_time": "2024-02-24T10:36:08.911Z"
   },
   {
    "duration": 6,
    "start_time": "2024-02-24T10:36:25.175Z"
   },
   {
    "duration": 6,
    "start_time": "2024-02-24T10:36:49.542Z"
   },
   {
    "duration": 1226,
    "start_time": "2024-02-24T11:00:35.866Z"
   },
   {
    "duration": 11,
    "start_time": "2024-02-24T11:03:22.903Z"
   },
   {
    "duration": 6,
    "start_time": "2024-02-24T11:03:32.548Z"
   },
   {
    "duration": 7,
    "start_time": "2024-02-24T11:03:38.620Z"
   },
   {
    "duration": 9,
    "start_time": "2024-02-24T11:03:54.872Z"
   },
   {
    "duration": 6,
    "start_time": "2024-02-24T11:04:42.356Z"
   },
   {
    "duration": 7,
    "start_time": "2024-02-24T11:06:16.387Z"
   },
   {
    "duration": 11,
    "start_time": "2024-02-24T11:07:20.100Z"
   },
   {
    "duration": 6,
    "start_time": "2024-02-24T11:07:46.046Z"
   },
   {
    "duration": 6,
    "start_time": "2024-02-24T11:08:05.698Z"
   },
   {
    "duration": 12,
    "start_time": "2024-02-24T11:34:14.115Z"
   },
   {
    "duration": 11,
    "start_time": "2024-02-24T11:36:16.760Z"
   },
   {
    "duration": 13,
    "start_time": "2024-02-24T11:36:22.154Z"
   },
   {
    "duration": 14,
    "start_time": "2024-02-24T11:36:28.935Z"
   },
   {
    "duration": 12,
    "start_time": "2024-02-24T11:36:36.190Z"
   },
   {
    "duration": 13,
    "start_time": "2024-02-24T11:37:25.099Z"
   },
   {
    "duration": 15,
    "start_time": "2024-02-24T11:37:34.269Z"
   },
   {
    "duration": 22,
    "start_time": "2024-02-24T11:38:29.018Z"
   },
   {
    "duration": 15,
    "start_time": "2024-02-24T11:39:26.352Z"
   },
   {
    "duration": 11,
    "start_time": "2024-02-24T11:39:34.324Z"
   },
   {
    "duration": 12,
    "start_time": "2024-02-24T11:39:39.511Z"
   },
   {
    "duration": 13,
    "start_time": "2024-02-24T11:39:43.294Z"
   },
   {
    "duration": 14,
    "start_time": "2024-02-24T11:41:12.482Z"
   },
   {
    "duration": 15,
    "start_time": "2024-02-24T11:42:02.574Z"
   },
   {
    "duration": 4,
    "start_time": "2024-02-24T11:42:26.555Z"
   },
   {
    "duration": 1143,
    "start_time": "2024-02-24T11:42:32.342Z"
   },
   {
    "duration": 16,
    "start_time": "2024-02-24T11:43:20.556Z"
   },
   {
    "duration": 15,
    "start_time": "2024-02-24T11:43:58.275Z"
   },
   {
    "duration": 11,
    "start_time": "2024-02-24T11:44:32.190Z"
   },
   {
    "duration": 14,
    "start_time": "2024-02-24T11:44:38.880Z"
   },
   {
    "duration": 12,
    "start_time": "2024-02-24T13:00:22.627Z"
   },
   {
    "duration": 17,
    "start_time": "2024-02-24T13:00:30.856Z"
   },
   {
    "duration": 3,
    "start_time": "2024-02-24T13:00:49.466Z"
   },
   {
    "duration": 73,
    "start_time": "2024-02-24T13:00:49.470Z"
   },
   {
    "duration": 13,
    "start_time": "2024-02-24T13:00:49.545Z"
   },
   {
    "duration": 18,
    "start_time": "2024-02-24T13:00:49.559Z"
   },
   {
    "duration": 11,
    "start_time": "2024-02-24T13:00:49.579Z"
   },
   {
    "duration": 12,
    "start_time": "2024-02-24T13:00:49.591Z"
   },
   {
    "duration": 16,
    "start_time": "2024-02-24T13:00:49.604Z"
   },
   {
    "duration": 5,
    "start_time": "2024-02-24T13:00:49.622Z"
   },
   {
    "duration": 166,
    "start_time": "2024-02-24T13:00:49.628Z"
   },
   {
    "duration": 104,
    "start_time": "2024-02-24T13:00:49.796Z"
   },
   {
    "duration": 260,
    "start_time": "2024-02-24T13:00:49.902Z"
   },
   {
    "duration": 244,
    "start_time": "2024-02-24T13:00:50.163Z"
   },
   {
    "duration": 240,
    "start_time": "2024-02-24T13:00:50.409Z"
   },
   {
    "duration": 349,
    "start_time": "2024-02-24T13:00:50.650Z"
   },
   {
    "duration": 272,
    "start_time": "2024-02-24T13:00:51.001Z"
   },
   {
    "duration": 329,
    "start_time": "2024-02-24T13:00:51.275Z"
   },
   {
    "duration": 111,
    "start_time": "2024-02-24T13:00:51.606Z"
   },
   {
    "duration": 5,
    "start_time": "2024-02-24T13:00:51.718Z"
   },
   {
    "duration": 154,
    "start_time": "2024-02-24T13:00:51.724Z"
   },
   {
    "duration": 4,
    "start_time": "2024-02-24T13:00:51.880Z"
   },
   {
    "duration": 200,
    "start_time": "2024-02-24T13:00:51.886Z"
   },
   {
    "duration": 142,
    "start_time": "2024-02-24T13:00:52.088Z"
   },
   {
    "duration": 6,
    "start_time": "2024-02-24T13:00:52.232Z"
   },
   {
    "duration": 25,
    "start_time": "2024-02-24T13:00:52.240Z"
   },
   {
    "duration": 158,
    "start_time": "2024-02-24T13:00:52.266Z"
   },
   {
    "duration": 9,
    "start_time": "2024-02-24T13:00:52.426Z"
   },
   {
    "duration": 8,
    "start_time": "2024-02-24T13:00:52.436Z"
   },
   {
    "duration": 23,
    "start_time": "2024-02-24T13:00:52.446Z"
   },
   {
    "duration": 46,
    "start_time": "2024-02-24T13:00:52.472Z"
   },
   {
    "duration": 14,
    "start_time": "2024-02-24T13:00:52.520Z"
   },
   {
    "duration": 29,
    "start_time": "2024-02-24T13:01:37.866Z"
   },
   {
    "duration": 3,
    "start_time": "2024-02-24T13:01:53.642Z"
   },
   {
    "duration": 92,
    "start_time": "2024-02-24T13:01:53.647Z"
   },
   {
    "duration": 24,
    "start_time": "2024-02-24T13:01:53.741Z"
   },
   {
    "duration": 9,
    "start_time": "2024-02-24T13:01:53.767Z"
   },
   {
    "duration": 18,
    "start_time": "2024-02-24T13:01:53.778Z"
   },
   {
    "duration": 18,
    "start_time": "2024-02-24T13:01:53.798Z"
   },
   {
    "duration": 30,
    "start_time": "2024-02-24T13:01:53.817Z"
   },
   {
    "duration": 7,
    "start_time": "2024-02-24T13:01:53.849Z"
   },
   {
    "duration": 144,
    "start_time": "2024-02-24T13:01:53.858Z"
   },
   {
    "duration": 100,
    "start_time": "2024-02-24T13:01:54.004Z"
   },
   {
    "duration": 243,
    "start_time": "2024-02-24T13:01:54.107Z"
   },
   {
    "duration": 234,
    "start_time": "2024-02-24T13:01:54.351Z"
   },
   {
    "duration": 316,
    "start_time": "2024-02-24T13:01:54.586Z"
   },
   {
    "duration": 304,
    "start_time": "2024-02-24T13:01:54.904Z"
   },
   {
    "duration": 254,
    "start_time": "2024-02-24T13:01:55.210Z"
   },
   {
    "duration": 347,
    "start_time": "2024-02-24T13:01:55.466Z"
   },
   {
    "duration": 114,
    "start_time": "2024-02-24T13:01:55.815Z"
   },
   {
    "duration": 4,
    "start_time": "2024-02-24T13:01:55.930Z"
   },
   {
    "duration": 150,
    "start_time": "2024-02-24T13:01:55.935Z"
   },
   {
    "duration": 3,
    "start_time": "2024-02-24T13:01:56.087Z"
   },
   {
    "duration": 203,
    "start_time": "2024-02-24T13:01:56.092Z"
   },
   {
    "duration": 123,
    "start_time": "2024-02-24T13:01:56.297Z"
   },
   {
    "duration": 7,
    "start_time": "2024-02-24T13:01:56.422Z"
   },
   {
    "duration": 15,
    "start_time": "2024-02-24T13:01:56.430Z"
   },
   {
    "duration": 168,
    "start_time": "2024-02-24T13:01:56.446Z"
   },
   {
    "duration": 9,
    "start_time": "2024-02-24T13:01:56.616Z"
   },
   {
    "duration": 30,
    "start_time": "2024-02-24T13:01:56.627Z"
   },
   {
    "duration": 11,
    "start_time": "2024-02-24T13:01:56.659Z"
   },
   {
    "duration": 46,
    "start_time": "2024-02-24T13:01:56.674Z"
   },
   {
    "duration": 19,
    "start_time": "2024-02-24T13:01:56.722Z"
   },
   {
    "duration": 17,
    "start_time": "2024-02-24T13:06:45.622Z"
   },
   {
    "duration": 40,
    "start_time": "2024-02-24T13:06:56.397Z"
   },
   {
    "duration": 16,
    "start_time": "2024-02-24T13:12:32.837Z"
   },
   {
    "duration": 17,
    "start_time": "2024-02-24T13:13:15.184Z"
   },
   {
    "duration": 7,
    "start_time": "2024-02-24T13:15:14.491Z"
   },
   {
    "duration": 9,
    "start_time": "2024-02-24T13:15:30.557Z"
   },
   {
    "duration": 9,
    "start_time": "2024-02-24T13:15:51.455Z"
   },
   {
    "duration": 3,
    "start_time": "2024-02-24T13:16:00.261Z"
   },
   {
    "duration": 136,
    "start_time": "2024-02-24T13:16:00.266Z"
   },
   {
    "duration": 25,
    "start_time": "2024-02-24T13:16:00.404Z"
   },
   {
    "duration": 38,
    "start_time": "2024-02-24T13:16:00.430Z"
   },
   {
    "duration": 56,
    "start_time": "2024-02-24T13:16:00.470Z"
   },
   {
    "duration": 71,
    "start_time": "2024-02-24T13:16:00.528Z"
   },
   {
    "duration": 47,
    "start_time": "2024-02-24T13:16:00.600Z"
   },
   {
    "duration": 70,
    "start_time": "2024-02-24T13:16:00.648Z"
   },
   {
    "duration": 244,
    "start_time": "2024-02-24T13:16:00.720Z"
   },
   {
    "duration": 122,
    "start_time": "2024-02-24T13:16:00.966Z"
   },
   {
    "duration": 359,
    "start_time": "2024-02-24T13:16:01.090Z"
   },
   {
    "duration": 262,
    "start_time": "2024-02-24T13:16:01.451Z"
   },
   {
    "duration": 250,
    "start_time": "2024-02-24T13:16:01.715Z"
   },
   {
    "duration": 340,
    "start_time": "2024-02-24T13:16:01.967Z"
   },
   {
    "duration": 292,
    "start_time": "2024-02-24T13:16:02.308Z"
   },
   {
    "duration": 421,
    "start_time": "2024-02-24T13:16:02.602Z"
   },
   {
    "duration": 105,
    "start_time": "2024-02-24T13:16:03.025Z"
   },
   {
    "duration": 4,
    "start_time": "2024-02-24T13:16:03.132Z"
   },
   {
    "duration": 138,
    "start_time": "2024-02-24T13:16:03.137Z"
   },
   {
    "duration": 4,
    "start_time": "2024-02-24T13:16:03.277Z"
   },
   {
    "duration": 192,
    "start_time": "2024-02-24T13:16:03.282Z"
   },
   {
    "duration": 145,
    "start_time": "2024-02-24T13:16:03.476Z"
   },
   {
    "duration": 6,
    "start_time": "2024-02-24T13:16:03.622Z"
   },
   {
    "duration": 20,
    "start_time": "2024-02-24T13:16:03.631Z"
   },
   {
    "duration": 176,
    "start_time": "2024-02-24T13:16:03.652Z"
   },
   {
    "duration": 11,
    "start_time": "2024-02-24T13:16:03.829Z"
   },
   {
    "duration": 23,
    "start_time": "2024-02-24T13:16:03.842Z"
   },
   {
    "duration": 9,
    "start_time": "2024-02-24T13:16:03.866Z"
   },
   {
    "duration": 29,
    "start_time": "2024-02-24T13:16:03.876Z"
   },
   {
    "duration": 13,
    "start_time": "2024-02-24T13:16:03.907Z"
   },
   {
    "duration": 9,
    "start_time": "2024-02-24T13:16:21.676Z"
   },
   {
    "duration": 11,
    "start_time": "2024-02-24T13:16:24.828Z"
   },
   {
    "duration": 12,
    "start_time": "2024-02-24T13:16:34.718Z"
   },
   {
    "duration": 22,
    "start_time": "2024-02-24T13:16:38.932Z"
   },
   {
    "duration": 18,
    "start_time": "2024-02-24T13:17:16.833Z"
   },
   {
    "duration": 13,
    "start_time": "2024-02-24T13:17:29.407Z"
   },
   {
    "duration": 19,
    "start_time": "2024-02-24T13:17:35.721Z"
   },
   {
    "duration": 13,
    "start_time": "2024-02-24T13:17:47.532Z"
   },
   {
    "duration": 17,
    "start_time": "2024-02-24T13:20:48.662Z"
   },
   {
    "duration": 25,
    "start_time": "2024-02-24T13:26:49.019Z"
   },
   {
    "duration": 19,
    "start_time": "2024-02-24T13:26:56.350Z"
   },
   {
    "duration": 20,
    "start_time": "2024-02-24T13:27:07.791Z"
   },
   {
    "duration": 3,
    "start_time": "2024-02-24T13:27:20.523Z"
   },
   {
    "duration": 78,
    "start_time": "2024-02-24T13:27:20.528Z"
   },
   {
    "duration": 26,
    "start_time": "2024-02-24T13:27:20.607Z"
   },
   {
    "duration": 10,
    "start_time": "2024-02-24T13:27:20.635Z"
   },
   {
    "duration": 23,
    "start_time": "2024-02-24T13:27:20.647Z"
   },
   {
    "duration": 35,
    "start_time": "2024-02-24T13:27:20.672Z"
   },
   {
    "duration": 31,
    "start_time": "2024-02-24T13:27:20.708Z"
   },
   {
    "duration": 5,
    "start_time": "2024-02-24T13:27:20.740Z"
   },
   {
    "duration": 145,
    "start_time": "2024-02-24T13:27:20.747Z"
   },
   {
    "duration": 108,
    "start_time": "2024-02-24T13:27:20.894Z"
   },
   {
    "duration": 245,
    "start_time": "2024-02-24T13:27:21.005Z"
   },
   {
    "duration": 261,
    "start_time": "2024-02-24T13:27:21.251Z"
   },
   {
    "duration": 256,
    "start_time": "2024-02-24T13:27:21.513Z"
   },
   {
    "duration": 352,
    "start_time": "2024-02-24T13:27:21.770Z"
   },
   {
    "duration": 245,
    "start_time": "2024-02-24T13:27:22.124Z"
   },
   {
    "duration": 354,
    "start_time": "2024-02-24T13:27:22.370Z"
   },
   {
    "duration": 140,
    "start_time": "2024-02-24T13:27:22.725Z"
   },
   {
    "duration": 4,
    "start_time": "2024-02-24T13:27:22.866Z"
   },
   {
    "duration": 129,
    "start_time": "2024-02-24T13:27:22.872Z"
   },
   {
    "duration": 4,
    "start_time": "2024-02-24T13:27:23.003Z"
   },
   {
    "duration": 202,
    "start_time": "2024-02-24T13:27:23.008Z"
   },
   {
    "duration": 143,
    "start_time": "2024-02-24T13:27:23.212Z"
   },
   {
    "duration": 12,
    "start_time": "2024-02-24T13:27:23.356Z"
   },
   {
    "duration": 8,
    "start_time": "2024-02-24T13:27:23.369Z"
   },
   {
    "duration": 144,
    "start_time": "2024-02-24T13:27:23.379Z"
   },
   {
    "duration": 9,
    "start_time": "2024-02-24T13:27:23.524Z"
   },
   {
    "duration": 9,
    "start_time": "2024-02-24T13:27:23.534Z"
   },
   {
    "duration": 25,
    "start_time": "2024-02-24T13:27:23.544Z"
   },
   {
    "duration": 25,
    "start_time": "2024-02-24T13:27:23.571Z"
   },
   {
    "duration": 14,
    "start_time": "2024-02-24T13:27:23.597Z"
   },
   {
    "duration": 20,
    "start_time": "2024-02-24T13:28:00.414Z"
   },
   {
    "duration": 28,
    "start_time": "2024-02-24T13:33:07.360Z"
   },
   {
    "duration": 19,
    "start_time": "2024-02-24T13:33:36.467Z"
   },
   {
    "duration": 3,
    "start_time": "2024-02-24T13:33:49.625Z"
   },
   {
    "duration": 75,
    "start_time": "2024-02-24T13:33:49.630Z"
   },
   {
    "duration": 26,
    "start_time": "2024-02-24T13:33:49.708Z"
   },
   {
    "duration": 11,
    "start_time": "2024-02-24T13:33:49.736Z"
   },
   {
    "duration": 10,
    "start_time": "2024-02-24T13:33:49.750Z"
   },
   {
    "duration": 15,
    "start_time": "2024-02-24T13:33:49.761Z"
   },
   {
    "duration": 29,
    "start_time": "2024-02-24T13:33:49.777Z"
   },
   {
    "duration": 0,
    "start_time": "2024-02-24T13:33:49.808Z"
   },
   {
    "duration": 0,
    "start_time": "2024-02-24T13:33:49.810Z"
   },
   {
    "duration": 0,
    "start_time": "2024-02-24T13:33:49.811Z"
   },
   {
    "duration": 0,
    "start_time": "2024-02-24T13:33:49.813Z"
   },
   {
    "duration": 0,
    "start_time": "2024-02-24T13:33:49.814Z"
   },
   {
    "duration": 0,
    "start_time": "2024-02-24T13:33:49.815Z"
   },
   {
    "duration": 0,
    "start_time": "2024-02-24T13:33:49.816Z"
   },
   {
    "duration": 0,
    "start_time": "2024-02-24T13:33:49.817Z"
   },
   {
    "duration": 0,
    "start_time": "2024-02-24T13:33:49.819Z"
   },
   {
    "duration": 0,
    "start_time": "2024-02-24T13:33:49.820Z"
   },
   {
    "duration": 0,
    "start_time": "2024-02-24T13:33:49.821Z"
   },
   {
    "duration": 0,
    "start_time": "2024-02-24T13:33:49.822Z"
   },
   {
    "duration": 0,
    "start_time": "2024-02-24T13:33:49.823Z"
   },
   {
    "duration": 0,
    "start_time": "2024-02-24T13:33:49.825Z"
   },
   {
    "duration": 0,
    "start_time": "2024-02-24T13:33:49.826Z"
   },
   {
    "duration": 0,
    "start_time": "2024-02-24T13:33:49.864Z"
   },
   {
    "duration": 0,
    "start_time": "2024-02-24T13:33:49.865Z"
   },
   {
    "duration": 0,
    "start_time": "2024-02-24T13:33:49.866Z"
   },
   {
    "duration": 0,
    "start_time": "2024-02-24T13:33:49.867Z"
   },
   {
    "duration": 0,
    "start_time": "2024-02-24T13:33:49.868Z"
   },
   {
    "duration": 0,
    "start_time": "2024-02-24T13:33:49.870Z"
   },
   {
    "duration": 0,
    "start_time": "2024-02-24T13:33:49.871Z"
   },
   {
    "duration": 0,
    "start_time": "2024-02-24T13:33:49.872Z"
   },
   {
    "duration": 24,
    "start_time": "2024-02-24T13:34:15.268Z"
   },
   {
    "duration": 18,
    "start_time": "2024-02-24T13:34:45.129Z"
   },
   {
    "duration": 3,
    "start_time": "2024-02-24T13:34:55.069Z"
   },
   {
    "duration": 70,
    "start_time": "2024-02-24T13:34:55.075Z"
   },
   {
    "duration": 23,
    "start_time": "2024-02-24T13:34:55.147Z"
   },
   {
    "duration": 9,
    "start_time": "2024-02-24T13:34:55.172Z"
   },
   {
    "duration": 6,
    "start_time": "2024-02-24T13:34:55.183Z"
   },
   {
    "duration": 15,
    "start_time": "2024-02-24T13:34:55.191Z"
   },
   {
    "duration": 22,
    "start_time": "2024-02-24T13:34:55.207Z"
   },
   {
    "duration": 37,
    "start_time": "2024-02-24T13:34:55.230Z"
   },
   {
    "duration": 141,
    "start_time": "2024-02-24T13:34:55.268Z"
   },
   {
    "duration": 108,
    "start_time": "2024-02-24T13:34:55.411Z"
   },
   {
    "duration": 255,
    "start_time": "2024-02-24T13:34:55.521Z"
   },
   {
    "duration": 249,
    "start_time": "2024-02-24T13:34:55.778Z"
   },
   {
    "duration": 300,
    "start_time": "2024-02-24T13:34:56.028Z"
   },
   {
    "duration": 468,
    "start_time": "2024-02-24T13:34:56.330Z"
   },
   {
    "duration": 265,
    "start_time": "2024-02-24T13:34:56.800Z"
   },
   {
    "duration": 354,
    "start_time": "2024-02-24T13:34:57.066Z"
   },
   {
    "duration": 136,
    "start_time": "2024-02-24T13:34:57.422Z"
   },
   {
    "duration": 4,
    "start_time": "2024-02-24T13:34:57.565Z"
   },
   {
    "duration": 141,
    "start_time": "2024-02-24T13:34:57.571Z"
   },
   {
    "duration": 5,
    "start_time": "2024-02-24T13:34:57.714Z"
   },
   {
    "duration": 206,
    "start_time": "2024-02-24T13:34:57.721Z"
   },
   {
    "duration": 139,
    "start_time": "2024-02-24T13:34:57.929Z"
   },
   {
    "duration": 7,
    "start_time": "2024-02-24T13:34:58.069Z"
   },
   {
    "duration": 7,
    "start_time": "2024-02-24T13:34:58.078Z"
   },
   {
    "duration": 163,
    "start_time": "2024-02-24T13:34:58.087Z"
   },
   {
    "duration": 15,
    "start_time": "2024-02-24T13:34:58.252Z"
   },
   {
    "duration": 8,
    "start_time": "2024-02-24T13:34:58.269Z"
   },
   {
    "duration": 12,
    "start_time": "2024-02-24T13:34:58.279Z"
   },
   {
    "duration": 25,
    "start_time": "2024-02-24T13:34:58.295Z"
   },
   {
    "duration": 13,
    "start_time": "2024-02-24T13:34:58.321Z"
   },
   {
    "duration": 31,
    "start_time": "2024-02-24T13:36:00.923Z"
   },
   {
    "duration": 19,
    "start_time": "2024-02-24T13:36:10.383Z"
   },
   {
    "duration": 3,
    "start_time": "2024-02-24T13:36:17.690Z"
   },
   {
    "duration": 72,
    "start_time": "2024-02-24T13:36:17.695Z"
   },
   {
    "duration": 31,
    "start_time": "2024-02-24T13:36:17.769Z"
   },
   {
    "duration": 12,
    "start_time": "2024-02-24T13:36:17.803Z"
   },
   {
    "duration": 12,
    "start_time": "2024-02-24T13:36:17.817Z"
   },
   {
    "duration": 39,
    "start_time": "2024-02-24T13:36:17.831Z"
   },
   {
    "duration": 25,
    "start_time": "2024-02-24T13:36:17.872Z"
   },
   {
    "duration": 5,
    "start_time": "2024-02-24T13:36:17.898Z"
   },
   {
    "duration": 181,
    "start_time": "2024-02-24T13:36:17.906Z"
   },
   {
    "duration": 114,
    "start_time": "2024-02-24T13:36:18.089Z"
   },
   {
    "duration": 250,
    "start_time": "2024-02-24T13:36:18.205Z"
   },
   {
    "duration": 237,
    "start_time": "2024-02-24T13:36:18.457Z"
   },
   {
    "duration": 256,
    "start_time": "2024-02-24T13:36:18.696Z"
   },
   {
    "duration": 356,
    "start_time": "2024-02-24T13:36:18.953Z"
   },
   {
    "duration": 254,
    "start_time": "2024-02-24T13:36:19.311Z"
   },
   {
    "duration": 371,
    "start_time": "2024-02-24T13:36:19.567Z"
   },
   {
    "duration": 132,
    "start_time": "2024-02-24T13:36:19.940Z"
   },
   {
    "duration": 4,
    "start_time": "2024-02-24T13:36:20.074Z"
   },
   {
    "duration": 135,
    "start_time": "2024-02-24T13:36:20.079Z"
   },
   {
    "duration": 4,
    "start_time": "2024-02-24T13:36:20.215Z"
   },
   {
    "duration": 209,
    "start_time": "2024-02-24T13:36:20.221Z"
   },
   {
    "duration": 120,
    "start_time": "2024-02-24T13:36:20.432Z"
   },
   {
    "duration": 17,
    "start_time": "2024-02-24T13:36:20.553Z"
   },
   {
    "duration": 15,
    "start_time": "2024-02-24T13:36:20.573Z"
   },
   {
    "duration": 162,
    "start_time": "2024-02-24T13:36:20.589Z"
   },
   {
    "duration": 9,
    "start_time": "2024-02-24T13:36:20.765Z"
   },
   {
    "duration": 13,
    "start_time": "2024-02-24T13:36:20.776Z"
   },
   {
    "duration": 16,
    "start_time": "2024-02-24T13:36:20.790Z"
   },
   {
    "duration": 29,
    "start_time": "2024-02-24T13:36:20.808Z"
   },
   {
    "duration": 13,
    "start_time": "2024-02-24T13:36:20.838Z"
   },
   {
    "duration": 15,
    "start_time": "2024-02-24T13:40:04.130Z"
   },
   {
    "duration": 21,
    "start_time": "2024-02-24T13:44:49.586Z"
   },
   {
    "duration": 20,
    "start_time": "2024-02-24T13:45:00.184Z"
   },
   {
    "duration": 3,
    "start_time": "2024-02-24T13:45:07.840Z"
   },
   {
    "duration": 72,
    "start_time": "2024-02-24T13:45:07.844Z"
   },
   {
    "duration": 25,
    "start_time": "2024-02-24T13:45:07.917Z"
   },
   {
    "duration": 10,
    "start_time": "2024-02-24T13:45:07.943Z"
   },
   {
    "duration": 7,
    "start_time": "2024-02-24T13:45:07.955Z"
   },
   {
    "duration": 10,
    "start_time": "2024-02-24T13:45:07.964Z"
   },
   {
    "duration": 23,
    "start_time": "2024-02-24T13:45:07.976Z"
   },
   {
    "duration": 5,
    "start_time": "2024-02-24T13:45:08.001Z"
   },
   {
    "duration": 160,
    "start_time": "2024-02-24T13:45:08.007Z"
   },
   {
    "duration": 113,
    "start_time": "2024-02-24T13:45:08.168Z"
   },
   {
    "duration": 257,
    "start_time": "2024-02-24T13:45:08.284Z"
   },
   {
    "duration": 247,
    "start_time": "2024-02-24T13:45:08.543Z"
   },
   {
    "duration": 281,
    "start_time": "2024-02-24T13:45:08.792Z"
   },
   {
    "duration": 453,
    "start_time": "2024-02-24T13:45:09.074Z"
   },
   {
    "duration": 281,
    "start_time": "2024-02-24T13:45:09.529Z"
   },
   {
    "duration": 334,
    "start_time": "2024-02-24T13:45:09.812Z"
   },
   {
    "duration": 130,
    "start_time": "2024-02-24T13:45:10.147Z"
   },
   {
    "duration": 3,
    "start_time": "2024-02-24T13:45:10.279Z"
   },
   {
    "duration": 140,
    "start_time": "2024-02-24T13:45:10.284Z"
   },
   {
    "duration": 4,
    "start_time": "2024-02-24T13:45:10.425Z"
   },
   {
    "duration": 213,
    "start_time": "2024-02-24T13:45:10.431Z"
   },
   {
    "duration": 125,
    "start_time": "2024-02-24T13:45:10.645Z"
   },
   {
    "duration": 6,
    "start_time": "2024-02-24T13:45:10.772Z"
   },
   {
    "duration": 7,
    "start_time": "2024-02-24T13:45:10.780Z"
   },
   {
    "duration": 159,
    "start_time": "2024-02-24T13:45:10.789Z"
   },
   {
    "duration": 22,
    "start_time": "2024-02-24T13:45:10.950Z"
   },
   {
    "duration": 10,
    "start_time": "2024-02-24T13:45:10.973Z"
   },
   {
    "duration": 8,
    "start_time": "2024-02-24T13:45:10.984Z"
   },
   {
    "duration": 20,
    "start_time": "2024-02-24T13:45:10.996Z"
   },
   {
    "duration": 13,
    "start_time": "2024-02-24T13:45:11.018Z"
   },
   {
    "duration": 24,
    "start_time": "2024-02-24T15:14:10.368Z"
   },
   {
    "duration": 22,
    "start_time": "2024-02-24T15:43:58.259Z"
   },
   {
    "duration": 3,
    "start_time": "2024-02-24T15:44:03.747Z"
   },
   {
    "duration": 72,
    "start_time": "2024-02-24T15:44:03.753Z"
   },
   {
    "duration": 31,
    "start_time": "2024-02-24T15:44:03.826Z"
   },
   {
    "duration": 11,
    "start_time": "2024-02-24T15:44:03.859Z"
   },
   {
    "duration": 9,
    "start_time": "2024-02-24T15:44:03.872Z"
   },
   {
    "duration": 12,
    "start_time": "2024-02-24T15:44:03.882Z"
   },
   {
    "duration": 25,
    "start_time": "2024-02-24T15:44:03.896Z"
   },
   {
    "duration": 5,
    "start_time": "2024-02-24T15:44:03.924Z"
   },
   {
    "duration": 156,
    "start_time": "2024-02-24T15:44:03.965Z"
   },
   {
    "duration": 108,
    "start_time": "2024-02-24T15:44:04.123Z"
   },
   {
    "duration": 246,
    "start_time": "2024-02-24T15:44:04.234Z"
   },
   {
    "duration": 242,
    "start_time": "2024-02-24T15:44:04.481Z"
   },
   {
    "duration": 240,
    "start_time": "2024-02-24T15:44:04.725Z"
   },
   {
    "duration": 348,
    "start_time": "2024-02-24T15:44:04.966Z"
   },
   {
    "duration": 276,
    "start_time": "2024-02-24T15:44:05.315Z"
   },
   {
    "duration": 342,
    "start_time": "2024-02-24T15:44:05.592Z"
   },
   {
    "duration": 135,
    "start_time": "2024-02-24T15:44:05.936Z"
   },
   {
    "duration": 5,
    "start_time": "2024-02-24T15:44:06.073Z"
   },
   {
    "duration": 130,
    "start_time": "2024-02-24T15:44:06.079Z"
   },
   {
    "duration": 4,
    "start_time": "2024-02-24T15:44:06.211Z"
   },
   {
    "duration": 195,
    "start_time": "2024-02-24T15:44:06.217Z"
   },
   {
    "duration": 136,
    "start_time": "2024-02-24T15:44:06.414Z"
   },
   {
    "duration": 12,
    "start_time": "2024-02-24T15:44:06.553Z"
   },
   {
    "duration": 6,
    "start_time": "2024-02-24T15:44:06.567Z"
   },
   {
    "duration": 162,
    "start_time": "2024-02-24T15:44:06.575Z"
   },
   {
    "duration": 11,
    "start_time": "2024-02-24T15:44:06.738Z"
   },
   {
    "duration": 24,
    "start_time": "2024-02-24T15:44:06.750Z"
   },
   {
    "duration": 9,
    "start_time": "2024-02-24T15:44:06.776Z"
   },
   {
    "duration": 32,
    "start_time": "2024-02-24T15:44:06.789Z"
   },
   {
    "duration": 13,
    "start_time": "2024-02-24T15:44:06.823Z"
   },
   {
    "duration": 29,
    "start_time": "2024-02-24T15:46:50.455Z"
   },
   {
    "duration": 18,
    "start_time": "2024-02-24T15:47:20.042Z"
   },
   {
    "duration": 2,
    "start_time": "2024-02-24T15:47:25.162Z"
   },
   {
    "duration": 85,
    "start_time": "2024-02-24T15:47:25.166Z"
   },
   {
    "duration": 25,
    "start_time": "2024-02-24T15:47:25.253Z"
   },
   {
    "duration": 9,
    "start_time": "2024-02-24T15:47:25.280Z"
   },
   {
    "duration": 8,
    "start_time": "2024-02-24T15:47:25.291Z"
   },
   {
    "duration": 14,
    "start_time": "2024-02-24T15:47:25.301Z"
   },
   {
    "duration": 49,
    "start_time": "2024-02-24T15:47:25.316Z"
   },
   {
    "duration": 6,
    "start_time": "2024-02-24T15:47:25.366Z"
   },
   {
    "duration": 155,
    "start_time": "2024-02-24T15:47:25.373Z"
   },
   {
    "duration": 107,
    "start_time": "2024-02-24T15:47:25.530Z"
   },
   {
    "duration": 270,
    "start_time": "2024-02-24T15:47:25.639Z"
   },
   {
    "duration": 231,
    "start_time": "2024-02-24T15:47:25.911Z"
   },
   {
    "duration": 242,
    "start_time": "2024-02-24T15:47:26.144Z"
   },
   {
    "duration": 315,
    "start_time": "2024-02-24T15:47:26.388Z"
   },
   {
    "duration": 255,
    "start_time": "2024-02-24T15:47:26.705Z"
   },
   {
    "duration": 490,
    "start_time": "2024-02-24T15:47:26.961Z"
   },
   {
    "duration": 130,
    "start_time": "2024-02-24T15:47:27.452Z"
   },
   {
    "duration": 4,
    "start_time": "2024-02-24T15:47:27.584Z"
   },
   {
    "duration": 149,
    "start_time": "2024-02-24T15:47:27.590Z"
   },
   {
    "duration": 5,
    "start_time": "2024-02-24T15:47:27.741Z"
   },
   {
    "duration": 198,
    "start_time": "2024-02-24T15:47:27.748Z"
   },
   {
    "duration": 125,
    "start_time": "2024-02-24T15:47:27.947Z"
   },
   {
    "duration": 5,
    "start_time": "2024-02-24T15:47:28.074Z"
   },
   {
    "duration": 6,
    "start_time": "2024-02-24T15:47:28.081Z"
   },
   {
    "duration": 154,
    "start_time": "2024-02-24T15:47:28.088Z"
   },
   {
    "duration": 10,
    "start_time": "2024-02-24T15:47:28.243Z"
   },
   {
    "duration": 19,
    "start_time": "2024-02-24T15:47:28.254Z"
   },
   {
    "duration": 12,
    "start_time": "2024-02-24T15:47:28.275Z"
   },
   {
    "duration": 24,
    "start_time": "2024-02-24T15:47:28.289Z"
   },
   {
    "duration": 15,
    "start_time": "2024-02-24T15:47:28.314Z"
   },
   {
    "duration": 24,
    "start_time": "2024-02-24T15:47:49.792Z"
   },
   {
    "duration": 19,
    "start_time": "2024-02-24T15:48:47.133Z"
   },
   {
    "duration": 3,
    "start_time": "2024-02-24T15:48:52.813Z"
   },
   {
    "duration": 71,
    "start_time": "2024-02-24T15:48:52.819Z"
   },
   {
    "duration": 26,
    "start_time": "2024-02-24T15:48:52.892Z"
   },
   {
    "duration": 10,
    "start_time": "2024-02-24T15:48:52.919Z"
   },
   {
    "duration": 7,
    "start_time": "2024-02-24T15:48:52.931Z"
   },
   {
    "duration": 12,
    "start_time": "2024-02-24T15:48:52.940Z"
   },
   {
    "duration": 22,
    "start_time": "2024-02-24T15:48:52.965Z"
   },
   {
    "duration": 4,
    "start_time": "2024-02-24T15:48:52.988Z"
   },
   {
    "duration": 151,
    "start_time": "2024-02-24T15:48:52.994Z"
   },
   {
    "duration": 103,
    "start_time": "2024-02-24T15:48:53.146Z"
   },
   {
    "duration": 258,
    "start_time": "2024-02-24T15:48:53.252Z"
   },
   {
    "duration": 235,
    "start_time": "2024-02-24T15:48:53.511Z"
   },
   {
    "duration": 236,
    "start_time": "2024-02-24T15:48:53.748Z"
   },
   {
    "duration": 337,
    "start_time": "2024-02-24T15:48:53.986Z"
   },
   {
    "duration": 230,
    "start_time": "2024-02-24T15:48:54.324Z"
   },
   {
    "duration": 387,
    "start_time": "2024-02-24T15:48:54.555Z"
   },
   {
    "duration": 126,
    "start_time": "2024-02-24T15:48:54.943Z"
   },
   {
    "duration": 3,
    "start_time": "2024-02-24T15:48:55.071Z"
   },
   {
    "duration": 128,
    "start_time": "2024-02-24T15:48:55.076Z"
   },
   {
    "duration": 3,
    "start_time": "2024-02-24T15:48:55.206Z"
   },
   {
    "duration": 390,
    "start_time": "2024-02-24T15:48:55.210Z"
   },
   {
    "duration": 285,
    "start_time": "2024-02-24T15:48:55.601Z"
   },
   {
    "duration": 6,
    "start_time": "2024-02-24T15:48:55.888Z"
   },
   {
    "duration": 8,
    "start_time": "2024-02-24T15:48:55.895Z"
   },
   {
    "duration": 308,
    "start_time": "2024-02-24T15:48:55.904Z"
   },
   {
    "duration": 10,
    "start_time": "2024-02-24T15:48:56.265Z"
   },
   {
    "duration": 8,
    "start_time": "2024-02-24T15:48:56.276Z"
   },
   {
    "duration": 7,
    "start_time": "2024-02-24T15:48:56.285Z"
   },
   {
    "duration": 78,
    "start_time": "2024-02-24T15:48:56.295Z"
   },
   {
    "duration": 12,
    "start_time": "2024-02-24T15:48:56.375Z"
   },
   {
    "duration": 27,
    "start_time": "2024-02-24T15:49:11.013Z"
   },
   {
    "duration": 18,
    "start_time": "2024-02-24T15:49:52.936Z"
   },
   {
    "duration": 2,
    "start_time": "2024-02-24T15:50:00.147Z"
   },
   {
    "duration": 100,
    "start_time": "2024-02-24T15:50:00.151Z"
   },
   {
    "duration": 23,
    "start_time": "2024-02-24T15:50:00.253Z"
   },
   {
    "duration": 33,
    "start_time": "2024-02-24T15:50:00.278Z"
   },
   {
    "duration": 46,
    "start_time": "2024-02-24T15:50:00.313Z"
   },
   {
    "duration": 65,
    "start_time": "2024-02-24T15:50:00.360Z"
   },
   {
    "duration": 85,
    "start_time": "2024-02-24T15:50:00.427Z"
   },
   {
    "duration": 27,
    "start_time": "2024-02-24T15:50:00.513Z"
   },
   {
    "duration": 228,
    "start_time": "2024-02-24T15:50:00.541Z"
   },
   {
    "duration": 111,
    "start_time": "2024-02-24T15:50:00.771Z"
   },
   {
    "duration": 257,
    "start_time": "2024-02-24T15:50:00.885Z"
   },
   {
    "duration": 250,
    "start_time": "2024-02-24T15:50:01.143Z"
   },
   {
    "duration": 262,
    "start_time": "2024-02-24T15:50:01.394Z"
   },
   {
    "duration": 374,
    "start_time": "2024-02-24T15:50:01.658Z"
   },
   {
    "duration": 244,
    "start_time": "2024-02-24T15:50:02.034Z"
   },
   {
    "duration": 346,
    "start_time": "2024-02-24T15:50:02.280Z"
   },
   {
    "duration": 119,
    "start_time": "2024-02-24T15:50:02.628Z"
   },
   {
    "duration": 4,
    "start_time": "2024-02-24T15:50:02.749Z"
   },
   {
    "duration": 135,
    "start_time": "2024-02-24T15:50:02.754Z"
   },
   {
    "duration": 4,
    "start_time": "2024-02-24T15:50:02.890Z"
   },
   {
    "duration": 197,
    "start_time": "2024-02-24T15:50:02.896Z"
   },
   {
    "duration": 130,
    "start_time": "2024-02-24T15:50:03.096Z"
   },
   {
    "duration": 7,
    "start_time": "2024-02-24T15:50:03.228Z"
   },
   {
    "duration": 15,
    "start_time": "2024-02-24T15:50:03.237Z"
   },
   {
    "duration": 145,
    "start_time": "2024-02-24T15:50:03.266Z"
   },
   {
    "duration": 8,
    "start_time": "2024-02-24T15:50:03.413Z"
   },
   {
    "duration": 8,
    "start_time": "2024-02-24T15:50:03.422Z"
   },
   {
    "duration": 12,
    "start_time": "2024-02-24T15:50:03.432Z"
   },
   {
    "duration": 39,
    "start_time": "2024-02-24T15:50:03.446Z"
   },
   {
    "duration": 12,
    "start_time": "2024-02-24T15:50:03.486Z"
   },
   {
    "duration": 26,
    "start_time": "2024-02-24T15:51:03.378Z"
   },
   {
    "duration": 19,
    "start_time": "2024-02-24T15:51:11.688Z"
   },
   {
    "duration": 3,
    "start_time": "2024-02-24T15:51:18.566Z"
   },
   {
    "duration": 96,
    "start_time": "2024-02-24T15:51:18.570Z"
   },
   {
    "duration": 24,
    "start_time": "2024-02-24T15:51:18.668Z"
   },
   {
    "duration": 10,
    "start_time": "2024-02-24T15:51:18.694Z"
   },
   {
    "duration": 9,
    "start_time": "2024-02-24T15:51:18.706Z"
   },
   {
    "duration": 12,
    "start_time": "2024-02-24T15:51:18.716Z"
   },
   {
    "duration": 26,
    "start_time": "2024-02-24T15:51:18.766Z"
   },
   {
    "duration": 5,
    "start_time": "2024-02-24T15:51:18.794Z"
   },
   {
    "duration": 198,
    "start_time": "2024-02-24T15:51:18.801Z"
   },
   {
    "duration": 109,
    "start_time": "2024-02-24T15:51:19.000Z"
   },
   {
    "duration": 244,
    "start_time": "2024-02-24T15:51:19.112Z"
   },
   {
    "duration": 241,
    "start_time": "2024-02-24T15:51:19.357Z"
   },
   {
    "duration": 271,
    "start_time": "2024-02-24T15:51:19.600Z"
   },
   {
    "duration": 520,
    "start_time": "2024-02-24T15:51:19.872Z"
   },
   {
    "duration": 241,
    "start_time": "2024-02-24T15:51:20.393Z"
   },
   {
    "duration": 369,
    "start_time": "2024-02-24T15:51:20.635Z"
   },
   {
    "duration": 262,
    "start_time": "2024-02-24T15:51:21.005Z"
   },
   {
    "duration": 4,
    "start_time": "2024-02-24T15:51:21.268Z"
   },
   {
    "duration": 234,
    "start_time": "2024-02-24T15:51:21.273Z"
   },
   {
    "duration": 59,
    "start_time": "2024-02-24T15:51:21.509Z"
   },
   {
    "duration": 444,
    "start_time": "2024-02-24T15:51:21.570Z"
   },
   {
    "duration": 234,
    "start_time": "2024-02-24T15:51:22.064Z"
   },
   {
    "duration": 8,
    "start_time": "2024-02-24T15:51:22.300Z"
   },
   {
    "duration": 60,
    "start_time": "2024-02-24T15:51:22.310Z"
   },
   {
    "duration": 194,
    "start_time": "2024-02-24T15:51:22.372Z"
   },
   {
    "duration": 8,
    "start_time": "2024-02-24T15:51:22.568Z"
   },
   {
    "duration": 9,
    "start_time": "2024-02-24T15:51:22.577Z"
   },
   {
    "duration": 7,
    "start_time": "2024-02-24T15:51:22.587Z"
   },
   {
    "duration": 22,
    "start_time": "2024-02-24T15:51:22.596Z"
   },
   {
    "duration": 11,
    "start_time": "2024-02-24T15:51:22.620Z"
   },
   {
    "duration": 7,
    "start_time": "2024-02-24T15:58:58.153Z"
   },
   {
    "duration": 10,
    "start_time": "2024-02-24T15:59:26.796Z"
   },
   {
    "duration": 17,
    "start_time": "2024-02-24T15:59:39.883Z"
   },
   {
    "duration": 9,
    "start_time": "2024-02-24T15:59:53.504Z"
   },
   {
    "duration": 17,
    "start_time": "2024-02-24T16:07:04.234Z"
   },
   {
    "duration": 19,
    "start_time": "2024-02-24T16:08:17.226Z"
   },
   {
    "duration": 3,
    "start_time": "2024-02-24T16:08:24.651Z"
   },
   {
    "duration": 77,
    "start_time": "2024-02-24T16:08:24.656Z"
   },
   {
    "duration": 24,
    "start_time": "2024-02-24T16:08:24.735Z"
   },
   {
    "duration": 10,
    "start_time": "2024-02-24T16:08:24.760Z"
   },
   {
    "duration": 10,
    "start_time": "2024-02-24T16:08:24.772Z"
   },
   {
    "duration": 21,
    "start_time": "2024-02-24T16:08:24.783Z"
   },
   {
    "duration": 20,
    "start_time": "2024-02-24T16:08:24.805Z"
   },
   {
    "duration": 4,
    "start_time": "2024-02-24T16:08:24.827Z"
   },
   {
    "duration": 151,
    "start_time": "2024-02-24T16:08:24.832Z"
   },
   {
    "duration": 111,
    "start_time": "2024-02-24T16:08:24.985Z"
   },
   {
    "duration": 240,
    "start_time": "2024-02-24T16:08:25.099Z"
   },
   {
    "duration": 244,
    "start_time": "2024-02-24T16:08:25.341Z"
   },
   {
    "duration": 264,
    "start_time": "2024-02-24T16:08:25.587Z"
   },
   {
    "duration": 364,
    "start_time": "2024-02-24T16:08:25.852Z"
   },
   {
    "duration": 254,
    "start_time": "2024-02-24T16:08:26.218Z"
   },
   {
    "duration": 360,
    "start_time": "2024-02-24T16:08:26.473Z"
   },
   {
    "duration": 104,
    "start_time": "2024-02-24T16:08:26.834Z"
   },
   {
    "duration": 4,
    "start_time": "2024-02-24T16:08:26.940Z"
   },
   {
    "duration": 140,
    "start_time": "2024-02-24T16:08:26.945Z"
   },
   {
    "duration": 4,
    "start_time": "2024-02-24T16:08:27.087Z"
   },
   {
    "duration": 211,
    "start_time": "2024-02-24T16:08:27.092Z"
   },
   {
    "duration": 122,
    "start_time": "2024-02-24T16:08:27.304Z"
   },
   {
    "duration": 6,
    "start_time": "2024-02-24T16:08:27.427Z"
   },
   {
    "duration": 11,
    "start_time": "2024-02-24T16:08:27.434Z"
   },
   {
    "duration": 156,
    "start_time": "2024-02-24T16:08:27.447Z"
   },
   {
    "duration": 10,
    "start_time": "2024-02-24T16:08:27.605Z"
   },
   {
    "duration": 8,
    "start_time": "2024-02-24T16:08:27.616Z"
   },
   {
    "duration": 7,
    "start_time": "2024-02-24T16:08:27.626Z"
   },
   {
    "duration": 46,
    "start_time": "2024-02-24T16:08:27.636Z"
   },
   {
    "duration": 13,
    "start_time": "2024-02-24T16:08:27.683Z"
   },
   {
    "duration": 18,
    "start_time": "2024-02-24T16:10:27.711Z"
   },
   {
    "duration": 3,
    "start_time": "2024-02-24T16:10:40.871Z"
   },
   {
    "duration": 83,
    "start_time": "2024-02-24T16:10:40.876Z"
   },
   {
    "duration": 25,
    "start_time": "2024-02-24T16:10:40.961Z"
   },
   {
    "duration": 16,
    "start_time": "2024-02-24T16:10:40.988Z"
   },
   {
    "duration": 33,
    "start_time": "2024-02-24T16:10:41.006Z"
   },
   {
    "duration": 33,
    "start_time": "2024-02-24T16:10:41.041Z"
   },
   {
    "duration": 18,
    "start_time": "2024-02-24T16:10:41.075Z"
   },
   {
    "duration": 0,
    "start_time": "2024-02-24T16:10:41.096Z"
   },
   {
    "duration": 0,
    "start_time": "2024-02-24T16:10:41.097Z"
   },
   {
    "duration": 0,
    "start_time": "2024-02-24T16:10:41.098Z"
   },
   {
    "duration": 0,
    "start_time": "2024-02-24T16:10:41.100Z"
   },
   {
    "duration": 0,
    "start_time": "2024-02-24T16:10:41.101Z"
   },
   {
    "duration": 0,
    "start_time": "2024-02-24T16:10:41.102Z"
   },
   {
    "duration": 0,
    "start_time": "2024-02-24T16:10:41.104Z"
   },
   {
    "duration": 0,
    "start_time": "2024-02-24T16:10:41.105Z"
   },
   {
    "duration": 0,
    "start_time": "2024-02-24T16:10:41.106Z"
   },
   {
    "duration": 0,
    "start_time": "2024-02-24T16:10:41.107Z"
   },
   {
    "duration": 0,
    "start_time": "2024-02-24T16:10:41.108Z"
   },
   {
    "duration": 0,
    "start_time": "2024-02-24T16:10:41.109Z"
   },
   {
    "duration": 0,
    "start_time": "2024-02-24T16:10:41.110Z"
   },
   {
    "duration": 0,
    "start_time": "2024-02-24T16:10:41.111Z"
   },
   {
    "duration": 0,
    "start_time": "2024-02-24T16:10:41.112Z"
   },
   {
    "duration": 0,
    "start_time": "2024-02-24T16:10:41.114Z"
   },
   {
    "duration": 0,
    "start_time": "2024-02-24T16:10:41.115Z"
   },
   {
    "duration": 0,
    "start_time": "2024-02-24T16:10:41.116Z"
   },
   {
    "duration": 0,
    "start_time": "2024-02-24T16:10:41.117Z"
   },
   {
    "duration": 0,
    "start_time": "2024-02-24T16:10:41.118Z"
   },
   {
    "duration": 0,
    "start_time": "2024-02-24T16:10:41.165Z"
   },
   {
    "duration": 0,
    "start_time": "2024-02-24T16:10:41.166Z"
   },
   {
    "duration": 0,
    "start_time": "2024-02-24T16:10:41.167Z"
   },
   {
    "duration": 11,
    "start_time": "2024-02-24T16:11:19.015Z"
   },
   {
    "duration": 2,
    "start_time": "2024-02-24T16:11:25.503Z"
   },
   {
    "duration": 70,
    "start_time": "2024-02-24T16:11:25.507Z"
   },
   {
    "duration": 25,
    "start_time": "2024-02-24T16:11:25.579Z"
   },
   {
    "duration": 10,
    "start_time": "2024-02-24T16:11:25.605Z"
   },
   {
    "duration": 8,
    "start_time": "2024-02-24T16:11:25.616Z"
   },
   {
    "duration": 18,
    "start_time": "2024-02-24T16:11:25.625Z"
   },
   {
    "duration": 23,
    "start_time": "2024-02-24T16:11:25.645Z"
   },
   {
    "duration": 4,
    "start_time": "2024-02-24T16:11:25.669Z"
   },
   {
    "duration": 164,
    "start_time": "2024-02-24T16:11:25.675Z"
   },
   {
    "duration": 102,
    "start_time": "2024-02-24T16:11:25.840Z"
   },
   {
    "duration": 244,
    "start_time": "2024-02-24T16:11:25.943Z"
   },
   {
    "duration": 257,
    "start_time": "2024-02-24T16:11:26.188Z"
   },
   {
    "duration": 242,
    "start_time": "2024-02-24T16:11:26.446Z"
   },
   {
    "duration": 328,
    "start_time": "2024-02-24T16:11:26.690Z"
   },
   {
    "duration": 252,
    "start_time": "2024-02-24T16:11:27.020Z"
   },
   {
    "duration": 341,
    "start_time": "2024-02-24T16:11:27.274Z"
   },
   {
    "duration": 116,
    "start_time": "2024-02-24T16:11:27.617Z"
   },
   {
    "duration": 4,
    "start_time": "2024-02-24T16:11:27.735Z"
   },
   {
    "duration": 145,
    "start_time": "2024-02-24T16:11:27.740Z"
   },
   {
    "duration": 3,
    "start_time": "2024-02-24T16:11:27.887Z"
   },
   {
    "duration": 198,
    "start_time": "2024-02-24T16:11:27.892Z"
   },
   {
    "duration": 145,
    "start_time": "2024-02-24T16:11:28.092Z"
   },
   {
    "duration": 7,
    "start_time": "2024-02-24T16:11:28.238Z"
   },
   {
    "duration": 23,
    "start_time": "2024-02-24T16:11:28.249Z"
   },
   {
    "duration": 225,
    "start_time": "2024-02-24T16:11:28.273Z"
   },
   {
    "duration": 9,
    "start_time": "2024-02-24T16:11:28.500Z"
   },
   {
    "duration": 60,
    "start_time": "2024-02-24T16:11:28.511Z"
   },
   {
    "duration": 26,
    "start_time": "2024-02-24T16:11:28.572Z"
   },
   {
    "duration": 85,
    "start_time": "2024-02-24T16:11:28.599Z"
   },
   {
    "duration": 14,
    "start_time": "2024-02-24T16:11:28.685Z"
   },
   {
    "duration": 13,
    "start_time": "2024-02-24T16:12:01.323Z"
   },
   {
    "duration": 12,
    "start_time": "2024-02-24T16:12:17.829Z"
   },
   {
    "duration": 2,
    "start_time": "2024-02-24T16:18:03.375Z"
   },
   {
    "duration": 72,
    "start_time": "2024-02-24T16:18:03.379Z"
   },
   {
    "duration": 25,
    "start_time": "2024-02-24T16:18:03.454Z"
   },
   {
    "duration": 10,
    "start_time": "2024-02-24T16:18:03.481Z"
   },
   {
    "duration": 8,
    "start_time": "2024-02-24T16:18:03.492Z"
   },
   {
    "duration": 12,
    "start_time": "2024-02-24T16:18:03.501Z"
   },
   {
    "duration": 71,
    "start_time": "2024-02-24T16:18:03.515Z"
   },
   {
    "duration": 0,
    "start_time": "2024-02-24T16:18:03.588Z"
   },
   {
    "duration": 0,
    "start_time": "2024-02-24T16:18:03.590Z"
   },
   {
    "duration": 0,
    "start_time": "2024-02-24T16:18:03.591Z"
   },
   {
    "duration": 0,
    "start_time": "2024-02-24T16:18:03.592Z"
   },
   {
    "duration": 0,
    "start_time": "2024-02-24T16:18:03.593Z"
   },
   {
    "duration": 0,
    "start_time": "2024-02-24T16:18:03.594Z"
   },
   {
    "duration": 0,
    "start_time": "2024-02-24T16:18:03.595Z"
   },
   {
    "duration": 0,
    "start_time": "2024-02-24T16:18:03.596Z"
   },
   {
    "duration": 0,
    "start_time": "2024-02-24T16:18:03.597Z"
   },
   {
    "duration": 0,
    "start_time": "2024-02-24T16:18:03.598Z"
   },
   {
    "duration": 0,
    "start_time": "2024-02-24T16:18:03.600Z"
   },
   {
    "duration": 0,
    "start_time": "2024-02-24T16:18:03.601Z"
   },
   {
    "duration": 0,
    "start_time": "2024-02-24T16:18:03.602Z"
   },
   {
    "duration": 0,
    "start_time": "2024-02-24T16:18:03.603Z"
   },
   {
    "duration": 0,
    "start_time": "2024-02-24T16:18:03.604Z"
   },
   {
    "duration": 0,
    "start_time": "2024-02-24T16:18:03.605Z"
   },
   {
    "duration": 0,
    "start_time": "2024-02-24T16:18:03.606Z"
   },
   {
    "duration": 0,
    "start_time": "2024-02-24T16:18:03.607Z"
   },
   {
    "duration": 0,
    "start_time": "2024-02-24T16:18:03.608Z"
   },
   {
    "duration": 0,
    "start_time": "2024-02-24T16:18:03.608Z"
   },
   {
    "duration": 0,
    "start_time": "2024-02-24T16:18:03.609Z"
   },
   {
    "duration": 0,
    "start_time": "2024-02-24T16:18:03.611Z"
   },
   {
    "duration": 0,
    "start_time": "2024-02-24T16:18:03.611Z"
   },
   {
    "duration": 57,
    "start_time": "2024-02-24T16:18:22.870Z"
   },
   {
    "duration": 69,
    "start_time": "2024-02-24T16:18:42.539Z"
   },
   {
    "duration": 79,
    "start_time": "2024-02-24T16:19:34.337Z"
   },
   {
    "duration": 41,
    "start_time": "2024-02-24T16:19:47.411Z"
   },
   {
    "duration": 13,
    "start_time": "2024-02-24T16:40:07.947Z"
   },
   {
    "duration": 20,
    "start_time": "2024-02-24T16:41:12.599Z"
   },
   {
    "duration": 20,
    "start_time": "2024-02-24T16:41:21.775Z"
   },
   {
    "duration": 13,
    "start_time": "2024-02-24T16:41:43.308Z"
   },
   {
    "duration": 18,
    "start_time": "2024-02-24T16:44:09.945Z"
   },
   {
    "duration": 18,
    "start_time": "2024-02-24T16:44:22.041Z"
   },
   {
    "duration": 2,
    "start_time": "2024-02-24T16:46:34.932Z"
   },
   {
    "duration": 75,
    "start_time": "2024-02-24T16:46:34.936Z"
   },
   {
    "duration": 24,
    "start_time": "2024-02-24T16:46:35.012Z"
   },
   {
    "duration": 9,
    "start_time": "2024-02-24T16:46:35.038Z"
   },
   {
    "duration": 19,
    "start_time": "2024-02-24T16:46:35.048Z"
   },
   {
    "duration": 17,
    "start_time": "2024-02-24T16:46:35.069Z"
   },
   {
    "duration": 18,
    "start_time": "2024-02-24T16:46:35.087Z"
   },
   {
    "duration": 4,
    "start_time": "2024-02-24T16:46:35.107Z"
   },
   {
    "duration": 165,
    "start_time": "2024-02-24T16:46:35.113Z"
   },
   {
    "duration": 122,
    "start_time": "2024-02-24T16:46:35.279Z"
   },
   {
    "duration": 249,
    "start_time": "2024-02-24T16:46:35.403Z"
   },
   {
    "duration": 411,
    "start_time": "2024-02-24T16:46:35.654Z"
   },
   {
    "duration": 178,
    "start_time": "2024-02-24T16:46:36.066Z"
   },
   {
    "duration": 285,
    "start_time": "2024-02-24T16:46:36.245Z"
   },
   {
    "duration": 190,
    "start_time": "2024-02-24T16:46:36.531Z"
   },
   {
    "duration": 268,
    "start_time": "2024-02-24T16:46:36.723Z"
   },
   {
    "duration": 130,
    "start_time": "2024-02-24T16:46:36.993Z"
   },
   {
    "duration": 4,
    "start_time": "2024-02-24T16:46:37.124Z"
   },
   {
    "duration": 141,
    "start_time": "2024-02-24T16:46:37.130Z"
   },
   {
    "duration": 4,
    "start_time": "2024-02-24T16:46:37.273Z"
   },
   {
    "duration": 179,
    "start_time": "2024-02-24T16:46:37.279Z"
   },
   {
    "duration": 233,
    "start_time": "2024-02-24T16:46:37.459Z"
   },
   {
    "duration": 7,
    "start_time": "2024-02-24T16:46:37.693Z"
   },
   {
    "duration": 65,
    "start_time": "2024-02-24T16:46:37.702Z"
   },
   {
    "duration": 317,
    "start_time": "2024-02-24T16:46:37.768Z"
   },
   {
    "duration": 8,
    "start_time": "2024-02-24T16:46:38.087Z"
   },
   {
    "duration": 16,
    "start_time": "2024-02-24T16:46:38.096Z"
   },
   {
    "duration": 55,
    "start_time": "2024-02-24T16:46:38.114Z"
   },
   {
    "duration": 26,
    "start_time": "2024-02-24T16:46:38.171Z"
   },
   {
    "duration": 11,
    "start_time": "2024-02-24T16:46:38.198Z"
   },
   {
    "duration": 1198,
    "start_time": "2024-02-24T17:50:28.356Z"
   },
   {
    "duration": 18,
    "start_time": "2024-02-24T17:51:03.750Z"
   },
   {
    "duration": 20,
    "start_time": "2024-02-24T17:51:09.746Z"
   },
   {
    "duration": 3,
    "start_time": "2024-02-24T17:51:19.562Z"
   },
   {
    "duration": 71,
    "start_time": "2024-02-24T17:51:19.567Z"
   },
   {
    "duration": 24,
    "start_time": "2024-02-24T17:51:19.640Z"
   },
   {
    "duration": 10,
    "start_time": "2024-02-24T17:51:19.666Z"
   },
   {
    "duration": 9,
    "start_time": "2024-02-24T17:51:19.677Z"
   },
   {
    "duration": 12,
    "start_time": "2024-02-24T17:51:19.688Z"
   },
   {
    "duration": 16,
    "start_time": "2024-02-24T17:51:19.701Z"
   },
   {
    "duration": 4,
    "start_time": "2024-02-24T17:51:19.719Z"
   },
   {
    "duration": 193,
    "start_time": "2024-02-24T17:51:19.724Z"
   },
   {
    "duration": 119,
    "start_time": "2024-02-24T17:51:19.919Z"
   },
   {
    "duration": 262,
    "start_time": "2024-02-24T17:51:20.042Z"
   },
   {
    "duration": 191,
    "start_time": "2024-02-24T17:51:20.306Z"
   },
   {
    "duration": 257,
    "start_time": "2024-02-24T17:51:20.498Z"
   },
   {
    "duration": 296,
    "start_time": "2024-02-24T17:51:20.756Z"
   },
   {
    "duration": 180,
    "start_time": "2024-02-24T17:51:21.054Z"
   },
   {
    "duration": 300,
    "start_time": "2024-02-24T17:51:21.236Z"
   },
   {
    "duration": 134,
    "start_time": "2024-02-24T17:51:21.538Z"
   },
   {
    "duration": 4,
    "start_time": "2024-02-24T17:51:21.674Z"
   },
   {
    "duration": 154,
    "start_time": "2024-02-24T17:51:21.680Z"
   },
   {
    "duration": 4,
    "start_time": "2024-02-24T17:51:21.835Z"
   },
   {
    "duration": 184,
    "start_time": "2024-02-24T17:51:21.841Z"
   },
   {
    "duration": 111,
    "start_time": "2024-02-24T17:51:22.026Z"
   },
   {
    "duration": 6,
    "start_time": "2024-02-24T17:51:22.139Z"
   },
   {
    "duration": 20,
    "start_time": "2024-02-24T17:51:22.146Z"
   },
   {
    "duration": 150,
    "start_time": "2024-02-24T17:51:22.168Z"
   },
   {
    "duration": 9,
    "start_time": "2024-02-24T17:51:22.319Z"
   },
   {
    "duration": 8,
    "start_time": "2024-02-24T17:51:22.330Z"
   },
   {
    "duration": 30,
    "start_time": "2024-02-24T17:51:22.339Z"
   },
   {
    "duration": 15,
    "start_time": "2024-02-24T17:51:22.372Z"
   },
   {
    "duration": 17,
    "start_time": "2024-02-24T17:51:22.389Z"
   },
   {
    "duration": 1080,
    "start_time": "2024-02-24T17:51:36.781Z"
   },
   {
    "duration": 17,
    "start_time": "2024-02-24T17:51:56.384Z"
   },
   {
    "duration": 2,
    "start_time": "2024-02-24T17:51:58.690Z"
   },
   {
    "duration": 73,
    "start_time": "2024-02-24T17:51:58.694Z"
   },
   {
    "duration": 25,
    "start_time": "2024-02-24T17:51:58.769Z"
   },
   {
    "duration": 10,
    "start_time": "2024-02-24T17:51:58.796Z"
   },
   {
    "duration": 8,
    "start_time": "2024-02-24T17:51:58.808Z"
   },
   {
    "duration": 12,
    "start_time": "2024-02-24T17:51:58.818Z"
   },
   {
    "duration": 51,
    "start_time": "2024-02-24T17:51:58.831Z"
   },
   {
    "duration": 5,
    "start_time": "2024-02-24T17:51:58.884Z"
   },
   {
    "duration": 187,
    "start_time": "2024-02-24T17:51:58.892Z"
   },
   {
    "duration": 135,
    "start_time": "2024-02-24T17:51:59.081Z"
   },
   {
    "duration": 283,
    "start_time": "2024-02-24T17:51:59.218Z"
   },
   {
    "duration": 200,
    "start_time": "2024-02-24T17:51:59.503Z"
   },
   {
    "duration": 192,
    "start_time": "2024-02-24T17:51:59.705Z"
   },
   {
    "duration": 254,
    "start_time": "2024-02-24T17:51:59.898Z"
   },
   {
    "duration": 198,
    "start_time": "2024-02-24T17:52:00.154Z"
   },
   {
    "duration": 358,
    "start_time": "2024-02-24T17:52:00.353Z"
   },
   {
    "duration": 123,
    "start_time": "2024-02-24T17:52:00.712Z"
   },
   {
    "duration": 46,
    "start_time": "2024-02-24T17:52:00.836Z"
   },
   {
    "duration": 402,
    "start_time": "2024-02-24T17:52:00.884Z"
   },
   {
    "duration": 4,
    "start_time": "2024-02-24T17:52:01.288Z"
   },
   {
    "duration": 381,
    "start_time": "2024-02-24T17:52:01.293Z"
   },
   {
    "duration": 230,
    "start_time": "2024-02-24T17:52:01.676Z"
   },
   {
    "duration": 61,
    "start_time": "2024-02-24T17:52:01.908Z"
   },
   {
    "duration": 11,
    "start_time": "2024-02-24T17:52:01.972Z"
   },
   {
    "duration": 304,
    "start_time": "2024-02-24T17:52:01.985Z"
   },
   {
    "duration": 11,
    "start_time": "2024-02-24T17:52:02.291Z"
   },
   {
    "duration": 9,
    "start_time": "2024-02-24T17:52:02.304Z"
   },
   {
    "duration": 9,
    "start_time": "2024-02-24T17:52:02.314Z"
   },
   {
    "duration": 45,
    "start_time": "2024-02-24T17:52:02.325Z"
   },
   {
    "duration": 14,
    "start_time": "2024-02-24T17:52:02.372Z"
   },
   {
    "duration": 18,
    "start_time": "2024-02-24T17:52:57.546Z"
   },
   {
    "duration": 3,
    "start_time": "2024-02-24T17:53:02.097Z"
   },
   {
    "duration": 96,
    "start_time": "2024-02-24T17:53:02.102Z"
   },
   {
    "duration": 22,
    "start_time": "2024-02-24T17:53:02.200Z"
   },
   {
    "duration": 16,
    "start_time": "2024-02-24T17:53:02.224Z"
   },
   {
    "duration": 24,
    "start_time": "2024-02-24T17:53:02.242Z"
   },
   {
    "duration": 33,
    "start_time": "2024-02-24T17:53:02.268Z"
   },
   {
    "duration": 16,
    "start_time": "2024-02-24T17:53:02.303Z"
   },
   {
    "duration": 5,
    "start_time": "2024-02-24T17:53:02.321Z"
   },
   {
    "duration": 151,
    "start_time": "2024-02-24T17:53:02.327Z"
   },
   {
    "duration": 111,
    "start_time": "2024-02-24T17:53:02.480Z"
   },
   {
    "duration": 267,
    "start_time": "2024-02-24T17:53:02.593Z"
   },
   {
    "duration": 248,
    "start_time": "2024-02-24T17:53:02.862Z"
   },
   {
    "duration": 239,
    "start_time": "2024-02-24T17:53:03.112Z"
   },
   {
    "duration": 348,
    "start_time": "2024-02-24T17:53:03.353Z"
   },
   {
    "duration": 242,
    "start_time": "2024-02-24T17:53:03.703Z"
   },
   {
    "duration": 450,
    "start_time": "2024-02-24T17:53:03.947Z"
   },
   {
    "duration": 274,
    "start_time": "2024-02-24T17:53:04.398Z"
   },
   {
    "duration": 4,
    "start_time": "2024-02-24T17:53:04.673Z"
   },
   {
    "duration": 222,
    "start_time": "2024-02-24T17:53:04.678Z"
   },
   {
    "duration": 4,
    "start_time": "2024-02-24T17:53:04.901Z"
   },
   {
    "duration": 391,
    "start_time": "2024-02-24T17:53:04.907Z"
   },
   {
    "duration": 289,
    "start_time": "2024-02-24T17:53:05.300Z"
   },
   {
    "duration": 6,
    "start_time": "2024-02-24T17:53:05.591Z"
   },
   {
    "duration": 8,
    "start_time": "2024-02-24T17:53:05.598Z"
   },
   {
    "duration": 171,
    "start_time": "2024-02-24T17:53:05.608Z"
   },
   {
    "duration": 12,
    "start_time": "2024-02-24T17:53:05.781Z"
   },
   {
    "duration": 10,
    "start_time": "2024-02-24T17:53:05.794Z"
   },
   {
    "duration": 14,
    "start_time": "2024-02-24T17:53:05.807Z"
   },
   {
    "duration": 24,
    "start_time": "2024-02-24T17:53:05.822Z"
   },
   {
    "duration": 13,
    "start_time": "2024-02-24T17:53:05.865Z"
   },
   {
    "duration": 18,
    "start_time": "2024-02-24T17:53:48.276Z"
   },
   {
    "duration": 20,
    "start_time": "2024-02-24T17:54:02.886Z"
   },
   {
    "duration": 13,
    "start_time": "2024-02-24T17:54:27.165Z"
   },
   {
    "duration": 3,
    "start_time": "2024-02-24T17:54:32.408Z"
   },
   {
    "duration": 80,
    "start_time": "2024-02-24T17:54:32.413Z"
   },
   {
    "duration": 25,
    "start_time": "2024-02-24T17:54:32.495Z"
   },
   {
    "duration": 10,
    "start_time": "2024-02-24T17:54:32.522Z"
   },
   {
    "duration": 9,
    "start_time": "2024-02-24T17:54:32.534Z"
   },
   {
    "duration": 11,
    "start_time": "2024-02-24T17:54:32.545Z"
   },
   {
    "duration": 17,
    "start_time": "2024-02-24T17:54:32.558Z"
   },
   {
    "duration": 4,
    "start_time": "2024-02-24T17:54:32.577Z"
   },
   {
    "duration": 145,
    "start_time": "2024-02-24T17:54:32.583Z"
   },
   {
    "duration": 103,
    "start_time": "2024-02-24T17:54:32.729Z"
   },
   {
    "duration": 243,
    "start_time": "2024-02-24T17:54:32.833Z"
   },
   {
    "duration": 234,
    "start_time": "2024-02-24T17:54:33.077Z"
   },
   {
    "duration": 318,
    "start_time": "2024-02-24T17:54:33.313Z"
   },
   {
    "duration": 367,
    "start_time": "2024-02-24T17:54:33.633Z"
   },
   {
    "duration": 236,
    "start_time": "2024-02-24T17:54:34.002Z"
   },
   {
    "duration": 544,
    "start_time": "2024-02-24T17:54:34.239Z"
   },
   {
    "duration": 222,
    "start_time": "2024-02-24T17:54:34.784Z"
   },
   {
    "duration": 57,
    "start_time": "2024-02-24T17:54:35.008Z"
   },
   {
    "duration": 224,
    "start_time": "2024-02-24T17:54:35.066Z"
   },
   {
    "duration": 3,
    "start_time": "2024-02-24T17:54:35.292Z"
   },
   {
    "duration": 393,
    "start_time": "2024-02-24T17:54:35.297Z"
   },
   {
    "duration": 155,
    "start_time": "2024-02-24T17:54:35.692Z"
   },
   {
    "duration": 15,
    "start_time": "2024-02-24T17:54:35.849Z"
   },
   {
    "duration": 6,
    "start_time": "2024-02-24T17:54:35.867Z"
   },
   {
    "duration": 168,
    "start_time": "2024-02-24T17:54:35.875Z"
   },
   {
    "duration": 8,
    "start_time": "2024-02-24T17:54:36.044Z"
   },
   {
    "duration": 8,
    "start_time": "2024-02-24T17:54:36.065Z"
   },
   {
    "duration": 23,
    "start_time": "2024-02-24T17:54:36.075Z"
   },
   {
    "duration": 27,
    "start_time": "2024-02-24T17:54:36.099Z"
   },
   {
    "duration": 13,
    "start_time": "2024-02-24T17:54:36.127Z"
   },
   {
    "duration": 13,
    "start_time": "2024-02-24T17:54:48.777Z"
   },
   {
    "duration": 2,
    "start_time": "2024-02-24T17:54:55.378Z"
   },
   {
    "duration": 74,
    "start_time": "2024-02-24T17:54:55.383Z"
   },
   {
    "duration": 25,
    "start_time": "2024-02-24T17:54:55.459Z"
   },
   {
    "duration": 10,
    "start_time": "2024-02-24T17:54:55.485Z"
   },
   {
    "duration": 8,
    "start_time": "2024-02-24T17:54:55.496Z"
   },
   {
    "duration": 12,
    "start_time": "2024-02-24T17:54:55.505Z"
   },
   {
    "duration": 12,
    "start_time": "2024-02-24T17:54:55.518Z"
   },
   {
    "duration": 5,
    "start_time": "2024-02-24T17:54:55.531Z"
   },
   {
    "duration": 145,
    "start_time": "2024-02-24T17:54:55.565Z"
   },
   {
    "duration": 110,
    "start_time": "2024-02-24T17:54:55.711Z"
   },
   {
    "duration": 243,
    "start_time": "2024-02-24T17:54:55.823Z"
   },
   {
    "duration": 222,
    "start_time": "2024-02-24T17:54:56.068Z"
   },
   {
    "duration": 257,
    "start_time": "2024-02-24T17:54:56.292Z"
   },
   {
    "duration": 358,
    "start_time": "2024-02-24T17:54:56.552Z"
   },
   {
    "duration": 369,
    "start_time": "2024-02-24T17:54:56.911Z"
   },
   {
    "duration": 527,
    "start_time": "2024-02-24T17:54:57.281Z"
   },
   {
    "duration": 274,
    "start_time": "2024-02-24T17:54:57.810Z"
   },
   {
    "duration": 3,
    "start_time": "2024-02-24T17:54:58.086Z"
   },
   {
    "duration": 381,
    "start_time": "2024-02-24T17:54:58.090Z"
   },
   {
    "duration": 4,
    "start_time": "2024-02-24T17:54:58.473Z"
   },
   {
    "duration": 208,
    "start_time": "2024-02-24T17:54:58.478Z"
   },
   {
    "duration": 142,
    "start_time": "2024-02-24T17:54:58.688Z"
   },
   {
    "duration": 7,
    "start_time": "2024-02-24T17:54:58.831Z"
   },
   {
    "duration": 29,
    "start_time": "2024-02-24T17:54:58.839Z"
   },
   {
    "duration": 197,
    "start_time": "2024-02-24T17:54:58.871Z"
   },
   {
    "duration": 11,
    "start_time": "2024-02-24T17:54:59.070Z"
   },
   {
    "duration": 7,
    "start_time": "2024-02-24T17:54:59.083Z"
   },
   {
    "duration": 8,
    "start_time": "2024-02-24T17:54:59.091Z"
   },
   {
    "duration": 22,
    "start_time": "2024-02-24T17:54:59.101Z"
   },
   {
    "duration": 12,
    "start_time": "2024-02-24T17:54:59.124Z"
   },
   {
    "duration": 18,
    "start_time": "2024-02-24T17:55:34.748Z"
   },
   {
    "duration": 26,
    "start_time": "2024-02-24T19:18:35.058Z"
   },
   {
    "duration": 152,
    "start_time": "2024-02-24T19:21:23.684Z"
   },
   {
    "duration": 255,
    "start_time": "2024-02-24T19:24:33.506Z"
   },
   {
    "duration": 238,
    "start_time": "2024-02-24T19:24:47.344Z"
   },
   {
    "duration": 259,
    "start_time": "2024-02-24T19:25:14.117Z"
   },
   {
    "duration": 242,
    "start_time": "2024-02-24T19:25:24.387Z"
   },
   {
    "duration": 250,
    "start_time": "2024-02-24T19:25:50.839Z"
   },
   {
    "duration": 239,
    "start_time": "2024-02-24T19:26:05.454Z"
   },
   {
    "duration": 524,
    "start_time": "2024-02-24T19:28:04.808Z"
   },
   {
    "duration": 321,
    "start_time": "2024-02-24T19:28:16.774Z"
   },
   {
    "duration": 312,
    "start_time": "2024-02-24T19:28:28.088Z"
   },
   {
    "duration": 284,
    "start_time": "2024-02-24T19:29:13.155Z"
   },
   {
    "duration": 320,
    "start_time": "2024-02-24T19:30:21.068Z"
   },
   {
    "duration": 586,
    "start_time": "2024-02-24T19:31:39.310Z"
   },
   {
    "duration": 437,
    "start_time": "2024-02-24T19:31:52.220Z"
   },
   {
    "duration": 311,
    "start_time": "2024-02-24T19:32:55.615Z"
   },
   {
    "duration": 441,
    "start_time": "2024-02-24T19:33:18.852Z"
   },
   {
    "duration": 420,
    "start_time": "2024-02-24T19:34:49.574Z"
   },
   {
    "duration": 112,
    "start_time": "2024-02-24T19:35:08.393Z"
   },
   {
    "duration": 84,
    "start_time": "2024-02-24T19:35:32.267Z"
   },
   {
    "duration": 158,
    "start_time": "2024-02-24T19:35:42.219Z"
   },
   {
    "duration": 164,
    "start_time": "2024-02-24T19:36:11.811Z"
   },
   {
    "duration": 182,
    "start_time": "2024-02-24T19:36:57.958Z"
   },
   {
    "duration": 106,
    "start_time": "2024-02-28T20:49:13.225Z"
   },
   {
    "duration": 676,
    "start_time": "2024-02-28T20:56:09.482Z"
   },
   {
    "duration": 656,
    "start_time": "2024-02-28T20:56:20.002Z"
   },
   {
    "duration": 194,
    "start_time": "2024-02-28T20:56:20.660Z"
   },
   {
    "duration": 31,
    "start_time": "2024-02-28T20:56:20.856Z"
   },
   {
    "duration": 10,
    "start_time": "2024-02-28T20:56:20.889Z"
   },
   {
    "duration": 7,
    "start_time": "2024-02-28T20:56:20.901Z"
   },
   {
    "duration": 14,
    "start_time": "2024-02-28T20:56:20.910Z"
   },
   {
    "duration": 82,
    "start_time": "2024-02-28T20:56:20.925Z"
   },
   {
    "duration": 0,
    "start_time": "2024-02-28T20:56:21.010Z"
   },
   {
    "duration": 0,
    "start_time": "2024-02-28T20:56:21.012Z"
   },
   {
    "duration": 0,
    "start_time": "2024-02-28T20:56:21.014Z"
   },
   {
    "duration": 0,
    "start_time": "2024-02-28T20:56:21.015Z"
   },
   {
    "duration": 0,
    "start_time": "2024-02-28T20:56:21.017Z"
   },
   {
    "duration": 0,
    "start_time": "2024-02-28T20:56:21.018Z"
   },
   {
    "duration": 0,
    "start_time": "2024-02-28T20:56:21.020Z"
   },
   {
    "duration": 0,
    "start_time": "2024-02-28T20:56:21.022Z"
   },
   {
    "duration": 1,
    "start_time": "2024-02-28T20:56:21.023Z"
   },
   {
    "duration": 0,
    "start_time": "2024-02-28T20:56:21.025Z"
   },
   {
    "duration": 0,
    "start_time": "2024-02-28T20:56:21.026Z"
   },
   {
    "duration": 0,
    "start_time": "2024-02-28T20:56:21.027Z"
   },
   {
    "duration": 0,
    "start_time": "2024-02-28T20:56:21.029Z"
   },
   {
    "duration": 0,
    "start_time": "2024-02-28T20:56:21.030Z"
   },
   {
    "duration": 0,
    "start_time": "2024-02-28T20:56:21.031Z"
   },
   {
    "duration": 0,
    "start_time": "2024-02-28T20:56:21.069Z"
   },
   {
    "duration": 0,
    "start_time": "2024-02-28T20:56:21.071Z"
   },
   {
    "duration": 0,
    "start_time": "2024-02-28T20:56:21.072Z"
   },
   {
    "duration": 0,
    "start_time": "2024-02-28T20:56:21.073Z"
   },
   {
    "duration": 0,
    "start_time": "2024-02-28T20:56:21.074Z"
   },
   {
    "duration": 0,
    "start_time": "2024-02-28T20:56:21.075Z"
   },
   {
    "duration": 0,
    "start_time": "2024-02-28T20:56:21.076Z"
   },
   {
    "duration": 0,
    "start_time": "2024-02-28T20:56:21.077Z"
   },
   {
    "duration": 2,
    "start_time": "2024-02-28T20:56:53.549Z"
   },
   {
    "duration": 80,
    "start_time": "2024-02-28T20:56:53.553Z"
   },
   {
    "duration": 27,
    "start_time": "2024-02-28T20:56:53.635Z"
   },
   {
    "duration": 10,
    "start_time": "2024-02-28T20:56:53.663Z"
   },
   {
    "duration": 7,
    "start_time": "2024-02-28T20:56:53.675Z"
   },
   {
    "duration": 11,
    "start_time": "2024-02-28T20:56:53.684Z"
   },
   {
    "duration": 2,
    "start_time": "2024-02-28T20:56:53.697Z"
   },
   {
    "duration": 7,
    "start_time": "2024-02-28T20:56:53.701Z"
   },
   {
    "duration": 182,
    "start_time": "2024-02-28T20:56:53.710Z"
   },
   {
    "duration": 116,
    "start_time": "2024-02-28T20:56:53.894Z"
   },
   {
    "duration": 279,
    "start_time": "2024-02-28T20:56:54.012Z"
   },
   {
    "duration": 361,
    "start_time": "2024-02-28T20:56:54.292Z"
   },
   {
    "duration": 336,
    "start_time": "2024-02-28T20:56:54.655Z"
   },
   {
    "duration": 514,
    "start_time": "2024-02-28T20:56:54.992Z"
   },
   {
    "duration": 385,
    "start_time": "2024-02-28T20:56:55.508Z"
   },
   {
    "duration": 422,
    "start_time": "2024-02-28T20:56:55.894Z"
   },
   {
    "duration": 173,
    "start_time": "2024-02-28T20:56:56.318Z"
   },
   {
    "duration": 4,
    "start_time": "2024-02-28T20:56:56.492Z"
   },
   {
    "duration": 207,
    "start_time": "2024-02-28T20:56:56.497Z"
   },
   {
    "duration": 4,
    "start_time": "2024-02-28T20:56:56.706Z"
   },
   {
    "duration": 209,
    "start_time": "2024-02-28T20:56:56.712Z"
   },
   {
    "duration": 126,
    "start_time": "2024-02-28T20:56:56.923Z"
   },
   {
    "duration": 5,
    "start_time": "2024-02-28T20:56:57.051Z"
   },
   {
    "duration": 5,
    "start_time": "2024-02-28T20:56:57.071Z"
   },
   {
    "duration": 165,
    "start_time": "2024-02-28T20:56:57.078Z"
   },
   {
    "duration": 9,
    "start_time": "2024-02-28T20:56:57.245Z"
   },
   {
    "duration": 20,
    "start_time": "2024-02-28T20:56:57.255Z"
   },
   {
    "duration": 13,
    "start_time": "2024-02-28T20:56:57.276Z"
   },
   {
    "duration": 28,
    "start_time": "2024-02-28T20:56:57.290Z"
   },
   {
    "duration": 14,
    "start_time": "2024-02-28T20:56:57.319Z"
   },
   {
    "duration": 364,
    "start_time": "2024-02-28T20:57:46.456Z"
   },
   {
    "duration": 514,
    "start_time": "2024-02-28T21:00:00.522Z"
   },
   {
    "duration": 360,
    "start_time": "2024-02-28T21:00:14.382Z"
   },
   {
    "duration": 470,
    "start_time": "2024-02-28T21:00:29.872Z"
   },
   {
    "duration": 189,
    "start_time": "2024-02-28T21:01:20.451Z"
   },
   {
    "duration": 210,
    "start_time": "2024-02-28T21:02:53.581Z"
   },
   {
    "duration": 21,
    "start_time": "2024-02-28T21:10:22.312Z"
   },
   {
    "duration": 11,
    "start_time": "2024-02-28T21:11:10.851Z"
   },
   {
    "duration": 2,
    "start_time": "2024-02-28T21:11:29.208Z"
   },
   {
    "duration": 77,
    "start_time": "2024-02-28T21:11:29.212Z"
   },
   {
    "duration": 26,
    "start_time": "2024-02-28T21:11:29.291Z"
   },
   {
    "duration": 9,
    "start_time": "2024-02-28T21:11:29.319Z"
   },
   {
    "duration": 11,
    "start_time": "2024-02-28T21:11:29.330Z"
   },
   {
    "duration": 26,
    "start_time": "2024-02-28T21:11:29.342Z"
   },
   {
    "duration": 10,
    "start_time": "2024-02-28T21:11:29.369Z"
   },
   {
    "duration": 9,
    "start_time": "2024-02-28T21:11:29.380Z"
   },
   {
    "duration": 162,
    "start_time": "2024-02-28T21:11:29.390Z"
   },
   {
    "duration": 119,
    "start_time": "2024-02-28T21:11:29.554Z"
   },
   {
    "duration": 278,
    "start_time": "2024-02-28T21:11:29.675Z"
   },
   {
    "duration": 362,
    "start_time": "2024-02-28T21:11:29.954Z"
   },
   {
    "duration": 376,
    "start_time": "2024-02-28T21:11:30.318Z"
   },
   {
    "duration": 437,
    "start_time": "2024-02-28T21:11:30.696Z"
   },
   {
    "duration": 369,
    "start_time": "2024-02-28T21:11:31.135Z"
   },
   {
    "duration": 427,
    "start_time": "2024-02-28T21:11:31.506Z"
   },
   {
    "duration": 268,
    "start_time": "2024-02-28T21:11:31.935Z"
   },
   {
    "duration": 4,
    "start_time": "2024-02-28T21:11:32.205Z"
   },
   {
    "duration": 213,
    "start_time": "2024-02-28T21:11:32.210Z"
   },
   {
    "duration": 4,
    "start_time": "2024-02-28T21:11:32.425Z"
   },
   {
    "duration": 218,
    "start_time": "2024-02-28T21:11:32.431Z"
   },
   {
    "duration": 136,
    "start_time": "2024-02-28T21:11:32.651Z"
   },
   {
    "duration": 6,
    "start_time": "2024-02-28T21:11:32.788Z"
   },
   {
    "duration": 15,
    "start_time": "2024-02-28T21:11:32.795Z"
   },
   {
    "duration": 163,
    "start_time": "2024-02-28T21:11:32.812Z"
   },
   {
    "duration": 9,
    "start_time": "2024-02-28T21:11:32.977Z"
   },
   {
    "duration": 22,
    "start_time": "2024-02-28T21:11:32.988Z"
   },
   {
    "duration": 8,
    "start_time": "2024-02-28T21:11:33.012Z"
   },
   {
    "duration": 30,
    "start_time": "2024-02-28T21:11:33.023Z"
   },
   {
    "duration": 23,
    "start_time": "2024-02-28T21:11:33.055Z"
   },
   {
    "duration": 9,
    "start_time": "2024-02-28T21:12:46.721Z"
   },
   {
    "duration": 12,
    "start_time": "2024-02-28T21:13:00.975Z"
   },
   {
    "duration": 10,
    "start_time": "2024-02-28T21:13:30.190Z"
   },
   {
    "duration": 12,
    "start_time": "2024-02-28T21:13:34.568Z"
   },
   {
    "duration": 11,
    "start_time": "2024-02-28T21:13:45.263Z"
   },
   {
    "duration": 14,
    "start_time": "2024-02-28T21:13:57.768Z"
   },
   {
    "duration": 12,
    "start_time": "2024-02-28T21:14:08.851Z"
   },
   {
    "duration": 17,
    "start_time": "2024-02-28T21:14:39.292Z"
   },
   {
    "duration": 14,
    "start_time": "2024-02-28T21:15:02.996Z"
   },
   {
    "duration": 1749,
    "start_time": "2024-02-28T21:15:39.231Z"
   },
   {
    "duration": 17,
    "start_time": "2024-02-28T21:16:57.703Z"
   },
   {
    "duration": 15,
    "start_time": "2024-02-28T21:17:12.115Z"
   },
   {
    "duration": 2,
    "start_time": "2024-02-28T21:17:56.046Z"
   },
   {
    "duration": 78,
    "start_time": "2024-02-28T21:17:56.050Z"
   },
   {
    "duration": 29,
    "start_time": "2024-02-28T21:17:56.130Z"
   },
   {
    "duration": 11,
    "start_time": "2024-02-28T21:17:56.161Z"
   },
   {
    "duration": 11,
    "start_time": "2024-02-28T21:17:56.175Z"
   },
   {
    "duration": 25,
    "start_time": "2024-02-28T21:17:56.187Z"
   },
   {
    "duration": 30,
    "start_time": "2024-02-28T21:17:56.214Z"
   },
   {
    "duration": 5,
    "start_time": "2024-02-28T21:17:56.245Z"
   },
   {
    "duration": 156,
    "start_time": "2024-02-28T21:17:56.251Z"
   },
   {
    "duration": 109,
    "start_time": "2024-02-28T21:17:56.408Z"
   },
   {
    "duration": 269,
    "start_time": "2024-02-28T21:17:56.520Z"
   },
   {
    "duration": 343,
    "start_time": "2024-02-28T21:17:56.790Z"
   },
   {
    "duration": 352,
    "start_time": "2024-02-28T21:17:57.135Z"
   },
   {
    "duration": 401,
    "start_time": "2024-02-28T21:17:57.488Z"
   },
   {
    "duration": 353,
    "start_time": "2024-02-28T21:17:57.891Z"
   },
   {
    "duration": 455,
    "start_time": "2024-02-28T21:17:58.246Z"
   },
   {
    "duration": 201,
    "start_time": "2024-02-28T21:17:58.702Z"
   },
   {
    "duration": 4,
    "start_time": "2024-02-28T21:17:58.905Z"
   },
   {
    "duration": 211,
    "start_time": "2024-02-28T21:17:58.910Z"
   },
   {
    "duration": 4,
    "start_time": "2024-02-28T21:17:59.123Z"
   },
   {
    "duration": 206,
    "start_time": "2024-02-28T21:17:59.129Z"
   },
   {
    "duration": 120,
    "start_time": "2024-02-28T21:17:59.337Z"
   },
   {
    "duration": 12,
    "start_time": "2024-02-28T21:17:59.458Z"
   },
   {
    "duration": 7,
    "start_time": "2024-02-28T21:17:59.471Z"
   },
   {
    "duration": 151,
    "start_time": "2024-02-28T21:17:59.479Z"
   },
   {
    "duration": 9,
    "start_time": "2024-02-28T21:17:59.632Z"
   },
   {
    "duration": 8,
    "start_time": "2024-02-28T21:17:59.642Z"
   },
   {
    "duration": 22,
    "start_time": "2024-02-28T21:17:59.652Z"
   },
   {
    "duration": 24,
    "start_time": "2024-02-28T21:17:59.677Z"
   },
   {
    "duration": 12,
    "start_time": "2024-02-28T21:17:59.703Z"
   },
   {
    "duration": 146,
    "start_time": "2024-02-28T21:20:35.903Z"
   },
   {
    "duration": 9,
    "start_time": "2024-02-28T21:20:59.973Z"
   },
   {
    "duration": 27,
    "start_time": "2024-02-28T21:21:11.875Z"
   },
   {
    "duration": 114,
    "start_time": "2024-02-28T21:21:44.773Z"
   },
   {
    "duration": 13,
    "start_time": "2024-02-28T21:22:26.955Z"
   },
   {
    "duration": 12,
    "start_time": "2024-02-28T21:22:45.776Z"
   },
   {
    "duration": 17,
    "start_time": "2024-02-28T21:29:48.871Z"
   },
   {
    "duration": 24,
    "start_time": "2024-02-28T21:31:54.404Z"
   },
   {
    "duration": 3,
    "start_time": "2024-02-28T21:32:27.309Z"
   },
   {
    "duration": 82,
    "start_time": "2024-02-28T21:32:27.314Z"
   },
   {
    "duration": 39,
    "start_time": "2024-02-28T21:32:27.399Z"
   },
   {
    "duration": 12,
    "start_time": "2024-02-28T21:32:27.441Z"
   },
   {
    "duration": 21,
    "start_time": "2024-02-28T21:32:27.456Z"
   },
   {
    "duration": 15,
    "start_time": "2024-02-28T21:32:27.478Z"
   },
   {
    "duration": 18,
    "start_time": "2024-02-28T21:32:27.495Z"
   },
   {
    "duration": 12,
    "start_time": "2024-02-28T21:32:27.514Z"
   },
   {
    "duration": 181,
    "start_time": "2024-02-28T21:32:27.528Z"
   },
   {
    "duration": 117,
    "start_time": "2024-02-28T21:32:27.711Z"
   },
   {
    "duration": 272,
    "start_time": "2024-02-28T21:32:27.830Z"
   },
   {
    "duration": 444,
    "start_time": "2024-02-28T21:32:28.104Z"
   },
   {
    "duration": 357,
    "start_time": "2024-02-28T21:32:28.549Z"
   },
   {
    "duration": 492,
    "start_time": "2024-02-28T21:32:28.907Z"
   },
   {
    "duration": 376,
    "start_time": "2024-02-28T21:32:29.400Z"
   },
   {
    "duration": 458,
    "start_time": "2024-02-28T21:32:29.777Z"
   },
   {
    "duration": 252,
    "start_time": "2024-02-28T21:32:30.237Z"
   },
   {
    "duration": 6,
    "start_time": "2024-02-28T21:32:30.492Z"
   },
   {
    "duration": 480,
    "start_time": "2024-02-28T21:32:30.500Z"
   },
   {
    "duration": 4,
    "start_time": "2024-02-28T21:32:30.982Z"
   },
   {
    "duration": 426,
    "start_time": "2024-02-28T21:32:30.987Z"
   },
   {
    "duration": 361,
    "start_time": "2024-02-28T21:32:31.415Z"
   },
   {
    "duration": 7,
    "start_time": "2024-02-28T21:32:31.778Z"
   },
   {
    "duration": 87,
    "start_time": "2024-02-28T21:32:31.786Z"
   },
   {
    "duration": 286,
    "start_time": "2024-02-28T21:32:31.875Z"
   },
   {
    "duration": 13,
    "start_time": "2024-02-28T21:32:32.163Z"
   },
   {
    "duration": 38,
    "start_time": "2024-02-28T21:32:32.178Z"
   },
   {
    "duration": 28,
    "start_time": "2024-02-28T21:32:32.218Z"
   },
   {
    "duration": 37,
    "start_time": "2024-02-28T21:32:32.250Z"
   },
   {
    "duration": 14,
    "start_time": "2024-02-28T21:32:32.289Z"
   },
   {
    "duration": 3,
    "start_time": "2024-02-28T21:33:02.222Z"
   },
   {
    "duration": 107,
    "start_time": "2024-02-28T21:33:02.228Z"
   },
   {
    "duration": 27,
    "start_time": "2024-02-28T21:33:02.337Z"
   },
   {
    "duration": 48,
    "start_time": "2024-02-28T21:33:02.366Z"
   },
   {
    "duration": 67,
    "start_time": "2024-02-28T21:33:02.416Z"
   },
   {
    "duration": 49,
    "start_time": "2024-02-28T21:33:02.485Z"
   },
   {
    "duration": 14,
    "start_time": "2024-02-28T21:33:02.536Z"
   },
   {
    "duration": 33,
    "start_time": "2024-02-28T21:33:02.551Z"
   },
   {
    "duration": 182,
    "start_time": "2024-02-28T21:33:02.586Z"
   },
   {
    "duration": 127,
    "start_time": "2024-02-28T21:33:02.770Z"
   },
   {
    "duration": 280,
    "start_time": "2024-02-28T21:33:02.899Z"
   },
   {
    "duration": 361,
    "start_time": "2024-02-28T21:33:03.181Z"
   },
   {
    "duration": 357,
    "start_time": "2024-02-28T21:33:03.544Z"
   },
   {
    "duration": 488,
    "start_time": "2024-02-28T21:33:03.902Z"
   },
   {
    "duration": 475,
    "start_time": "2024-02-28T21:33:04.392Z"
   },
   {
    "duration": 738,
    "start_time": "2024-02-28T21:33:04.871Z"
   },
   {
    "duration": 384,
    "start_time": "2024-02-28T21:33:05.611Z"
   },
   {
    "duration": 4,
    "start_time": "2024-02-28T21:33:05.996Z"
   },
   {
    "duration": 696,
    "start_time": "2024-02-28T21:33:06.002Z"
   },
   {
    "duration": 6,
    "start_time": "2024-02-28T21:33:06.700Z"
   },
   {
    "duration": 664,
    "start_time": "2024-02-28T21:33:06.708Z"
   },
   {
    "duration": 185,
    "start_time": "2024-02-28T21:33:07.374Z"
   },
   {
    "duration": 7,
    "start_time": "2024-02-28T21:33:07.569Z"
   },
   {
    "duration": 9,
    "start_time": "2024-02-28T21:33:07.579Z"
   },
   {
    "duration": 193,
    "start_time": "2024-02-28T21:33:07.590Z"
   },
   {
    "duration": 14,
    "start_time": "2024-02-28T21:33:07.785Z"
   },
   {
    "duration": 12,
    "start_time": "2024-02-28T21:33:07.801Z"
   },
   {
    "duration": 36,
    "start_time": "2024-02-28T21:33:07.815Z"
   },
   {
    "duration": 46,
    "start_time": "2024-02-28T21:33:07.853Z"
   },
   {
    "duration": 19,
    "start_time": "2024-02-28T21:33:07.902Z"
   },
   {
    "duration": 19,
    "start_time": "2024-02-28T21:33:38.591Z"
   },
   {
    "duration": 16,
    "start_time": "2024-02-28T21:35:56.683Z"
   },
   {
    "duration": 3,
    "start_time": "2024-02-28T21:37:12.962Z"
   },
   {
    "duration": 98,
    "start_time": "2024-02-28T21:37:12.967Z"
   },
   {
    "duration": 28,
    "start_time": "2024-02-28T21:37:13.066Z"
   },
   {
    "duration": 10,
    "start_time": "2024-02-28T21:37:13.095Z"
   },
   {
    "duration": 20,
    "start_time": "2024-02-28T21:37:13.107Z"
   },
   {
    "duration": 25,
    "start_time": "2024-02-28T21:37:13.129Z"
   },
   {
    "duration": 36,
    "start_time": "2024-02-28T21:37:13.156Z"
   },
   {
    "duration": 27,
    "start_time": "2024-02-28T21:37:13.194Z"
   },
   {
    "duration": 166,
    "start_time": "2024-02-28T21:37:13.223Z"
   },
   {
    "duration": 119,
    "start_time": "2024-02-28T21:37:13.390Z"
   },
   {
    "duration": 265,
    "start_time": "2024-02-28T21:37:13.513Z"
   },
   {
    "duration": 351,
    "start_time": "2024-02-28T21:37:13.780Z"
   },
   {
    "duration": 348,
    "start_time": "2024-02-28T21:37:14.132Z"
   },
   {
    "duration": 405,
    "start_time": "2024-02-28T21:37:14.482Z"
   },
   {
    "duration": 360,
    "start_time": "2024-02-28T21:37:14.889Z"
   },
   {
    "duration": 440,
    "start_time": "2024-02-28T21:37:15.251Z"
   },
   {
    "duration": 203,
    "start_time": "2024-02-28T21:37:15.693Z"
   },
   {
    "duration": 3,
    "start_time": "2024-02-28T21:37:15.898Z"
   },
   {
    "duration": 294,
    "start_time": "2024-02-28T21:37:15.903Z"
   },
   {
    "duration": 3,
    "start_time": "2024-02-28T21:37:16.199Z"
   },
   {
    "duration": 218,
    "start_time": "2024-02-28T21:37:16.204Z"
   },
   {
    "duration": 127,
    "start_time": "2024-02-28T21:37:16.424Z"
   },
   {
    "duration": 17,
    "start_time": "2024-02-28T21:37:16.553Z"
   },
   {
    "duration": 8,
    "start_time": "2024-02-28T21:37:16.572Z"
   },
   {
    "duration": 149,
    "start_time": "2024-02-28T21:37:16.581Z"
   },
   {
    "duration": 10,
    "start_time": "2024-02-28T21:37:16.732Z"
   },
   {
    "duration": 11,
    "start_time": "2024-02-28T21:37:16.744Z"
   },
   {
    "duration": 8,
    "start_time": "2024-02-28T21:37:16.770Z"
   },
   {
    "duration": 34,
    "start_time": "2024-02-28T21:37:16.781Z"
   },
   {
    "duration": 13,
    "start_time": "2024-02-28T21:37:16.817Z"
   },
   {
    "duration": 204,
    "start_time": "2024-02-28T21:39:19.432Z"
   },
   {
    "duration": 10,
    "start_time": "2024-02-28T21:44:57.569Z"
   },
   {
    "duration": 3,
    "start_time": "2024-02-28T21:45:05.215Z"
   },
   {
    "duration": 89,
    "start_time": "2024-02-28T21:45:05.221Z"
   },
   {
    "duration": 32,
    "start_time": "2024-02-28T21:45:05.312Z"
   },
   {
    "duration": 11,
    "start_time": "2024-02-28T21:45:05.346Z"
   },
   {
    "duration": 8,
    "start_time": "2024-02-28T21:45:05.359Z"
   },
   {
    "duration": 14,
    "start_time": "2024-02-28T21:45:05.369Z"
   },
   {
    "duration": 20,
    "start_time": "2024-02-28T21:45:05.386Z"
   },
   {
    "duration": 6,
    "start_time": "2024-02-28T21:45:05.407Z"
   },
   {
    "duration": 207,
    "start_time": "2024-02-28T21:45:05.430Z"
   },
   {
    "duration": 131,
    "start_time": "2024-02-28T21:45:05.639Z"
   },
   {
    "duration": 310,
    "start_time": "2024-02-28T21:45:05.772Z"
   },
   {
    "duration": 404,
    "start_time": "2024-02-28T21:45:06.084Z"
   },
   {
    "duration": 391,
    "start_time": "2024-02-28T21:45:06.490Z"
   },
   {
    "duration": 431,
    "start_time": "2024-02-28T21:45:06.883Z"
   },
   {
    "duration": 379,
    "start_time": "2024-02-28T21:45:07.316Z"
   },
   {
    "duration": 434,
    "start_time": "2024-02-28T21:45:07.697Z"
   },
   {
    "duration": 215,
    "start_time": "2024-02-28T21:45:08.135Z"
   },
   {
    "duration": 4,
    "start_time": "2024-02-28T21:45:08.352Z"
   },
   {
    "duration": 234,
    "start_time": "2024-02-28T21:45:08.358Z"
   },
   {
    "duration": 6,
    "start_time": "2024-02-28T21:45:08.593Z"
   },
   {
    "duration": 250,
    "start_time": "2024-02-28T21:45:08.601Z"
   },
   {
    "duration": 156,
    "start_time": "2024-02-28T21:45:08.853Z"
   },
   {
    "duration": 6,
    "start_time": "2024-02-28T21:45:09.011Z"
   },
   {
    "duration": 7,
    "start_time": "2024-02-28T21:45:09.019Z"
   },
   {
    "duration": 169,
    "start_time": "2024-02-28T21:45:09.027Z"
   },
   {
    "duration": 13,
    "start_time": "2024-02-28T21:45:09.198Z"
   },
   {
    "duration": 12,
    "start_time": "2024-02-28T21:45:09.212Z"
   },
   {
    "duration": 9,
    "start_time": "2024-02-28T21:45:09.226Z"
   },
   {
    "duration": 57,
    "start_time": "2024-02-28T21:45:09.237Z"
   },
   {
    "duration": 14,
    "start_time": "2024-02-28T21:45:09.295Z"
   },
   {
    "duration": 850,
    "start_time": "2024-02-28T21:48:33.374Z"
   },
   {
    "duration": 77,
    "start_time": "2024-02-28T21:48:34.226Z"
   },
   {
    "duration": 36,
    "start_time": "2024-02-28T21:48:34.304Z"
   },
   {
    "duration": 11,
    "start_time": "2024-02-28T21:48:34.342Z"
   },
   {
    "duration": 8,
    "start_time": "2024-02-28T21:48:34.354Z"
   },
   {
    "duration": 16,
    "start_time": "2024-02-28T21:48:34.363Z"
   },
   {
    "duration": 15,
    "start_time": "2024-02-28T21:48:34.380Z"
   },
   {
    "duration": 5,
    "start_time": "2024-02-28T21:48:34.396Z"
   },
   {
    "duration": 174,
    "start_time": "2024-02-28T21:48:34.402Z"
   },
   {
    "duration": 123,
    "start_time": "2024-02-28T21:48:34.578Z"
   },
   {
    "duration": 287,
    "start_time": "2024-02-28T21:48:34.703Z"
   },
   {
    "duration": 625,
    "start_time": "2024-02-28T21:48:34.992Z"
   },
   {
    "duration": 348,
    "start_time": "2024-02-28T21:48:35.619Z"
   },
   {
    "duration": 412,
    "start_time": "2024-02-28T21:48:35.969Z"
   },
   {
    "duration": 378,
    "start_time": "2024-02-28T21:48:36.383Z"
   },
   {
    "duration": 463,
    "start_time": "2024-02-28T21:48:36.762Z"
   },
   {
    "duration": 209,
    "start_time": "2024-02-28T21:48:37.226Z"
   },
   {
    "duration": 4,
    "start_time": "2024-02-28T21:48:37.436Z"
   },
   {
    "duration": 214,
    "start_time": "2024-02-28T21:48:37.441Z"
   },
   {
    "duration": 12,
    "start_time": "2024-02-28T21:48:37.657Z"
   },
   {
    "duration": 220,
    "start_time": "2024-02-28T21:48:37.671Z"
   },
   {
    "duration": 134,
    "start_time": "2024-02-28T21:48:37.892Z"
   },
   {
    "duration": 7,
    "start_time": "2024-02-28T21:48:38.027Z"
   },
   {
    "duration": 8,
    "start_time": "2024-02-28T21:48:38.035Z"
   },
   {
    "duration": 177,
    "start_time": "2024-02-28T21:48:38.045Z"
   },
   {
    "duration": 10,
    "start_time": "2024-02-28T21:48:38.224Z"
   },
   {
    "duration": 8,
    "start_time": "2024-02-28T21:48:38.236Z"
   },
   {
    "duration": 27,
    "start_time": "2024-02-28T21:48:38.246Z"
   },
   {
    "duration": 38,
    "start_time": "2024-02-28T21:48:38.275Z"
   },
   {
    "duration": 13,
    "start_time": "2024-02-28T21:48:38.315Z"
   },
   {
    "duration": 852,
    "start_time": "2024-02-29T09:48:24.078Z"
   },
   {
    "duration": 194,
    "start_time": "2024-02-29T09:48:24.933Z"
   },
   {
    "duration": 33,
    "start_time": "2024-02-29T09:48:25.128Z"
   },
   {
    "duration": 11,
    "start_time": "2024-02-29T09:48:25.162Z"
   },
   {
    "duration": 8,
    "start_time": "2024-02-29T09:48:25.174Z"
   },
   {
    "duration": 26,
    "start_time": "2024-02-29T09:48:25.183Z"
   },
   {
    "duration": 14,
    "start_time": "2024-02-29T09:48:25.210Z"
   },
   {
    "duration": 4,
    "start_time": "2024-02-29T09:48:25.226Z"
   },
   {
    "duration": 177,
    "start_time": "2024-02-29T09:48:25.232Z"
   },
   {
    "duration": 114,
    "start_time": "2024-02-29T09:48:25.411Z"
   },
   {
    "duration": 251,
    "start_time": "2024-02-29T09:48:25.526Z"
   },
   {
    "duration": 816,
    "start_time": "2024-02-29T09:48:25.779Z"
   },
   {
    "duration": 347,
    "start_time": "2024-02-29T09:48:26.597Z"
   },
   {
    "duration": 456,
    "start_time": "2024-02-29T09:48:26.947Z"
   },
   {
    "duration": 386,
    "start_time": "2024-02-29T09:48:27.405Z"
   },
   {
    "duration": 392,
    "start_time": "2024-02-29T09:48:27.793Z"
   },
   {
    "duration": 190,
    "start_time": "2024-02-29T09:48:28.187Z"
   },
   {
    "duration": 3,
    "start_time": "2024-02-29T09:48:28.379Z"
   },
   {
    "duration": 207,
    "start_time": "2024-02-29T09:48:28.384Z"
   },
   {
    "duration": 4,
    "start_time": "2024-02-29T09:48:28.593Z"
   },
   {
    "duration": 222,
    "start_time": "2024-02-29T09:48:28.598Z"
   },
   {
    "duration": 124,
    "start_time": "2024-02-29T09:48:28.822Z"
   },
   {
    "duration": 18,
    "start_time": "2024-02-29T09:48:28.948Z"
   },
   {
    "duration": 33,
    "start_time": "2024-02-29T09:48:28.968Z"
   },
   {
    "duration": 150,
    "start_time": "2024-02-29T09:48:29.002Z"
   },
   {
    "duration": 17,
    "start_time": "2024-02-29T09:48:29.154Z"
   },
   {
    "duration": 9,
    "start_time": "2024-02-29T09:48:29.172Z"
   },
   {
    "duration": 12,
    "start_time": "2024-02-29T09:48:29.182Z"
   },
   {
    "duration": 27,
    "start_time": "2024-02-29T09:48:29.196Z"
   },
   {
    "duration": 12,
    "start_time": "2024-02-29T09:48:29.225Z"
   }
  ],
  "kernelspec": {
   "display_name": "anaconda-panel-2023.05-py310",
   "language": "python",
   "name": "conda-env-anaconda-panel-2023.05-py310-py"
  },
  "language_info": {
   "codemirror_mode": {
    "name": "ipython",
    "version": 3
   },
   "file_extension": ".py",
   "mimetype": "text/x-python",
   "name": "python",
   "nbconvert_exporter": "python",
   "pygments_lexer": "ipython3",
   "version": "3.11.5"
  },
  "toc": {
   "base_numbering": 1,
   "nav_menu": {},
   "number_sections": true,
   "sideBar": true,
   "skip_h1_title": true,
   "title_cell": "Table of Contents",
   "title_sidebar": "Contents",
   "toc_cell": false,
   "toc_position": {
    "height": "calc(100% - 180px)",
    "left": "10px",
    "top": "150px",
    "width": "230.399994px"
   },
   "toc_section_display": true,
   "toc_window_display": true
  }
 },
 "nbformat": 4,
 "nbformat_minor": 4
}
