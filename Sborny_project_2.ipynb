{
 "cells": [
  {
   "cell_type": "markdown",
   "metadata": {},
   "source": [
    "### Сборный проект - 2"
   ]
  },
  {
   "cell_type": "markdown",
   "metadata": {},
   "source": [
    "Вы работаете в стартапе, который продаёт продукты питания. Нужно разобраться, как ведут себя пользователи вашего мобильного приложения.  \n",
    "\n",
    "Изучите воронку продаж. Узнайте, как пользователи доходят до покупки. Сколько пользователей доходит до покупки, а сколько — «застревает» на предыдущих шагах? На каких именно? \n",
    "\n",
    "После этого исследуйте результаты A/A/B-эксперимента. Дизайнеры захотели поменять шрифты во всём приложении, а менеджеры испугались, что пользователям будет непривычно. Договорились принять решение по результатам A/A/B-теста. Пользователей разбили на 3 группы: 2 контрольные со старыми шрифтами и одну экспериментальную — с новыми. Выясните, какой шрифт лучше.\n",
    "\n",
    "##### План работы: \n",
    "\n",
    "1) Загрузка и знакомство с данными \n",
    "\n",
    "2) Предобработка данных \n",
    "\n",
    "3) Изучения и проверка данных \n",
    "\n",
    "4) Изучение воронки событий \n",
    "\n",
    "5) Изучение результатов эксперимента \n",
    "\n",
    "6) Вывод"
   ]
  },
  {
   "cell_type": "markdown",
   "metadata": {},
   "source": [
    "#### Загрузка и знакомство с данными. "
   ]
  },
  {
   "cell_type": "code",
   "execution_count": 1,
   "metadata": {},
   "outputs": [],
   "source": [
    "# Загружаем библиотеки.\n",
    "import pandas as pd \n",
    "import matplotlib.pyplot as plt\n",
    "import numpy as np\n",
    "import scipy.stats as stats \n",
    "import math as mth"
   ]
  },
  {
   "cell_type": "code",
   "execution_count": 2,
   "metadata": {},
   "outputs": [],
   "source": [
    "data = pd.read_csv('/datasets/logs_exp.csv', sep = '\\t')"
   ]
  },
  {
   "cell_type": "code",
   "execution_count": 3,
   "metadata": {},
   "outputs": [
    {
     "name": "stdout",
     "output_type": "stream",
     "text": [
      "<class 'pandas.core.frame.DataFrame'>\n",
      "RangeIndex: 244126 entries, 0 to 244125\n",
      "Data columns (total 4 columns):\n",
      " #   Column          Non-Null Count   Dtype \n",
      "---  ------          --------------   ----- \n",
      " 0   EventName       244126 non-null  object\n",
      " 1   DeviceIDHash    244126 non-null  int64 \n",
      " 2   EventTimestamp  244126 non-null  int64 \n",
      " 3   ExpId           244126 non-null  int64 \n",
      "dtypes: int64(3), object(1)\n",
      "memory usage: 7.5+ MB\n"
     ]
    },
    {
     "data": {
      "text/plain": [
       "None"
      ]
     },
     "metadata": {},
     "output_type": "display_data"
    },
    {
     "data": {
      "text/html": [
       "<div>\n",
       "<style scoped>\n",
       "    .dataframe tbody tr th:only-of-type {\n",
       "        vertical-align: middle;\n",
       "    }\n",
       "\n",
       "    .dataframe tbody tr th {\n",
       "        vertical-align: top;\n",
       "    }\n",
       "\n",
       "    .dataframe thead th {\n",
       "        text-align: right;\n",
       "    }\n",
       "</style>\n",
       "<table border=\"1\" class=\"dataframe\">\n",
       "  <thead>\n",
       "    <tr style=\"text-align: right;\">\n",
       "      <th></th>\n",
       "      <th>EventName</th>\n",
       "      <th>DeviceIDHash</th>\n",
       "      <th>EventTimestamp</th>\n",
       "      <th>ExpId</th>\n",
       "    </tr>\n",
       "  </thead>\n",
       "  <tbody>\n",
       "    <tr>\n",
       "      <th>0</th>\n",
       "      <td>MainScreenAppear</td>\n",
       "      <td>4575588528974610257</td>\n",
       "      <td>1564029816</td>\n",
       "      <td>246</td>\n",
       "    </tr>\n",
       "    <tr>\n",
       "      <th>1</th>\n",
       "      <td>MainScreenAppear</td>\n",
       "      <td>7416695313311560658</td>\n",
       "      <td>1564053102</td>\n",
       "      <td>246</td>\n",
       "    </tr>\n",
       "    <tr>\n",
       "      <th>2</th>\n",
       "      <td>PaymentScreenSuccessful</td>\n",
       "      <td>3518123091307005509</td>\n",
       "      <td>1564054127</td>\n",
       "      <td>248</td>\n",
       "    </tr>\n",
       "    <tr>\n",
       "      <th>3</th>\n",
       "      <td>CartScreenAppear</td>\n",
       "      <td>3518123091307005509</td>\n",
       "      <td>1564054127</td>\n",
       "      <td>248</td>\n",
       "    </tr>\n",
       "    <tr>\n",
       "      <th>4</th>\n",
       "      <td>PaymentScreenSuccessful</td>\n",
       "      <td>6217807653094995999</td>\n",
       "      <td>1564055322</td>\n",
       "      <td>248</td>\n",
       "    </tr>\n",
       "  </tbody>\n",
       "</table>\n",
       "</div>"
      ],
      "text/plain": [
       "                 EventName         DeviceIDHash  EventTimestamp  ExpId\n",
       "0         MainScreenAppear  4575588528974610257      1564029816    246\n",
       "1         MainScreenAppear  7416695313311560658      1564053102    246\n",
       "2  PaymentScreenSuccessful  3518123091307005509      1564054127    248\n",
       "3         CartScreenAppear  3518123091307005509      1564054127    248\n",
       "4  PaymentScreenSuccessful  6217807653094995999      1564055322    248"
      ]
     },
     "metadata": {},
     "output_type": "display_data"
    }
   ],
   "source": [
    "# Знакомимся с данными.\n",
    "display(data.info())\n",
    "display(data.head()) "
   ]
  },
  {
   "cell_type": "markdown",
   "metadata": {},
   "source": [
    "В таблице 244126 записей. Формат данных с столбце EventTimestamp переведем в datetime на одном из следующих этапов, остальные форматы соответствуют типу данных. \n",
    "Названия столбцов необходимо будет привести к нижнему регистру и \"змеиному\" стилю, а также данные в колонке EventName привести к нижнему регистру для поиска неявных дубликатов."
   ]
  },
  {
   "cell_type": "markdown",
   "metadata": {},
   "source": [
    "#### Предобработка данных."
   ]
  },
  {
   "cell_type": "code",
   "execution_count": 4,
   "metadata": {},
   "outputs": [
    {
     "data": {
      "text/plain": [
       "event_name         0\n",
       "device_id_hash     0\n",
       "event_timestamp    0\n",
       "exp_id             0\n",
       "dtype: int64"
      ]
     },
     "metadata": {},
     "output_type": "display_data"
    },
    {
     "data": {
      "text/plain": [
       "413"
      ]
     },
     "metadata": {},
     "output_type": "display_data"
    }
   ],
   "source": [
    "# Приводим названия столбцов к нижнему регистру и \"змеиному\" стилю.\n",
    "data = data.rename(columns={'EventName':'event_name','DeviceIDHash':'device_id_hash','EventTimestamp':'event_timestamp','ExpId':'exp_id'}) \n",
    "data.head()\n",
    "\n",
    "# Проверяем данные на пропуски.\n",
    "display(data.isna().sum()) \n",
    "\n",
    "# Проверяем на дубликаты и удаляем их.\n",
    "data['event_name'] = data['event_name'].str.lower() \n",
    "display(data.duplicated().sum()) \n",
    "data = data.drop_duplicates()"
   ]
  },
  {
   "cell_type": "markdown",
   "metadata": {},
   "source": [
    "Привели названия столбцов к нижнему регистру и \"змеиному\" стилю. \n",
    "\n",
    "Проверили данные на пропуски - их нет. \n",
    "\n",
    "Обнаружили 413 дубликатов, это меньше 2% всех записей в таблице, удалим их."
   ]
  },
  {
   "cell_type": "code",
   "execution_count": 5,
   "metadata": {},
   "outputs": [
    {
     "name": "stdout",
     "output_type": "stream",
     "text": [
      "<class 'pandas.core.frame.DataFrame'>\n",
      "Int64Index: 243713 entries, 0 to 244125\n",
      "Data columns (total 6 columns):\n",
      " #   Column           Non-Null Count   Dtype         \n",
      "---  ------           --------------   -----         \n",
      " 0   event_name       243713 non-null  object        \n",
      " 1   device_id_hash   243713 non-null  int64         \n",
      " 2   event_timestamp  243713 non-null  int64         \n",
      " 3   exp_id           243713 non-null  int64         \n",
      " 4   time             243713 non-null  datetime64[ns]\n",
      " 5   date             243713 non-null  datetime64[ns]\n",
      "dtypes: datetime64[ns](2), int64(3), object(1)\n",
      "memory usage: 13.0+ MB\n"
     ]
    },
    {
     "data": {
      "text/html": [
       "<div>\n",
       "<style scoped>\n",
       "    .dataframe tbody tr th:only-of-type {\n",
       "        vertical-align: middle;\n",
       "    }\n",
       "\n",
       "    .dataframe tbody tr th {\n",
       "        vertical-align: top;\n",
       "    }\n",
       "\n",
       "    .dataframe thead th {\n",
       "        text-align: right;\n",
       "    }\n",
       "</style>\n",
       "<table border=\"1\" class=\"dataframe\">\n",
       "  <thead>\n",
       "    <tr style=\"text-align: right;\">\n",
       "      <th></th>\n",
       "      <th>event_name</th>\n",
       "      <th>device_id_hash</th>\n",
       "      <th>event_timestamp</th>\n",
       "      <th>exp_id</th>\n",
       "      <th>time</th>\n",
       "      <th>date</th>\n",
       "    </tr>\n",
       "  </thead>\n",
       "  <tbody>\n",
       "    <tr>\n",
       "      <th>0</th>\n",
       "      <td>mainscreenappear</td>\n",
       "      <td>4575588528974610257</td>\n",
       "      <td>1564029816</td>\n",
       "      <td>246</td>\n",
       "      <td>2019-07-25 04:43:36</td>\n",
       "      <td>2019-07-25</td>\n",
       "    </tr>\n",
       "    <tr>\n",
       "      <th>1</th>\n",
       "      <td>mainscreenappear</td>\n",
       "      <td>7416695313311560658</td>\n",
       "      <td>1564053102</td>\n",
       "      <td>246</td>\n",
       "      <td>2019-07-25 11:11:42</td>\n",
       "      <td>2019-07-25</td>\n",
       "    </tr>\n",
       "    <tr>\n",
       "      <th>2</th>\n",
       "      <td>paymentscreensuccessful</td>\n",
       "      <td>3518123091307005509</td>\n",
       "      <td>1564054127</td>\n",
       "      <td>248</td>\n",
       "      <td>2019-07-25 11:28:47</td>\n",
       "      <td>2019-07-25</td>\n",
       "    </tr>\n",
       "    <tr>\n",
       "      <th>3</th>\n",
       "      <td>cartscreenappear</td>\n",
       "      <td>3518123091307005509</td>\n",
       "      <td>1564054127</td>\n",
       "      <td>248</td>\n",
       "      <td>2019-07-25 11:28:47</td>\n",
       "      <td>2019-07-25</td>\n",
       "    </tr>\n",
       "    <tr>\n",
       "      <th>4</th>\n",
       "      <td>paymentscreensuccessful</td>\n",
       "      <td>6217807653094995999</td>\n",
       "      <td>1564055322</td>\n",
       "      <td>248</td>\n",
       "      <td>2019-07-25 11:48:42</td>\n",
       "      <td>2019-07-25</td>\n",
       "    </tr>\n",
       "  </tbody>\n",
       "</table>\n",
       "</div>"
      ],
      "text/plain": [
       "                event_name       device_id_hash  event_timestamp  exp_id  \\\n",
       "0         mainscreenappear  4575588528974610257       1564029816     246   \n",
       "1         mainscreenappear  7416695313311560658       1564053102     246   \n",
       "2  paymentscreensuccessful  3518123091307005509       1564054127     248   \n",
       "3         cartscreenappear  3518123091307005509       1564054127     248   \n",
       "4  paymentscreensuccessful  6217807653094995999       1564055322     248   \n",
       "\n",
       "                 time       date  \n",
       "0 2019-07-25 04:43:36 2019-07-25  \n",
       "1 2019-07-25 11:11:42 2019-07-25  \n",
       "2 2019-07-25 11:28:47 2019-07-25  \n",
       "3 2019-07-25 11:28:47 2019-07-25  \n",
       "4 2019-07-25 11:48:42 2019-07-25  "
      ]
     },
     "execution_count": 5,
     "metadata": {},
     "output_type": "execute_result"
    }
   ],
   "source": [
    "# Создаем столбцы со временем и датой события. \n",
    "data['time'] = pd.to_datetime(data['event_timestamp'], unit='s') \n",
    "data['date'] = data['time'].dt.date \n",
    "data['date'] = pd.to_datetime(data['date'])\n",
    "data.info() # Проверяем формат даты \n",
    "data.head()"
   ]
  },
  {
   "cell_type": "markdown",
   "metadata": {},
   "source": [
    "Создали столбцы со временем события и датой из столбца event_timestamp."
   ]
  },
  {
   "cell_type": "code",
   "execution_count": 6,
   "metadata": {},
   "outputs": [
    {
     "data": {
      "text/plain": [
       "0"
      ]
     },
     "execution_count": 6,
     "metadata": {},
     "output_type": "execute_result"
    }
   ],
   "source": [
    "# Проверка на попадание пользователей более чем в одну группу.\n",
    "\n",
    "group_a = data[data['exp_id']==246] \n",
    "group_b = data[data['exp_id']==247] \n",
    "group_c = data[data['exp_id']==248] \n",
    "common = group_a.merge(group_b, on = ['device_id_hash'])\n",
    "#common['device_id_hash'].nunique()\n",
    "common = common.merge(group_c, on= ['device_id_hash'])\n",
    "common['device_id_hash'].nunique()"
   ]
  },
  {
   "cell_type": "markdown",
   "metadata": {},
   "source": [
    "В каждой группе пользователи уникальны, пересечений между группами нет."
   ]
  },
  {
   "cell_type": "markdown",
   "metadata": {},
   "source": [
    "#### Изучение и проверка данных."
   ]
  },
  {
   "cell_type": "code",
   "execution_count": 7,
   "metadata": {},
   "outputs": [
    {
     "data": {
      "text/plain": [
       "243713"
      ]
     },
     "metadata": {},
     "output_type": "display_data"
    },
    {
     "data": {
      "text/plain": [
       "7551"
      ]
     },
     "metadata": {},
     "output_type": "display_data"
    },
    {
     "data": {
      "text/plain": [
       "32"
      ]
     },
     "metadata": {},
     "output_type": "display_data"
    },
    {
     "data": {
      "text/plain": [
       "Timestamp('2019-07-25 00:00:00')"
      ]
     },
     "metadata": {},
     "output_type": "display_data"
    },
    {
     "data": {
      "text/plain": [
       "Timestamp('2019-08-07 00:00:00')"
      ]
     },
     "metadata": {},
     "output_type": "display_data"
    },
    {
     "data": {
      "image/png": "[encoded data removed]",
      "text/plain": [
       "<Figure size 1080x576 with 1 Axes>"
      ]
     },
     "metadata": {
      "needs_background": "light"
     },
     "output_type": "display_data"
    }
   ],
   "source": [
    "# Количество событий в логе. \n",
    "display(data['event_name'].count()) \n",
    "\n",
    "# Количество пользователей в логе. \n",
    "display(data['device_id_hash'].nunique()) \n",
    "\n",
    "# Среднее количество событий на пользователя. \n",
    "display(round(data['event_name'].count()/data['device_id_hash'].nunique())) \n",
    "\n",
    "# Минимальная и максимальная дата. \n",
    "display(data['date'].min()) \n",
    "display(data['date'].max()) \n",
    "\n",
    "# Диаграмма количества событий в зависимости от времени по группам.\n",
    "data.pivot_table(index='date',columns='exp_id', values='event_name', aggfunc = 'count').plot(kind='bar', \n",
    "xlabel = 'Дата', ylabel = 'Количество событий',figsize = (15,8), title = 'Количество событий в зависимости от времени')\n",
    "plt.xticks(rotation=45)\n",
    "plt.show()"
   ]
  },
  {
   "cell_type": "markdown",
   "metadata": {},
   "source": [
    "Всего событий в логе: 243713\n",
    "\n",
    "Уникальных пользователей: 7551\n",
    "\n",
    "Среднее количество событий на пользователя: 32\n",
    "\n",
    "Минимальная дата: 2019-07-25\n",
    "\n",
    "Максимальная дата: 2019-08-07 \n",
    "\n",
    "Данные до 01.08.2019 неполные, можем их убрать изи анализа."
   ]
  },
  {
   "cell_type": "code",
   "execution_count": 8,
   "metadata": {},
   "outputs": [
    {
     "data": {
      "image/png": "[encoded data removed]",
      "text/plain": [
       "<Figure size 1080x576 with 1 Axes>"
      ]
     },
     "metadata": {
      "needs_background": "light"
     },
     "output_type": "display_data"
    }
   ],
   "source": [
    "# Убираем нерелевантные данные из анализа.\n",
    "data_new = data[data['date']>='2019-08-01 00:00:00'] \n",
    "data_new.pivot_table(index='date',columns='exp_id', values='event_name', aggfunc = 'count').plot(kind='bar', \n",
    "xlabel = 'Дата', ylabel = 'Количество событий',figsize = (15,8), title = 'Количество событий в зависимости от времени')\n",
    "plt.xticks(rotation=45)\n",
    "plt.show()"
   ]
  },
  {
   "cell_type": "code",
   "execution_count": 9,
   "metadata": {},
   "outputs": [
    {
     "name": "stdout",
     "output_type": "stream",
     "text": [
      "<class 'pandas.core.frame.DataFrame'>\n",
      "Int64Index: 240887 entries, 2828 to 244125\n",
      "Data columns (total 6 columns):\n",
      " #   Column           Non-Null Count   Dtype         \n",
      "---  ------           --------------   -----         \n",
      " 0   event_name       240887 non-null  object        \n",
      " 1   device_id_hash   240887 non-null  int64         \n",
      " 2   event_timestamp  240887 non-null  int64         \n",
      " 3   exp_id           240887 non-null  int64         \n",
      " 4   time             240887 non-null  datetime64[ns]\n",
      " 5   date             240887 non-null  datetime64[ns]\n",
      "dtypes: datetime64[ns](2), int64(3), object(1)\n",
      "memory usage: 12.9+ MB\n"
     ]
    },
    {
     "data": {
      "text/plain": [
       "None"
      ]
     },
     "metadata": {},
     "output_type": "display_data"
    },
    {
     "data": {
      "text/plain": [
       "7534"
      ]
     },
     "metadata": {},
     "output_type": "display_data"
    },
    {
     "data": {
      "text/plain": [
       "2826"
      ]
     },
     "metadata": {},
     "output_type": "display_data"
    },
    {
     "data": {
      "text/plain": [
       "1.159560630741897"
      ]
     },
     "metadata": {},
     "output_type": "display_data"
    },
    {
     "name": "stdout",
     "output_type": "stream",
     "text": [
      "17\n"
     ]
    },
    {
     "data": {
      "text/plain": [
       "0.22513574361011784"
      ]
     },
     "metadata": {},
     "output_type": "display_data"
    },
    {
     "data": {
      "text/plain": [
       "exp_id\n",
       "246    2484\n",
       "247    2513\n",
       "248    2537\n",
       "Name: device_id_hash, dtype: int64"
      ]
     },
     "metadata": {},
     "output_type": "display_data"
    }
   ],
   "source": [
    "# Проверяем, сколько потерялось событий и пользователей\n",
    "display(data_new.info())\n",
    "display(data_new['device_id_hash'].nunique())\n",
    "\n",
    "# Потерянные события\n",
    "lost_events = data[data['date']<='31-07-2019']['event_name'].count() \n",
    "display(lost_events) \n",
    "display((lost_events/data['event_name'].count())*100) # % потерянных событий \n",
    "\n",
    "# Потерянные пользователи\n",
    "lost_users = data['device_id_hash'].nunique() - data_new['device_id_hash'].nunique() \n",
    "print(lost_users)\n",
    "display((lost_users/data['device_id_hash'].nunique())*100) # % потерянных пользователей \n",
    "\n",
    "\n",
    "# Проверяем, во всех ли трех группах есть пользователи.\n",
    "display(data_new.groupby('exp_id')['device_id_hash'].nunique()) "
   ]
  },
  {
   "cell_type": "markdown",
   "metadata": {},
   "source": [
    "После удаления данных потеряли 2826 событий и 6 уникальных пользователей, т.е. 1.1% событий и 0.22% пользователей, это незначительные показатели. \n",
    "\n",
    "Во всех 3-х экспериментальных группах есть пользователи: \n",
    "\n",
    "246  -  2484\n",
    "\n",
    "247  -  2513\n",
    "\n",
    "248  -  2537"
   ]
  },
  {
   "cell_type": "markdown",
   "metadata": {},
   "source": [
    "#### Изучение воронки событий. "
   ]
  },
  {
   "cell_type": "code",
   "execution_count": 10,
   "metadata": {},
   "outputs": [
    {
     "data": {
      "text/html": [
       "<div>\n",
       "<style scoped>\n",
       "    .dataframe tbody tr th:only-of-type {\n",
       "        vertical-align: middle;\n",
       "    }\n",
       "\n",
       "    .dataframe tbody tr th {\n",
       "        vertical-align: top;\n",
       "    }\n",
       "\n",
       "    .dataframe thead th {\n",
       "        text-align: right;\n",
       "    }\n",
       "</style>\n",
       "<table border=\"1\" class=\"dataframe\">\n",
       "  <thead>\n",
       "    <tr style=\"text-align: right;\">\n",
       "      <th></th>\n",
       "      <th>event_count</th>\n",
       "    </tr>\n",
       "    <tr>\n",
       "      <th>event_name</th>\n",
       "      <th></th>\n",
       "    </tr>\n",
       "  </thead>\n",
       "  <tbody>\n",
       "    <tr>\n",
       "      <th>mainscreenappear</th>\n",
       "      <td>117328</td>\n",
       "    </tr>\n",
       "    <tr>\n",
       "      <th>offersscreenappear</th>\n",
       "      <td>46333</td>\n",
       "    </tr>\n",
       "    <tr>\n",
       "      <th>cartscreenappear</th>\n",
       "      <td>42303</td>\n",
       "    </tr>\n",
       "    <tr>\n",
       "      <th>paymentscreensuccessful</th>\n",
       "      <td>33918</td>\n",
       "    </tr>\n",
       "    <tr>\n",
       "      <th>tutorial</th>\n",
       "      <td>1005</td>\n",
       "    </tr>\n",
       "  </tbody>\n",
       "</table>\n",
       "</div>"
      ],
      "text/plain": [
       "                         event_count\n",
       "event_name                          \n",
       "mainscreenappear              117328\n",
       "offersscreenappear             46333\n",
       "cartscreenappear               42303\n",
       "paymentscreensuccessful        33918\n",
       "tutorial                        1005"
      ]
     },
     "execution_count": 10,
     "metadata": {},
     "output_type": "execute_result"
    }
   ],
   "source": [
    "# Изучение уникальных событий и частоты их появления.\n",
    "events = data_new.pivot_table(index='event_name',values='event_timestamp',aggfunc='count').sort_values(by='event_timestamp',ascending=False) \n",
    "events = events.rename(columns={'event_timestamp':'event_count'})\n",
    "events"
   ]
  },
  {
   "cell_type": "code",
   "execution_count": 11,
   "metadata": {},
   "outputs": [
    {
     "data": {
      "text/html": [
       "<div>\n",
       "<style scoped>\n",
       "    .dataframe tbody tr th:only-of-type {\n",
       "        vertical-align: middle;\n",
       "    }\n",
       "\n",
       "    .dataframe tbody tr th {\n",
       "        vertical-align: top;\n",
       "    }\n",
       "\n",
       "    .dataframe thead th {\n",
       "        text-align: right;\n",
       "    }\n",
       "</style>\n",
       "<table border=\"1\" class=\"dataframe\">\n",
       "  <thead>\n",
       "    <tr style=\"text-align: right;\">\n",
       "      <th></th>\n",
       "      <th>event_count</th>\n",
       "      <th>user_count</th>\n",
       "      <th>user_ratio</th>\n",
       "    </tr>\n",
       "    <tr>\n",
       "      <th>event_name</th>\n",
       "      <th></th>\n",
       "      <th></th>\n",
       "      <th></th>\n",
       "    </tr>\n",
       "  </thead>\n",
       "  <tbody>\n",
       "    <tr>\n",
       "      <th>mainscreenappear</th>\n",
       "      <td>117328</td>\n",
       "      <td>7419</td>\n",
       "      <td>0.98</td>\n",
       "    </tr>\n",
       "    <tr>\n",
       "      <th>offersscreenappear</th>\n",
       "      <td>46333</td>\n",
       "      <td>4593</td>\n",
       "      <td>0.61</td>\n",
       "    </tr>\n",
       "    <tr>\n",
       "      <th>cartscreenappear</th>\n",
       "      <td>42303</td>\n",
       "      <td>3734</td>\n",
       "      <td>0.49</td>\n",
       "    </tr>\n",
       "    <tr>\n",
       "      <th>paymentscreensuccessful</th>\n",
       "      <td>33918</td>\n",
       "      <td>3539</td>\n",
       "      <td>0.47</td>\n",
       "    </tr>\n",
       "    <tr>\n",
       "      <th>tutorial</th>\n",
       "      <td>1005</td>\n",
       "      <td>840</td>\n",
       "      <td>0.11</td>\n",
       "    </tr>\n",
       "  </tbody>\n",
       "</table>\n",
       "</div>"
      ],
      "text/plain": [
       "                         event_count  user_count  user_ratio\n",
       "event_name                                                  \n",
       "mainscreenappear              117328        7419        0.98\n",
       "offersscreenappear             46333        4593        0.61\n",
       "cartscreenappear               42303        3734        0.49\n",
       "paymentscreensuccessful        33918        3539        0.47\n",
       "tutorial                        1005         840        0.11"
      ]
     },
     "execution_count": 11,
     "metadata": {},
     "output_type": "execute_result"
    }
   ],
   "source": [
    "# Количество пользователей, совершавших каждое событие.\n",
    "users = data_new.pivot_table(index='event_name',values='device_id_hash',aggfunc='nunique').sort_values(by='device_id_hash',\n",
    "                                                                                                   ascending=False) \n",
    "# Доля пользователей, хоть раз совершавших событие.\n",
    "users['user_ratio'] = round(users['device_id_hash']/data['device_id_hash'].nunique(),2)\n",
    "users = users.rename(columns={'device_id_hash':'user_count'})\n",
    "\n",
    "# Общая таблица\n",
    "merged = events.merge(users, on='event_name') \n",
    "merged"
   ]
  },
  {
   "cell_type": "markdown",
   "metadata": {},
   "source": [
    "Вероятно, события происходят в следующем порядке: \n",
    "\n",
    "1) mainscreenappear - показ главного экрана\n",
    "\n",
    "2) offerscreenappear - показ коммерческого предложения\n",
    "\n",
    "3) cartscreenappear - показ корзины\n",
    "\n",
    "4) paymentscreensuccessful - страница с подтверждением платежа\n",
    "\n",
    "Событие tutorial, судя по всему, не входит в последовательность, его пользователь может совершить в любой момент по желанию."
   ]
  },
  {
   "cell_type": "code",
   "execution_count": 12,
   "metadata": {},
   "outputs": [
    {
     "name": "stderr",
     "output_type": "stream",
     "text": [
      "/opt/conda/lib/python3.9/site-packages/pandas/core/indexing.py:1637: SettingWithCopyWarning: \n",
      "A value is trying to be set on a copy of a slice from a DataFrame\n",
      "\n",
      "See the caveats in the documentation: https://pandas.pydata.org/pandas-docs/stable/user_guide/indexing.html#returning-a-view-versus-a-copy\n",
      "  self._setitem_single_block(indexer, value, name)\n"
     ]
    },
    {
     "data": {
      "text/html": [
       "<div>\n",
       "<style scoped>\n",
       "    .dataframe tbody tr th:only-of-type {\n",
       "        vertical-align: middle;\n",
       "    }\n",
       "\n",
       "    .dataframe tbody tr th {\n",
       "        vertical-align: top;\n",
       "    }\n",
       "\n",
       "    .dataframe thead th {\n",
       "        text-align: right;\n",
       "    }\n",
       "</style>\n",
       "<table border=\"1\" class=\"dataframe\">\n",
       "  <thead>\n",
       "    <tr style=\"text-align: right;\">\n",
       "      <th></th>\n",
       "      <th>event_count</th>\n",
       "      <th>user_count</th>\n",
       "      <th>user_ratio</th>\n",
       "      <th>churn</th>\n",
       "    </tr>\n",
       "    <tr>\n",
       "      <th>event_name</th>\n",
       "      <th></th>\n",
       "      <th></th>\n",
       "      <th></th>\n",
       "      <th></th>\n",
       "    </tr>\n",
       "  </thead>\n",
       "  <tbody>\n",
       "    <tr>\n",
       "      <th>mainscreenappear</th>\n",
       "      <td>117328</td>\n",
       "      <td>7419</td>\n",
       "      <td>0.98</td>\n",
       "      <td>1.00</td>\n",
       "    </tr>\n",
       "    <tr>\n",
       "      <th>offersscreenappear</th>\n",
       "      <td>46333</td>\n",
       "      <td>4593</td>\n",
       "      <td>0.61</td>\n",
       "      <td>0.62</td>\n",
       "    </tr>\n",
       "    <tr>\n",
       "      <th>cartscreenappear</th>\n",
       "      <td>42303</td>\n",
       "      <td>3734</td>\n",
       "      <td>0.49</td>\n",
       "      <td>0.81</td>\n",
       "    </tr>\n",
       "    <tr>\n",
       "      <th>paymentscreensuccessful</th>\n",
       "      <td>33918</td>\n",
       "      <td>3539</td>\n",
       "      <td>0.47</td>\n",
       "      <td>0.95</td>\n",
       "    </tr>\n",
       "    <tr>\n",
       "      <th>tutorial</th>\n",
       "      <td>1005</td>\n",
       "      <td>840</td>\n",
       "      <td>0.11</td>\n",
       "      <td>0.24</td>\n",
       "    </tr>\n",
       "  </tbody>\n",
       "</table>\n",
       "</div>"
      ],
      "text/plain": [
       "                         event_count  user_count  user_ratio  churn\n",
       "event_name                                                         \n",
       "mainscreenappear              117328        7419        0.98   1.00\n",
       "offersscreenappear             46333        4593        0.61   0.62\n",
       "cartscreenappear               42303        3734        0.49   0.81\n",
       "paymentscreensuccessful        33918        3539        0.47   0.95\n",
       "tutorial                        1005         840        0.11   0.24"
      ]
     },
     "metadata": {},
     "output_type": "display_data"
    }
   ],
   "source": [
    "# Подсчет доли пользователей, которая переходи на следующий шаг воронки.\n",
    "merged['churn'] = 0\n",
    "\n",
    "for i in range(0, len(merged['user_count'])):\n",
    "    if i == 0:\n",
    "        merged['churn'].iloc[i] = 1 \n",
    "    else:\n",
    "        merged['churn'].iloc[i] = round(merged['user_count'].iloc[i]/merged['user_count'].iloc[i-1], 2)\n",
    "        \n",
    "display(merged)"
   ]
  },
  {
   "cell_type": "markdown",
   "metadata": {},
   "source": [
    "Больше всего пользователей теряется на этапе с предложением товара - переходят туда с главного экрана 62% пользователей. \n",
    "От первого события до оплаты доходит (3539/7419 = 0.47) 47% пользователей. \n",
    "Большая потеря пользователей на этапе перехода с главного экрана на экран с коммерческим предложением может быть связана с тем, что на главном экране нужная иконка/кнопка, которая переводит на страницу с предложением, неудобно расположена, имеет неочевидный для пользователя функционал, недостаточно заметная и проч. Возможно, стоит обратить на это внимание и внести правки в интерфейс главного экрана."
   ]
  },
  {
   "cell_type": "markdown",
   "metadata": {},
   "source": [
    "#### Изучение результатов эксперимента."
   ]
  },
  {
   "cell_type": "code",
   "execution_count": 13,
   "metadata": {},
   "outputs": [
    {
     "data": {
      "text/plain": [
       "exp_id\n",
       "246    2484\n",
       "247    2513\n",
       "248    2537\n",
       "Name: device_id_hash, dtype: int64"
      ]
     },
     "execution_count": 13,
     "metadata": {},
     "output_type": "execute_result"
    }
   ],
   "source": [
    "# Количество пользователей в каждой экспериментальной группе. \n",
    "data_new.groupby('exp_id')['device_id_hash'].nunique() \n"
   ]
  },
  {
   "cell_type": "code",
   "execution_count": 14,
   "metadata": {},
   "outputs": [
    {
     "data": {
      "text/html": [
       "<div>\n",
       "<style scoped>\n",
       "    .dataframe tbody tr th:only-of-type {\n",
       "        vertical-align: middle;\n",
       "    }\n",
       "\n",
       "    .dataframe tbody tr th {\n",
       "        vertical-align: top;\n",
       "    }\n",
       "\n",
       "    .dataframe thead th {\n",
       "        text-align: right;\n",
       "    }\n",
       "</style>\n",
       "<table border=\"1\" class=\"dataframe\">\n",
       "  <thead>\n",
       "    <tr style=\"text-align: right;\">\n",
       "      <th>event_name</th>\n",
       "      <th>exp_id</th>\n",
       "      <th>cartscreenappear</th>\n",
       "      <th>mainscreenappear</th>\n",
       "      <th>offersscreenappear</th>\n",
       "      <th>paymentscreensuccessful</th>\n",
       "      <th>total</th>\n",
       "    </tr>\n",
       "  </thead>\n",
       "  <tbody>\n",
       "    <tr>\n",
       "      <th>0</th>\n",
       "      <td>246</td>\n",
       "      <td>1266</td>\n",
       "      <td>2450</td>\n",
       "      <td>1542</td>\n",
       "      <td>1200</td>\n",
       "      <td>2484</td>\n",
       "    </tr>\n",
       "    <tr>\n",
       "      <th>1</th>\n",
       "      <td>247</td>\n",
       "      <td>1238</td>\n",
       "      <td>2476</td>\n",
       "      <td>1520</td>\n",
       "      <td>1158</td>\n",
       "      <td>2513</td>\n",
       "    </tr>\n",
       "    <tr>\n",
       "      <th>2</th>\n",
       "      <td>248</td>\n",
       "      <td>1230</td>\n",
       "      <td>2493</td>\n",
       "      <td>1531</td>\n",
       "      <td>1181</td>\n",
       "      <td>2537</td>\n",
       "    </tr>\n",
       "  </tbody>\n",
       "</table>\n",
       "</div>"
      ],
      "text/plain": [
       "event_name  exp_id  cartscreenappear  mainscreenappear  offersscreenappear  \\\n",
       "0              246              1266              2450                1542   \n",
       "1              247              1238              2476                1520   \n",
       "2              248              1230              2493                1531   \n",
       "\n",
       "event_name  paymentscreensuccessful  total  \n",
       "0                              1200   2484  \n",
       "1                              1158   2513  \n",
       "2                              1181   2537  "
      ]
     },
     "execution_count": 14,
     "metadata": {},
     "output_type": "execute_result"
    }
   ],
   "source": [
    "# Проверка разницы между группами 246 и 247. \n",
    "\n",
    "# Создание таблицы с количеством пользователей на каждом шаге.\n",
    "exp = data_new.pivot_table(index='exp_id',columns='event_name', values = 'device_id_hash',aggfunc='nunique')\n",
    "exp['total'] = data_new.pivot_table(index='exp_id', values = 'device_id_hash', aggfunc='nunique')\n",
    "exp = exp.drop(columns='tutorial').reset_index()\n",
    "exp "
   ]
  },
  {
   "cell_type": "markdown",
   "metadata": {},
   "source": [
    "Самое популярное событие - mainscreenappear."
   ]
  },
  {
   "cell_type": "markdown",
   "metadata": {},
   "source": [
    "Сформулируем гипотезы для всех тестов: \n",
    "\n",
    "H0 - разницы между группами нет \n",
    "\n",
    "H1 - разница между группами есть \n",
    "\n",
    "Установим уровень статистической значимости альфа c поправкой Бонферрони - 0.05/16 = 0.003125. Всего проводим 16 тестов, поэтому делим уровень альфа 0.05 на 16. \n",
    "\n",
    "Для проверки гипотез будем использовать z-критерий."
   ]
  },
  {
   "cell_type": "code",
   "execution_count": 15,
   "metadata": {},
   "outputs": [],
   "source": [
    "# Функция для проверки групп на различие. \n",
    "\n",
    "trials = (exp['total'][0],exp['total'][1])\n",
    "alpha = .003125 # критический уровень статистической значимости\n",
    "\n",
    "def equality(successes, trials, alpha):\n",
    "\n",
    "# пропорция успехов в первой группе:\n",
    "    p1 = successes[0]/trials[0]\n",
    "\n",
    "# пропорция успехов во второй группе:\n",
    "    p2 = successes[1]/trials[1]\n",
    "\n",
    "# пропорция успехов в комбинированном датасете:\n",
    "    p_combined = (successes[0] + successes[1]) / (trials[0] + trials[1])\n",
    "\n",
    "# разница пропорций в датасетах\n",
    "    difference = p1 - p2 \n",
    "    \n",
    "# считаем статистику в ст.отклонениях стандартного нормального распределения\n",
    "    z_value = difference / mth.sqrt(p_combined * (1 - p_combined) * (1/trials[0] + 1/trials[1]))\n",
    "\n",
    "# задаем стандартное нормальное распределение (среднее 0, ст.отклонение 1)\n",
    "    distr = stats.norm(0, 1)  \n",
    "    \n",
    "    p_value = (1 - distr.cdf(abs(z_value))) * 2\n",
    "\n",
    "    print('p-значение: ', p_value)\n",
    "\n",
    "    if p_value < alpha:\n",
    "        print('Отвергаем нулевую гипотезу: между долями есть значимая разница')\n",
    "    else:\n",
    "        print(\n",
    "        'Не получилось отвергнуть нулевую гипотезу, нет оснований считать доли разными'\n",
    "    ) "
   ]
  },
  {
   "cell_type": "code",
   "execution_count": 16,
   "metadata": {},
   "outputs": [
    {
     "name": "stdout",
     "output_type": "stream",
     "text": [
      "p-значение:  0.7570597232046099\n",
      "Не получилось отвергнуть нулевую гипотезу, нет оснований считать доли разными\n"
     ]
    }
   ],
   "source": [
    "# Отличие между группами по событию mainscreenappear. \n",
    "\n",
    "mainscreenappear = (exp['mainscreenappear'][0],exp['mainscreenappear'][1]) \n",
    "equality(mainscreenappear, trials, alpha)"
   ]
  },
  {
   "cell_type": "code",
   "execution_count": 17,
   "metadata": {},
   "outputs": [
    {
     "name": "stdout",
     "output_type": "stream",
     "text": [
      "p-значение:  0.22883372237997213\n",
      "Не получилось отвергнуть нулевую гипотезу, нет оснований считать доли разными\n"
     ]
    }
   ],
   "source": [
    "# Изучение отличий по остальным событиям.\n",
    "\n",
    "cartscreenappear = (exp['cartscreenappear'][0],exp['cartscreenappear'][1])\n",
    "equality(cartscreenappear, trials, alpha)"
   ]
  },
  {
   "cell_type": "code",
   "execution_count": 18,
   "metadata": {},
   "outputs": [
    {
     "name": "stdout",
     "output_type": "stream",
     "text": [
      "p-значение:  0.2480954578522181\n",
      "Не получилось отвергнуть нулевую гипотезу, нет оснований считать доли разными\n"
     ]
    }
   ],
   "source": [
    "offersscreenappear = (exp['offersscreenappear'][0],exp['offersscreenappear'][1])  \n",
    "equality(offersscreenappear, trials, alpha)"
   ]
  },
  {
   "cell_type": "code",
   "execution_count": 19,
   "metadata": {
    "scrolled": true
   },
   "outputs": [
    {
     "name": "stdout",
     "output_type": "stream",
     "text": [
      "p-значение:  0.11456679313141849\n",
      "Не получилось отвергнуть нулевую гипотезу, нет оснований считать доли разными\n"
     ]
    }
   ],
   "source": [
    "paymentscreensuccessful = (exp['paymentscreensuccessful'][0],exp['paymentscreensuccessful'][1]) \n",
    "equality(paymentscreensuccessful, trials, alpha)"
   ]
  },
  {
   "cell_type": "markdown",
   "metadata": {},
   "source": [
    "По результатам проверки различий между группами 246 и 247 мы не обнаружили. Разбиение на группы работает корректно."
   ]
  },
  {
   "cell_type": "code",
   "execution_count": 20,
   "metadata": {},
   "outputs": [
    {
     "data": {
      "text/html": [
       "<div>\n",
       "<style scoped>\n",
       "    .dataframe tbody tr th:only-of-type {\n",
       "        vertical-align: middle;\n",
       "    }\n",
       "\n",
       "    .dataframe tbody tr th {\n",
       "        vertical-align: top;\n",
       "    }\n",
       "\n",
       "    .dataframe thead th {\n",
       "        text-align: right;\n",
       "    }\n",
       "</style>\n",
       "<table border=\"1\" class=\"dataframe\">\n",
       "  <thead>\n",
       "    <tr style=\"text-align: right;\">\n",
       "      <th>event_name</th>\n",
       "      <th>cartscreenappear</th>\n",
       "      <th>mainscreenappear</th>\n",
       "      <th>offersscreenappear</th>\n",
       "      <th>paymentscreensuccessful</th>\n",
       "      <th>tutorial</th>\n",
       "    </tr>\n",
       "    <tr>\n",
       "      <th>exp_id</th>\n",
       "      <th></th>\n",
       "      <th></th>\n",
       "      <th></th>\n",
       "      <th></th>\n",
       "      <th></th>\n",
       "    </tr>\n",
       "  </thead>\n",
       "  <tbody>\n",
       "    <tr>\n",
       "      <th>246</th>\n",
       "      <td>1270</td>\n",
       "      <td>2456</td>\n",
       "      <td>1545</td>\n",
       "      <td>1202</td>\n",
       "      <td>279</td>\n",
       "    </tr>\n",
       "    <tr>\n",
       "      <th>248</th>\n",
       "      <td>1239</td>\n",
       "      <td>2501</td>\n",
       "      <td>1538</td>\n",
       "      <td>1185</td>\n",
       "      <td>282</td>\n",
       "    </tr>\n",
       "  </tbody>\n",
       "</table>\n",
       "</div>"
      ],
      "text/plain": [
       "event_name  cartscreenappear  mainscreenappear  offersscreenappear  \\\n",
       "exp_id                                                               \n",
       "246                     1270              2456                1545   \n",
       "248                     1239              2501                1538   \n",
       "\n",
       "event_name  paymentscreensuccessful  tutorial  \n",
       "exp_id                                         \n",
       "246                            1202       279  \n",
       "248                            1185       282  "
      ]
     },
     "execution_count": 20,
     "metadata": {},
     "output_type": "execute_result"
    }
   ],
   "source": [
    "exp246_248 = data[data['exp_id']!=247].pivot_table(index='exp_id',columns='event_name', values = 'device_id_hash',aggfunc='nunique') \n",
    "exp246_248"
   ]
  },
  {
   "cell_type": "code",
   "execution_count": 21,
   "metadata": {},
   "outputs": [],
   "source": [
    "# Сравнение групп 246 и 248."
   ]
  },
  {
   "cell_type": "code",
   "execution_count": 22,
   "metadata": {},
   "outputs": [
    {
     "name": "stdout",
     "output_type": "stream",
     "text": [
      "p-значение:  0.2949721933554552\n",
      "Не получилось отвергнуть нулевую гипотезу, нет оснований считать доли разными\n"
     ]
    }
   ],
   "source": [
    "trials1 = (exp['total'][0],exp['total'][2])\n",
    "mainscreenappear1 = (exp['mainscreenappear'][0],exp['mainscreenappear'][2]) \n",
    "equality(mainscreenappear1, trials1, alpha)"
   ]
  },
  {
   "cell_type": "code",
   "execution_count": 23,
   "metadata": {},
   "outputs": [
    {
     "name": "stdout",
     "output_type": "stream",
     "text": [
      "p-значение:  0.07842923237520116\n",
      "Не получилось отвергнуть нулевую гипотезу, нет оснований считать доли разными\n"
     ]
    }
   ],
   "source": [
    "cartscreenappear1 = (exp['cartscreenappear'][0],exp['cartscreenappear'][2])\n",
    "equality(cartscreenappear1, trials1, alpha)"
   ]
  },
  {
   "cell_type": "code",
   "execution_count": 24,
   "metadata": {},
   "outputs": [
    {
     "name": "stdout",
     "output_type": "stream",
     "text": [
      "p-значение:  0.20836205402738917\n",
      "Не получилось отвергнуть нулевую гипотезу, нет оснований считать доли разными\n"
     ]
    }
   ],
   "source": [
    "offersscreenappear1 = (exp['offersscreenappear'][0],exp['offersscreenappear'][2])   \n",
    "equality(offersscreenappear1, trials1, alpha)"
   ]
  },
  {
   "cell_type": "code",
   "execution_count": 25,
   "metadata": {},
   "outputs": [
    {
     "name": "stdout",
     "output_type": "stream",
     "text": [
      "p-значение:  0.2122553275697796\n",
      "Не получилось отвергнуть нулевую гипотезу, нет оснований считать доли разными\n"
     ]
    }
   ],
   "source": [
    "paymentscreensuccessful1 = (exp['paymentscreensuccessful'][0],exp['paymentscreensuccessful'][2]) \n",
    "equality(paymentscreensuccessful1, trials1, alpha)"
   ]
  },
  {
   "cell_type": "markdown",
   "metadata": {},
   "source": [
    "Статистически значимой разницы между группами 246 и 248 не обнаружено."
   ]
  },
  {
   "cell_type": "code",
   "execution_count": 26,
   "metadata": {},
   "outputs": [],
   "source": [
    "# Сравнение групп 247 и 248."
   ]
  },
  {
   "cell_type": "code",
   "execution_count": 27,
   "metadata": {},
   "outputs": [
    {
     "name": "stdout",
     "output_type": "stream",
     "text": [
      "p-значение:  0.4587053616621515\n",
      "Не получилось отвергнуть нулевую гипотезу, нет оснований считать доли разными\n"
     ]
    }
   ],
   "source": [
    "trials2 = (exp['total'][1],exp['total'][2])\n",
    "mainscreenappear2 = (exp['mainscreenappear'][1],exp['mainscreenappear'][2]) \n",
    "equality(mainscreenappear2, trials2, alpha)"
   ]
  },
  {
   "cell_type": "code",
   "execution_count": 28,
   "metadata": {},
   "outputs": [
    {
     "name": "stdout",
     "output_type": "stream",
     "text": [
      "p-значение:  0.5786197879539783\n",
      "Не получилось отвергнуть нулевую гипотезу, нет оснований считать доли разными\n"
     ]
    }
   ],
   "source": [
    "cartscreenappear2 = (exp['cartscreenappear'][1],exp['cartscreenappear'][2])\n",
    "equality(cartscreenappear2, trials2, alpha)"
   ]
  },
  {
   "cell_type": "code",
   "execution_count": 29,
   "metadata": {},
   "outputs": [
    {
     "name": "stdout",
     "output_type": "stream",
     "text": [
      "p-значение:  0.9197817830592261\n",
      "Не получилось отвергнуть нулевую гипотезу, нет оснований считать доли разными\n"
     ]
    }
   ],
   "source": [
    "offersscreenappear2 = (exp['offersscreenappear'][1],exp['offersscreenappear'][2]) \n",
    "equality(offersscreenappear2, trials2, alpha)"
   ]
  },
  {
   "cell_type": "code",
   "execution_count": 30,
   "metadata": {},
   "outputs": [
    {
     "name": "stdout",
     "output_type": "stream",
     "text": [
      "p-значение:  0.7373415053803964\n",
      "Не получилось отвергнуть нулевую гипотезу, нет оснований считать доли разными\n"
     ]
    }
   ],
   "source": [
    "paymentscreensuccessful2 = (exp['paymentscreensuccessful'][1],exp['paymentscreensuccessful'][2])  \n",
    "equality(paymentscreensuccessful2, trials2, alpha)"
   ]
  },
  {
   "cell_type": "markdown",
   "metadata": {},
   "source": [
    "Между группами 247 и 248 статистически значимой разницы также не обнаружили."
   ]
  },
  {
   "cell_type": "code",
   "execution_count": 31,
   "metadata": {},
   "outputs": [],
   "source": [
    "# Добавляем строку с данными объединенной контрольной группы. \n",
    "exp = exp.reset_index()\n",
    "exp.loc['combined_control'] = exp.loc[0]+exp.loc[1] \n",
    "exp = exp.reset_index()"
   ]
  },
  {
   "cell_type": "code",
   "execution_count": 32,
   "metadata": {},
   "outputs": [
    {
     "name": "stdout",
     "output_type": "stream",
     "text": [
      "p-значение:  0.29424526837179577\n",
      "Не получилось отвергнуть нулевую гипотезу, нет оснований считать доли разными\n"
     ]
    }
   ],
   "source": [
    "# Проверка различия между объединенной контрольной и тестовой группой.\n",
    "\n",
    "trials3 = (exp['total'][3],exp['total'][2])\n",
    "mainscreenappear3 = (exp['mainscreenappear'][3],exp['mainscreenappear'][2]) \n",
    "equality(mainscreenappear3, trials3, alpha)"
   ]
  },
  {
   "cell_type": "code",
   "execution_count": 33,
   "metadata": {},
   "outputs": [
    {
     "name": "stdout",
     "output_type": "stream",
     "text": [
      "p-значение:  0.18175875284404386\n",
      "Не получилось отвергнуть нулевую гипотезу, нет оснований считать доли разными\n"
     ]
    }
   ],
   "source": [
    "cartscreenappear3 = (exp['cartscreenappear'][3],exp['cartscreenappear'][2])\n",
    "equality(cartscreenappear3, trials3, alpha)"
   ]
  },
  {
   "cell_type": "code",
   "execution_count": 34,
   "metadata": {},
   "outputs": [
    {
     "name": "stdout",
     "output_type": "stream",
     "text": [
      "p-значение:  0.43425549655188256\n",
      "Не получилось отвергнуть нулевую гипотезу, нет оснований считать доли разными\n"
     ]
    }
   ],
   "source": [
    "offersscreenappear3 = (exp['offersscreenappear'][3],exp['offersscreenappear'][2]) \n",
    "equality(offersscreenappear3, trials3, alpha)"
   ]
  },
  {
   "cell_type": "code",
   "execution_count": 35,
   "metadata": {},
   "outputs": [
    {
     "name": "stdout",
     "output_type": "stream",
     "text": [
      "p-значение:  0.6004294282308704\n",
      "Не получилось отвергнуть нулевую гипотезу, нет оснований считать доли разными\n"
     ]
    }
   ],
   "source": [
    "paymentscreensuccessful3 = (exp['paymentscreensuccessful'][3],exp['paymentscreensuccessful'][2]) \n",
    "equality(paymentscreensuccessful3, trials3, alpha)"
   ]
  },
  {
   "cell_type": "markdown",
   "metadata": {},
   "source": [
    "Сравнение объединенной контрольной и тестовой групп не показало статистически значимых различий."
   ]
  },
  {
   "cell_type": "markdown",
   "metadata": {},
   "source": [
    "Мы провели 16 статистических тестов. Для этого эксперимента подходит уровень значимости в 0.05, т.к. при более высоком уровне значимости будет слишком высока вероятности ошибки первого рода."
   ]
  },
  {
   "cell_type": "markdown",
   "metadata": {},
   "source": [
    "#### Вывод. \n",
    "\n",
    "При анализе использовали данные о 243713 событиях и 7551 пользователях. Пользователи были разделены на 3 группы: 2 контрольные группы и 1 тестовую. Тестовая группа - та, которой показывался вариант приложения с новым шрифтом.\n",
    "\n",
    "При анализе данных выяснили, что воронка событий выглядит следующим образом: \n",
    "\n",
    "1) mainscreenappear - показ главного экрана\n",
    "\n",
    "2) offerscreenappear - показ коммерческого предложения\n",
    "\n",
    "3) cartscreenappear - показ корзины\n",
    "\n",
    "4) paymentscreensuccessful - страница с подтверждением платежа\n",
    "\n",
    "В результате анализа воронки и конверсии обнаружили, что больше всего пользователей теряется на этапе с предложением товара - переходят туда с главного экрана 62% пользователей. Большая потеря пользователей на этапе перехода с главного экрана на экран с коммерческим предложением может быть связана с тем, что на главном экране нужная иконка/кнопка, которая переводит на страницу с предложением, неудобно расположена, имеет неочевидный для пользователя функционал, недостаточно заметная и проч. Возможно, стоит обратить на это внимание и внести правки в интерфейс главного экрана.\n",
    "\n",
    "В рамках исследования провели сравнительные тесты между 2-мя контрольными группами, каждой контрольной группой и тестовой и объединенной контрольной группой и тестовой.\n",
    "Статистически значимых различий между контрольными и тестовой группой по отдельности и объединенной контрольной и тестовой группами мы не обнаружили. Это значит, что изменение шрифта значимо не влияет на конверсию. "
   ]
  },
  {
   "cell_type": "code",
   "execution_count": null,
   "metadata": {},
   "outputs": [],
   "source": []
  }
 ],
 "metadata": {
  "ExecuteTimeLog": [
   {
    "duration": 419,
    "start_time": "2024-02-29T12:50:39.685Z"
   },
   {
    "duration": 831,
    "start_time": "2024-02-29T12:50:40.106Z"
   },
   {
    "duration": 12,
    "start_time": "2024-02-29T12:50:40.939Z"
   },
   {
    "duration": 524,
    "start_time": "2024-02-29T12:51:00.188Z"
   },
   {
    "duration": 288,
    "start_time": "2024-02-29T12:51:53.062Z"
   },
   {
    "duration": 306,
    "start_time": "2024-02-29T12:52:00.136Z"
   },
   {
    "duration": 6,
    "start_time": "2024-02-29T12:52:01.604Z"
   },
   {
    "duration": 169,
    "start_time": "2024-02-29T12:53:01.005Z"
   },
   {
    "duration": 8,
    "start_time": "2024-02-29T12:53:02.047Z"
   },
   {
    "duration": 9,
    "start_time": "2024-02-29T12:53:29.042Z"
   },
   {
    "duration": 6,
    "start_time": "2024-02-29T12:53:41.118Z"
   },
   {
    "duration": 7,
    "start_time": "2024-02-29T12:53:50.526Z"
   },
   {
    "duration": 70,
    "start_time": "2024-02-29T16:38:13.557Z"
   },
   {
    "duration": 407,
    "start_time": "2024-02-29T16:38:18.030Z"
   },
   {
    "duration": 551,
    "start_time": "2024-02-29T16:38:18.439Z"
   },
   {
    "duration": 15,
    "start_time": "2024-02-29T16:38:18.992Z"
   },
   {
    "duration": 25,
    "start_time": "2024-02-29T16:38:19.009Z"
   },
   {
    "duration": 9,
    "start_time": "2024-02-29T16:38:24.346Z"
   },
   {
    "duration": 14,
    "start_time": "2024-02-29T18:34:02.187Z"
   },
   {
    "duration": 12,
    "start_time": "2024-02-29T18:36:13.096Z"
   },
   {
    "duration": 14,
    "start_time": "2024-02-29T18:36:23.255Z"
   },
   {
    "duration": 15,
    "start_time": "2024-02-29T18:36:56.618Z"
   },
   {
    "duration": 77,
    "start_time": "2024-02-29T18:37:06.838Z"
   },
   {
    "duration": 86,
    "start_time": "2024-02-29T18:37:30.905Z"
   },
   {
    "duration": 63,
    "start_time": "2024-02-29T18:39:19.801Z"
   },
   {
    "duration": 69,
    "start_time": "2024-02-29T18:39:25.047Z"
   },
   {
    "duration": 68,
    "start_time": "2024-02-29T18:39:29.109Z"
   },
   {
    "duration": 87,
    "start_time": "2024-02-29T18:41:44.846Z"
   },
   {
    "duration": 13,
    "start_time": "2024-02-29T21:22:20.868Z"
   },
   {
    "duration": 1445,
    "start_time": "2024-02-29T21:29:29.470Z"
   },
   {
    "duration": 1304,
    "start_time": "2024-02-29T21:30:08.003Z"
   },
   {
    "duration": 11,
    "start_time": "2024-02-29T21:30:18.300Z"
   },
   {
    "duration": 3,
    "start_time": "2024-02-29T21:30:25.154Z"
   },
   {
    "duration": 183,
    "start_time": "2024-02-29T21:30:25.159Z"
   },
   {
    "duration": 7,
    "start_time": "2024-02-29T21:30:25.344Z"
   },
   {
    "duration": 14,
    "start_time": "2024-02-29T21:30:25.352Z"
   },
   {
    "duration": 126,
    "start_time": "2024-02-29T21:30:25.367Z"
   },
   {
    "duration": 128,
    "start_time": "2024-02-29T21:31:11.305Z"
   },
   {
    "duration": 144,
    "start_time": "2024-02-29T21:31:27.637Z"
   },
   {
    "duration": 103,
    "start_time": "2024-02-29T21:35:11.816Z"
   },
   {
    "duration": 157,
    "start_time": "2024-02-29T21:36:05.493Z"
   },
   {
    "duration": 2,
    "start_time": "2024-02-29T21:37:29.895Z"
   },
   {
    "duration": 169,
    "start_time": "2024-02-29T21:37:29.898Z"
   },
   {
    "duration": 7,
    "start_time": "2024-02-29T21:37:30.068Z"
   },
   {
    "duration": 57,
    "start_time": "2024-02-29T21:37:30.077Z"
   },
   {
    "duration": 148,
    "start_time": "2024-02-29T21:37:30.135Z"
   },
   {
    "duration": 112,
    "start_time": "2024-02-29T21:37:47.359Z"
   },
   {
    "duration": 153,
    "start_time": "2024-02-29T21:38:23.182Z"
   },
   {
    "duration": 178,
    "start_time": "2024-02-29T21:38:50.584Z"
   },
   {
    "duration": 223,
    "start_time": "2024-02-29T21:39:09.973Z"
   },
   {
    "duration": 2,
    "start_time": "2024-02-29T21:39:34.888Z"
   },
   {
    "duration": 172,
    "start_time": "2024-02-29T21:39:34.892Z"
   },
   {
    "duration": 7,
    "start_time": "2024-02-29T21:39:35.065Z"
   },
   {
    "duration": 26,
    "start_time": "2024-02-29T21:39:35.074Z"
   },
   {
    "duration": 169,
    "start_time": "2024-02-29T21:39:35.102Z"
   },
   {
    "duration": 226,
    "start_time": "2024-02-29T21:40:30.389Z"
   },
   {
    "duration": 46,
    "start_time": "2024-03-01T09:26:55.722Z"
   },
   {
    "duration": 386,
    "start_time": "2024-03-01T09:26:58.695Z"
   },
   {
    "duration": 739,
    "start_time": "2024-03-01T09:26:59.083Z"
   },
   {
    "duration": 18,
    "start_time": "2024-03-01T09:26:59.824Z"
   },
   {
    "duration": 143,
    "start_time": "2024-03-01T09:26:59.844Z"
   },
   {
    "duration": 225,
    "start_time": "2024-03-01T09:26:59.988Z"
   },
   {
    "duration": 166,
    "start_time": "2024-03-01T09:29:03.504Z"
   },
   {
    "duration": 272,
    "start_time": "2024-03-01T09:29:30.522Z"
   },
   {
    "duration": 238,
    "start_time": "2024-03-01T09:30:33.320Z"
   },
   {
    "duration": 2,
    "start_time": "2024-03-01T09:30:41.442Z"
   },
   {
    "duration": 178,
    "start_time": "2024-03-01T09:30:41.446Z"
   },
   {
    "duration": 7,
    "start_time": "2024-03-01T09:30:41.625Z"
   },
   {
    "duration": 193,
    "start_time": "2024-03-01T09:30:41.634Z"
   },
   {
    "duration": 215,
    "start_time": "2024-03-01T09:30:41.829Z"
   },
   {
    "duration": 68,
    "start_time": "2024-03-01T09:31:05.008Z"
   },
   {
    "duration": 450,
    "start_time": "2024-03-01T09:33:30.932Z"
   },
   {
    "duration": 184,
    "start_time": "2024-03-01T09:33:31.383Z"
   },
   {
    "duration": 13,
    "start_time": "2024-03-01T09:33:31.568Z"
   },
   {
    "duration": 180,
    "start_time": "2024-03-01T09:33:31.583Z"
   },
   {
    "duration": 61,
    "start_time": "2024-03-01T09:33:31.764Z"
   },
   {
    "duration": 220,
    "start_time": "2024-03-01T09:33:31.826Z"
   },
   {
    "duration": 164,
    "start_time": "2024-03-01T09:33:46.557Z"
   },
   {
    "duration": 240,
    "start_time": "2024-03-01T10:21:18.713Z"
   },
   {
    "duration": 68,
    "start_time": "2024-03-01T10:21:23.138Z"
   },
   {
    "duration": 3,
    "start_time": "2024-03-01T11:15:06.128Z"
   },
   {
    "duration": 200,
    "start_time": "2024-03-01T11:15:06.133Z"
   },
   {
    "duration": 7,
    "start_time": "2024-03-01T11:15:06.335Z"
   },
   {
    "duration": 159,
    "start_time": "2024-03-01T11:15:06.343Z"
   },
   {
    "duration": 65,
    "start_time": "2024-03-01T11:15:06.504Z"
   },
   {
    "duration": 228,
    "start_time": "2024-03-01T11:15:06.571Z"
   },
   {
    "duration": 41,
    "start_time": "2024-03-01T11:18:28.600Z"
   },
   {
    "duration": 72,
    "start_time": "2024-03-01T11:20:24.490Z"
   },
   {
    "duration": 256,
    "start_time": "2024-03-01T11:21:36.542Z"
   },
   {
    "duration": 232,
    "start_time": "2024-03-01T11:21:59.238Z"
   },
   {
    "duration": 865,
    "start_time": "2024-03-01T11:25:32.583Z"
   },
   {
    "duration": 178,
    "start_time": "2024-03-01T11:25:33.450Z"
   },
   {
    "duration": 33,
    "start_time": "2024-03-01T11:25:33.630Z"
   },
   {
    "duration": 240,
    "start_time": "2024-03-01T11:25:33.665Z"
   },
   {
    "duration": 138,
    "start_time": "2024-03-01T11:25:33.906Z"
   },
   {
    "duration": 3,
    "start_time": "2024-03-01T11:33:41.978Z"
   },
   {
    "duration": 173,
    "start_time": "2024-03-01T11:33:41.984Z"
   },
   {
    "duration": 24,
    "start_time": "2024-03-01T11:33:42.159Z"
   },
   {
    "duration": 218,
    "start_time": "2024-03-01T11:33:42.185Z"
   },
   {
    "duration": 132,
    "start_time": "2024-03-01T11:33:42.404Z"
   },
   {
    "duration": 16,
    "start_time": "2024-03-01T11:35:23.605Z"
   },
   {
    "duration": 111,
    "start_time": "2024-03-01T11:35:30.988Z"
   },
   {
    "duration": 4,
    "start_time": "2024-03-01T11:35:49.260Z"
   },
   {
    "duration": 4,
    "start_time": "2024-03-01T11:35:54.355Z"
   },
   {
    "duration": 105,
    "start_time": "2024-03-01T11:36:18.225Z"
   },
   {
    "duration": 15,
    "start_time": "2024-03-01T11:36:24.683Z"
   },
   {
    "duration": 101,
    "start_time": "2024-03-01T11:36:39.088Z"
   },
   {
    "duration": 103,
    "start_time": "2024-03-01T11:36:48.730Z"
   },
   {
    "duration": 109,
    "start_time": "2024-03-01T11:42:04.985Z"
   },
   {
    "duration": 15,
    "start_time": "2024-03-01T11:43:01.875Z"
   },
   {
    "duration": 21,
    "start_time": "2024-03-01T11:44:16.004Z"
   },
   {
    "duration": 45,
    "start_time": "2024-03-01T11:46:19.797Z"
   },
   {
    "duration": 108,
    "start_time": "2024-03-01T11:46:41.646Z"
   },
   {
    "duration": 33,
    "start_time": "2024-03-01T11:46:46.211Z"
   },
   {
    "duration": 39,
    "start_time": "2024-03-01T11:57:28.463Z"
   },
   {
    "duration": 118,
    "start_time": "2024-03-01T11:57:56.902Z"
   },
   {
    "duration": 37,
    "start_time": "2024-03-01T11:58:07.308Z"
   },
   {
    "duration": 204,
    "start_time": "2024-03-01T12:00:14.421Z"
   },
   {
    "duration": 650,
    "start_time": "2024-03-01T12:00:26.405Z"
   },
   {
    "duration": 654,
    "start_time": "2024-03-01T12:00:39.483Z"
   },
   {
    "duration": 51,
    "start_time": "2024-03-01T18:56:04.170Z"
   },
   {
    "duration": 2434,
    "start_time": "2024-03-01T18:56:08.895Z"
   },
   {
    "duration": 524,
    "start_time": "2024-03-01T18:56:11.331Z"
   },
   {
    "duration": 45,
    "start_time": "2024-03-01T18:56:11.858Z"
   },
   {
    "duration": 277,
    "start_time": "2024-03-01T18:56:11.905Z"
   },
   {
    "duration": 160,
    "start_time": "2024-03-01T18:56:12.185Z"
   },
   {
    "duration": 231,
    "start_time": "2024-03-01T18:56:12.347Z"
   },
   {
    "duration": 215,
    "start_time": "2024-03-01T18:58:05.082Z"
   },
   {
    "duration": 635,
    "start_time": "2024-03-01T18:58:30.712Z"
   },
   {
    "duration": 47,
    "start_time": "2024-03-01T19:06:42.156Z"
   },
   {
    "duration": 1119,
    "start_time": "2024-03-01T19:06:46.617Z"
   },
   {
    "duration": 507,
    "start_time": "2024-03-01T19:06:47.738Z"
   },
   {
    "duration": 33,
    "start_time": "2024-03-01T19:06:48.248Z"
   },
   {
    "duration": 255,
    "start_time": "2024-03-01T19:06:48.283Z"
   },
   {
    "duration": 145,
    "start_time": "2024-03-01T19:06:48.540Z"
   },
   {
    "duration": 45,
    "start_time": "2024-03-01T19:12:56.516Z"
   },
   {
    "duration": 1128,
    "start_time": "2024-03-01T19:13:03.560Z"
   },
   {
    "duration": 508,
    "start_time": "2024-03-01T19:13:04.689Z"
   },
   {
    "duration": 30,
    "start_time": "2024-03-01T19:13:05.199Z"
   },
   {
    "duration": 222,
    "start_time": "2024-03-01T19:13:05.230Z"
   },
   {
    "duration": 150,
    "start_time": "2024-03-01T19:13:05.454Z"
   },
   {
    "duration": 140,
    "start_time": "2024-03-01T19:13:05.606Z"
   },
   {
    "duration": 214,
    "start_time": "2024-03-01T19:13:15.590Z"
   },
   {
    "duration": 624,
    "start_time": "2024-03-01T19:13:23.659Z"
   },
   {
    "duration": 117,
    "start_time": "2024-03-01T19:15:43.168Z"
   },
   {
    "duration": 331,
    "start_time": "2024-03-01T19:16:04.894Z"
   },
   {
    "duration": 94,
    "start_time": "2024-03-01T19:17:04.233Z"
   },
   {
    "duration": 110,
    "start_time": "2024-03-01T19:17:12.349Z"
   },
   {
    "duration": 79,
    "start_time": "2024-03-01T19:17:32.694Z"
   },
   {
    "duration": 90,
    "start_time": "2024-03-01T19:17:46.163Z"
   },
   {
    "duration": 92,
    "start_time": "2024-03-01T19:17:56.661Z"
   },
   {
    "duration": 358,
    "start_time": "2024-03-01T19:18:07.429Z"
   },
   {
    "duration": 406,
    "start_time": "2024-03-01T19:18:31.546Z"
   },
   {
    "duration": 505,
    "start_time": "2024-03-01T19:18:42.547Z"
   },
   {
    "duration": 376,
    "start_time": "2024-03-01T19:19:07.877Z"
   },
   {
    "duration": 395,
    "start_time": "2024-03-01T19:19:16.307Z"
   },
   {
    "duration": 379,
    "start_time": "2024-03-01T19:20:04.374Z"
   },
   {
    "duration": 402,
    "start_time": "2024-03-01T19:20:38.692Z"
   },
   {
    "duration": 423,
    "start_time": "2024-03-01T19:21:19.868Z"
   },
   {
    "duration": 520,
    "start_time": "2024-03-01T19:22:50.043Z"
   },
   {
    "duration": 3,
    "start_time": "2024-03-01T19:28:54.564Z"
   },
   {
    "duration": 862,
    "start_time": "2024-03-01T19:29:07.355Z"
   },
   {
    "duration": 1035,
    "start_time": "2024-03-01T19:30:02.289Z"
   },
   {
    "duration": 858,
    "start_time": "2024-03-01T19:30:31.083Z"
   },
   {
    "duration": 3,
    "start_time": "2024-03-01T19:30:50.221Z"
   },
   {
    "duration": 175,
    "start_time": "2024-03-01T19:30:50.226Z"
   },
   {
    "duration": 37,
    "start_time": "2024-03-01T19:30:50.402Z"
   },
   {
    "duration": 238,
    "start_time": "2024-03-01T19:30:50.441Z"
   },
   {
    "duration": 154,
    "start_time": "2024-03-01T19:30:50.681Z"
   },
   {
    "duration": 410,
    "start_time": "2024-03-01T19:30:50.837Z"
   },
   {
    "duration": 3,
    "start_time": "2024-03-01T19:30:51.249Z"
   },
   {
    "duration": 297,
    "start_time": "2024-03-01T19:31:03.973Z"
   },
   {
    "duration": 62,
    "start_time": "2024-03-01T19:32:56.970Z"
   },
   {
    "duration": 287,
    "start_time": "2024-03-01T19:33:12.225Z"
   },
   {
    "duration": 25,
    "start_time": "2024-03-01T19:55:19.459Z"
   },
   {
    "duration": 27,
    "start_time": "2024-03-01T19:57:02.721Z"
   },
   {
    "duration": 49,
    "start_time": "2024-03-01T19:59:55.312Z"
   },
   {
    "duration": 22,
    "start_time": "2024-03-01T20:07:49.784Z"
   },
   {
    "duration": 27,
    "start_time": "2024-03-01T20:08:05.504Z"
   },
   {
    "duration": 34,
    "start_time": "2024-03-01T20:08:20.273Z"
   },
   {
    "duration": 21,
    "start_time": "2024-03-01T20:08:26.087Z"
   },
   {
    "duration": 35,
    "start_time": "2024-03-01T20:08:49.503Z"
   },
   {
    "duration": 49,
    "start_time": "2024-03-01T20:09:07.874Z"
   },
   {
    "duration": 56,
    "start_time": "2024-03-01T20:31:51.488Z"
   },
   {
    "duration": 54,
    "start_time": "2024-03-01T20:32:02.690Z"
   },
   {
    "duration": 1134,
    "start_time": "2024-03-02T17:47:50.605Z"
   },
   {
    "duration": 482,
    "start_time": "2024-03-02T17:47:51.741Z"
   },
   {
    "duration": 32,
    "start_time": "2024-03-02T17:47:52.224Z"
   },
   {
    "duration": 202,
    "start_time": "2024-03-02T17:47:52.258Z"
   },
   {
    "duration": 130,
    "start_time": "2024-03-02T17:47:52.462Z"
   },
   {
    "duration": 383,
    "start_time": "2024-03-02T17:47:52.593Z"
   },
   {
    "duration": 260,
    "start_time": "2024-03-02T17:47:52.978Z"
   },
   {
    "duration": 38,
    "start_time": "2024-03-02T17:47:53.239Z"
   },
   {
    "duration": 33,
    "start_time": "2024-03-02T17:47:53.278Z"
   },
   {
    "duration": 66,
    "start_time": "2024-03-02T17:47:53.313Z"
   },
   {
    "duration": 65,
    "start_time": "2024-03-02T18:01:52.053Z"
   },
   {
    "duration": 48,
    "start_time": "2024-03-02T18:02:15.509Z"
   },
   {
    "duration": 31,
    "start_time": "2024-03-02T18:02:29.367Z"
   },
   {
    "duration": 52,
    "start_time": "2024-03-02T18:05:40.960Z"
   },
   {
    "duration": 45,
    "start_time": "2024-03-02T18:05:50.274Z"
   },
   {
    "duration": 51,
    "start_time": "2024-03-02T18:06:01.455Z"
   },
   {
    "duration": 85,
    "start_time": "2024-03-02T18:07:54.660Z"
   },
   {
    "duration": 63,
    "start_time": "2024-03-02T18:08:00.161Z"
   },
   {
    "duration": 140,
    "start_time": "2024-03-02T18:08:20.958Z"
   },
   {
    "duration": 67,
    "start_time": "2024-03-02T18:09:05.547Z"
   },
   {
    "duration": 65,
    "start_time": "2024-03-02T18:09:20.377Z"
   },
   {
    "duration": 320,
    "start_time": "2024-03-02T18:10:26.446Z"
   },
   {
    "duration": 57,
    "start_time": "2024-03-02T18:12:36.039Z"
   },
   {
    "duration": 30,
    "start_time": "2024-03-02T18:16:35.975Z"
   },
   {
    "duration": 44,
    "start_time": "2024-03-02T18:16:47.971Z"
   },
   {
    "duration": 47,
    "start_time": "2024-03-02T18:16:59.664Z"
   },
   {
    "duration": 48,
    "start_time": "2024-03-02T18:18:37.747Z"
   },
   {
    "duration": 53,
    "start_time": "2024-03-02T18:18:43.019Z"
   },
   {
    "duration": 29,
    "start_time": "2024-03-02T18:18:52.992Z"
   },
   {
    "duration": 30,
    "start_time": "2024-03-02T18:18:58.328Z"
   },
   {
    "duration": 48,
    "start_time": "2024-03-02T18:19:01.262Z"
   },
   {
    "duration": 46,
    "start_time": "2024-03-02T18:19:11.721Z"
   },
   {
    "duration": 31,
    "start_time": "2024-03-02T18:21:09.649Z"
   },
   {
    "duration": 47,
    "start_time": "2024-03-02T18:22:34.189Z"
   },
   {
    "duration": 51,
    "start_time": "2024-03-02T18:23:31.832Z"
   },
   {
    "duration": 45,
    "start_time": "2024-03-02T18:24:03.857Z"
   },
   {
    "duration": 34,
    "start_time": "2024-03-02T18:39:26.061Z"
   },
   {
    "duration": 35,
    "start_time": "2024-03-02T18:39:29.994Z"
   },
   {
    "duration": 79,
    "start_time": "2024-03-02T18:44:11.017Z"
   },
   {
    "duration": 25,
    "start_time": "2024-03-02T18:44:38.935Z"
   },
   {
    "duration": 64,
    "start_time": "2024-03-02T18:47:31.048Z"
   },
   {
    "duration": 47,
    "start_time": "2024-03-02T18:48:22.889Z"
   },
   {
    "duration": 21,
    "start_time": "2024-03-02T18:51:04.493Z"
   },
   {
    "duration": 2,
    "start_time": "2024-03-02T18:51:19.139Z"
   },
   {
    "duration": 198,
    "start_time": "2024-03-02T18:51:19.143Z"
   },
   {
    "duration": 22,
    "start_time": "2024-03-02T18:51:19.343Z"
   },
   {
    "duration": 209,
    "start_time": "2024-03-02T18:51:19.367Z"
   },
   {
    "duration": 132,
    "start_time": "2024-03-02T18:51:19.579Z"
   },
   {
    "duration": 355,
    "start_time": "2024-03-02T18:51:19.712Z"
   },
   {
    "duration": 266,
    "start_time": "2024-03-02T18:51:20.069Z"
   },
   {
    "duration": 54,
    "start_time": "2024-03-02T18:51:20.336Z"
   },
   {
    "duration": 32,
    "start_time": "2024-03-02T18:51:20.392Z"
   },
   {
    "duration": 20,
    "start_time": "2024-03-02T18:51:20.425Z"
   },
   {
    "duration": 55,
    "start_time": "2024-03-02T18:51:20.446Z"
   },
   {
    "duration": 35,
    "start_time": "2024-03-02T18:51:49.755Z"
   },
   {
    "duration": 39,
    "start_time": "2024-03-02T18:51:54.089Z"
   },
   {
    "duration": 16,
    "start_time": "2024-03-02T18:52:15.338Z"
   },
   {
    "duration": 39,
    "start_time": "2024-03-02T18:52:24.730Z"
   },
   {
    "duration": 37,
    "start_time": "2024-03-02T21:06:07.723Z"
   },
   {
    "duration": 31,
    "start_time": "2024-03-02T21:06:15.475Z"
   },
   {
    "duration": 47,
    "start_time": "2024-03-02T21:06:29.225Z"
   },
   {
    "duration": 50,
    "start_time": "2024-03-02T21:07:51.217Z"
   },
   {
    "duration": 6,
    "start_time": "2024-03-02T21:08:57.355Z"
   },
   {
    "duration": 1170,
    "start_time": "2024-03-02T21:13:06.242Z"
   },
   {
    "duration": 47,
    "start_time": "2024-03-02T21:13:24.538Z"
   },
   {
    "duration": 48,
    "start_time": "2024-03-02T21:13:31.799Z"
   },
   {
    "duration": 46,
    "start_time": "2024-03-02T21:17:35.279Z"
   },
   {
    "duration": 9,
    "start_time": "2024-03-02T21:28:04.910Z"
   },
   {
    "duration": 66,
    "start_time": "2024-03-02T21:28:10.716Z"
   },
   {
    "duration": 71,
    "start_time": "2024-03-02T21:28:40.665Z"
   },
   {
    "duration": 71,
    "start_time": "2024-03-02T21:30:28.456Z"
   },
   {
    "duration": 70,
    "start_time": "2024-03-02T21:30:48.794Z"
   },
   {
    "duration": 24,
    "start_time": "2024-03-02T21:31:53.519Z"
   },
   {
    "duration": 39,
    "start_time": "2024-03-02T21:32:08.263Z"
   },
   {
    "duration": 37,
    "start_time": "2024-03-02T21:32:23.697Z"
   },
   {
    "duration": 76,
    "start_time": "2024-03-02T21:33:00.814Z"
   },
   {
    "duration": 36,
    "start_time": "2024-03-02T21:33:06.918Z"
   },
   {
    "duration": 37,
    "start_time": "2024-03-02T21:33:12.767Z"
   },
   {
    "duration": 38,
    "start_time": "2024-03-02T21:33:25.327Z"
   },
   {
    "duration": 45,
    "start_time": "2024-03-02T21:34:01.749Z"
   },
   {
    "duration": 37,
    "start_time": "2024-03-02T21:35:13.731Z"
   },
   {
    "duration": 72,
    "start_time": "2024-03-02T21:35:59.264Z"
   },
   {
    "duration": 62,
    "start_time": "2024-03-02T21:36:04.008Z"
   },
   {
    "duration": 68,
    "start_time": "2024-03-02T21:37:06.944Z"
   },
   {
    "duration": 73,
    "start_time": "2024-03-02T21:37:27.956Z"
   },
   {
    "duration": 73,
    "start_time": "2024-03-02T21:39:19.098Z"
   },
   {
    "duration": 1290,
    "start_time": "2024-03-03T15:19:26.134Z"
   },
   {
    "duration": 529,
    "start_time": "2024-03-03T15:19:27.426Z"
   },
   {
    "duration": 31,
    "start_time": "2024-03-03T15:19:27.956Z"
   },
   {
    "duration": 230,
    "start_time": "2024-03-03T15:19:27.988Z"
   },
   {
    "duration": 156,
    "start_time": "2024-03-03T15:19:28.221Z"
   },
   {
    "duration": 405,
    "start_time": "2024-03-03T15:19:28.379Z"
   },
   {
    "duration": 296,
    "start_time": "2024-03-03T15:19:28.786Z"
   },
   {
    "duration": 55,
    "start_time": "2024-03-03T15:19:29.084Z"
   },
   {
    "duration": 58,
    "start_time": "2024-03-03T15:19:29.140Z"
   },
   {
    "duration": 100,
    "start_time": "2024-03-03T15:19:29.199Z"
   },
   {
    "duration": 9,
    "start_time": "2024-03-03T15:20:16.069Z"
   },
   {
    "duration": 97,
    "start_time": "2024-03-03T15:21:50.475Z"
   },
   {
    "duration": 3,
    "start_time": "2024-03-03T15:22:15.280Z"
   },
   {
    "duration": 202,
    "start_time": "2024-03-03T15:22:15.285Z"
   },
   {
    "duration": 39,
    "start_time": "2024-03-03T15:22:15.489Z"
   },
   {
    "duration": 267,
    "start_time": "2024-03-03T15:22:15.530Z"
   },
   {
    "duration": 166,
    "start_time": "2024-03-03T15:22:15.798Z"
   },
   {
    "duration": 410,
    "start_time": "2024-03-03T15:22:15.966Z"
   },
   {
    "duration": 308,
    "start_time": "2024-03-03T15:22:16.377Z"
   },
   {
    "duration": 79,
    "start_time": "2024-03-03T15:22:16.687Z"
   },
   {
    "duration": 39,
    "start_time": "2024-03-03T15:22:16.768Z"
   },
   {
    "duration": 88,
    "start_time": "2024-03-03T15:22:16.809Z"
   },
   {
    "duration": 11,
    "start_time": "2024-03-03T15:22:16.899Z"
   },
   {
    "duration": 11,
    "start_time": "2024-03-03T15:29:45.221Z"
   },
   {
    "duration": 13,
    "start_time": "2024-03-03T15:31:05.803Z"
   },
   {
    "duration": 2,
    "start_time": "2024-03-03T15:31:09.894Z"
   },
   {
    "duration": 215,
    "start_time": "2024-03-03T15:31:09.898Z"
   },
   {
    "duration": 25,
    "start_time": "2024-03-03T15:31:10.115Z"
   },
   {
    "duration": 249,
    "start_time": "2024-03-03T15:31:10.142Z"
   },
   {
    "duration": 140,
    "start_time": "2024-03-03T15:31:10.394Z"
   },
   {
    "duration": 399,
    "start_time": "2024-03-03T15:31:10.535Z"
   },
   {
    "duration": 291,
    "start_time": "2024-03-03T15:31:10.936Z"
   },
   {
    "duration": 68,
    "start_time": "2024-03-03T15:31:11.229Z"
   },
   {
    "duration": 41,
    "start_time": "2024-03-03T15:31:11.299Z"
   },
   {
    "duration": 101,
    "start_time": "2024-03-03T15:31:11.342Z"
   },
   {
    "duration": 11,
    "start_time": "2024-03-03T15:31:11.445Z"
   },
   {
    "duration": 11,
    "start_time": "2024-03-03T15:32:28.006Z"
   },
   {
    "duration": 11,
    "start_time": "2024-03-03T15:33:25.227Z"
   },
   {
    "duration": 1127,
    "start_time": "2024-03-03T15:51:31.489Z"
   },
   {
    "duration": 1092,
    "start_time": "2024-03-03T15:52:29.090Z"
   },
   {
    "duration": 1056,
    "start_time": "2024-03-03T15:53:06.712Z"
   },
   {
    "duration": 1951,
    "start_time": "2024-03-03T15:58:30.877Z"
   },
   {
    "duration": 1079,
    "start_time": "2024-03-03T15:58:51.755Z"
   },
   {
    "duration": 1046,
    "start_time": "2024-03-03T15:59:51.897Z"
   },
   {
    "duration": 11,
    "start_time": "2024-03-03T19:17:07.168Z"
   },
   {
    "duration": 14,
    "start_time": "2024-03-03T19:17:50.782Z"
   },
   {
    "duration": 11,
    "start_time": "2024-03-03T19:18:09.151Z"
   },
   {
    "duration": 10,
    "start_time": "2024-03-03T19:18:16.397Z"
   },
   {
    "duration": 1272,
    "start_time": "2024-03-03T19:18:49.264Z"
   },
   {
    "duration": 77,
    "start_time": "2024-03-03T19:20:24.745Z"
   },
   {
    "duration": 1451,
    "start_time": "2024-03-03T19:20:34.735Z"
   },
   {
    "duration": 1208,
    "start_time": "2024-03-03T19:21:30.397Z"
   },
   {
    "duration": 1173,
    "start_time": "2024-03-03T19:26:31.041Z"
   },
   {
    "duration": 1224,
    "start_time": "2024-03-03T19:27:29.987Z"
   },
   {
    "duration": 1222,
    "start_time": "2024-03-03T19:28:44.999Z"
   },
   {
    "duration": 1158,
    "start_time": "2024-03-03T19:33:43.657Z"
   },
   {
    "duration": 14,
    "start_time": "2024-03-03T19:33:56.529Z"
   },
   {
    "duration": 1107,
    "start_time": "2024-03-03T19:36:42.845Z"
   },
   {
    "duration": 32,
    "start_time": "2024-03-03T19:48:54.718Z"
   },
   {
    "duration": 1389,
    "start_time": "2024-03-04T16:17:47.760Z"
   },
   {
    "duration": 742,
    "start_time": "2024-03-04T16:17:49.151Z"
   },
   {
    "duration": 38,
    "start_time": "2024-03-04T16:17:49.898Z"
   },
   {
    "duration": 277,
    "start_time": "2024-03-04T16:17:49.938Z"
   },
   {
    "duration": 150,
    "start_time": "2024-03-04T16:17:50.217Z"
   },
   {
    "duration": 428,
    "start_time": "2024-03-04T16:17:50.369Z"
   },
   {
    "duration": 323,
    "start_time": "2024-03-04T16:17:50.799Z"
   },
   {
    "duration": 77,
    "start_time": "2024-03-04T16:17:51.124Z"
   },
   {
    "duration": 41,
    "start_time": "2024-03-04T16:17:51.204Z"
   },
   {
    "duration": 115,
    "start_time": "2024-03-04T16:17:51.247Z"
   },
   {
    "duration": 1689,
    "start_time": "2024-03-04T16:17:51.364Z"
   },
   {
    "duration": 0,
    "start_time": "2024-03-04T16:17:53.054Z"
   },
   {
    "duration": 35,
    "start_time": "2024-03-04T16:18:16.864Z"
   },
   {
    "duration": 46,
    "start_time": "2024-03-05T21:38:05.134Z"
   },
   {
    "duration": 1308,
    "start_time": "2024-03-05T21:38:08.219Z"
   },
   {
    "duration": 513,
    "start_time": "2024-03-05T21:38:09.529Z"
   },
   {
    "duration": 32,
    "start_time": "2024-03-05T21:38:10.044Z"
   },
   {
    "duration": 230,
    "start_time": "2024-03-05T21:38:10.077Z"
   },
   {
    "duration": 144,
    "start_time": "2024-03-05T21:38:10.309Z"
   },
   {
    "duration": 456,
    "start_time": "2024-03-05T21:38:10.454Z"
   },
   {
    "duration": 295,
    "start_time": "2024-03-05T21:38:10.912Z"
   },
   {
    "duration": 63,
    "start_time": "2024-03-05T21:38:11.209Z"
   },
   {
    "duration": 48,
    "start_time": "2024-03-05T21:38:11.273Z"
   },
   {
    "duration": 98,
    "start_time": "2024-03-05T21:38:11.323Z"
   },
   {
    "duration": 1286,
    "start_time": "2024-03-05T21:38:11.422Z"
   },
   {
    "duration": 0,
    "start_time": "2024-03-05T21:38:12.710Z"
   },
   {
    "duration": 0,
    "start_time": "2024-03-05T21:38:12.711Z"
   },
   {
    "duration": 0,
    "start_time": "2024-03-05T21:38:12.713Z"
   },
   {
    "duration": 0,
    "start_time": "2024-03-05T21:38:12.715Z"
   },
   {
    "duration": 0,
    "start_time": "2024-03-05T21:38:12.716Z"
   },
   {
    "duration": 39,
    "start_time": "2024-03-05T21:38:17.036Z"
   },
   {
    "duration": 79,
    "start_time": "2024-03-05T21:38:20.429Z"
   },
   {
    "duration": 1204,
    "start_time": "2024-03-05T21:39:10.286Z"
   },
   {
    "duration": 85,
    "start_time": "2024-03-05T21:39:35.714Z"
   },
   {
    "duration": 1167,
    "start_time": "2024-03-05T21:39:51.978Z"
   },
   {
    "duration": 1349,
    "start_time": "2024-03-05T21:40:10.255Z"
   },
   {
    "duration": 1283,
    "start_time": "2024-03-05T21:40:17.670Z"
   },
   {
    "duration": 1318,
    "start_time": "2024-03-05T21:40:38.941Z"
   },
   {
    "duration": 84,
    "start_time": "2024-03-05T21:40:46.230Z"
   },
   {
    "duration": 76,
    "start_time": "2024-03-05T21:41:18.160Z"
   },
   {
    "duration": 10,
    "start_time": "2024-03-05T21:47:01.157Z"
   },
   {
    "duration": 5,
    "start_time": "2024-03-05T22:04:50.330Z"
   },
   {
    "duration": 4,
    "start_time": "2024-03-05T22:04:52.879Z"
   },
   {
    "duration": 4,
    "start_time": "2024-03-05T22:04:55.118Z"
   },
   {
    "duration": 9,
    "start_time": "2024-03-05T22:13:47.481Z"
   },
   {
    "duration": 74,
    "start_time": "2024-03-05T22:14:09.594Z"
   },
   {
    "duration": 4,
    "start_time": "2024-03-05T22:14:34.604Z"
   },
   {
    "duration": 4,
    "start_time": "2024-03-05T22:14:38.374Z"
   },
   {
    "duration": 5,
    "start_time": "2024-03-05T22:14:40.945Z"
   },
   {
    "duration": 3,
    "start_time": "2024-03-05T22:14:44.630Z"
   },
   {
    "duration": 5,
    "start_time": "2024-03-05T22:15:50.539Z"
   },
   {
    "duration": 3,
    "start_time": "2024-03-05T22:15:54.067Z"
   },
   {
    "duration": 78,
    "start_time": "2024-03-05T22:17:26.880Z"
   },
   {
    "duration": 3,
    "start_time": "2024-03-05T22:17:40.049Z"
   },
   {
    "duration": 5,
    "start_time": "2024-03-05T22:18:08.344Z"
   },
   {
    "duration": 2,
    "start_time": "2024-03-05T22:18:11.912Z"
   },
   {
    "duration": 3,
    "start_time": "2024-03-05T22:18:17.026Z"
   },
   {
    "duration": 72,
    "start_time": "2024-03-05T22:18:18.608Z"
   },
   {
    "duration": 5,
    "start_time": "2024-03-05T22:19:10.119Z"
   },
   {
    "duration": 5,
    "start_time": "2024-03-05T22:19:16.744Z"
   },
   {
    "duration": 6,
    "start_time": "2024-03-05T22:19:57.026Z"
   },
   {
    "duration": 5,
    "start_time": "2024-03-05T22:20:16.432Z"
   },
   {
    "duration": 4,
    "start_time": "2024-03-05T22:21:03.512Z"
   },
   {
    "duration": 5,
    "start_time": "2024-03-05T22:21:52.753Z"
   },
   {
    "duration": 5,
    "start_time": "2024-03-05T22:22:33.651Z"
   },
   {
    "duration": 1363,
    "start_time": "2024-03-06T08:07:49.219Z"
   },
   {
    "duration": 723,
    "start_time": "2024-03-06T08:07:50.585Z"
   },
   {
    "duration": 36,
    "start_time": "2024-03-06T08:07:51.310Z"
   },
   {
    "duration": 254,
    "start_time": "2024-03-06T08:07:51.347Z"
   },
   {
    "duration": 153,
    "start_time": "2024-03-06T08:07:51.603Z"
   },
   {
    "duration": 473,
    "start_time": "2024-03-06T08:07:51.758Z"
   },
   {
    "duration": 332,
    "start_time": "2024-03-06T08:07:52.233Z"
   },
   {
    "duration": 68,
    "start_time": "2024-03-06T08:07:52.567Z"
   },
   {
    "duration": 63,
    "start_time": "2024-03-06T08:07:52.636Z"
   },
   {
    "duration": 110,
    "start_time": "2024-03-06T08:07:52.701Z"
   },
   {
    "duration": 1686,
    "start_time": "2024-03-06T08:07:52.812Z"
   },
   {
    "duration": 0,
    "start_time": "2024-03-06T08:07:54.502Z"
   },
   {
    "duration": 0,
    "start_time": "2024-03-06T08:07:54.503Z"
   },
   {
    "duration": 0,
    "start_time": "2024-03-06T08:07:54.504Z"
   },
   {
    "duration": 0,
    "start_time": "2024-03-06T08:07:54.505Z"
   },
   {
    "duration": 0,
    "start_time": "2024-03-06T08:07:54.507Z"
   },
   {
    "duration": 0,
    "start_time": "2024-03-06T08:07:54.508Z"
   },
   {
    "duration": 0,
    "start_time": "2024-03-06T08:07:54.509Z"
   },
   {
    "duration": 36,
    "start_time": "2024-03-06T08:08:06.761Z"
   },
   {
    "duration": 85,
    "start_time": "2024-03-06T08:08:08.717Z"
   },
   {
    "duration": 5,
    "start_time": "2024-03-06T08:08:13.464Z"
   },
   {
    "duration": 9,
    "start_time": "2024-03-06T08:08:15.510Z"
   },
   {
    "duration": 5,
    "start_time": "2024-03-06T08:08:36.214Z"
   },
   {
    "duration": 9,
    "start_time": "2024-03-06T08:08:39.514Z"
   },
   {
    "duration": 5,
    "start_time": "2024-03-06T08:09:23.499Z"
   },
   {
    "duration": 9,
    "start_time": "2024-03-06T08:09:25.975Z"
   },
   {
    "duration": 6,
    "start_time": "2024-03-06T08:09:54.676Z"
   },
   {
    "duration": 13,
    "start_time": "2024-03-06T08:09:56.539Z"
   },
   {
    "duration": 1168,
    "start_time": "2024-03-06T08:10:34.912Z"
   },
   {
    "duration": 193,
    "start_time": "2024-03-06T08:10:36.082Z"
   },
   {
    "duration": 35,
    "start_time": "2024-03-06T08:10:36.277Z"
   },
   {
    "duration": 289,
    "start_time": "2024-03-06T08:10:36.315Z"
   },
   {
    "duration": 158,
    "start_time": "2024-03-06T08:10:36.606Z"
   },
   {
    "duration": 465,
    "start_time": "2024-03-06T08:10:36.766Z"
   },
   {
    "duration": 347,
    "start_time": "2024-03-06T08:10:37.233Z"
   },
   {
    "duration": 64,
    "start_time": "2024-03-06T08:10:37.582Z"
   },
   {
    "duration": 64,
    "start_time": "2024-03-06T08:10:37.648Z"
   },
   {
    "duration": 103,
    "start_time": "2024-03-06T08:10:37.715Z"
   },
   {
    "duration": 2,
    "start_time": "2024-03-06T08:10:37.820Z"
   },
   {
    "duration": 56,
    "start_time": "2024-03-06T08:10:37.824Z"
   },
   {
    "duration": 76,
    "start_time": "2024-03-06T08:10:37.882Z"
   },
   {
    "duration": 20,
    "start_time": "2024-03-06T08:10:37.960Z"
   },
   {
    "duration": 115,
    "start_time": "2024-03-06T08:10:37.982Z"
   },
   {
    "duration": 0,
    "start_time": "2024-03-06T08:10:38.099Z"
   },
   {
    "duration": 0,
    "start_time": "2024-03-06T08:10:38.100Z"
   },
   {
    "duration": 0,
    "start_time": "2024-03-06T08:10:38.101Z"
   },
   {
    "duration": 5,
    "start_time": "2024-03-06T08:12:08.291Z"
   },
   {
    "duration": 5,
    "start_time": "2024-03-06T08:12:11.078Z"
   },
   {
    "duration": 6,
    "start_time": "2024-03-06T08:12:14.451Z"
   },
   {
    "duration": 4,
    "start_time": "2024-03-06T08:12:16.475Z"
   },
   {
    "duration": 5,
    "start_time": "2024-03-06T08:12:18.666Z"
   },
   {
    "duration": 5,
    "start_time": "2024-03-06T08:14:21.469Z"
   },
   {
    "duration": 48,
    "start_time": "2024-03-06T08:17:14.350Z"
   },
   {
    "duration": 95,
    "start_time": "2024-03-06T08:17:26.950Z"
   },
   {
    "duration": 5,
    "start_time": "2024-03-06T08:19:53.453Z"
   },
   {
    "duration": 5,
    "start_time": "2024-03-06T08:20:40.786Z"
   },
   {
    "duration": 5,
    "start_time": "2024-03-06T08:21:32.681Z"
   },
   {
    "duration": 5,
    "start_time": "2024-03-06T08:22:09.946Z"
   },
   {
    "duration": 5,
    "start_time": "2024-03-06T08:27:43.741Z"
   },
   {
    "duration": 5,
    "start_time": "2024-03-06T08:28:04.529Z"
   },
   {
    "duration": 6,
    "start_time": "2024-03-06T08:28:41.332Z"
   },
   {
    "duration": 5,
    "start_time": "2024-03-06T08:29:36.867Z"
   },
   {
    "duration": 105,
    "start_time": "2024-03-06T08:30:27.093Z"
   },
   {
    "duration": 5,
    "start_time": "2024-03-06T08:30:39.407Z"
   },
   {
    "duration": 104,
    "start_time": "2024-03-06T08:45:42.108Z"
   },
   {
    "duration": 1583,
    "start_time": "2024-03-06T08:45:51.999Z"
   },
   {
    "duration": 1728,
    "start_time": "2024-03-06T08:46:30.529Z"
   },
   {
    "duration": 1722,
    "start_time": "2024-03-06T08:47:04.037Z"
   },
   {
    "duration": 3,
    "start_time": "2024-03-06T08:48:41.149Z"
   },
   {
    "duration": 209,
    "start_time": "2024-03-06T08:48:41.154Z"
   },
   {
    "duration": 31,
    "start_time": "2024-03-06T08:48:41.365Z"
   },
   {
    "duration": 235,
    "start_time": "2024-03-06T08:48:41.398Z"
   },
   {
    "duration": 149,
    "start_time": "2024-03-06T08:48:41.634Z"
   },
   {
    "duration": 455,
    "start_time": "2024-03-06T08:48:41.785Z"
   },
   {
    "duration": 346,
    "start_time": "2024-03-06T08:48:42.242Z"
   },
   {
    "duration": 63,
    "start_time": "2024-03-06T08:48:42.590Z"
   },
   {
    "duration": 63,
    "start_time": "2024-03-06T08:48:42.656Z"
   },
   {
    "duration": 101,
    "start_time": "2024-03-06T08:48:42.721Z"
   },
   {
    "duration": 2,
    "start_time": "2024-03-06T08:48:42.824Z"
   },
   {
    "duration": 38,
    "start_time": "2024-03-06T08:48:42.828Z"
   },
   {
    "duration": 97,
    "start_time": "2024-03-06T08:48:42.868Z"
   },
   {
    "duration": 17,
    "start_time": "2024-03-06T08:48:42.967Z"
   },
   {
    "duration": 18,
    "start_time": "2024-03-06T08:48:42.986Z"
   },
   {
    "duration": 6,
    "start_time": "2024-03-06T08:48:43.005Z"
   },
   {
    "duration": 6,
    "start_time": "2024-03-06T08:48:43.013Z"
   },
   {
    "duration": 23,
    "start_time": "2024-03-06T08:48:43.020Z"
   },
   {
    "duration": 97,
    "start_time": "2024-03-06T08:48:43.045Z"
   },
   {
    "duration": 2,
    "start_time": "2024-03-06T08:48:43.144Z"
   },
   {
    "duration": 7,
    "start_time": "2024-03-06T08:48:43.148Z"
   },
   {
    "duration": 6,
    "start_time": "2024-03-06T08:48:43.156Z"
   },
   {
    "duration": 18,
    "start_time": "2024-03-06T08:48:43.164Z"
   },
   {
    "duration": 6,
    "start_time": "2024-03-06T08:48:43.185Z"
   },
   {
    "duration": 9,
    "start_time": "2024-03-06T08:48:43.193Z"
   },
   {
    "duration": 27,
    "start_time": "2024-03-06T08:48:43.204Z"
   },
   {
    "duration": 10,
    "start_time": "2024-03-06T08:48:43.232Z"
   },
   {
    "duration": 8,
    "start_time": "2024-03-06T08:48:43.244Z"
   },
   {
    "duration": 6,
    "start_time": "2024-03-06T08:48:43.254Z"
   },
   {
    "duration": 1632,
    "start_time": "2024-03-06T08:48:43.262Z"
   },
   {
    "duration": 1604,
    "start_time": "2024-03-06T08:49:01.230Z"
   },
   {
    "duration": 1576,
    "start_time": "2024-03-06T08:50:34.315Z"
   },
   {
    "duration": 1661,
    "start_time": "2024-03-06T08:55:52.293Z"
   },
   {
    "duration": 3,
    "start_time": "2024-03-06T08:57:55.290Z"
   },
   {
    "duration": 195,
    "start_time": "2024-03-06T08:57:55.295Z"
   },
   {
    "duration": 28,
    "start_time": "2024-03-06T08:57:55.492Z"
   },
   {
    "duration": 231,
    "start_time": "2024-03-06T08:57:55.522Z"
   },
   {
    "duration": 155,
    "start_time": "2024-03-06T08:57:55.756Z"
   },
   {
    "duration": 451,
    "start_time": "2024-03-06T08:57:55.913Z"
   },
   {
    "duration": 326,
    "start_time": "2024-03-06T08:57:56.365Z"
   },
   {
    "duration": 61,
    "start_time": "2024-03-06T08:57:56.693Z"
   },
   {
    "duration": 60,
    "start_time": "2024-03-06T08:57:56.756Z"
   },
   {
    "duration": 96,
    "start_time": "2024-03-06T08:57:56.818Z"
   },
   {
    "duration": 3,
    "start_time": "2024-03-06T08:57:56.915Z"
   },
   {
    "duration": 49,
    "start_time": "2024-03-06T08:57:56.919Z"
   },
   {
    "duration": 92,
    "start_time": "2024-03-06T08:57:56.971Z"
   },
   {
    "duration": 5,
    "start_time": "2024-03-06T08:57:57.065Z"
   },
   {
    "duration": 12,
    "start_time": "2024-03-06T08:57:57.072Z"
   },
   {
    "duration": 6,
    "start_time": "2024-03-06T08:57:57.086Z"
   },
   {
    "duration": 12,
    "start_time": "2024-03-06T08:57:57.094Z"
   },
   {
    "duration": 8,
    "start_time": "2024-03-06T08:57:57.107Z"
   },
   {
    "duration": 97,
    "start_time": "2024-03-06T08:57:57.117Z"
   },
   {
    "duration": 2,
    "start_time": "2024-03-06T08:57:57.216Z"
   },
   {
    "duration": 11,
    "start_time": "2024-03-06T08:57:57.219Z"
   },
   {
    "duration": 26,
    "start_time": "2024-03-06T08:57:57.232Z"
   },
   {
    "duration": 9,
    "start_time": "2024-03-06T08:57:57.259Z"
   },
   {
    "duration": 18,
    "start_time": "2024-03-06T08:57:57.271Z"
   },
   {
    "duration": 20,
    "start_time": "2024-03-06T08:57:57.290Z"
   },
   {
    "duration": 9,
    "start_time": "2024-03-06T08:57:57.312Z"
   },
   {
    "duration": 19,
    "start_time": "2024-03-06T08:57:57.322Z"
   },
   {
    "duration": 18,
    "start_time": "2024-03-06T08:57:57.343Z"
   },
   {
    "duration": 10,
    "start_time": "2024-03-06T08:57:57.363Z"
   },
   {
    "duration": 1578,
    "start_time": "2024-03-06T08:57:57.374Z"
   },
   {
    "duration": 1598,
    "start_time": "2024-03-06T08:59:14.799Z"
   },
   {
    "duration": 1575,
    "start_time": "2024-03-06T09:09:04.567Z"
   },
   {
    "duration": 1593,
    "start_time": "2024-03-06T09:16:13.196Z"
   },
   {
    "duration": 1691,
    "start_time": "2024-03-06T09:18:08.834Z"
   },
   {
    "duration": 1571,
    "start_time": "2024-03-06T09:18:15.601Z"
   },
   {
    "duration": 11,
    "start_time": "2024-03-06T09:20:27.737Z"
   },
   {
    "duration": 101,
    "start_time": "2024-03-06T09:22:14.437Z"
   },
   {
    "duration": 96,
    "start_time": "2024-03-06T09:22:26.989Z"
   },
   {
    "duration": 106,
    "start_time": "2024-03-06T09:22:37.610Z"
   },
   {
    "duration": 3,
    "start_time": "2024-03-06T09:23:06.263Z"
   },
   {
    "duration": 209,
    "start_time": "2024-03-06T09:23:06.268Z"
   },
   {
    "duration": 32,
    "start_time": "2024-03-06T09:23:06.479Z"
   },
   {
    "duration": 250,
    "start_time": "2024-03-06T09:23:06.514Z"
   },
   {
    "duration": 156,
    "start_time": "2024-03-06T09:23:06.766Z"
   },
   {
    "duration": 554,
    "start_time": "2024-03-06T09:23:06.924Z"
   },
   {
    "duration": 312,
    "start_time": "2024-03-06T09:23:07.480Z"
   },
   {
    "duration": 60,
    "start_time": "2024-03-06T09:23:07.793Z"
   },
   {
    "duration": 59,
    "start_time": "2024-03-06T09:23:07.856Z"
   },
   {
    "duration": 90,
    "start_time": "2024-03-06T09:23:07.917Z"
   },
   {
    "duration": 2,
    "start_time": "2024-03-06T09:23:08.009Z"
   },
   {
    "duration": 55,
    "start_time": "2024-03-06T09:23:08.013Z"
   },
   {
    "duration": 95,
    "start_time": "2024-03-06T09:23:08.069Z"
   },
   {
    "duration": 5,
    "start_time": "2024-03-06T09:23:08.166Z"
   },
   {
    "duration": 87,
    "start_time": "2024-03-06T09:23:08.172Z"
   },
   {
    "duration": 18,
    "start_time": "2024-03-06T09:23:08.261Z"
   },
   {
    "duration": 18,
    "start_time": "2024-03-06T09:23:08.281Z"
   },
   {
    "duration": 19,
    "start_time": "2024-03-06T09:23:08.300Z"
   },
   {
    "duration": 91,
    "start_time": "2024-03-06T09:23:08.320Z"
   },
   {
    "duration": 2,
    "start_time": "2024-03-06T09:23:08.413Z"
   },
   {
    "duration": 12,
    "start_time": "2024-03-06T09:23:08.417Z"
   },
   {
    "duration": 27,
    "start_time": "2024-03-06T09:23:08.430Z"
   },
   {
    "duration": 30,
    "start_time": "2024-03-06T09:23:08.460Z"
   },
   {
    "duration": 45,
    "start_time": "2024-03-06T09:23:08.494Z"
   },
   {
    "duration": 25,
    "start_time": "2024-03-06T09:23:08.541Z"
   },
   {
    "duration": 14,
    "start_time": "2024-03-06T09:23:08.568Z"
   },
   {
    "duration": 33,
    "start_time": "2024-03-06T09:23:08.583Z"
   },
   {
    "duration": 18,
    "start_time": "2024-03-06T09:23:08.618Z"
   },
   {
    "duration": 41,
    "start_time": "2024-03-06T09:23:08.637Z"
   },
   {
    "duration": 120,
    "start_time": "2024-03-06T09:23:08.680Z"
   },
   {
    "duration": 105,
    "start_time": "2024-03-06T09:24:23.154Z"
   },
   {
    "duration": 10,
    "start_time": "2024-03-06T09:24:54.739Z"
   },
   {
    "duration": 101,
    "start_time": "2024-03-06T11:37:39.039Z"
   },
   {
    "duration": 89,
    "start_time": "2024-03-06T11:37:49.943Z"
   },
   {
    "duration": 97,
    "start_time": "2024-03-06T11:38:08.999Z"
   },
   {
    "duration": 46,
    "start_time": "2024-03-06T11:46:25.174Z"
   },
   {
    "duration": 1298,
    "start_time": "2024-03-06T11:46:33.384Z"
   },
   {
    "duration": 735,
    "start_time": "2024-03-06T11:46:34.685Z"
   },
   {
    "duration": 32,
    "start_time": "2024-03-06T11:46:35.422Z"
   },
   {
    "duration": 212,
    "start_time": "2024-03-06T11:46:35.455Z"
   },
   {
    "duration": 149,
    "start_time": "2024-03-06T11:46:35.670Z"
   },
   {
    "duration": 416,
    "start_time": "2024-03-06T11:46:35.821Z"
   },
   {
    "duration": 307,
    "start_time": "2024-03-06T11:46:36.238Z"
   },
   {
    "duration": 75,
    "start_time": "2024-03-06T11:46:36.546Z"
   },
   {
    "duration": 38,
    "start_time": "2024-03-06T11:46:36.623Z"
   },
   {
    "duration": 93,
    "start_time": "2024-03-06T11:46:36.662Z"
   },
   {
    "duration": 2,
    "start_time": "2024-03-06T11:46:36.756Z"
   },
   {
    "duration": 51,
    "start_time": "2024-03-06T11:46:36.760Z"
   },
   {
    "duration": 88,
    "start_time": "2024-03-06T11:46:36.813Z"
   },
   {
    "duration": 5,
    "start_time": "2024-03-06T11:46:36.903Z"
   },
   {
    "duration": 16,
    "start_time": "2024-03-06T11:46:36.910Z"
   },
   {
    "duration": 10,
    "start_time": "2024-03-06T11:46:36.928Z"
   },
   {
    "duration": 18,
    "start_time": "2024-03-06T11:46:36.940Z"
   },
   {
    "duration": 13,
    "start_time": "2024-03-06T11:46:36.959Z"
   },
   {
    "duration": 73,
    "start_time": "2024-03-06T11:46:36.974Z"
   },
   {
    "duration": 2,
    "start_time": "2024-03-06T11:46:37.049Z"
   },
   {
    "duration": 13,
    "start_time": "2024-03-06T11:46:37.053Z"
   },
   {
    "duration": 9,
    "start_time": "2024-03-06T11:46:37.068Z"
   },
   {
    "duration": 15,
    "start_time": "2024-03-06T11:46:37.078Z"
   },
   {
    "duration": 19,
    "start_time": "2024-03-06T11:46:37.095Z"
   },
   {
    "duration": 18,
    "start_time": "2024-03-06T11:46:37.115Z"
   },
   {
    "duration": 10,
    "start_time": "2024-03-06T11:46:37.135Z"
   },
   {
    "duration": 23,
    "start_time": "2024-03-06T11:46:37.147Z"
   },
   {
    "duration": 21,
    "start_time": "2024-03-06T11:46:37.172Z"
   },
   {
    "duration": 27,
    "start_time": "2024-03-06T11:46:37.195Z"
   },
   {
    "duration": 29,
    "start_time": "2024-03-06T11:46:37.224Z"
   },
   {
    "duration": 14,
    "start_time": "2024-03-06T11:46:46.766Z"
   },
   {
    "duration": 1766,
    "start_time": "2024-03-06T11:47:59.241Z"
   },
   {
    "duration": 12,
    "start_time": "2024-03-06T11:48:11.455Z"
   },
   {
    "duration": 3,
    "start_time": "2024-03-06T11:48:20.547Z"
   },
   {
    "duration": 211,
    "start_time": "2024-03-06T11:48:20.552Z"
   },
   {
    "duration": 29,
    "start_time": "2024-03-06T11:48:20.764Z"
   },
   {
    "duration": 223,
    "start_time": "2024-03-06T11:48:20.794Z"
   },
   {
    "duration": 144,
    "start_time": "2024-03-06T11:48:21.019Z"
   },
   {
    "duration": 410,
    "start_time": "2024-03-06T11:48:21.164Z"
   },
   {
    "duration": 287,
    "start_time": "2024-03-06T11:48:21.576Z"
   },
   {
    "duration": 63,
    "start_time": "2024-03-06T11:48:21.865Z"
   },
   {
    "duration": 39,
    "start_time": "2024-03-06T11:48:21.930Z"
   },
   {
    "duration": 95,
    "start_time": "2024-03-06T11:48:21.970Z"
   },
   {
    "duration": 2,
    "start_time": "2024-03-06T11:48:22.067Z"
   },
   {
    "duration": 62,
    "start_time": "2024-03-06T11:48:22.070Z"
   },
   {
    "duration": 83,
    "start_time": "2024-03-06T11:48:22.134Z"
   },
   {
    "duration": 4,
    "start_time": "2024-03-06T11:48:22.219Z"
   },
   {
    "duration": 25,
    "start_time": "2024-03-06T11:48:22.225Z"
   },
   {
    "duration": 68,
    "start_time": "2024-03-06T11:48:22.251Z"
   },
   {
    "duration": 51,
    "start_time": "2024-03-06T11:48:22.321Z"
   },
   {
    "duration": 17,
    "start_time": "2024-03-06T11:48:22.373Z"
   },
   {
    "duration": 90,
    "start_time": "2024-03-06T11:48:22.391Z"
   },
   {
    "duration": 3,
    "start_time": "2024-03-06T11:48:22.482Z"
   },
   {
    "duration": 12,
    "start_time": "2024-03-06T11:48:22.486Z"
   },
   {
    "duration": 16,
    "start_time": "2024-03-06T11:48:22.500Z"
   },
   {
    "duration": 21,
    "start_time": "2024-03-06T11:48:22.517Z"
   },
   {
    "duration": 11,
    "start_time": "2024-03-06T11:48:22.541Z"
   },
   {
    "duration": 5,
    "start_time": "2024-03-06T11:48:22.554Z"
   },
   {
    "duration": 13,
    "start_time": "2024-03-06T11:48:22.561Z"
   },
   {
    "duration": 6,
    "start_time": "2024-03-06T11:48:22.575Z"
   },
   {
    "duration": 34,
    "start_time": "2024-03-06T11:48:22.583Z"
   },
   {
    "duration": 20,
    "start_time": "2024-03-06T11:48:22.618Z"
   },
   {
    "duration": 14,
    "start_time": "2024-03-06T11:48:22.639Z"
   },
   {
    "duration": 84,
    "start_time": "2024-03-06T11:51:18.433Z"
   },
   {
    "duration": 93,
    "start_time": "2024-03-06T11:51:38.296Z"
   },
   {
    "duration": 102,
    "start_time": "2024-03-06T11:52:18.619Z"
   },
   {
    "duration": 87,
    "start_time": "2024-03-06T11:52:28.681Z"
   },
   {
    "duration": 1768,
    "start_time": "2024-03-06T11:53:47.434Z"
   },
   {
    "duration": 119,
    "start_time": "2024-03-06T11:55:39.610Z"
   },
   {
    "duration": 3,
    "start_time": "2024-03-06T11:55:53.390Z"
   },
   {
    "duration": 184,
    "start_time": "2024-03-06T11:55:53.395Z"
   },
   {
    "duration": 27,
    "start_time": "2024-03-06T11:55:53.581Z"
   },
   {
    "duration": 228,
    "start_time": "2024-03-06T11:55:53.610Z"
   },
   {
    "duration": 148,
    "start_time": "2024-03-06T11:55:53.840Z"
   },
   {
    "duration": 425,
    "start_time": "2024-03-06T11:55:53.990Z"
   },
   {
    "duration": 308,
    "start_time": "2024-03-06T11:55:54.417Z"
   },
   {
    "duration": 71,
    "start_time": "2024-03-06T11:55:54.727Z"
   },
   {
    "duration": 40,
    "start_time": "2024-03-06T11:55:54.800Z"
   },
   {
    "duration": 94,
    "start_time": "2024-03-06T11:55:54.841Z"
   },
   {
    "duration": 3,
    "start_time": "2024-03-06T11:55:54.936Z"
   },
   {
    "duration": 41,
    "start_time": "2024-03-06T11:55:54.940Z"
   },
   {
    "duration": 122,
    "start_time": "2024-03-06T11:55:54.987Z"
   },
   {
    "duration": 6,
    "start_time": "2024-03-06T11:55:55.111Z"
   },
   {
    "duration": 12,
    "start_time": "2024-03-06T11:55:55.118Z"
   },
   {
    "duration": 7,
    "start_time": "2024-03-06T11:55:55.132Z"
   },
   {
    "duration": 6,
    "start_time": "2024-03-06T11:55:55.140Z"
   },
   {
    "duration": 7,
    "start_time": "2024-03-06T11:55:55.147Z"
   },
   {
    "duration": 93,
    "start_time": "2024-03-06T11:55:55.156Z"
   },
   {
    "duration": 3,
    "start_time": "2024-03-06T11:55:55.251Z"
   },
   {
    "duration": 33,
    "start_time": "2024-03-06T11:55:55.255Z"
   },
   {
    "duration": 15,
    "start_time": "2024-03-06T11:55:55.290Z"
   },
   {
    "duration": 43,
    "start_time": "2024-03-06T11:55:55.306Z"
   },
   {
    "duration": 26,
    "start_time": "2024-03-06T11:55:55.352Z"
   },
   {
    "duration": 11,
    "start_time": "2024-03-06T11:55:55.380Z"
   },
   {
    "duration": 25,
    "start_time": "2024-03-06T11:55:55.392Z"
   },
   {
    "duration": 5,
    "start_time": "2024-03-06T11:55:55.418Z"
   },
   {
    "duration": 17,
    "start_time": "2024-03-06T11:55:55.424Z"
   },
   {
    "duration": 11,
    "start_time": "2024-03-06T11:55:55.442Z"
   },
   {
    "duration": 16,
    "start_time": "2024-03-06T11:55:55.454Z"
   },
   {
    "duration": 15,
    "start_time": "2024-03-06T11:56:01.981Z"
   },
   {
    "duration": 138,
    "start_time": "2024-03-06T11:57:57.246Z"
   },
   {
    "duration": 3,
    "start_time": "2024-03-06T11:58:05.663Z"
   },
   {
    "duration": 194,
    "start_time": "2024-03-06T11:58:05.667Z"
   },
   {
    "duration": 27,
    "start_time": "2024-03-06T11:58:05.863Z"
   },
   {
    "duration": 224,
    "start_time": "2024-03-06T11:58:05.893Z"
   },
   {
    "duration": 141,
    "start_time": "2024-03-06T11:58:06.119Z"
   },
   {
    "duration": 494,
    "start_time": "2024-03-06T11:58:06.262Z"
   },
   {
    "duration": 276,
    "start_time": "2024-03-06T11:58:06.758Z"
   },
   {
    "duration": 65,
    "start_time": "2024-03-06T11:58:07.035Z"
   },
   {
    "duration": 35,
    "start_time": "2024-03-06T11:58:07.101Z"
   },
   {
    "duration": 79,
    "start_time": "2024-03-06T11:58:07.139Z"
   },
   {
    "duration": 2,
    "start_time": "2024-03-06T11:58:07.219Z"
   },
   {
    "duration": 31,
    "start_time": "2024-03-06T11:58:07.223Z"
   },
   {
    "duration": 123,
    "start_time": "2024-03-06T11:58:07.255Z"
   },
   {
    "duration": 5,
    "start_time": "2024-03-06T11:58:07.388Z"
   },
   {
    "duration": 11,
    "start_time": "2024-03-06T11:58:07.394Z"
   },
   {
    "duration": 5,
    "start_time": "2024-03-06T11:58:07.406Z"
   },
   {
    "duration": 9,
    "start_time": "2024-03-06T11:58:07.413Z"
   },
   {
    "duration": 4,
    "start_time": "2024-03-06T11:58:07.424Z"
   },
   {
    "duration": 82,
    "start_time": "2024-03-06T11:58:07.429Z"
   },
   {
    "duration": 3,
    "start_time": "2024-03-06T11:58:07.513Z"
   },
   {
    "duration": 8,
    "start_time": "2024-03-06T11:58:07.517Z"
   },
   {
    "duration": 18,
    "start_time": "2024-03-06T11:58:07.526Z"
   },
   {
    "duration": 24,
    "start_time": "2024-03-06T11:58:07.546Z"
   },
   {
    "duration": 5,
    "start_time": "2024-03-06T11:58:07.572Z"
   },
   {
    "duration": 6,
    "start_time": "2024-03-06T11:58:07.578Z"
   },
   {
    "duration": 16,
    "start_time": "2024-03-06T11:58:07.585Z"
   },
   {
    "duration": 7,
    "start_time": "2024-03-06T11:58:07.603Z"
   },
   {
    "duration": 4,
    "start_time": "2024-03-06T11:58:07.613Z"
   },
   {
    "duration": 6,
    "start_time": "2024-03-06T11:58:07.618Z"
   },
   {
    "duration": 14,
    "start_time": "2024-03-06T11:58:07.625Z"
   },
   {
    "duration": 4,
    "start_time": "2024-03-06T12:01:24.163Z"
   },
   {
    "duration": 5,
    "start_time": "2024-03-06T12:01:26.563Z"
   },
   {
    "duration": 5,
    "start_time": "2024-03-06T12:01:28.804Z"
   },
   {
    "duration": 5,
    "start_time": "2024-03-06T12:01:31.082Z"
   },
   {
    "duration": 3,
    "start_time": "2024-03-06T12:03:17.750Z"
   },
   {
    "duration": 195,
    "start_time": "2024-03-06T12:03:17.754Z"
   },
   {
    "duration": 26,
    "start_time": "2024-03-06T12:03:17.951Z"
   },
   {
    "duration": 231,
    "start_time": "2024-03-06T12:03:17.978Z"
   },
   {
    "duration": 146,
    "start_time": "2024-03-06T12:03:18.211Z"
   },
   {
    "duration": 398,
    "start_time": "2024-03-06T12:03:18.358Z"
   },
   {
    "duration": 300,
    "start_time": "2024-03-06T12:03:18.758Z"
   },
   {
    "duration": 61,
    "start_time": "2024-03-06T12:03:19.059Z"
   },
   {
    "duration": 40,
    "start_time": "2024-03-06T12:03:19.121Z"
   },
   {
    "duration": 92,
    "start_time": "2024-03-06T12:03:19.163Z"
   },
   {
    "duration": 2,
    "start_time": "2024-03-06T12:03:19.257Z"
   },
   {
    "duration": 44,
    "start_time": "2024-03-06T12:03:19.260Z"
   },
   {
    "duration": 125,
    "start_time": "2024-03-06T12:03:19.306Z"
   },
   {
    "duration": 6,
    "start_time": "2024-03-06T12:03:19.433Z"
   },
   {
    "duration": 9,
    "start_time": "2024-03-06T12:03:19.440Z"
   },
   {
    "duration": 7,
    "start_time": "2024-03-06T12:03:19.450Z"
   },
   {
    "duration": 7,
    "start_time": "2024-03-06T12:03:19.458Z"
   },
   {
    "duration": 22,
    "start_time": "2024-03-06T12:03:19.466Z"
   },
   {
    "duration": 72,
    "start_time": "2024-03-06T12:03:19.490Z"
   },
   {
    "duration": 2,
    "start_time": "2024-03-06T12:03:19.564Z"
   },
   {
    "duration": 22,
    "start_time": "2024-03-06T12:03:19.567Z"
   },
   {
    "duration": 16,
    "start_time": "2024-03-06T12:03:19.590Z"
   },
   {
    "duration": 6,
    "start_time": "2024-03-06T12:03:19.608Z"
   },
   {
    "duration": 10,
    "start_time": "2024-03-06T12:03:19.615Z"
   },
   {
    "duration": 5,
    "start_time": "2024-03-06T12:03:19.626Z"
   },
   {
    "duration": 6,
    "start_time": "2024-03-06T12:03:19.633Z"
   },
   {
    "duration": 12,
    "start_time": "2024-03-06T12:03:19.641Z"
   },
   {
    "duration": 17,
    "start_time": "2024-03-06T12:03:19.654Z"
   },
   {
    "duration": 6,
    "start_time": "2024-03-06T12:03:19.673Z"
   },
   {
    "duration": 16,
    "start_time": "2024-03-06T12:03:19.681Z"
   },
   {
    "duration": 11,
    "start_time": "2024-03-06T12:03:19.698Z"
   },
   {
    "duration": 12,
    "start_time": "2024-03-06T12:03:19.710Z"
   },
   {
    "duration": 9,
    "start_time": "2024-03-06T12:03:19.724Z"
   },
   {
    "duration": 8,
    "start_time": "2024-03-06T12:03:19.735Z"
   },
   {
    "duration": 1588,
    "start_time": "2024-03-06T13:22:33.130Z"
   },
   {
    "duration": 1571,
    "start_time": "2024-03-06T13:24:25.107Z"
   },
   {
    "duration": 1558,
    "start_time": "2024-03-06T13:28:33.395Z"
   },
   {
    "duration": 1539,
    "start_time": "2024-03-06T13:28:45.959Z"
   },
   {
    "duration": 11,
    "start_time": "2024-03-06T13:31:30.899Z"
   },
   {
    "duration": 10,
    "start_time": "2024-03-06T13:32:25.706Z"
   },
   {
    "duration": 114,
    "start_time": "2024-03-06T13:35:15.024Z"
   },
   {
    "duration": 10,
    "start_time": "2024-03-06T13:35:23.846Z"
   },
   {
    "duration": 11,
    "start_time": "2024-03-06T13:36:29.871Z"
   },
   {
    "duration": 9,
    "start_time": "2024-03-06T13:36:41.265Z"
   },
   {
    "duration": 1558,
    "start_time": "2024-03-06T13:37:15.996Z"
   },
   {
    "duration": 1674,
    "start_time": "2024-03-06T13:37:56.799Z"
   },
   {
    "duration": 1593,
    "start_time": "2024-03-06T13:38:14.944Z"
   },
   {
    "duration": 12,
    "start_time": "2024-03-06T13:38:29.602Z"
   },
   {
    "duration": 11,
    "start_time": "2024-03-06T13:38:52.946Z"
   },
   {
    "duration": 2,
    "start_time": "2024-03-06T13:39:20.859Z"
   },
   {
    "duration": 193,
    "start_time": "2024-03-06T13:39:20.863Z"
   },
   {
    "duration": 34,
    "start_time": "2024-03-06T13:39:21.058Z"
   },
   {
    "duration": 211,
    "start_time": "2024-03-06T13:39:21.094Z"
   },
   {
    "duration": 159,
    "start_time": "2024-03-06T13:39:21.307Z"
   },
   {
    "duration": 424,
    "start_time": "2024-03-06T13:39:21.468Z"
   },
   {
    "duration": 291,
    "start_time": "2024-03-06T13:39:21.894Z"
   },
   {
    "duration": 55,
    "start_time": "2024-03-06T13:39:22.187Z"
   },
   {
    "duration": 59,
    "start_time": "2024-03-06T13:39:22.245Z"
   },
   {
    "duration": 81,
    "start_time": "2024-03-06T13:39:22.306Z"
   },
   {
    "duration": 10,
    "start_time": "2024-03-06T13:39:22.389Z"
   },
   {
    "duration": 35,
    "start_time": "2024-03-06T13:39:22.401Z"
   },
   {
    "duration": 128,
    "start_time": "2024-03-06T13:39:22.437Z"
   },
   {
    "duration": 5,
    "start_time": "2024-03-06T13:39:22.567Z"
   },
   {
    "duration": 34,
    "start_time": "2024-03-06T13:39:22.573Z"
   },
   {
    "duration": 12,
    "start_time": "2024-03-06T13:39:22.608Z"
   },
   {
    "duration": 6,
    "start_time": "2024-03-06T13:39:22.621Z"
   },
   {
    "duration": 12,
    "start_time": "2024-03-06T13:39:22.628Z"
   },
   {
    "duration": 69,
    "start_time": "2024-03-06T13:39:22.641Z"
   },
   {
    "duration": 3,
    "start_time": "2024-03-06T13:39:22.711Z"
   },
   {
    "duration": 8,
    "start_time": "2024-03-06T13:39:22.715Z"
   },
   {
    "duration": 7,
    "start_time": "2024-03-06T13:39:22.724Z"
   },
   {
    "duration": 8,
    "start_time": "2024-03-06T13:39:22.733Z"
   },
   {
    "duration": 19,
    "start_time": "2024-03-06T13:39:22.744Z"
   },
   {
    "duration": 5,
    "start_time": "2024-03-06T13:39:22.764Z"
   },
   {
    "duration": 7,
    "start_time": "2024-03-06T13:39:22.770Z"
   },
   {
    "duration": 8,
    "start_time": "2024-03-06T13:39:22.778Z"
   },
   {
    "duration": 14,
    "start_time": "2024-03-06T13:39:22.788Z"
   },
   {
    "duration": 8,
    "start_time": "2024-03-06T13:39:22.803Z"
   },
   {
    "duration": 11,
    "start_time": "2024-03-06T13:39:22.812Z"
   },
   {
    "duration": 7,
    "start_time": "2024-03-06T13:39:22.825Z"
   },
   {
    "duration": 5,
    "start_time": "2024-03-06T13:39:22.833Z"
   },
   {
    "duration": 11,
    "start_time": "2024-03-06T13:39:22.839Z"
   },
   {
    "duration": 9,
    "start_time": "2024-03-06T13:39:22.851Z"
   },
   {
    "duration": 11,
    "start_time": "2024-03-06T13:39:51.423Z"
   },
   {
    "duration": 13,
    "start_time": "2024-03-06T13:43:41.264Z"
   },
   {
    "duration": 13,
    "start_time": "2024-03-06T13:45:28.971Z"
   },
   {
    "duration": 12,
    "start_time": "2024-03-06T13:45:54.259Z"
   },
   {
    "duration": 1119,
    "start_time": "2024-03-06T14:10:01.448Z"
   },
   {
    "duration": 187,
    "start_time": "2024-03-06T14:10:02.569Z"
   },
   {
    "duration": 32,
    "start_time": "2024-03-06T14:10:02.758Z"
   },
   {
    "duration": 232,
    "start_time": "2024-03-06T14:10:02.792Z"
   },
   {
    "duration": 156,
    "start_time": "2024-03-06T14:10:03.025Z"
   },
   {
    "duration": 441,
    "start_time": "2024-03-06T14:10:03.182Z"
   },
   {
    "duration": 313,
    "start_time": "2024-03-06T14:10:03.624Z"
   },
   {
    "duration": 72,
    "start_time": "2024-03-06T14:10:03.939Z"
   },
   {
    "duration": 41,
    "start_time": "2024-03-06T14:10:04.012Z"
   },
   {
    "duration": 95,
    "start_time": "2024-03-06T14:10:04.056Z"
   },
   {
    "duration": 1650,
    "start_time": "2024-03-06T14:10:04.152Z"
   },
   {
    "duration": 0,
    "start_time": "2024-03-06T14:10:05.804Z"
   },
   {
    "duration": 0,
    "start_time": "2024-03-06T14:10:05.805Z"
   },
   {
    "duration": 0,
    "start_time": "2024-03-06T14:10:05.806Z"
   },
   {
    "duration": 0,
    "start_time": "2024-03-06T14:10:05.807Z"
   },
   {
    "duration": 0,
    "start_time": "2024-03-06T14:10:05.808Z"
   },
   {
    "duration": 0,
    "start_time": "2024-03-06T14:10:05.809Z"
   },
   {
    "duration": 0,
    "start_time": "2024-03-06T14:10:05.810Z"
   },
   {
    "duration": 0,
    "start_time": "2024-03-06T14:10:05.811Z"
   },
   {
    "duration": 0,
    "start_time": "2024-03-06T14:10:05.812Z"
   },
   {
    "duration": 1,
    "start_time": "2024-03-06T14:10:05.813Z"
   },
   {
    "duration": 0,
    "start_time": "2024-03-06T14:10:05.815Z"
   },
   {
    "duration": 0,
    "start_time": "2024-03-06T14:10:05.815Z"
   },
   {
    "duration": 0,
    "start_time": "2024-03-06T14:10:05.816Z"
   },
   {
    "duration": 0,
    "start_time": "2024-03-06T14:10:05.817Z"
   },
   {
    "duration": 0,
    "start_time": "2024-03-06T14:10:05.818Z"
   },
   {
    "duration": 0,
    "start_time": "2024-03-06T14:10:05.820Z"
   },
   {
    "duration": 0,
    "start_time": "2024-03-06T14:10:05.820Z"
   },
   {
    "duration": 0,
    "start_time": "2024-03-06T14:10:05.821Z"
   },
   {
    "duration": 0,
    "start_time": "2024-03-06T14:10:05.822Z"
   },
   {
    "duration": 0,
    "start_time": "2024-03-06T14:10:05.823Z"
   },
   {
    "duration": 0,
    "start_time": "2024-03-06T14:10:05.824Z"
   },
   {
    "duration": 0,
    "start_time": "2024-03-06T14:10:05.825Z"
   },
   {
    "duration": 0,
    "start_time": "2024-03-06T14:10:05.826Z"
   },
   {
    "duration": 1616,
    "start_time": "2024-03-06T14:10:46.509Z"
   },
   {
    "duration": 1570,
    "start_time": "2024-03-06T14:11:08.431Z"
   },
   {
    "duration": 1622,
    "start_time": "2024-03-06T14:11:57.951Z"
   },
   {
    "duration": 14,
    "start_time": "2024-03-06T14:14:57.207Z"
   },
   {
    "duration": 12,
    "start_time": "2024-03-06T14:15:23.799Z"
   },
   {
    "duration": 1014,
    "start_time": "2024-03-06T14:15:48.532Z"
   },
   {
    "duration": 173,
    "start_time": "2024-03-06T14:15:49.548Z"
   },
   {
    "duration": 33,
    "start_time": "2024-03-06T14:15:49.722Z"
   },
   {
    "duration": 257,
    "start_time": "2024-03-06T14:15:49.758Z"
   },
   {
    "duration": 145,
    "start_time": "2024-03-06T14:15:50.017Z"
   },
   {
    "duration": 418,
    "start_time": "2024-03-06T14:15:50.164Z"
   },
   {
    "duration": 284,
    "start_time": "2024-03-06T14:15:50.585Z"
   },
   {
    "duration": 64,
    "start_time": "2024-03-06T14:15:50.871Z"
   },
   {
    "duration": 52,
    "start_time": "2024-03-06T14:15:50.937Z"
   },
   {
    "duration": 82,
    "start_time": "2024-03-06T14:15:50.992Z"
   },
   {
    "duration": 19,
    "start_time": "2024-03-06T14:15:51.088Z"
   },
   {
    "duration": 33,
    "start_time": "2024-03-06T14:15:51.108Z"
   },
   {
    "duration": 133,
    "start_time": "2024-03-06T14:15:51.143Z"
   },
   {
    "duration": 11,
    "start_time": "2024-03-06T14:15:51.277Z"
   },
   {
    "duration": 23,
    "start_time": "2024-03-06T14:15:51.289Z"
   },
   {
    "duration": 8,
    "start_time": "2024-03-06T14:15:51.313Z"
   },
   {
    "duration": 26,
    "start_time": "2024-03-06T14:15:51.322Z"
   },
   {
    "duration": 7,
    "start_time": "2024-03-06T14:15:51.350Z"
   },
   {
    "duration": 77,
    "start_time": "2024-03-06T14:15:51.358Z"
   },
   {
    "duration": 2,
    "start_time": "2024-03-06T14:15:51.437Z"
   },
   {
    "duration": 8,
    "start_time": "2024-03-06T14:15:51.441Z"
   },
   {
    "duration": 8,
    "start_time": "2024-03-06T14:15:51.450Z"
   },
   {
    "duration": 7,
    "start_time": "2024-03-06T14:15:51.459Z"
   },
   {
    "duration": 25,
    "start_time": "2024-03-06T14:15:51.467Z"
   },
   {
    "duration": 19,
    "start_time": "2024-03-06T14:15:51.494Z"
   },
   {
    "duration": 17,
    "start_time": "2024-03-06T14:15:51.514Z"
   },
   {
    "duration": 5,
    "start_time": "2024-03-06T14:15:51.533Z"
   },
   {
    "duration": 5,
    "start_time": "2024-03-06T14:15:51.541Z"
   },
   {
    "duration": 11,
    "start_time": "2024-03-06T14:15:51.548Z"
   },
   {
    "duration": 14,
    "start_time": "2024-03-06T14:15:51.561Z"
   },
   {
    "duration": 6,
    "start_time": "2024-03-06T14:15:51.576Z"
   },
   {
    "duration": 6,
    "start_time": "2024-03-06T14:15:51.583Z"
   },
   {
    "duration": 26,
    "start_time": "2024-03-06T14:15:51.591Z"
   },
   {
    "duration": 13,
    "start_time": "2024-03-06T14:15:51.618Z"
   },
   {
    "duration": 1120,
    "start_time": "2024-03-06T14:16:16.738Z"
   },
   {
    "duration": 184,
    "start_time": "2024-03-06T14:16:17.860Z"
   },
   {
    "duration": 33,
    "start_time": "2024-03-06T14:16:18.045Z"
   },
   {
    "duration": 234,
    "start_time": "2024-03-06T14:16:18.089Z"
   },
   {
    "duration": 135,
    "start_time": "2024-03-06T14:16:18.325Z"
   },
   {
    "duration": 395,
    "start_time": "2024-03-06T14:16:18.461Z"
   },
   {
    "duration": 296,
    "start_time": "2024-03-06T14:16:18.858Z"
   },
   {
    "duration": 91,
    "start_time": "2024-03-06T14:16:19.156Z"
   },
   {
    "duration": 58,
    "start_time": "2024-03-06T14:16:19.249Z"
   },
   {
    "duration": 84,
    "start_time": "2024-03-06T14:16:19.309Z"
   },
   {
    "duration": 13,
    "start_time": "2024-03-06T14:16:19.395Z"
   },
   {
    "duration": 45,
    "start_time": "2024-03-06T14:16:19.410Z"
   },
   {
    "duration": 121,
    "start_time": "2024-03-06T14:16:19.457Z"
   },
   {
    "duration": 10,
    "start_time": "2024-03-06T14:16:19.580Z"
   },
   {
    "duration": 13,
    "start_time": "2024-03-06T14:16:19.591Z"
   },
   {
    "duration": 21,
    "start_time": "2024-03-06T14:16:19.605Z"
   },
   {
    "duration": 6,
    "start_time": "2024-03-06T14:16:19.627Z"
   },
   {
    "duration": 12,
    "start_time": "2024-03-06T14:16:19.635Z"
   },
   {
    "duration": 82,
    "start_time": "2024-03-06T14:16:19.648Z"
   },
   {
    "duration": 3,
    "start_time": "2024-03-06T14:16:19.731Z"
   },
   {
    "duration": 19,
    "start_time": "2024-03-06T14:16:19.735Z"
   },
   {
    "duration": 8,
    "start_time": "2024-03-06T14:16:19.756Z"
   },
   {
    "duration": 17,
    "start_time": "2024-03-06T14:16:19.765Z"
   },
   {
    "duration": 7,
    "start_time": "2024-03-06T14:16:19.783Z"
   },
   {
    "duration": 4,
    "start_time": "2024-03-06T14:16:19.791Z"
   },
   {
    "duration": 12,
    "start_time": "2024-03-06T14:16:19.796Z"
   },
   {
    "duration": 7,
    "start_time": "2024-03-06T14:16:19.809Z"
   },
   {
    "duration": 18,
    "start_time": "2024-03-06T14:16:19.819Z"
   },
   {
    "duration": 8,
    "start_time": "2024-03-06T14:16:19.838Z"
   },
   {
    "duration": 1661,
    "start_time": "2024-03-06T14:16:19.848Z"
   },
   {
    "duration": 0,
    "start_time": "2024-03-06T14:16:21.510Z"
   },
   {
    "duration": 0,
    "start_time": "2024-03-06T14:16:21.511Z"
   },
   {
    "duration": 0,
    "start_time": "2024-03-06T14:16:21.512Z"
   },
   {
    "duration": 0,
    "start_time": "2024-03-06T14:16:21.513Z"
   },
   {
    "duration": 11,
    "start_time": "2024-03-06T14:16:40.065Z"
   },
   {
    "duration": 1136,
    "start_time": "2024-03-06T14:16:50.496Z"
   },
   {
    "duration": 175,
    "start_time": "2024-03-06T14:16:51.634Z"
   },
   {
    "duration": 31,
    "start_time": "2024-03-06T14:16:51.810Z"
   },
   {
    "duration": 238,
    "start_time": "2024-03-06T14:16:51.843Z"
   },
   {
    "duration": 147,
    "start_time": "2024-03-06T14:16:52.083Z"
   },
   {
    "duration": 419,
    "start_time": "2024-03-06T14:16:52.231Z"
   },
   {
    "duration": 285,
    "start_time": "2024-03-06T14:16:52.652Z"
   },
   {
    "duration": 69,
    "start_time": "2024-03-06T14:16:52.939Z"
   },
   {
    "duration": 39,
    "start_time": "2024-03-06T14:16:53.009Z"
   },
   {
    "duration": 101,
    "start_time": "2024-03-06T14:16:53.050Z"
   },
   {
    "duration": 14,
    "start_time": "2024-03-06T14:16:53.153Z"
   },
   {
    "duration": 49,
    "start_time": "2024-03-06T14:16:53.169Z"
   },
   {
    "duration": 133,
    "start_time": "2024-03-06T14:16:53.220Z"
   },
   {
    "duration": 5,
    "start_time": "2024-03-06T14:16:53.355Z"
   },
   {
    "duration": 10,
    "start_time": "2024-03-06T14:16:53.361Z"
   },
   {
    "duration": 15,
    "start_time": "2024-03-06T14:16:53.372Z"
   },
   {
    "duration": 4,
    "start_time": "2024-03-06T14:16:53.389Z"
   },
   {
    "duration": 6,
    "start_time": "2024-03-06T14:16:53.394Z"
   },
   {
    "duration": 66,
    "start_time": "2024-03-06T14:16:53.402Z"
   },
   {
    "duration": 17,
    "start_time": "2024-03-06T14:16:53.470Z"
   },
   {
    "duration": 10,
    "start_time": "2024-03-06T14:16:53.489Z"
   },
   {
    "duration": 5,
    "start_time": "2024-03-06T14:16:53.500Z"
   },
   {
    "duration": 7,
    "start_time": "2024-03-06T14:16:53.506Z"
   },
   {
    "duration": 4,
    "start_time": "2024-03-06T14:16:53.515Z"
   },
   {
    "duration": 10,
    "start_time": "2024-03-06T14:16:53.520Z"
   },
   {
    "duration": 9,
    "start_time": "2024-03-06T14:16:53.531Z"
   },
   {
    "duration": 9,
    "start_time": "2024-03-06T14:16:53.542Z"
   },
   {
    "duration": 5,
    "start_time": "2024-03-06T14:16:53.553Z"
   },
   {
    "duration": 21,
    "start_time": "2024-03-06T14:16:53.560Z"
   },
   {
    "duration": 13,
    "start_time": "2024-03-06T14:16:53.587Z"
   },
   {
    "duration": 8,
    "start_time": "2024-03-06T14:16:53.602Z"
   },
   {
    "duration": 14,
    "start_time": "2024-03-06T14:16:53.611Z"
   },
   {
    "duration": 15,
    "start_time": "2024-03-06T14:16:53.627Z"
   },
   {
    "duration": 17,
    "start_time": "2024-03-06T14:16:53.644Z"
   },
   {
    "duration": 1267,
    "start_time": "2024-03-07T04:53:59.334Z"
   },
   {
    "duration": 517,
    "start_time": "2024-03-07T04:54:00.603Z"
   },
   {
    "duration": 39,
    "start_time": "2024-03-07T04:54:01.122Z"
   },
   {
    "duration": 234,
    "start_time": "2024-03-07T04:54:01.163Z"
   },
   {
    "duration": 154,
    "start_time": "2024-03-07T04:54:01.398Z"
   },
   {
    "duration": 441,
    "start_time": "2024-03-07T04:54:01.554Z"
   },
   {
    "duration": 317,
    "start_time": "2024-03-07T04:54:01.997Z"
   },
   {
    "duration": 62,
    "start_time": "2024-03-07T04:54:02.315Z"
   },
   {
    "duration": 60,
    "start_time": "2024-03-07T04:54:02.378Z"
   },
   {
    "duration": 83,
    "start_time": "2024-03-07T04:54:02.440Z"
   },
   {
    "duration": 16,
    "start_time": "2024-03-07T04:54:02.525Z"
   },
   {
    "duration": 32,
    "start_time": "2024-03-07T04:54:02.543Z"
   },
   {
    "duration": 154,
    "start_time": "2024-03-07T04:54:02.576Z"
   },
   {
    "duration": 5,
    "start_time": "2024-03-07T04:54:02.732Z"
   },
   {
    "duration": 14,
    "start_time": "2024-03-07T04:54:02.738Z"
   },
   {
    "duration": 25,
    "start_time": "2024-03-07T04:54:02.754Z"
   },
   {
    "duration": 11,
    "start_time": "2024-03-07T04:54:02.781Z"
   },
   {
    "duration": 11,
    "start_time": "2024-03-07T04:54:02.794Z"
   },
   {
    "duration": 72,
    "start_time": "2024-03-07T04:54:02.806Z"
   },
   {
    "duration": 3,
    "start_time": "2024-03-07T04:54:02.879Z"
   },
   {
    "duration": 22,
    "start_time": "2024-03-07T04:54:02.883Z"
   },
   {
    "duration": 7,
    "start_time": "2024-03-07T04:54:02.906Z"
   },
   {
    "duration": 10,
    "start_time": "2024-03-07T04:54:02.914Z"
   },
   {
    "duration": 6,
    "start_time": "2024-03-07T04:54:02.926Z"
   },
   {
    "duration": 11,
    "start_time": "2024-03-07T04:54:02.934Z"
   },
   {
    "duration": 5,
    "start_time": "2024-03-07T04:54:02.947Z"
   },
   {
    "duration": 4,
    "start_time": "2024-03-07T04:54:02.954Z"
   },
   {
    "duration": 5,
    "start_time": "2024-03-07T04:54:02.961Z"
   },
   {
    "duration": 15,
    "start_time": "2024-03-07T04:54:02.968Z"
   },
   {
    "duration": 14,
    "start_time": "2024-03-07T04:54:02.985Z"
   },
   {
    "duration": 24,
    "start_time": "2024-03-07T04:54:03.000Z"
   },
   {
    "duration": 5,
    "start_time": "2024-03-07T04:54:03.026Z"
   },
   {
    "duration": 17,
    "start_time": "2024-03-07T04:54:03.034Z"
   },
   {
    "duration": 7,
    "start_time": "2024-03-07T04:54:03.053Z"
   },
   {
    "duration": 1057,
    "start_time": "2024-03-07T05:12:44.940Z"
   },
   {
    "duration": 186,
    "start_time": "2024-03-07T05:12:45.999Z"
   },
   {
    "duration": 32,
    "start_time": "2024-03-07T05:12:46.187Z"
   },
   {
    "duration": 256,
    "start_time": "2024-03-07T05:12:46.224Z"
   },
   {
    "duration": 150,
    "start_time": "2024-03-07T05:12:46.482Z"
   },
   {
    "duration": 408,
    "start_time": "2024-03-07T05:12:46.633Z"
   },
   {
    "duration": 295,
    "start_time": "2024-03-07T05:12:47.042Z"
   },
   {
    "duration": 51,
    "start_time": "2024-03-07T05:12:47.338Z"
   },
   {
    "duration": 56,
    "start_time": "2024-03-07T05:12:47.391Z"
   },
   {
    "duration": 85,
    "start_time": "2024-03-07T05:12:47.448Z"
   },
   {
    "duration": 14,
    "start_time": "2024-03-07T05:12:47.535Z"
   },
   {
    "duration": 32,
    "start_time": "2024-03-07T05:12:47.551Z"
   },
   {
    "duration": 161,
    "start_time": "2024-03-07T05:12:47.585Z"
   },
   {
    "duration": 7,
    "start_time": "2024-03-07T05:12:47.751Z"
   },
   {
    "duration": 7,
    "start_time": "2024-03-07T05:12:47.759Z"
   },
   {
    "duration": 5,
    "start_time": "2024-03-07T05:12:47.768Z"
   },
   {
    "duration": 4,
    "start_time": "2024-03-07T05:12:47.774Z"
   },
   {
    "duration": 6,
    "start_time": "2024-03-07T05:12:47.780Z"
   },
   {
    "duration": 99,
    "start_time": "2024-03-07T05:12:47.787Z"
   },
   {
    "duration": 2,
    "start_time": "2024-03-07T05:12:47.888Z"
   },
   {
    "duration": 10,
    "start_time": "2024-03-07T05:12:47.892Z"
   },
   {
    "duration": 17,
    "start_time": "2024-03-07T05:12:47.903Z"
   },
   {
    "duration": 5,
    "start_time": "2024-03-07T05:12:47.925Z"
   },
   {
    "duration": 6,
    "start_time": "2024-03-07T05:12:47.932Z"
   },
   {
    "duration": 4,
    "start_time": "2024-03-07T05:12:47.940Z"
   },
   {
    "duration": 5,
    "start_time": "2024-03-07T05:12:47.945Z"
   },
   {
    "duration": 5,
    "start_time": "2024-03-07T05:12:47.952Z"
   },
   {
    "duration": 14,
    "start_time": "2024-03-07T05:12:47.958Z"
   },
   {
    "duration": 7,
    "start_time": "2024-03-07T05:12:47.974Z"
   },
   {
    "duration": 12,
    "start_time": "2024-03-07T05:12:47.983Z"
   },
   {
    "duration": 34,
    "start_time": "2024-03-07T05:12:47.996Z"
   },
   {
    "duration": 5,
    "start_time": "2024-03-07T05:12:48.032Z"
   },
   {
    "duration": 7,
    "start_time": "2024-03-07T05:12:48.038Z"
   },
   {
    "duration": 9,
    "start_time": "2024-03-07T05:12:48.046Z"
   },
   {
    "duration": 42,
    "start_time": "2024-03-07T10:39:18.030Z"
   },
   {
    "duration": 1151,
    "start_time": "2024-03-07T10:39:21.023Z"
   },
   {
    "duration": 456,
    "start_time": "2024-03-07T10:39:22.176Z"
   },
   {
    "duration": 25,
    "start_time": "2024-03-07T10:39:22.633Z"
   },
   {
    "duration": 183,
    "start_time": "2024-03-07T10:39:22.659Z"
   },
   {
    "duration": 110,
    "start_time": "2024-03-07T10:39:22.843Z"
   },
   {
    "duration": 47,
    "start_time": "2024-03-07T10:39:22.957Z"
   },
   {
    "duration": 353,
    "start_time": "2024-03-07T10:39:23.005Z"
   },
   {
    "duration": 250,
    "start_time": "2024-03-07T10:39:23.360Z"
   },
   {
    "duration": 58,
    "start_time": "2024-03-07T10:39:23.611Z"
   },
   {
    "duration": 33,
    "start_time": "2024-03-07T10:39:23.672Z"
   },
   {
    "duration": 75,
    "start_time": "2024-03-07T10:39:23.707Z"
   },
   {
    "duration": 11,
    "start_time": "2024-03-07T10:39:23.783Z"
   },
   {
    "duration": 25,
    "start_time": "2024-03-07T10:39:23.795Z"
   },
   {
    "duration": 117,
    "start_time": "2024-03-07T10:39:23.821Z"
   },
   {
    "duration": 4,
    "start_time": "2024-03-07T10:39:23.940Z"
   },
   {
    "duration": 13,
    "start_time": "2024-03-07T10:39:23.945Z"
   },
   {
    "duration": 4,
    "start_time": "2024-03-07T10:39:23.959Z"
   },
   {
    "duration": 6,
    "start_time": "2024-03-07T10:39:23.964Z"
   },
   {
    "duration": 12,
    "start_time": "2024-03-07T10:39:23.971Z"
   },
   {
    "duration": 64,
    "start_time": "2024-03-07T10:39:23.984Z"
   },
   {
    "duration": 10,
    "start_time": "2024-03-07T10:39:24.049Z"
   },
   {
    "duration": 3,
    "start_time": "2024-03-07T10:39:24.060Z"
   },
   {
    "duration": 6,
    "start_time": "2024-03-07T10:39:24.065Z"
   },
   {
    "duration": 8,
    "start_time": "2024-03-07T10:39:24.072Z"
   },
   {
    "duration": 7,
    "start_time": "2024-03-07T10:39:24.081Z"
   },
   {
    "duration": 3,
    "start_time": "2024-03-07T10:39:24.089Z"
   },
   {
    "duration": 6,
    "start_time": "2024-03-07T10:39:24.093Z"
   },
   {
    "duration": 4,
    "start_time": "2024-03-07T10:39:24.102Z"
   },
   {
    "duration": 6,
    "start_time": "2024-03-07T10:39:24.107Z"
   },
   {
    "duration": 5,
    "start_time": "2024-03-07T10:39:24.114Z"
   },
   {
    "duration": 11,
    "start_time": "2024-03-07T10:39:24.120Z"
   },
   {
    "duration": 4,
    "start_time": "2024-03-07T10:39:24.157Z"
   },
   {
    "duration": 4,
    "start_time": "2024-03-07T10:39:24.162Z"
   },
   {
    "duration": 5,
    "start_time": "2024-03-07T10:39:24.167Z"
   },
   {
    "duration": 10,
    "start_time": "2024-03-07T10:39:24.173Z"
   },
   {
    "duration": 34,
    "start_time": "2024-03-07T10:40:02.415Z"
   },
   {
    "duration": 2,
    "start_time": "2024-03-07T10:40:38.904Z"
   },
   {
    "duration": 135,
    "start_time": "2024-03-07T10:40:38.908Z"
   },
   {
    "duration": 31,
    "start_time": "2024-03-07T10:40:39.044Z"
   },
   {
    "duration": 188,
    "start_time": "2024-03-07T10:40:39.076Z"
   },
   {
    "duration": 110,
    "start_time": "2024-03-07T10:40:39.266Z"
   },
   {
    "duration": 39,
    "start_time": "2024-03-07T10:40:39.378Z"
   },
   {
    "duration": 330,
    "start_time": "2024-03-07T10:40:39.418Z"
   },
   {
    "duration": 257,
    "start_time": "2024-03-07T10:40:39.750Z"
   },
   {
    "duration": 59,
    "start_time": "2024-03-07T10:40:40.008Z"
   },
   {
    "duration": 36,
    "start_time": "2024-03-07T10:40:40.069Z"
   },
   {
    "duration": 80,
    "start_time": "2024-03-07T10:40:40.108Z"
   },
   {
    "duration": 11,
    "start_time": "2024-03-07T10:40:40.189Z"
   },
   {
    "duration": 28,
    "start_time": "2024-03-07T10:40:40.202Z"
   },
   {
    "duration": 132,
    "start_time": "2024-03-07T10:40:40.232Z"
   },
   {
    "duration": 5,
    "start_time": "2024-03-07T10:40:40.365Z"
   },
   {
    "duration": 26,
    "start_time": "2024-03-07T10:40:40.371Z"
   },
   {
    "duration": 7,
    "start_time": "2024-03-07T10:40:40.398Z"
   },
   {
    "duration": 6,
    "start_time": "2024-03-07T10:40:40.406Z"
   },
   {
    "duration": 6,
    "start_time": "2024-03-07T10:40:40.413Z"
   },
   {
    "duration": 66,
    "start_time": "2024-03-07T10:40:40.420Z"
   },
   {
    "duration": 3,
    "start_time": "2024-03-07T10:40:40.487Z"
   },
   {
    "duration": 8,
    "start_time": "2024-03-07T10:40:40.490Z"
   },
   {
    "duration": 5,
    "start_time": "2024-03-07T10:40:40.499Z"
   },
   {
    "duration": 6,
    "start_time": "2024-03-07T10:40:40.505Z"
   },
   {
    "duration": 12,
    "start_time": "2024-03-07T10:40:40.512Z"
   },
   {
    "duration": 25,
    "start_time": "2024-03-07T10:40:40.525Z"
   },
   {
    "duration": 9,
    "start_time": "2024-03-07T10:40:40.551Z"
   },
   {
    "duration": 7,
    "start_time": "2024-03-07T10:40:40.561Z"
   },
   {
    "duration": 10,
    "start_time": "2024-03-07T10:40:40.570Z"
   },
   {
    "duration": 11,
    "start_time": "2024-03-07T10:40:40.580Z"
   },
   {
    "duration": 13,
    "start_time": "2024-03-07T10:40:40.592Z"
   },
   {
    "duration": 6,
    "start_time": "2024-03-07T10:40:40.606Z"
   },
   {
    "duration": 14,
    "start_time": "2024-03-07T10:40:40.613Z"
   },
   {
    "duration": 19,
    "start_time": "2024-03-07T10:40:40.628Z"
   },
   {
    "duration": 12,
    "start_time": "2024-03-07T10:40:40.648Z"
   },
   {
    "duration": 31,
    "start_time": "2024-03-07T10:41:07.557Z"
   },
   {
    "duration": 30,
    "start_time": "2024-03-07T10:41:23.295Z"
   },
   {
    "duration": 33,
    "start_time": "2024-03-07T10:41:57.122Z"
   },
   {
    "duration": 1521,
    "start_time": "2024-03-07T10:50:31.801Z"
   },
   {
    "duration": 73,
    "start_time": "2024-03-07T10:50:55.669Z"
   },
   {
    "duration": 73,
    "start_time": "2024-03-07T10:53:08.885Z"
   },
   {
    "duration": 14,
    "start_time": "2024-03-07T10:54:27.452Z"
   },
   {
    "duration": 1109,
    "start_time": "2024-03-07T17:02:38.764Z"
   },
   {
    "duration": 473,
    "start_time": "2024-03-07T17:02:39.875Z"
   },
   {
    "duration": 25,
    "start_time": "2024-03-07T17:02:40.349Z"
   },
   {
    "duration": 185,
    "start_time": "2024-03-07T17:02:40.375Z"
   },
   {
    "duration": 106,
    "start_time": "2024-03-07T17:02:40.561Z"
   },
   {
    "duration": 48,
    "start_time": "2024-03-07T17:02:40.668Z"
   },
   {
    "duration": 371,
    "start_time": "2024-03-07T17:02:40.717Z"
   },
   {
    "duration": 260,
    "start_time": "2024-03-07T17:02:41.090Z"
   },
   {
    "duration": 44,
    "start_time": "2024-03-07T17:02:41.351Z"
   },
   {
    "duration": 35,
    "start_time": "2024-03-07T17:02:41.397Z"
   },
   {
    "duration": 81,
    "start_time": "2024-03-07T17:02:41.433Z"
   },
   {
    "duration": 11,
    "start_time": "2024-03-07T17:02:41.516Z"
   },
   {
    "duration": 37,
    "start_time": "2024-03-07T17:02:41.528Z"
   },
   {
    "duration": 100,
    "start_time": "2024-03-07T17:02:41.567Z"
   },
   {
    "duration": 1214,
    "start_time": "2024-03-07T17:02:41.669Z"
   },
   {
    "duration": 1,
    "start_time": "2024-03-07T17:02:42.884Z"
   },
   {
    "duration": 0,
    "start_time": "2024-03-07T17:02:42.886Z"
   },
   {
    "duration": 0,
    "start_time": "2024-03-07T17:02:42.886Z"
   },
   {
    "duration": 0,
    "start_time": "2024-03-07T17:02:42.887Z"
   },
   {
    "duration": 0,
    "start_time": "2024-03-07T17:02:42.888Z"
   },
   {
    "duration": 0,
    "start_time": "2024-03-07T17:02:42.889Z"
   },
   {
    "duration": 0,
    "start_time": "2024-03-07T17:02:42.890Z"
   },
   {
    "duration": 0,
    "start_time": "2024-03-07T17:02:42.891Z"
   },
   {
    "duration": 0,
    "start_time": "2024-03-07T17:02:42.891Z"
   },
   {
    "duration": 0,
    "start_time": "2024-03-07T17:02:42.892Z"
   },
   {
    "duration": 0,
    "start_time": "2024-03-07T17:02:42.893Z"
   },
   {
    "duration": 0,
    "start_time": "2024-03-07T17:02:42.894Z"
   },
   {
    "duration": 0,
    "start_time": "2024-03-07T17:02:42.895Z"
   },
   {
    "duration": 0,
    "start_time": "2024-03-07T17:02:42.896Z"
   },
   {
    "duration": 0,
    "start_time": "2024-03-07T17:02:42.896Z"
   },
   {
    "duration": 0,
    "start_time": "2024-03-07T17:02:42.897Z"
   },
   {
    "duration": 0,
    "start_time": "2024-03-07T17:02:42.898Z"
   },
   {
    "duration": 0,
    "start_time": "2024-03-07T17:02:42.899Z"
   },
   {
    "duration": 0,
    "start_time": "2024-03-07T17:02:42.900Z"
   },
   {
    "duration": 0,
    "start_time": "2024-03-07T17:02:42.900Z"
   },
   {
    "duration": 104,
    "start_time": "2024-03-07T17:03:10.975Z"
   },
   {
    "duration": 5,
    "start_time": "2024-03-07T17:03:15.572Z"
   },
   {
    "duration": 3,
    "start_time": "2024-03-07T17:03:22.390Z"
   },
   {
    "duration": 137,
    "start_time": "2024-03-07T17:03:22.395Z"
   },
   {
    "duration": 30,
    "start_time": "2024-03-07T17:03:22.533Z"
   },
   {
    "duration": 179,
    "start_time": "2024-03-07T17:03:22.564Z"
   },
   {
    "duration": 106,
    "start_time": "2024-03-07T17:03:22.745Z"
   },
   {
    "duration": 40,
    "start_time": "2024-03-07T17:03:22.853Z"
   },
   {
    "duration": 329,
    "start_time": "2024-03-07T17:03:22.894Z"
   },
   {
    "duration": 250,
    "start_time": "2024-03-07T17:03:23.225Z"
   },
   {
    "duration": 45,
    "start_time": "2024-03-07T17:03:23.477Z"
   },
   {
    "duration": 51,
    "start_time": "2024-03-07T17:03:23.524Z"
   },
   {
    "duration": 72,
    "start_time": "2024-03-07T17:03:23.577Z"
   },
   {
    "duration": 11,
    "start_time": "2024-03-07T17:03:23.657Z"
   },
   {
    "duration": 28,
    "start_time": "2024-03-07T17:03:23.669Z"
   },
   {
    "duration": 118,
    "start_time": "2024-03-07T17:03:23.698Z"
   },
   {
    "duration": 4,
    "start_time": "2024-03-07T17:03:23.818Z"
   },
   {
    "duration": 23,
    "start_time": "2024-03-07T17:03:23.823Z"
   },
   {
    "duration": 0,
    "start_time": "2024-03-07T17:03:23.847Z"
   },
   {
    "duration": 0,
    "start_time": "2024-03-07T17:03:23.848Z"
   },
   {
    "duration": 0,
    "start_time": "2024-03-07T17:03:23.849Z"
   },
   {
    "duration": 0,
    "start_time": "2024-03-07T17:03:23.849Z"
   },
   {
    "duration": 0,
    "start_time": "2024-03-07T17:03:23.850Z"
   },
   {
    "duration": 0,
    "start_time": "2024-03-07T17:03:23.851Z"
   },
   {
    "duration": 0,
    "start_time": "2024-03-07T17:03:23.857Z"
   },
   {
    "duration": 0,
    "start_time": "2024-03-07T17:03:23.858Z"
   },
   {
    "duration": 0,
    "start_time": "2024-03-07T17:03:23.859Z"
   },
   {
    "duration": 0,
    "start_time": "2024-03-07T17:03:23.860Z"
   },
   {
    "duration": 0,
    "start_time": "2024-03-07T17:03:23.860Z"
   },
   {
    "duration": 0,
    "start_time": "2024-03-07T17:03:23.861Z"
   },
   {
    "duration": 0,
    "start_time": "2024-03-07T17:03:23.862Z"
   },
   {
    "duration": 0,
    "start_time": "2024-03-07T17:03:23.863Z"
   },
   {
    "duration": 0,
    "start_time": "2024-03-07T17:03:23.863Z"
   },
   {
    "duration": 0,
    "start_time": "2024-03-07T17:03:23.864Z"
   },
   {
    "duration": 0,
    "start_time": "2024-03-07T17:03:23.865Z"
   },
   {
    "duration": 0,
    "start_time": "2024-03-07T17:03:23.866Z"
   },
   {
    "duration": 0,
    "start_time": "2024-03-07T17:03:23.867Z"
   },
   {
    "duration": 12,
    "start_time": "2024-03-07T17:04:28.033Z"
   },
   {
    "duration": 13,
    "start_time": "2024-03-07T17:04:28.672Z"
   },
   {
    "duration": 5,
    "start_time": "2024-03-07T17:12:16.070Z"
   },
   {
    "duration": 5,
    "start_time": "2024-03-07T17:12:20.093Z"
   },
   {
    "duration": 4,
    "start_time": "2024-03-07T17:12:55.919Z"
   },
   {
    "duration": 5,
    "start_time": "2024-03-07T17:13:35.821Z"
   },
   {
    "duration": 4,
    "start_time": "2024-03-07T17:13:56.684Z"
   },
   {
    "duration": 67,
    "start_time": "2024-03-07T17:14:10.890Z"
   },
   {
    "duration": 2,
    "start_time": "2024-03-07T17:14:31.155Z"
   },
   {
    "duration": 186,
    "start_time": "2024-03-07T17:14:31.159Z"
   },
   {
    "duration": 22,
    "start_time": "2024-03-07T17:14:31.346Z"
   },
   {
    "duration": 195,
    "start_time": "2024-03-07T17:14:31.369Z"
   },
   {
    "duration": 101,
    "start_time": "2024-03-07T17:14:31.566Z"
   },
   {
    "duration": 39,
    "start_time": "2024-03-07T17:14:31.668Z"
   },
   {
    "duration": 336,
    "start_time": "2024-03-07T17:14:31.709Z"
   },
   {
    "duration": 241,
    "start_time": "2024-03-07T17:14:32.046Z"
   },
   {
    "duration": 69,
    "start_time": "2024-03-07T17:14:32.288Z"
   },
   {
    "duration": 35,
    "start_time": "2024-03-07T17:14:32.358Z"
   },
   {
    "duration": 79,
    "start_time": "2024-03-07T17:14:32.395Z"
   },
   {
    "duration": 10,
    "start_time": "2024-03-07T17:14:32.476Z"
   },
   {
    "duration": 99,
    "start_time": "2024-03-07T17:14:32.488Z"
   },
   {
    "duration": 163,
    "start_time": "2024-03-07T17:14:32.588Z"
   },
   {
    "duration": 82,
    "start_time": "2024-03-07T17:14:32.752Z"
   },
   {
    "duration": 52,
    "start_time": "2024-03-07T17:14:32.836Z"
   },
   {
    "duration": 18,
    "start_time": "2024-03-07T17:14:32.889Z"
   },
   {
    "duration": 5,
    "start_time": "2024-03-07T17:14:32.908Z"
   },
   {
    "duration": 11,
    "start_time": "2024-03-07T17:14:32.915Z"
   },
   {
    "duration": 67,
    "start_time": "2024-03-07T17:14:32.927Z"
   },
   {
    "duration": 3,
    "start_time": "2024-03-07T17:14:32.995Z"
   },
   {
    "duration": 16,
    "start_time": "2024-03-07T17:14:32.999Z"
   },
   {
    "duration": 6,
    "start_time": "2024-03-07T17:14:33.016Z"
   },
   {
    "duration": 6,
    "start_time": "2024-03-07T17:14:33.024Z"
   },
   {
    "duration": 29,
    "start_time": "2024-03-07T17:14:33.031Z"
   },
   {
    "duration": 12,
    "start_time": "2024-03-07T17:14:33.061Z"
   },
   {
    "duration": 9,
    "start_time": "2024-03-07T17:14:33.074Z"
   },
   {
    "duration": 9,
    "start_time": "2024-03-07T17:14:33.084Z"
   },
   {
    "duration": 5,
    "start_time": "2024-03-07T17:14:33.097Z"
   },
   {
    "duration": 5,
    "start_time": "2024-03-07T17:14:33.103Z"
   },
   {
    "duration": 9,
    "start_time": "2024-03-07T17:14:33.110Z"
   },
   {
    "duration": 5,
    "start_time": "2024-03-07T17:14:33.120Z"
   },
   {
    "duration": 23,
    "start_time": "2024-03-07T17:14:33.126Z"
   },
   {
    "duration": 9,
    "start_time": "2024-03-07T17:14:33.150Z"
   },
   {
    "duration": 6,
    "start_time": "2024-03-07T17:14:33.160Z"
   },
   {
    "duration": 67,
    "start_time": "2024-03-07T17:15:00.153Z"
   },
   {
    "duration": 4,
    "start_time": "2024-03-07T17:16:03.563Z"
   },
   {
    "duration": 4,
    "start_time": "2024-03-07T17:16:07.601Z"
   },
   {
    "duration": 4,
    "start_time": "2024-03-07T17:16:28.789Z"
   },
   {
    "duration": 4,
    "start_time": "2024-03-07T17:17:42.825Z"
   },
   {
    "duration": 4,
    "start_time": "2024-03-07T17:18:08.877Z"
   },
   {
    "duration": 4,
    "start_time": "2024-03-07T17:21:14.279Z"
   },
   {
    "duration": 4,
    "start_time": "2024-03-07T17:21:17.025Z"
   },
   {
    "duration": 4,
    "start_time": "2024-03-07T17:21:19.227Z"
   },
   {
    "duration": 4,
    "start_time": "2024-03-07T17:21:21.693Z"
   },
   {
    "duration": 11,
    "start_time": "2024-03-07T17:23:27.566Z"
   },
   {
    "duration": 6,
    "start_time": "2024-03-07T17:24:49.499Z"
   },
   {
    "duration": 5,
    "start_time": "2024-03-07T17:25:44.205Z"
   },
   {
    "duration": 2,
    "start_time": "2024-03-07T17:25:57.115Z"
   },
   {
    "duration": 161,
    "start_time": "2024-03-07T17:25:57.119Z"
   },
   {
    "duration": 22,
    "start_time": "2024-03-07T17:25:57.282Z"
   },
   {
    "duration": 188,
    "start_time": "2024-03-07T17:25:57.305Z"
   },
   {
    "duration": 114,
    "start_time": "2024-03-07T17:25:57.495Z"
   },
   {
    "duration": 49,
    "start_time": "2024-03-07T17:25:57.610Z"
   },
   {
    "duration": 378,
    "start_time": "2024-03-07T17:25:57.660Z"
   },
   {
    "duration": 245,
    "start_time": "2024-03-07T17:25:58.039Z"
   },
   {
    "duration": 53,
    "start_time": "2024-03-07T17:25:58.286Z"
   },
   {
    "duration": 48,
    "start_time": "2024-03-07T17:25:58.340Z"
   },
   {
    "duration": 75,
    "start_time": "2024-03-07T17:25:58.390Z"
   },
   {
    "duration": 12,
    "start_time": "2024-03-07T17:25:58.466Z"
   },
   {
    "duration": 28,
    "start_time": "2024-03-07T17:25:58.480Z"
   },
   {
    "duration": 115,
    "start_time": "2024-03-07T17:25:58.509Z"
   },
   {
    "duration": 4,
    "start_time": "2024-03-07T17:25:58.626Z"
   },
   {
    "duration": 12,
    "start_time": "2024-03-07T17:25:58.631Z"
   },
   {
    "duration": 6,
    "start_time": "2024-03-07T17:25:58.644Z"
   },
   {
    "duration": 8,
    "start_time": "2024-03-07T17:25:58.651Z"
   },
   {
    "duration": 12,
    "start_time": "2024-03-07T17:25:58.660Z"
   },
   {
    "duration": 57,
    "start_time": "2024-03-07T17:25:58.673Z"
   },
   {
    "duration": 2,
    "start_time": "2024-03-07T17:25:58.731Z"
   },
   {
    "duration": 7,
    "start_time": "2024-03-07T17:25:58.734Z"
   },
   {
    "duration": 27,
    "start_time": "2024-03-07T17:25:58.742Z"
   },
   {
    "duration": 7,
    "start_time": "2024-03-07T17:25:58.770Z"
   },
   {
    "duration": 7,
    "start_time": "2024-03-07T17:25:58.778Z"
   },
   {
    "duration": 4,
    "start_time": "2024-03-07T17:25:58.786Z"
   },
   {
    "duration": 9,
    "start_time": "2024-03-07T17:25:58.791Z"
   },
   {
    "duration": 8,
    "start_time": "2024-03-07T17:25:58.802Z"
   },
   {
    "duration": 4,
    "start_time": "2024-03-07T17:25:58.812Z"
   },
   {
    "duration": 14,
    "start_time": "2024-03-07T17:25:58.817Z"
   },
   {
    "duration": 20,
    "start_time": "2024-03-07T17:25:58.833Z"
   },
   {
    "duration": 1082,
    "start_time": "2024-03-07T17:25:58.854Z"
   },
   {
    "duration": 0,
    "start_time": "2024-03-07T17:25:59.938Z"
   },
   {
    "duration": 0,
    "start_time": "2024-03-07T17:25:59.939Z"
   },
   {
    "duration": 0,
    "start_time": "2024-03-07T17:25:59.940Z"
   },
   {
    "duration": 19,
    "start_time": "2024-03-07T17:26:34.798Z"
   },
   {
    "duration": 3,
    "start_time": "2024-03-07T17:26:49.110Z"
   },
   {
    "duration": 148,
    "start_time": "2024-03-07T17:26:49.115Z"
   },
   {
    "duration": 19,
    "start_time": "2024-03-07T17:26:49.264Z"
   },
   {
    "duration": 167,
    "start_time": "2024-03-07T17:26:49.284Z"
   },
   {
    "duration": 106,
    "start_time": "2024-03-07T17:26:49.457Z"
   },
   {
    "duration": 35,
    "start_time": "2024-03-07T17:26:49.564Z"
   },
   {
    "duration": 324,
    "start_time": "2024-03-07T17:26:49.600Z"
   },
   {
    "duration": 256,
    "start_time": "2024-03-07T17:26:49.926Z"
   },
   {
    "duration": 75,
    "start_time": "2024-03-07T17:26:50.183Z"
   },
   {
    "duration": 39,
    "start_time": "2024-03-07T17:26:50.260Z"
   },
   {
    "duration": 90,
    "start_time": "2024-03-07T17:26:50.301Z"
   },
   {
    "duration": 12,
    "start_time": "2024-03-07T17:26:50.392Z"
   },
   {
    "duration": 35,
    "start_time": "2024-03-07T17:26:50.405Z"
   },
   {
    "duration": 119,
    "start_time": "2024-03-07T17:26:50.442Z"
   },
   {
    "duration": 4,
    "start_time": "2024-03-07T17:26:50.563Z"
   },
   {
    "duration": 16,
    "start_time": "2024-03-07T17:26:50.568Z"
   },
   {
    "duration": 8,
    "start_time": "2024-03-07T17:26:50.586Z"
   },
   {
    "duration": 5,
    "start_time": "2024-03-07T17:26:50.596Z"
   },
   {
    "duration": 30,
    "start_time": "2024-03-07T17:26:50.602Z"
   },
   {
    "duration": 75,
    "start_time": "2024-03-07T17:26:50.634Z"
   },
   {
    "duration": 2,
    "start_time": "2024-03-07T17:26:50.710Z"
   },
   {
    "duration": 7,
    "start_time": "2024-03-07T17:26:50.713Z"
   },
   {
    "duration": 19,
    "start_time": "2024-03-07T17:26:50.721Z"
   },
   {
    "duration": 17,
    "start_time": "2024-03-07T17:26:50.741Z"
   },
   {
    "duration": 8,
    "start_time": "2024-03-07T17:26:50.759Z"
   },
   {
    "duration": 7,
    "start_time": "2024-03-07T17:26:50.769Z"
   },
   {
    "duration": 6,
    "start_time": "2024-03-07T17:26:50.777Z"
   },
   {
    "duration": 9,
    "start_time": "2024-03-07T17:26:50.784Z"
   },
   {
    "duration": 13,
    "start_time": "2024-03-07T17:26:50.797Z"
   },
   {
    "duration": 7,
    "start_time": "2024-03-07T17:26:50.811Z"
   },
   {
    "duration": 14,
    "start_time": "2024-03-07T17:26:50.819Z"
   },
   {
    "duration": 11,
    "start_time": "2024-03-07T17:26:50.835Z"
   },
   {
    "duration": 28,
    "start_time": "2024-03-07T17:26:50.848Z"
   },
   {
    "duration": 19,
    "start_time": "2024-03-07T17:26:50.877Z"
   },
   {
    "duration": 10,
    "start_time": "2024-03-07T17:26:50.897Z"
   },
   {
    "duration": 4,
    "start_time": "2024-03-07T17:42:47.594Z"
   },
   {
    "duration": 4,
    "start_time": "2024-03-07T17:42:51.307Z"
   },
   {
    "duration": 4,
    "start_time": "2024-03-07T17:42:53.632Z"
   },
   {
    "duration": 4,
    "start_time": "2024-03-07T17:42:55.992Z"
   },
   {
    "duration": 4,
    "start_time": "2024-03-07T17:42:59.650Z"
   },
   {
    "duration": 4,
    "start_time": "2024-03-07T17:43:16.691Z"
   },
   {
    "duration": 4,
    "start_time": "2024-03-07T17:43:21.082Z"
   },
   {
    "duration": 4,
    "start_time": "2024-03-07T17:43:34.186Z"
   },
   {
    "duration": 3,
    "start_time": "2024-03-07T17:43:53.194Z"
   },
   {
    "duration": 136,
    "start_time": "2024-03-07T17:43:53.199Z"
   },
   {
    "duration": 30,
    "start_time": "2024-03-07T17:43:53.336Z"
   },
   {
    "duration": 173,
    "start_time": "2024-03-07T17:43:53.367Z"
   },
   {
    "duration": 105,
    "start_time": "2024-03-07T17:43:53.541Z"
   },
   {
    "duration": 42,
    "start_time": "2024-03-07T17:43:53.647Z"
   },
   {
    "duration": 314,
    "start_time": "2024-03-07T17:43:53.690Z"
   },
   {
    "duration": 247,
    "start_time": "2024-03-07T17:43:54.005Z"
   },
   {
    "duration": 50,
    "start_time": "2024-03-07T17:43:54.257Z"
   },
   {
    "duration": 49,
    "start_time": "2024-03-07T17:43:54.308Z"
   },
   {
    "duration": 73,
    "start_time": "2024-03-07T17:43:54.360Z"
   },
   {
    "duration": 10,
    "start_time": "2024-03-07T17:43:54.434Z"
   },
   {
    "duration": 27,
    "start_time": "2024-03-07T17:43:54.457Z"
   },
   {
    "duration": 117,
    "start_time": "2024-03-07T17:43:54.485Z"
   },
   {
    "duration": 5,
    "start_time": "2024-03-07T17:43:54.603Z"
   },
   {
    "duration": 7,
    "start_time": "2024-03-07T17:43:54.609Z"
   },
   {
    "duration": 5,
    "start_time": "2024-03-07T17:43:54.617Z"
   },
   {
    "duration": 5,
    "start_time": "2024-03-07T17:43:54.623Z"
   },
   {
    "duration": 12,
    "start_time": "2024-03-07T17:43:54.629Z"
   },
   {
    "duration": 69,
    "start_time": "2024-03-07T17:43:54.642Z"
   },
   {
    "duration": 2,
    "start_time": "2024-03-07T17:43:54.712Z"
   },
   {
    "duration": 5,
    "start_time": "2024-03-07T17:43:54.716Z"
   },
   {
    "duration": 7,
    "start_time": "2024-03-07T17:43:54.722Z"
   },
   {
    "duration": 5,
    "start_time": "2024-03-07T17:43:54.731Z"
   },
   {
    "duration": 19,
    "start_time": "2024-03-07T17:43:54.738Z"
   },
   {
    "duration": 3,
    "start_time": "2024-03-07T17:43:54.759Z"
   },
   {
    "duration": 7,
    "start_time": "2024-03-07T17:43:54.763Z"
   },
   {
    "duration": 5,
    "start_time": "2024-03-07T17:43:54.771Z"
   },
   {
    "duration": 4,
    "start_time": "2024-03-07T17:43:54.779Z"
   },
   {
    "duration": 7,
    "start_time": "2024-03-07T17:43:54.785Z"
   },
   {
    "duration": 6,
    "start_time": "2024-03-07T17:43:54.794Z"
   },
   {
    "duration": 6,
    "start_time": "2024-03-07T17:43:54.801Z"
   },
   {
    "duration": 10,
    "start_time": "2024-03-07T17:43:54.808Z"
   },
   {
    "duration": 5,
    "start_time": "2024-03-07T17:43:54.819Z"
   },
   {
    "duration": 4,
    "start_time": "2024-03-07T17:43:54.825Z"
   },
   {
    "duration": 5,
    "start_time": "2024-03-07T17:44:47.879Z"
   },
   {
    "duration": 4,
    "start_time": "2024-03-07T17:44:53.560Z"
   },
   {
    "duration": 2,
    "start_time": "2024-03-07T17:48:43.717Z"
   },
   {
    "duration": 151,
    "start_time": "2024-03-07T17:48:43.721Z"
   },
   {
    "duration": 20,
    "start_time": "2024-03-07T17:48:43.874Z"
   },
   {
    "duration": 190,
    "start_time": "2024-03-07T17:48:43.895Z"
   },
   {
    "duration": 105,
    "start_time": "2024-03-07T17:48:44.087Z"
   },
   {
    "duration": 37,
    "start_time": "2024-03-07T17:48:44.194Z"
   },
   {
    "duration": 347,
    "start_time": "2024-03-07T17:48:44.232Z"
   },
   {
    "duration": 247,
    "start_time": "2024-03-07T17:48:44.580Z"
   },
   {
    "duration": 50,
    "start_time": "2024-03-07T17:48:44.828Z"
   },
   {
    "duration": 32,
    "start_time": "2024-03-07T17:48:44.879Z"
   },
   {
    "duration": 137,
    "start_time": "2024-03-07T17:48:44.914Z"
   },
   {
    "duration": 12,
    "start_time": "2024-03-07T17:48:45.053Z"
   },
   {
    "duration": 81,
    "start_time": "2024-03-07T17:48:45.067Z"
   },
   {
    "duration": 90,
    "start_time": "2024-03-07T17:48:45.150Z"
   },
   {
    "duration": 5,
    "start_time": "2024-03-07T17:48:45.242Z"
   },
   {
    "duration": 20,
    "start_time": "2024-03-07T17:48:45.248Z"
   },
   {
    "duration": 20,
    "start_time": "2024-03-07T17:48:45.270Z"
   },
   {
    "duration": 34,
    "start_time": "2024-03-07T17:48:45.291Z"
   },
   {
    "duration": 27,
    "start_time": "2024-03-07T17:48:45.326Z"
   },
   {
    "duration": 62,
    "start_time": "2024-03-07T17:48:45.354Z"
   },
   {
    "duration": 2,
    "start_time": "2024-03-07T17:48:45.418Z"
   },
   {
    "duration": 18,
    "start_time": "2024-03-07T17:48:45.421Z"
   },
   {
    "duration": 28,
    "start_time": "2024-03-07T17:48:45.440Z"
   },
   {
    "duration": 17,
    "start_time": "2024-03-07T17:48:45.469Z"
   },
   {
    "duration": 39,
    "start_time": "2024-03-07T17:48:45.487Z"
   },
   {
    "duration": 19,
    "start_time": "2024-03-07T17:48:45.527Z"
   },
   {
    "duration": 14,
    "start_time": "2024-03-07T17:48:45.547Z"
   },
   {
    "duration": 10,
    "start_time": "2024-03-07T17:48:45.562Z"
   },
   {
    "duration": 16,
    "start_time": "2024-03-07T17:48:45.574Z"
   },
   {
    "duration": 9,
    "start_time": "2024-03-07T17:48:45.591Z"
   },
   {
    "duration": 11,
    "start_time": "2024-03-07T17:48:45.601Z"
   },
   {
    "duration": 11,
    "start_time": "2024-03-07T17:48:45.613Z"
   },
   {
    "duration": 11,
    "start_time": "2024-03-07T17:48:45.625Z"
   },
   {
    "duration": 8,
    "start_time": "2024-03-07T17:48:45.637Z"
   },
   {
    "duration": 8,
    "start_time": "2024-03-07T17:48:45.646Z"
   },
   {
    "duration": 2,
    "start_time": "2024-03-07T18:02:25.950Z"
   },
   {
    "duration": 149,
    "start_time": "2024-03-07T18:02:25.954Z"
   },
   {
    "duration": 19,
    "start_time": "2024-03-07T18:02:26.104Z"
   },
   {
    "duration": 170,
    "start_time": "2024-03-07T18:02:26.124Z"
   },
   {
    "duration": 105,
    "start_time": "2024-03-07T18:02:26.296Z"
   },
   {
    "duration": 35,
    "start_time": "2024-03-07T18:02:26.403Z"
   },
   {
    "duration": 332,
    "start_time": "2024-03-07T18:02:26.439Z"
   },
   {
    "duration": 236,
    "start_time": "2024-03-07T18:02:26.772Z"
   },
   {
    "duration": 57,
    "start_time": "2024-03-07T18:02:27.010Z"
   },
   {
    "duration": 35,
    "start_time": "2024-03-07T18:02:27.069Z"
   },
   {
    "duration": 85,
    "start_time": "2024-03-07T18:02:27.107Z"
   },
   {
    "duration": 11,
    "start_time": "2024-03-07T18:02:27.194Z"
   },
   {
    "duration": 29,
    "start_time": "2024-03-07T18:02:27.207Z"
   },
   {
    "duration": 131,
    "start_time": "2024-03-07T18:02:27.238Z"
   },
   {
    "duration": 4,
    "start_time": "2024-03-07T18:02:27.371Z"
   },
   {
    "duration": 5,
    "start_time": "2024-03-07T18:02:27.377Z"
   },
   {
    "duration": 6,
    "start_time": "2024-03-07T18:02:27.384Z"
   },
   {
    "duration": 5,
    "start_time": "2024-03-07T18:02:27.391Z"
   },
   {
    "duration": 5,
    "start_time": "2024-03-07T18:02:27.397Z"
   },
   {
    "duration": 85,
    "start_time": "2024-03-07T18:02:27.403Z"
   },
   {
    "duration": 2,
    "start_time": "2024-03-07T18:02:27.490Z"
   },
   {
    "duration": 6,
    "start_time": "2024-03-07T18:02:27.493Z"
   },
   {
    "duration": 4,
    "start_time": "2024-03-07T18:02:27.500Z"
   },
   {
    "duration": 10,
    "start_time": "2024-03-07T18:02:27.505Z"
   },
   {
    "duration": 6,
    "start_time": "2024-03-07T18:02:27.516Z"
   },
   {
    "duration": 2,
    "start_time": "2024-03-07T18:02:27.523Z"
   },
   {
    "duration": 6,
    "start_time": "2024-03-07T18:02:27.526Z"
   },
   {
    "duration": 25,
    "start_time": "2024-03-07T18:02:27.533Z"
   },
   {
    "duration": 4,
    "start_time": "2024-03-07T18:02:27.560Z"
   },
   {
    "duration": 6,
    "start_time": "2024-03-07T18:02:27.565Z"
   },
   {
    "duration": 7,
    "start_time": "2024-03-07T18:02:27.572Z"
   },
   {
    "duration": 5,
    "start_time": "2024-03-07T18:02:27.581Z"
   },
   {
    "duration": 5,
    "start_time": "2024-03-07T18:02:27.588Z"
   },
   {
    "duration": 10,
    "start_time": "2024-03-07T18:02:27.595Z"
   },
   {
    "duration": 11,
    "start_time": "2024-03-07T18:02:27.606Z"
   },
   {
    "duration": 1178,
    "start_time": "2024-03-08T01:28:52.789Z"
   },
   {
    "duration": 201,
    "start_time": "2024-03-08T01:28:53.969Z"
   },
   {
    "duration": 36,
    "start_time": "2024-03-08T01:28:54.171Z"
   },
   {
    "duration": 278,
    "start_time": "2024-03-08T01:28:54.208Z"
   },
   {
    "duration": 160,
    "start_time": "2024-03-08T01:28:54.488Z"
   },
   {
    "duration": 68,
    "start_time": "2024-03-08T01:28:54.650Z"
   },
   {
    "duration": 439,
    "start_time": "2024-03-08T01:28:54.720Z"
   },
   {
    "duration": 325,
    "start_time": "2024-03-08T01:28:55.160Z"
   },
   {
    "duration": 69,
    "start_time": "2024-03-08T01:28:55.487Z"
   },
   {
    "duration": 66,
    "start_time": "2024-03-08T01:28:55.557Z"
   },
   {
    "duration": 104,
    "start_time": "2024-03-08T01:28:55.624Z"
   },
   {
    "duration": 15,
    "start_time": "2024-03-08T01:28:55.729Z"
   },
   {
    "duration": 55,
    "start_time": "2024-03-08T01:28:55.746Z"
   },
   {
    "duration": 147,
    "start_time": "2024-03-08T01:28:55.804Z"
   },
   {
    "duration": 6,
    "start_time": "2024-03-08T01:28:55.953Z"
   },
   {
    "duration": 23,
    "start_time": "2024-03-08T01:28:55.960Z"
   },
   {
    "duration": 12,
    "start_time": "2024-03-08T01:28:55.985Z"
   },
   {
    "duration": 5,
    "start_time": "2024-03-08T01:28:55.999Z"
   },
   {
    "duration": 37,
    "start_time": "2024-03-08T01:28:56.005Z"
   },
   {
    "duration": 87,
    "start_time": "2024-03-08T01:28:56.044Z"
   },
   {
    "duration": 2,
    "start_time": "2024-03-08T01:28:56.133Z"
   },
   {
    "duration": 8,
    "start_time": "2024-03-08T01:28:56.136Z"
   },
   {
    "duration": 9,
    "start_time": "2024-03-08T01:28:56.146Z"
   },
   {
    "duration": 18,
    "start_time": "2024-03-08T01:28:56.157Z"
   },
   {
    "duration": 9,
    "start_time": "2024-03-08T01:28:56.182Z"
   },
   {
    "duration": 11,
    "start_time": "2024-03-08T01:28:56.192Z"
   },
   {
    "duration": 14,
    "start_time": "2024-03-08T01:28:56.205Z"
   },
   {
    "duration": 6,
    "start_time": "2024-03-08T01:28:56.221Z"
   },
   {
    "duration": 6,
    "start_time": "2024-03-08T01:28:56.229Z"
   },
   {
    "duration": 6,
    "start_time": "2024-03-08T01:28:56.236Z"
   },
   {
    "duration": 9,
    "start_time": "2024-03-08T01:28:56.244Z"
   },
   {
    "duration": 7,
    "start_time": "2024-03-08T01:28:56.281Z"
   },
   {
    "duration": 24,
    "start_time": "2024-03-08T01:28:56.290Z"
   },
   {
    "duration": 15,
    "start_time": "2024-03-08T01:28:56.316Z"
   },
   {
    "duration": 7,
    "start_time": "2024-03-08T01:28:56.333Z"
   },
   {
    "duration": 1172,
    "start_time": "2024-03-08T01:29:53.283Z"
   },
   {
    "duration": 186,
    "start_time": "2024-03-08T01:29:54.457Z"
   },
   {
    "duration": 43,
    "start_time": "2024-03-08T01:29:54.645Z"
   },
   {
    "duration": 245,
    "start_time": "2024-03-08T01:29:54.690Z"
   },
   {
    "duration": 156,
    "start_time": "2024-03-08T01:29:54.937Z"
   },
   {
    "duration": 63,
    "start_time": "2024-03-08T01:29:55.094Z"
   },
   {
    "duration": 472,
    "start_time": "2024-03-08T01:29:55.159Z"
   },
   {
    "duration": 332,
    "start_time": "2024-03-08T01:29:55.633Z"
   },
   {
    "duration": 66,
    "start_time": "2024-03-08T01:29:55.967Z"
   },
   {
    "duration": 61,
    "start_time": "2024-03-08T01:29:56.036Z"
   },
   {
    "duration": 104,
    "start_time": "2024-03-08T01:29:56.098Z"
   },
   {
    "duration": 15,
    "start_time": "2024-03-08T01:29:56.203Z"
   },
   {
    "duration": 34,
    "start_time": "2024-03-08T01:29:56.220Z"
   },
   {
    "duration": 156,
    "start_time": "2024-03-08T01:29:56.256Z"
   },
   {
    "duration": 7,
    "start_time": "2024-03-08T01:29:56.413Z"
   },
   {
    "duration": 17,
    "start_time": "2024-03-08T01:29:56.421Z"
   },
   {
    "duration": 25,
    "start_time": "2024-03-08T01:29:56.440Z"
   },
   {
    "duration": 8,
    "start_time": "2024-03-08T01:29:56.467Z"
   },
   {
    "duration": 24,
    "start_time": "2024-03-08T01:29:56.476Z"
   },
   {
    "duration": 110,
    "start_time": "2024-03-08T01:29:56.501Z"
   },
   {
    "duration": 2,
    "start_time": "2024-03-08T01:29:56.613Z"
   },
   {
    "duration": 16,
    "start_time": "2024-03-08T01:29:56.617Z"
   },
   {
    "duration": 13,
    "start_time": "2024-03-08T01:29:56.635Z"
   },
   {
    "duration": 5,
    "start_time": "2024-03-08T01:29:56.650Z"
   },
   {
    "duration": 9,
    "start_time": "2024-03-08T01:29:56.657Z"
   },
   {
    "duration": 17,
    "start_time": "2024-03-08T01:29:56.668Z"
   },
   {
    "duration": 10,
    "start_time": "2024-03-08T01:29:56.687Z"
   },
   {
    "duration": 15,
    "start_time": "2024-03-08T01:29:56.702Z"
   },
   {
    "duration": 15,
    "start_time": "2024-03-08T01:29:56.719Z"
   },
   {
    "duration": 10,
    "start_time": "2024-03-08T01:29:56.736Z"
   },
   {
    "duration": 34,
    "start_time": "2024-03-08T01:29:56.747Z"
   },
   {
    "duration": 8,
    "start_time": "2024-03-08T01:29:56.783Z"
   },
   {
    "duration": 5,
    "start_time": "2024-03-08T01:29:56.793Z"
   },
   {
    "duration": 11,
    "start_time": "2024-03-08T01:29:56.800Z"
   },
   {
    "duration": 12,
    "start_time": "2024-03-08T01:29:56.813Z"
   },
   {
    "duration": 1180,
    "start_time": "2024-03-08T01:49:47.781Z"
   },
   {
    "duration": 190,
    "start_time": "2024-03-08T01:49:48.963Z"
   },
   {
    "duration": 39,
    "start_time": "2024-03-08T01:49:49.155Z"
   },
   {
    "duration": 256,
    "start_time": "2024-03-08T01:49:49.196Z"
   },
   {
    "duration": 164,
    "start_time": "2024-03-08T01:49:49.455Z"
   },
   {
    "duration": 69,
    "start_time": "2024-03-08T01:49:49.621Z"
   },
   {
    "duration": 441,
    "start_time": "2024-03-08T01:49:49.692Z"
   },
   {
    "duration": 316,
    "start_time": "2024-03-08T01:49:50.135Z"
   },
   {
    "duration": 67,
    "start_time": "2024-03-08T01:49:50.453Z"
   },
   {
    "duration": 42,
    "start_time": "2024-03-08T01:49:50.521Z"
   },
   {
    "duration": 106,
    "start_time": "2024-03-08T01:49:50.564Z"
   },
   {
    "duration": 15,
    "start_time": "2024-03-08T01:49:50.682Z"
   },
   {
    "duration": 34,
    "start_time": "2024-03-08T01:49:50.699Z"
   },
   {
    "duration": 153,
    "start_time": "2024-03-08T01:49:50.736Z"
   },
   {
    "duration": 6,
    "start_time": "2024-03-08T01:49:50.890Z"
   },
   {
    "duration": 21,
    "start_time": "2024-03-08T01:49:50.898Z"
   },
   {
    "duration": 8,
    "start_time": "2024-03-08T01:49:50.921Z"
   },
   {
    "duration": 6,
    "start_time": "2024-03-08T01:49:50.931Z"
   },
   {
    "duration": 21,
    "start_time": "2024-03-08T01:49:50.938Z"
   },
   {
    "duration": 112,
    "start_time": "2024-03-08T01:49:50.961Z"
   },
   {
    "duration": 3,
    "start_time": "2024-03-08T01:49:51.075Z"
   },
   {
    "duration": 14,
    "start_time": "2024-03-08T01:49:51.082Z"
   },
   {
    "duration": 16,
    "start_time": "2024-03-08T01:49:51.097Z"
   },
   {
    "duration": 9,
    "start_time": "2024-03-08T01:49:51.115Z"
   },
   {
    "duration": 12,
    "start_time": "2024-03-08T01:49:51.126Z"
   },
   {
    "duration": 11,
    "start_time": "2024-03-08T01:49:51.140Z"
   },
   {
    "duration": 21,
    "start_time": "2024-03-08T01:49:51.152Z"
   },
   {
    "duration": 15,
    "start_time": "2024-03-08T01:49:51.174Z"
   },
   {
    "duration": 24,
    "start_time": "2024-03-08T01:49:51.191Z"
   },
   {
    "duration": 6,
    "start_time": "2024-03-08T01:49:51.217Z"
   },
   {
    "duration": 9,
    "start_time": "2024-03-08T01:49:51.225Z"
   },
   {
    "duration": 6,
    "start_time": "2024-03-08T01:49:51.236Z"
   },
   {
    "duration": 8,
    "start_time": "2024-03-08T01:49:51.244Z"
   },
   {
    "duration": 11,
    "start_time": "2024-03-08T01:49:51.254Z"
   },
   {
    "duration": 13,
    "start_time": "2024-03-08T01:49:51.267Z"
   },
   {
    "duration": 1142,
    "start_time": "2024-03-08T01:51:16.610Z"
   },
   {
    "duration": 215,
    "start_time": "2024-03-08T01:51:17.754Z"
   },
   {
    "duration": 37,
    "start_time": "2024-03-08T01:51:17.970Z"
   },
   {
    "duration": 255,
    "start_time": "2024-03-08T01:51:18.009Z"
   },
   {
    "duration": 173,
    "start_time": "2024-03-08T01:51:18.266Z"
   },
   {
    "duration": 72,
    "start_time": "2024-03-08T01:51:18.441Z"
   },
   {
    "duration": 444,
    "start_time": "2024-03-08T01:51:18.515Z"
   },
   {
    "duration": 323,
    "start_time": "2024-03-08T01:51:18.961Z"
   },
   {
    "duration": 66,
    "start_time": "2024-03-08T01:51:19.286Z"
   },
   {
    "duration": 66,
    "start_time": "2024-03-08T01:51:19.355Z"
   },
   {
    "duration": 106,
    "start_time": "2024-03-08T01:51:19.422Z"
   },
   {
    "duration": 15,
    "start_time": "2024-03-08T01:51:19.529Z"
   },
   {
    "duration": 48,
    "start_time": "2024-03-08T01:51:19.546Z"
   },
   {
    "duration": 133,
    "start_time": "2024-03-08T01:51:19.596Z"
   },
   {
    "duration": 6,
    "start_time": "2024-03-08T01:51:19.731Z"
   },
   {
    "duration": 6,
    "start_time": "2024-03-08T01:51:19.738Z"
   },
   {
    "duration": 7,
    "start_time": "2024-03-08T01:51:19.746Z"
   },
   {
    "duration": 28,
    "start_time": "2024-03-08T01:51:19.754Z"
   },
   {
    "duration": 5,
    "start_time": "2024-03-08T01:51:19.784Z"
   },
   {
    "duration": 100,
    "start_time": "2024-03-08T01:51:19.791Z"
   },
   {
    "duration": 2,
    "start_time": "2024-03-08T01:51:19.893Z"
   },
   {
    "duration": 9,
    "start_time": "2024-03-08T01:51:19.897Z"
   },
   {
    "duration": 10,
    "start_time": "2024-03-08T01:51:19.907Z"
   },
   {
    "duration": 5,
    "start_time": "2024-03-08T01:51:19.919Z"
   },
   {
    "duration": 8,
    "start_time": "2024-03-08T01:51:19.925Z"
   },
   {
    "duration": 7,
    "start_time": "2024-03-08T01:51:19.935Z"
   },
   {
    "duration": 9,
    "start_time": "2024-03-08T01:51:19.944Z"
   },
   {
    "duration": 4,
    "start_time": "2024-03-08T01:51:19.984Z"
   },
   {
    "duration": 6,
    "start_time": "2024-03-08T01:51:19.991Z"
   },
   {
    "duration": 9,
    "start_time": "2024-03-08T01:51:19.999Z"
   },
   {
    "duration": 23,
    "start_time": "2024-03-08T01:51:20.009Z"
   },
   {
    "duration": 9,
    "start_time": "2024-03-08T01:51:20.034Z"
   },
   {
    "duration": 6,
    "start_time": "2024-03-08T01:51:20.045Z"
   },
   {
    "duration": 30,
    "start_time": "2024-03-08T01:51:20.053Z"
   },
   {
    "duration": 6,
    "start_time": "2024-03-08T01:51:20.085Z"
   },
   {
    "duration": 1145,
    "start_time": "2024-03-08T01:53:43.521Z"
   },
   {
    "duration": 202,
    "start_time": "2024-03-08T01:53:44.668Z"
   },
   {
    "duration": 35,
    "start_time": "2024-03-08T01:53:44.872Z"
   },
   {
    "duration": 267,
    "start_time": "2024-03-08T01:53:44.909Z"
   },
   {
    "duration": 166,
    "start_time": "2024-03-08T01:53:45.181Z"
   },
   {
    "duration": 81,
    "start_time": "2024-03-08T01:53:45.349Z"
   },
   {
    "duration": 450,
    "start_time": "2024-03-08T01:53:45.432Z"
   },
   {
    "duration": 326,
    "start_time": "2024-03-08T01:53:45.884Z"
   },
   {
    "duration": 83,
    "start_time": "2024-03-08T01:53:46.212Z"
   },
   {
    "duration": 43,
    "start_time": "2024-03-08T01:53:46.299Z"
   },
   {
    "duration": 108,
    "start_time": "2024-03-08T01:53:46.344Z"
   },
   {
    "duration": 30,
    "start_time": "2024-03-08T01:53:46.454Z"
   },
   {
    "duration": 43,
    "start_time": "2024-03-08T01:53:46.485Z"
   },
   {
    "duration": 155,
    "start_time": "2024-03-08T01:53:46.530Z"
   },
   {
    "duration": 6,
    "start_time": "2024-03-08T01:53:46.687Z"
   },
   {
    "duration": 9,
    "start_time": "2024-03-08T01:53:46.694Z"
   },
   {
    "duration": 5,
    "start_time": "2024-03-08T01:53:46.704Z"
   },
   {
    "duration": 7,
    "start_time": "2024-03-08T01:53:46.711Z"
   },
   {
    "duration": 10,
    "start_time": "2024-03-08T01:53:46.720Z"
   },
   {
    "duration": 112,
    "start_time": "2024-03-08T01:53:46.731Z"
   },
   {
    "duration": 3,
    "start_time": "2024-03-08T01:53:46.845Z"
   },
   {
    "duration": 7,
    "start_time": "2024-03-08T01:53:46.849Z"
   },
   {
    "duration": 6,
    "start_time": "2024-03-08T01:53:46.858Z"
   },
   {
    "duration": 5,
    "start_time": "2024-03-08T01:53:46.882Z"
   },
   {
    "duration": 5,
    "start_time": "2024-03-08T01:53:46.888Z"
   },
   {
    "duration": 6,
    "start_time": "2024-03-08T01:53:46.894Z"
   },
   {
    "duration": 7,
    "start_time": "2024-03-08T01:53:46.901Z"
   },
   {
    "duration": 6,
    "start_time": "2024-03-08T01:53:46.910Z"
   },
   {
    "duration": 6,
    "start_time": "2024-03-08T01:53:46.917Z"
   },
   {
    "duration": 5,
    "start_time": "2024-03-08T01:53:46.925Z"
   },
   {
    "duration": 8,
    "start_time": "2024-03-08T01:53:46.931Z"
   },
   {
    "duration": 47,
    "start_time": "2024-03-08T01:53:46.940Z"
   },
   {
    "duration": 15,
    "start_time": "2024-03-08T01:53:46.989Z"
   },
   {
    "duration": 6,
    "start_time": "2024-03-08T01:53:47.006Z"
   },
   {
    "duration": 8,
    "start_time": "2024-03-08T01:53:47.013Z"
   },
   {
    "duration": 1269,
    "start_time": "2024-03-08T06:08:13.646Z"
   },
   {
    "duration": 503,
    "start_time": "2024-03-08T06:08:14.917Z"
   },
   {
    "duration": 30,
    "start_time": "2024-03-08T06:08:15.422Z"
   },
   {
    "duration": 216,
    "start_time": "2024-03-08T06:08:15.454Z"
   },
   {
    "duration": 144,
    "start_time": "2024-03-08T06:08:15.672Z"
   },
   {
    "duration": 59,
    "start_time": "2024-03-08T06:08:15.818Z"
   },
   {
    "duration": 391,
    "start_time": "2024-03-08T06:08:15.879Z"
   },
   {
    "duration": 285,
    "start_time": "2024-03-08T06:08:16.272Z"
   },
   {
    "duration": 58,
    "start_time": "2024-03-08T06:08:16.558Z"
   },
   {
    "duration": 50,
    "start_time": "2024-03-08T06:08:16.618Z"
   },
   {
    "duration": 74,
    "start_time": "2024-03-08T06:08:16.670Z"
   },
   {
    "duration": 24,
    "start_time": "2024-03-08T06:08:16.746Z"
   },
   {
    "duration": 40,
    "start_time": "2024-03-08T06:08:16.772Z"
   },
   {
    "duration": 150,
    "start_time": "2024-03-08T06:08:16.814Z"
   },
   {
    "duration": 6,
    "start_time": "2024-03-08T06:08:16.966Z"
   },
   {
    "duration": 20,
    "start_time": "2024-03-08T06:08:16.973Z"
   },
   {
    "duration": 8,
    "start_time": "2024-03-08T06:08:16.995Z"
   },
   {
    "duration": 8,
    "start_time": "2024-03-08T06:08:17.005Z"
   },
   {
    "duration": 29,
    "start_time": "2024-03-08T06:08:17.015Z"
   },
   {
    "duration": 74,
    "start_time": "2024-03-08T06:08:17.046Z"
   },
   {
    "duration": 3,
    "start_time": "2024-03-08T06:08:17.121Z"
   },
   {
    "duration": 9,
    "start_time": "2024-03-08T06:08:17.125Z"
   },
   {
    "duration": 6,
    "start_time": "2024-03-08T06:08:17.135Z"
   },
   {
    "duration": 6,
    "start_time": "2024-03-08T06:08:17.142Z"
   },
   {
    "duration": 16,
    "start_time": "2024-03-08T06:08:17.150Z"
   },
   {
    "duration": 2,
    "start_time": "2024-03-08T06:08:17.167Z"
   },
   {
    "duration": 6,
    "start_time": "2024-03-08T06:08:17.171Z"
   },
   {
    "duration": 6,
    "start_time": "2024-03-08T06:08:17.181Z"
   },
   {
    "duration": 6,
    "start_time": "2024-03-08T06:08:17.188Z"
   },
   {
    "duration": 6,
    "start_time": "2024-03-08T06:08:17.195Z"
   },
   {
    "duration": 8,
    "start_time": "2024-03-08T06:08:17.202Z"
   },
   {
    "duration": 6,
    "start_time": "2024-03-08T06:08:17.211Z"
   },
   {
    "duration": 49,
    "start_time": "2024-03-08T06:08:17.219Z"
   },
   {
    "duration": 10,
    "start_time": "2024-03-08T06:08:17.270Z"
   },
   {
    "duration": 4,
    "start_time": "2024-03-08T06:08:17.282Z"
   },
   {
    "duration": 57,
    "start_time": "2024-03-08T06:10:07.715Z"
   },
   {
    "duration": 3,
    "start_time": "2024-03-08T06:12:18.994Z"
   },
   {
    "duration": 183,
    "start_time": "2024-03-08T06:12:18.998Z"
   },
   {
    "duration": 25,
    "start_time": "2024-03-08T06:12:19.183Z"
   },
   {
    "duration": 209,
    "start_time": "2024-03-08T06:12:19.210Z"
   },
   {
    "duration": 140,
    "start_time": "2024-03-08T06:12:19.420Z"
   },
   {
    "duration": 46,
    "start_time": "2024-03-08T06:12:19.562Z"
   },
   {
    "duration": 416,
    "start_time": "2024-03-08T06:12:19.610Z"
   },
   {
    "duration": 278,
    "start_time": "2024-03-08T06:12:20.028Z"
   },
   {
    "duration": 72,
    "start_time": "2024-03-08T06:12:20.309Z"
   },
   {
    "duration": 38,
    "start_time": "2024-03-08T06:12:20.383Z"
   },
   {
    "duration": 99,
    "start_time": "2024-03-08T06:12:20.422Z"
   },
   {
    "duration": 11,
    "start_time": "2024-03-08T06:12:20.523Z"
   },
   {
    "duration": 54,
    "start_time": "2024-03-08T06:12:20.536Z"
   },
   {
    "duration": 123,
    "start_time": "2024-03-08T06:12:20.592Z"
   },
   {
    "duration": 6,
    "start_time": "2024-03-08T06:12:20.717Z"
   },
   {
    "duration": 14,
    "start_time": "2024-03-08T06:12:20.725Z"
   },
   {
    "duration": 8,
    "start_time": "2024-03-08T06:12:20.740Z"
   },
   {
    "duration": 17,
    "start_time": "2024-03-08T06:12:20.749Z"
   },
   {
    "duration": 17,
    "start_time": "2024-03-08T06:12:20.768Z"
   },
   {
    "duration": 88,
    "start_time": "2024-03-08T06:12:20.787Z"
   },
   {
    "duration": 3,
    "start_time": "2024-03-08T06:12:20.876Z"
   },
   {
    "duration": 9,
    "start_time": "2024-03-08T06:12:20.880Z"
   },
   {
    "duration": 13,
    "start_time": "2024-03-08T06:12:20.891Z"
   },
   {
    "duration": 21,
    "start_time": "2024-03-08T06:12:20.907Z"
   },
   {
    "duration": 20,
    "start_time": "2024-03-08T06:12:20.929Z"
   },
   {
    "duration": 17,
    "start_time": "2024-03-08T06:12:20.951Z"
   },
   {
    "duration": 24,
    "start_time": "2024-03-08T06:12:20.970Z"
   },
   {
    "duration": 8,
    "start_time": "2024-03-08T06:12:20.996Z"
   },
   {
    "duration": 5,
    "start_time": "2024-03-08T06:12:21.005Z"
   },
   {
    "duration": 9,
    "start_time": "2024-03-08T06:12:21.011Z"
   },
   {
    "duration": 8,
    "start_time": "2024-03-08T06:12:21.021Z"
   },
   {
    "duration": 10,
    "start_time": "2024-03-08T06:12:21.031Z"
   },
   {
    "duration": 14,
    "start_time": "2024-03-08T06:12:21.043Z"
   },
   {
    "duration": 11,
    "start_time": "2024-03-08T06:12:21.059Z"
   },
   {
    "duration": 10,
    "start_time": "2024-03-08T06:12:21.071Z"
   },
   {
    "duration": 52,
    "start_time": "2024-03-08T06:13:59.962Z"
   },
   {
    "duration": 53,
    "start_time": "2024-03-08T06:15:44.837Z"
   },
   {
    "duration": 57,
    "start_time": "2024-03-08T06:16:54.556Z"
   },
   {
    "duration": 62,
    "start_time": "2024-03-08T06:20:34.621Z"
   },
   {
    "duration": 85,
    "start_time": "2024-03-08T06:21:13.906Z"
   },
   {
    "duration": 76,
    "start_time": "2024-03-08T06:52:33.155Z"
   },
   {
    "duration": 69,
    "start_time": "2024-03-08T06:52:50.940Z"
   },
   {
    "duration": 82,
    "start_time": "2024-03-08T06:59:45.727Z"
   },
   {
    "duration": 3,
    "start_time": "2024-03-08T07:05:27.954Z"
   },
   {
    "duration": 173,
    "start_time": "2024-03-08T07:05:27.959Z"
   },
   {
    "duration": 43,
    "start_time": "2024-03-08T07:05:28.134Z"
   },
   {
    "duration": 213,
    "start_time": "2024-03-08T07:05:28.179Z"
   },
   {
    "duration": 138,
    "start_time": "2024-03-08T07:05:28.394Z"
   },
   {
    "duration": 62,
    "start_time": "2024-03-08T07:05:28.534Z"
   },
   {
    "duration": 426,
    "start_time": "2024-03-08T07:05:28.598Z"
   },
   {
    "duration": 282,
    "start_time": "2024-03-08T07:05:29.026Z"
   },
   {
    "duration": 78,
    "start_time": "2024-03-08T07:05:29.310Z"
   },
   {
    "duration": 34,
    "start_time": "2024-03-08T07:05:29.390Z"
   },
   {
    "duration": 94,
    "start_time": "2024-03-08T07:05:29.426Z"
   },
   {
    "duration": 13,
    "start_time": "2024-03-08T07:05:29.522Z"
   },
   {
    "duration": 48,
    "start_time": "2024-03-08T07:05:29.536Z"
   },
   {
    "duration": 111,
    "start_time": "2024-03-08T07:05:29.585Z"
   },
   {
    "duration": 6,
    "start_time": "2024-03-08T07:05:29.697Z"
   },
   {
    "duration": 11,
    "start_time": "2024-03-08T07:05:29.704Z"
   },
   {
    "duration": 11,
    "start_time": "2024-03-08T07:05:29.716Z"
   },
   {
    "duration": 22,
    "start_time": "2024-03-08T07:05:29.728Z"
   },
   {
    "duration": 7,
    "start_time": "2024-03-08T07:05:29.752Z"
   },
   {
    "duration": 67,
    "start_time": "2024-03-08T07:05:29.764Z"
   },
   {
    "duration": 3,
    "start_time": "2024-03-08T07:05:29.832Z"
   },
   {
    "duration": 7,
    "start_time": "2024-03-08T07:05:29.836Z"
   },
   {
    "duration": 22,
    "start_time": "2024-03-08T07:05:29.844Z"
   },
   {
    "duration": 5,
    "start_time": "2024-03-08T07:05:29.869Z"
   },
   {
    "duration": 7,
    "start_time": "2024-03-08T07:05:29.875Z"
   },
   {
    "duration": 2,
    "start_time": "2024-03-08T07:05:29.884Z"
   },
   {
    "duration": 7,
    "start_time": "2024-03-08T07:05:29.887Z"
   },
   {
    "duration": 9,
    "start_time": "2024-03-08T07:05:29.896Z"
   },
   {
    "duration": 6,
    "start_time": "2024-03-08T07:05:29.906Z"
   },
   {
    "duration": 5,
    "start_time": "2024-03-08T07:05:29.913Z"
   },
   {
    "duration": 6,
    "start_time": "2024-03-08T07:05:29.920Z"
   },
   {
    "duration": 40,
    "start_time": "2024-03-08T07:05:29.927Z"
   },
   {
    "duration": 7,
    "start_time": "2024-03-08T07:05:29.968Z"
   },
   {
    "duration": 6,
    "start_time": "2024-03-08T07:05:29.976Z"
   },
   {
    "duration": 21,
    "start_time": "2024-03-08T07:05:29.984Z"
   },
   {
    "duration": 78,
    "start_time": "2024-03-08T07:08:37.226Z"
   },
   {
    "duration": 87,
    "start_time": "2024-03-08T07:10:04.460Z"
   },
   {
    "duration": 93,
    "start_time": "2024-03-08T07:10:33.756Z"
   },
   {
    "duration": 1404,
    "start_time": "2024-03-08T17:55:16.353Z"
   },
   {
    "duration": 719,
    "start_time": "2024-03-08T17:55:17.759Z"
   },
   {
    "duration": 36,
    "start_time": "2024-03-08T17:55:18.480Z"
   },
   {
    "duration": 243,
    "start_time": "2024-03-08T17:55:18.518Z"
   },
   {
    "duration": 164,
    "start_time": "2024-03-08T17:55:18.764Z"
   },
   {
    "duration": 74,
    "start_time": "2024-03-08T17:55:18.930Z"
   },
   {
    "duration": 462,
    "start_time": "2024-03-08T17:55:19.006Z"
   },
   {
    "duration": 317,
    "start_time": "2024-03-08T17:55:19.473Z"
   },
   {
    "duration": 114,
    "start_time": "2024-03-08T17:55:19.792Z"
   },
   {
    "duration": 43,
    "start_time": "2024-03-08T17:55:19.908Z"
   },
   {
    "duration": 108,
    "start_time": "2024-03-08T17:55:19.952Z"
   },
   {
    "duration": 16,
    "start_time": "2024-03-08T17:55:20.073Z"
   },
   {
    "duration": 45,
    "start_time": "2024-03-08T17:55:20.090Z"
   },
   {
    "duration": 151,
    "start_time": "2024-03-08T17:55:20.138Z"
   },
   {
    "duration": 5,
    "start_time": "2024-03-08T17:55:20.291Z"
   },
   {
    "duration": 13,
    "start_time": "2024-03-08T17:55:20.298Z"
   },
   {
    "duration": 27,
    "start_time": "2024-03-08T17:55:20.313Z"
   },
   {
    "duration": 7,
    "start_time": "2024-03-08T17:55:20.342Z"
   },
   {
    "duration": 8,
    "start_time": "2024-03-08T17:55:20.351Z"
   },
   {
    "duration": 93,
    "start_time": "2024-03-08T17:55:20.360Z"
   },
   {
    "duration": 2,
    "start_time": "2024-03-08T17:55:20.455Z"
   },
   {
    "duration": 6,
    "start_time": "2024-03-08T17:55:20.459Z"
   },
   {
    "duration": 5,
    "start_time": "2024-03-08T17:55:20.473Z"
   },
   {
    "duration": 6,
    "start_time": "2024-03-08T17:55:20.479Z"
   },
   {
    "duration": 5,
    "start_time": "2024-03-08T17:55:20.487Z"
   },
   {
    "duration": 3,
    "start_time": "2024-03-08T17:55:20.493Z"
   },
   {
    "duration": 6,
    "start_time": "2024-03-08T17:55:20.498Z"
   },
   {
    "duration": 10,
    "start_time": "2024-03-08T17:55:20.505Z"
   },
   {
    "duration": 13,
    "start_time": "2024-03-08T17:55:20.516Z"
   },
   {
    "duration": 13,
    "start_time": "2024-03-08T17:55:20.530Z"
   },
   {
    "duration": 31,
    "start_time": "2024-03-08T17:55:20.544Z"
   },
   {
    "duration": 15,
    "start_time": "2024-03-08T17:55:20.577Z"
   },
   {
    "duration": 11,
    "start_time": "2024-03-08T17:55:20.593Z"
   },
   {
    "duration": 8,
    "start_time": "2024-03-08T17:55:20.605Z"
   },
   {
    "duration": 6,
    "start_time": "2024-03-08T17:55:20.614Z"
   },
   {
    "duration": 1175,
    "start_time": "2024-03-08T18:22:35.179Z"
   },
   {
    "duration": 192,
    "start_time": "2024-03-08T18:22:36.357Z"
   },
   {
    "duration": 36,
    "start_time": "2024-03-08T18:22:36.551Z"
   },
   {
    "duration": 265,
    "start_time": "2024-03-08T18:22:36.589Z"
   },
   {
    "duration": 172,
    "start_time": "2024-03-08T18:22:36.857Z"
   },
   {
    "duration": 88,
    "start_time": "2024-03-08T18:22:37.031Z"
   },
   {
    "duration": 441,
    "start_time": "2024-03-08T18:22:37.121Z"
   },
   {
    "duration": 329,
    "start_time": "2024-03-08T18:22:37.564Z"
   },
   {
    "duration": 123,
    "start_time": "2024-03-08T18:22:37.894Z"
   },
   {
    "duration": 65,
    "start_time": "2024-03-08T18:22:38.019Z"
   },
   {
    "duration": 115,
    "start_time": "2024-03-08T18:22:38.086Z"
   },
   {
    "duration": 16,
    "start_time": "2024-03-08T18:22:38.202Z"
   },
   {
    "duration": 54,
    "start_time": "2024-03-08T18:22:38.219Z"
   },
   {
    "duration": 139,
    "start_time": "2024-03-08T18:22:38.277Z"
   },
   {
    "duration": 6,
    "start_time": "2024-03-08T18:22:38.418Z"
   },
   {
    "duration": 16,
    "start_time": "2024-03-08T18:22:38.426Z"
   },
   {
    "duration": 6,
    "start_time": "2024-03-08T18:22:38.444Z"
   },
   {
    "duration": 21,
    "start_time": "2024-03-08T18:22:38.452Z"
   },
   {
    "duration": 18,
    "start_time": "2024-03-08T18:22:38.475Z"
   },
   {
    "duration": 108,
    "start_time": "2024-03-08T18:22:38.494Z"
   },
   {
    "duration": 2,
    "start_time": "2024-03-08T18:22:38.604Z"
   },
   {
    "duration": 21,
    "start_time": "2024-03-08T18:22:38.607Z"
   },
   {
    "duration": 18,
    "start_time": "2024-03-08T18:22:38.629Z"
   },
   {
    "duration": 27,
    "start_time": "2024-03-08T18:22:38.648Z"
   },
   {
    "duration": 22,
    "start_time": "2024-03-08T18:22:38.676Z"
   },
   {
    "duration": 12,
    "start_time": "2024-03-08T18:22:38.700Z"
   },
   {
    "duration": 21,
    "start_time": "2024-03-08T18:22:38.714Z"
   },
   {
    "duration": 19,
    "start_time": "2024-03-08T18:22:38.737Z"
   },
   {
    "duration": 12,
    "start_time": "2024-03-08T18:22:38.758Z"
   },
   {
    "duration": 23,
    "start_time": "2024-03-08T18:22:38.772Z"
   },
   {
    "duration": 21,
    "start_time": "2024-03-08T18:22:38.797Z"
   },
   {
    "duration": 19,
    "start_time": "2024-03-08T18:22:38.820Z"
   },
   {
    "duration": 10,
    "start_time": "2024-03-08T18:22:38.841Z"
   },
   {
    "duration": 24,
    "start_time": "2024-03-08T18:22:38.852Z"
   },
   {
    "duration": 7,
    "start_time": "2024-03-08T18:22:38.878Z"
   },
   {
    "duration": 1396,
    "start_time": "2024-03-08T18:26:40.819Z"
   },
   {
    "duration": 518,
    "start_time": "2024-03-08T18:26:42.217Z"
   },
   {
    "duration": 34,
    "start_time": "2024-03-08T18:26:42.737Z"
   },
   {
    "duration": 240,
    "start_time": "2024-03-08T18:26:42.772Z"
   },
   {
    "duration": 156,
    "start_time": "2024-03-08T18:26:43.015Z"
   },
   {
    "duration": 71,
    "start_time": "2024-03-08T18:26:43.172Z"
   },
   {
    "duration": 467,
    "start_time": "2024-03-08T18:26:43.245Z"
   },
   {
    "duration": 325,
    "start_time": "2024-03-08T18:26:43.714Z"
   },
   {
    "duration": 102,
    "start_time": "2024-03-08T18:26:44.041Z"
   },
   {
    "duration": 41,
    "start_time": "2024-03-08T18:26:44.145Z"
   },
   {
    "duration": 111,
    "start_time": "2024-03-08T18:26:44.187Z"
   },
   {
    "duration": 25,
    "start_time": "2024-03-08T18:26:44.299Z"
   },
   {
    "duration": 35,
    "start_time": "2024-03-08T18:26:44.326Z"
   },
   {
    "duration": 146,
    "start_time": "2024-03-08T18:26:44.363Z"
   },
   {
    "duration": 6,
    "start_time": "2024-03-08T18:26:44.511Z"
   },
   {
    "duration": 20,
    "start_time": "2024-03-08T18:26:44.522Z"
   },
   {
    "duration": 8,
    "start_time": "2024-03-08T18:26:44.544Z"
   },
   {
    "duration": 5,
    "start_time": "2024-03-08T18:26:44.554Z"
   },
   {
    "duration": 8,
    "start_time": "2024-03-08T18:26:44.560Z"
   },
   {
    "duration": 95,
    "start_time": "2024-03-08T18:26:44.570Z"
   },
   {
    "duration": 3,
    "start_time": "2024-03-08T18:26:44.667Z"
   },
   {
    "duration": 6,
    "start_time": "2024-03-08T18:26:44.671Z"
   },
   {
    "duration": 6,
    "start_time": "2024-03-08T18:26:44.678Z"
   },
   {
    "duration": 6,
    "start_time": "2024-03-08T18:26:44.686Z"
   },
   {
    "duration": 31,
    "start_time": "2024-03-08T18:26:44.693Z"
   },
   {
    "duration": 5,
    "start_time": "2024-03-08T18:26:44.726Z"
   },
   {
    "duration": 8,
    "start_time": "2024-03-08T18:26:44.733Z"
   },
   {
    "duration": 5,
    "start_time": "2024-03-08T18:26:44.742Z"
   },
   {
    "duration": 10,
    "start_time": "2024-03-08T18:26:44.749Z"
   },
   {
    "duration": 5,
    "start_time": "2024-03-08T18:26:44.760Z"
   },
   {
    "duration": 12,
    "start_time": "2024-03-08T18:26:44.766Z"
   },
   {
    "duration": 9,
    "start_time": "2024-03-08T18:26:44.779Z"
   },
   {
    "duration": 36,
    "start_time": "2024-03-08T18:26:44.790Z"
   },
   {
    "duration": 9,
    "start_time": "2024-03-08T18:26:44.828Z"
   },
   {
    "duration": 13,
    "start_time": "2024-03-08T18:26:44.839Z"
   },
   {
    "duration": 88,
    "start_time": "2024-03-08T18:28:20.593Z"
   },
   {
    "duration": 6,
    "start_time": "2024-03-08T18:29:09.204Z"
   },
   {
    "duration": 85,
    "start_time": "2024-03-08T18:29:21.865Z"
   },
   {
    "duration": 87,
    "start_time": "2024-03-08T18:30:38.510Z"
   },
   {
    "duration": 90,
    "start_time": "2024-03-08T18:31:29.264Z"
   },
   {
    "duration": 106,
    "start_time": "2024-03-08T18:31:46.530Z"
   },
   {
    "duration": 1189,
    "start_time": "2024-03-09T09:17:59.582Z"
   },
   {
    "duration": 190,
    "start_time": "2024-03-09T09:18:00.773Z"
   },
   {
    "duration": 77,
    "start_time": "2024-03-09T09:18:00.965Z"
   },
   {
    "duration": 352,
    "start_time": "2024-03-09T09:18:01.044Z"
   },
   {
    "duration": 178,
    "start_time": "2024-03-09T09:18:01.398Z"
   },
   {
    "duration": 73,
    "start_time": "2024-03-09T09:18:01.578Z"
   },
   {
    "duration": 515,
    "start_time": "2024-03-09T09:18:01.653Z"
   },
   {
    "duration": 334,
    "start_time": "2024-03-09T09:18:02.169Z"
   },
   {
    "duration": 128,
    "start_time": "2024-03-09T09:18:02.505Z"
   },
   {
    "duration": 44,
    "start_time": "2024-03-09T09:18:02.636Z"
   },
   {
    "duration": 120,
    "start_time": "2024-03-09T09:18:02.692Z"
   },
   {
    "duration": 16,
    "start_time": "2024-03-09T09:18:02.814Z"
   },
   {
    "duration": 101,
    "start_time": "2024-03-09T09:18:02.832Z"
   },
   {
    "duration": 151,
    "start_time": "2024-03-09T09:18:02.936Z"
   },
   {
    "duration": 190,
    "start_time": "2024-03-09T09:18:03.089Z"
   },
   {
    "duration": 88,
    "start_time": "2024-03-09T09:18:03.281Z"
   },
   {
    "duration": 41,
    "start_time": "2024-03-09T09:18:03.371Z"
   },
   {
    "duration": 45,
    "start_time": "2024-03-09T09:18:03.414Z"
   },
   {
    "duration": 18,
    "start_time": "2024-03-09T09:18:03.461Z"
   },
   {
    "duration": 92,
    "start_time": "2024-03-09T09:18:03.480Z"
   },
   {
    "duration": 3,
    "start_time": "2024-03-09T09:18:03.573Z"
   },
   {
    "duration": 18,
    "start_time": "2024-03-09T09:18:03.577Z"
   },
   {
    "duration": 68,
    "start_time": "2024-03-09T09:18:03.597Z"
   },
   {
    "duration": 19,
    "start_time": "2024-03-09T09:18:03.667Z"
   },
   {
    "duration": 26,
    "start_time": "2024-03-09T09:18:03.687Z"
   },
   {
    "duration": 37,
    "start_time": "2024-03-09T09:18:03.715Z"
   },
   {
    "duration": 10,
    "start_time": "2024-03-09T09:18:03.753Z"
   },
   {
    "duration": 30,
    "start_time": "2024-03-09T09:18:03.766Z"
   },
   {
    "duration": 37,
    "start_time": "2024-03-09T09:18:03.798Z"
   },
   {
    "duration": 45,
    "start_time": "2024-03-09T09:18:03.836Z"
   },
   {
    "duration": 22,
    "start_time": "2024-03-09T09:18:03.883Z"
   },
   {
    "duration": 14,
    "start_time": "2024-03-09T09:18:03.907Z"
   },
   {
    "duration": 45,
    "start_time": "2024-03-09T09:18:03.923Z"
   },
   {
    "duration": 31,
    "start_time": "2024-03-09T09:18:03.970Z"
   },
   {
    "duration": 17,
    "start_time": "2024-03-09T09:18:04.007Z"
   },
   {
    "duration": 1162,
    "start_time": "2024-04-16T10:08:09.049Z"
   },
   {
    "duration": 801,
    "start_time": "2024-04-16T10:08:10.213Z"
   },
   {
    "duration": 25,
    "start_time": "2024-04-16T10:08:11.015Z"
   },
   {
    "duration": 172,
    "start_time": "2024-04-16T10:08:11.042Z"
   },
   {
    "duration": 105,
    "start_time": "2024-04-16T10:08:11.216Z"
   },
   {
    "duration": 45,
    "start_time": "2024-04-16T10:08:11.322Z"
   },
   {
    "duration": 335,
    "start_time": "2024-04-16T10:08:11.368Z"
   },
   {
    "duration": 246,
    "start_time": "2024-04-16T10:08:11.705Z"
   },
   {
    "duration": 72,
    "start_time": "2024-04-16T10:08:11.952Z"
   },
   {
    "duration": 33,
    "start_time": "2024-04-16T10:08:12.026Z"
   },
   {
    "duration": 94,
    "start_time": "2024-04-16T10:08:12.061Z"
   },
   {
    "duration": 14,
    "start_time": "2024-04-16T10:08:12.158Z"
   },
   {
    "duration": 33,
    "start_time": "2024-04-16T10:08:12.193Z"
   },
   {
    "duration": 112,
    "start_time": "2024-04-16T10:08:12.227Z"
   },
   {
    "duration": 5,
    "start_time": "2024-04-16T10:08:12.340Z"
   },
   {
    "duration": 38,
    "start_time": "2024-04-16T10:08:12.347Z"
   },
   {
    "duration": 26,
    "start_time": "2024-04-16T10:08:12.386Z"
   },
   {
    "duration": 8,
    "start_time": "2024-04-16T10:08:12.413Z"
   },
   {
    "duration": 24,
    "start_time": "2024-04-16T10:08:12.422Z"
   },
   {
    "duration": 78,
    "start_time": "2024-04-16T10:08:12.447Z"
   },
   {
    "duration": 2,
    "start_time": "2024-04-16T10:08:12.526Z"
   },
   {
    "duration": 17,
    "start_time": "2024-04-16T10:08:12.529Z"
   },
   {
    "duration": 26,
    "start_time": "2024-04-16T10:08:12.547Z"
   },
   {
    "duration": 11,
    "start_time": "2024-04-16T10:08:12.575Z"
   },
   {
    "duration": 6,
    "start_time": "2024-04-16T10:08:12.587Z"
   },
   {
    "duration": 8,
    "start_time": "2024-04-16T10:08:12.594Z"
   },
   {
    "duration": 17,
    "start_time": "2024-04-16T10:08:12.603Z"
   },
   {
    "duration": 13,
    "start_time": "2024-04-16T10:08:12.623Z"
   },
   {
    "duration": 17,
    "start_time": "2024-04-16T10:08:12.637Z"
   },
   {
    "duration": 6,
    "start_time": "2024-04-16T10:08:12.656Z"
   },
   {
    "duration": 21,
    "start_time": "2024-04-16T10:08:12.663Z"
   },
   {
    "duration": 7,
    "start_time": "2024-04-16T10:08:12.686Z"
   },
   {
    "duration": 9,
    "start_time": "2024-04-16T10:08:12.695Z"
   },
   {
    "duration": 6,
    "start_time": "2024-04-16T10:08:12.705Z"
   },
   {
    "duration": 5,
    "start_time": "2024-04-16T10:08:12.713Z"
   }
  ],
  "kernelspec": {
   "display_name": "anaconda-panel-2023.05-py310",
   "language": "python",
   "name": "conda-env-anaconda-panel-2023.05-py310-py"
  },
  "language_info": {
   "codemirror_mode": {
    "name": "ipython",
    "version": 3
   },
   "file_extension": ".py",
   "mimetype": "text/x-python",
   "name": "python",
   "nbconvert_exporter": "python",
   "pygments_lexer": "ipython3",
   "version": "3.11.5"
  },
  "toc": {
   "base_numbering": 1,
   "nav_menu": {},
   "number_sections": true,
   "sideBar": true,
   "skip_h1_title": true,
   "title_cell": "Table of Contents",
   "title_sidebar": "Contents",
   "toc_cell": false,
   "toc_position": {},
   "toc_section_display": true,
   "toc_window_display": false
  }
 },
 "nbformat": 4,
 "nbformat_minor": 4
}
